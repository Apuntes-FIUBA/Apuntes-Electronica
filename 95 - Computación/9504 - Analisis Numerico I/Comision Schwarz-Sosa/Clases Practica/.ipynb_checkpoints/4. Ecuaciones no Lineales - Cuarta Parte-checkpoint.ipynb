{
 "cells": [
  {
   "cell_type": "markdown",
   "metadata": {
    "hideCode": false,
    "slideshow": {
     "slide_type": "slide"
    }
   },
   "source": [
    "![Curso Schwarz-Sosa-Suriano](http://www.fi.uba.ar/sites/default/files/logo.png)\n",
    "\n",
    "# Ecuaciones no Lineales - Cuarta Parte\n",
    "\n",
    "***\n",
    "\n",
    "**Curso Schwarz - Sosa - Suriano**\n",
    "- Métodos Numéricos. *Curso 2*\n",
    "- Análisis Numérico I. *Curso 4*\n",
    "- Métodos Matemáticos y Numéricos. *Curso 6*"
   ]
  },
  {
   "cell_type": "markdown",
   "metadata": {
    "slideshow": {
     "slide_type": "slide"
    }
   },
   "source": [
    "### Búsqueda de raíces en ecuaciones no lineales\n",
    "___\n",
    "\n",
    "Problema a resolver: Hallar $p$ tal que $f(p)=0,$ $p  \\in [a,b].$\n",
    "\n"
   ]
  },
  {
   "cell_type": "markdown",
   "metadata": {
    "slideshow": {
     "slide_type": "slide"
    }
   },
   "source": [
    "### Métodos de convergencia acelerada: Aitken\n",
    "___\n",
    "\n",
    "Los métodos de **convergencia acelerada** permiten a partir de soluciones de bajo orden mejorar la convergencia. \n",
    "\n",
    "Comenzamos realizando una sucesión de **punto fijo** que tiene _orden lineal_ y luego aplicamos **Aitken** que nos permite alcanzar una convergencia mayor:\n",
    "\n",
    "\n",
    "$$ \\hat{x}_n = x_n-\\frac{(x_{n+1}-x_n)^{2}}{x_{n+2}-2x_{n+1}+x_n} $$\n",
    "\n",
    "¿Hasta cuándo iteramos? Hasta que el **criterio de corte** alcance la **tolerancia**.\n",
    "Es importante mencionar que el criterio de corte se realiza sobre la iteración de Aitken, que hemos llamado $ \\hat{x}_n $\n",
    "\n"
   ]
  },
  {
   "cell_type": "code",
   "execution_count": 14,
   "metadata": {
    "hideCode": false,
    "hidePrompt": false,
    "slideshow": {
     "slide_type": "slide"
    }
   },
   "outputs": [],
   "source": [
    "import numpy as np #librería para operaciones algebraicas y numéricas\n",
    "import pandas as pd #librería para manejo de datos\n",
    "\n",
    "#programo el método Aitken\n",
    "def aitken(x0 , tol, itmax = 100): \n",
    "        df = pd.DataFrame(columns=('x0','x1','x2','a0'))\n",
    "        contador = 0\n",
    "        x0 = x0 \n",
    "        x1 = g(x0)\n",
    "        x2 = g(x1)\n",
    "        xa= x0 -((x1-x0)**2)/(x2-2*x1+x0)\n",
    "        dif=2*tolerancia\n",
    "        while (contador < itmax) and (dif > tol):\n",
    "            df.loc[contador] = [x0,x1,x2,xa]\n",
    "            x0a=xa\n",
    "            x0 = x1                                                 \n",
    "            x1 = g(x0)\n",
    "            x2 = g(x1)\n",
    "            xa = x0 -((x1-x0)**2)/(x2-2*x1+x0) \n",
    "            contador += 1 \n",
    "            dif=abs((xa - x0a) / xa) #lo que comparo son iteraciones de Aitken\n",
    "        print('El método de Aitken convergió en',contador,'iteraciones')\n",
    "        return df\n",
    "\n"
   ]
  },
  {
   "cell_type": "markdown",
   "metadata": {
    "hideOutput": true,
    "slideshow": {
     "slide_type": "slide"
    }
   },
   "source": [
    "### Ejemplo usando Aitken\n",
    "___\n",
    "Hallar $p$ tal que $f(p)=0,$ $p  \\in [0,4]$ siendo :\n",
    "$$f(x)=(x+e^\\frac{x}{2}).cos(x)+5$$\n",
    "\n",
    "Aplico el método **Aitken** con un valor inicial $x_0$=0."
   ]
  },
  {
   "cell_type": "code",
   "execution_count": 15,
   "metadata": {
    "slideshow": {
     "slide_type": "slide"
    }
   },
   "outputs": [
    {
     "name": "stdout",
     "output_type": "stream",
     "text": [
      "El método de Aitken convergió en 46 iteraciones\n"
     ]
    }
   ],
   "source": [
    "#defino el valor inicial y la tolerancia\n",
    "X0=0 \n",
    "tolerancia=10**(-15)\n",
    "\n",
    "def f(x):#definimos la función con la que vamos a trabajar\n",
    "    return (x+np.e**(x/2))*np.cos(x)+5   #deben cambiar la función si quieren probar otra \n",
    "\n",
    "def g(x):#definimos la función g \n",
    "    return (x**3+f(x))**(1/3)   # deben cambiar la función si quieren probar otra \n",
    "\n",
    "ejemplo=aitken(X0, tolerancia)"
   ]
  },
  {
   "cell_type": "code",
   "execution_count": 16,
   "metadata": {
    "hideCode": true,
    "hidePrompt": false,
    "slideshow": {
     "slide_type": "slide"
    }
   },
   "outputs": [
    {
     "name": "stdout",
     "output_type": "stream",
     "text": [
      "Analicemos las primeras iteraciones. \n",
      "\n",
      "Iteración 0: \n"
     ]
    },
    {
     "data": {
      "text/latex": [
       "$$x_0= 0.0\\;, \\ x_1= g(x_0)= 1.8171205928321397\\;y\\; x_2= g(x_1)= 2.150982355909698$$"
      ],
      "text/plain": [
       "<IPython.core.display.Math object>"
      ]
     },
     "metadata": {},
     "output_type": "display_data"
    },
    {
     "data": {
      "text/latex": [
       "$$\\hat{x}_0=x_0- \\frac{(x_1-x_0)^{2}}{x_2-2x_1+x_0}= 2.2261301821752584$$"
      ],
      "text/plain": [
       "<IPython.core.display.Math object>"
      ]
     },
     "metadata": {},
     "output_type": "display_data"
    },
    {
     "name": "stdout",
     "output_type": "stream",
     "text": [
      "Iteración 1: \n"
     ]
    },
    {
     "data": {
      "text/latex": [
       "$$x_1= g(x_0)= 1.8171205928321397 \\ x_2= g(x_1)= 2.150982355909698\\;y\\; x_3= g(x_2)= 2.2999324676968262$$"
      ],
      "text/plain": [
       "<IPython.core.display.Math object>"
      ]
     },
     "metadata": {},
     "output_type": "display_data"
    },
    {
     "data": {
      "text/latex": [
       "$$\\hat{x}_1=x_1- \\frac{(x_2-x_1)^{2}}{x_3-2x_2+x_1}= 2.4199148249283424$$"
      ],
      "text/plain": [
       "<IPython.core.display.Math object>"
      ]
     },
     "metadata": {},
     "output_type": "display_data"
    },
    {
     "name": "stdout",
     "output_type": "stream",
     "text": [
      "Iteración 2: \n"
     ]
    },
    {
     "data": {
      "text/latex": [
       "$$x_2= g(x_1)= 2.150982355909698 \\ x_3= g(x_2)= 2.2999324676968262\\;y\\; x_4= g(x_3)= 2.3828438661129043$$"
      ],
      "text/plain": [
       "<IPython.core.display.Math object>"
      ]
     },
     "metadata": {},
     "output_type": "display_data"
    },
    {
     "data": {
      "text/latex": [
       "$$\\hat{x}_2=x_2- \\frac{(x_3-x_2)^{2}}{x_4-2x_3+x_2}= 2.486938867914123$$"
      ],
      "text/plain": [
       "<IPython.core.display.Math object>"
      ]
     },
     "metadata": {},
     "output_type": "display_data"
    },
    {
     "name": "stdout",
     "output_type": "stream",
     "text": [
      "Iteración 3: \n"
     ]
    },
    {
     "data": {
      "text/latex": [
       "$$x_3= g(x_2)= 2.2999324676968262 \\ x_4= g(x_3)= 2.3828438661129043\\;y\\; x_5= g(x_4)= 2.433534558868493$$"
      ],
      "text/plain": [
       "<IPython.core.display.Math object>"
      ]
     },
     "metadata": {},
     "output_type": "display_data"
    },
    {
     "data": {
      "text/latex": [
       "$$\\hat{x}_3=x_3- \\frac{(x_4-x_3)^{2}}{x_5-2x_4+x_3}= 2.5132828536177425$$"
      ],
      "text/plain": [
       "<IPython.core.display.Math object>"
      ]
     },
     "metadata": {},
     "output_type": "display_data"
    }
   ],
   "source": [
    "from IPython.display import display, Math\n",
    "import sympy.printing as printing\n",
    "\n",
    "xcero = ejemplo.x0\n",
    "xuno = ejemplo.x1\n",
    "xdos = ejemplo.x2\n",
    "xa = ejemplo.a0\n",
    "\n",
    "print (\"Analicemos las primeras iteraciones. \\n\")  \n",
    "\n",
    "print (\"Iteración \"+str(0)+\": \")\n",
    "ec = \"x_\"+str(0)+\"= \"+str(xcero[0])+\"\\;, \\\\ x_\"+str(0+1)+\"= g(x_\"+str(0)+\")= \"+str(xuno[0])+\"\\;y\\; x_\"+str(0+2)+\"= g(x_\"+str(0+1)+\")= \"+str(xdos[0])\n",
    "ec2= \"\\hat{x}_\"+str(0)+ \"=x_\"+str(0)+\"- \\\\frac{(x_\"+str(0+1)+\"-x_\"+str(0)+\")^{2}}{x_\"+str(0+2)+\"-2x_\"+str(0+1)+\"+x_\"+str(0)+\"}= \"+str(xa[0])\n",
    "display(Math(printing.latex(ec,mul_symbol='dot')))\n",
    "display(Math(printing.latex(ec2,mul_symbol='dot')))\n",
    "\n",
    "for p in range (1,4):\n",
    "    print (\"Iteración \"+str(p)+\": \")\n",
    "    ec = \"x_\"+str(p)+\"= g(x_\"+str(p-1)+\")= \"+str(xcero[p])+\" \\\\ x_\"+str(p+1)+\"= g(x_\"+str(p)+\")= \"+str(xuno[p])+\"\\;y\\; x_\"+str(p+2)+\"= g(x_\"+str(p+1)+\")= \"+str(xdos[p])\n",
    "    ec2= \"\\hat{x}_\"+str(p)+ \"=x_\"+str(p)+\"- \\\\frac{(x_\"+str(p+1)+\"-x_\"+str(p)+\")^{2}}{x_\"+str(p+2)+\"-2x_\"+str(p+1)+\"+x_\"+str(p)+\"}= \"+str(xa[p])\n",
    "    display(Math(printing.latex(ec,mul_symbol='dot')))\n",
    "    display(Math(printing.latex(ec2,mul_symbol='dot')))\n"
   ]
  },
  {
   "cell_type": "code",
   "execution_count": 17,
   "metadata": {
    "slideshow": {
     "slide_type": "slide"
    }
   },
   "outputs": [
    {
     "name": "stdout",
     "output_type": "stream",
     "text": [
      "Resumen de resultados para Aitken:\n",
      "A continuación se muestran las primeras iteraciones:\n"
     ]
    },
    {
     "data": {
      "text/html": [
       "<div>\n",
       "<style scoped>\n",
       "    .dataframe tbody tr th:only-of-type {\n",
       "        vertical-align: middle;\n",
       "    }\n",
       "\n",
       "    .dataframe tbody tr th {\n",
       "        vertical-align: top;\n",
       "    }\n",
       "\n",
       "    .dataframe thead th {\n",
       "        text-align: right;\n",
       "    }\n",
       "</style>\n",
       "<table border=\"1\" class=\"dataframe\">\n",
       "  <thead>\n",
       "    <tr style=\"text-align: right;\">\n",
       "      <th></th>\n",
       "      <th>xi</th>\n",
       "      <th>xi+1</th>\n",
       "      <th>x+2</th>\n",
       "      <th>xa</th>\n",
       "    </tr>\n",
       "  </thead>\n",
       "  <tbody>\n",
       "    <tr>\n",
       "      <th>0</th>\n",
       "      <td>0.000000</td>\n",
       "      <td>1.817121</td>\n",
       "      <td>2.150982</td>\n",
       "      <td>2.226130</td>\n",
       "    </tr>\n",
       "    <tr>\n",
       "      <th>1</th>\n",
       "      <td>1.817121</td>\n",
       "      <td>2.150982</td>\n",
       "      <td>2.299932</td>\n",
       "      <td>2.419915</td>\n",
       "    </tr>\n",
       "    <tr>\n",
       "      <th>2</th>\n",
       "      <td>2.150982</td>\n",
       "      <td>2.299932</td>\n",
       "      <td>2.382844</td>\n",
       "      <td>2.486939</td>\n",
       "    </tr>\n",
       "    <tr>\n",
       "      <th>3</th>\n",
       "      <td>2.299932</td>\n",
       "      <td>2.382844</td>\n",
       "      <td>2.433535</td>\n",
       "      <td>2.513283</td>\n",
       "    </tr>\n",
       "    <tr>\n",
       "      <th>4</th>\n",
       "      <td>2.382844</td>\n",
       "      <td>2.433535</td>\n",
       "      <td>2.466121</td>\n",
       "      <td>2.524776</td>\n",
       "    </tr>\n",
       "    <tr>\n",
       "      <th>5</th>\n",
       "      <td>2.433535</td>\n",
       "      <td>2.466121</td>\n",
       "      <td>2.487705</td>\n",
       "      <td>2.530043</td>\n",
       "    </tr>\n",
       "    <tr>\n",
       "      <th>6</th>\n",
       "      <td>2.466121</td>\n",
       "      <td>2.487705</td>\n",
       "      <td>2.502273</td>\n",
       "      <td>2.532522</td>\n",
       "    </tr>\n",
       "    <tr>\n",
       "      <th>7</th>\n",
       "      <td>2.487705</td>\n",
       "      <td>2.502273</td>\n",
       "      <td>2.512227</td>\n",
       "      <td>2.533707</td>\n",
       "    </tr>\n",
       "    <tr>\n",
       "      <th>8</th>\n",
       "      <td>2.502273</td>\n",
       "      <td>2.512227</td>\n",
       "      <td>2.519086</td>\n",
       "      <td>2.534279</td>\n",
       "    </tr>\n",
       "    <tr>\n",
       "      <th>9</th>\n",
       "      <td>2.512227</td>\n",
       "      <td>2.519086</td>\n",
       "      <td>2.523838</td>\n",
       "      <td>2.534557</td>\n",
       "    </tr>\n",
       "  </tbody>\n",
       "</table>\n",
       "</div>"
      ],
      "text/plain": [
       "         xi      xi+1       x+2        xa\n",
       "0  0.000000  1.817121  2.150982  2.226130\n",
       "1  1.817121  2.150982  2.299932  2.419915\n",
       "2  2.150982  2.299932  2.382844  2.486939\n",
       "3  2.299932  2.382844  2.433535  2.513283\n",
       "4  2.382844  2.433535  2.466121  2.524776\n",
       "5  2.433535  2.466121  2.487705  2.530043\n",
       "6  2.466121  2.487705  2.502273  2.532522\n",
       "7  2.487705  2.502273  2.512227  2.533707\n",
       "8  2.502273  2.512227  2.519086  2.534279\n",
       "9  2.512227  2.519086  2.523838  2.534557"
      ]
     },
     "execution_count": 17,
     "metadata": {},
     "output_type": "execute_result"
    }
   ],
   "source": [
    "print('Resumen de resultados para Aitken:')\n",
    "print('A continuación se muestran las primeras iteraciones:')\n",
    "ejemplo.columns= ['xi','xi+1','x+2','xa']\n",
    "ejemplo.head(10)"
   ]
  },
  {
   "cell_type": "markdown",
   "metadata": {
    "hideCode": false,
    "slideshow": {
     "slide_type": "slide"
    }
   },
   "source": [
    "### Método de Steffensen\n",
    "___\n",
    "\n",
    "Comenzamos realizando una sucesión de **punto fijo** que tiene _orden lineal_ y luego aplicamos **Aitken** que nos permite alcanzar una convergencia mayor:\n",
    "\n",
    "$$ \\hat{x}^0 = x_0-\\frac{(x_{1}-x_0)^{2}}{x_{2}-2x_{1}+x_0} $$\n",
    "\n",
    "donde $x_0$ es el valor inicial, y luego se obtienen por punto fijo: $x_1=g(x_0)$ y $x_2=g(x_1)$.\n",
    "\n",
    "El método de **Steffensen** propone utilizar la información ya obtenida por Aitken y realizarle punto fijo a ese valor.\n",
    "Por lo tanto la próxima iteración sería:\n",
    "\n",
    "donde $\\hat{x}^0$ es el valor inicial, y por lo tanto definimos luego $\\hat{x}_1=\\hat{x}^0$, $\\hat{x}_2=g(\\hat{x}_1)$ y $\\hat{x}_3=g(\\hat{x}_2)$. Por lo tanto la próxima iteración sería: \n",
    "\n",
    "$$ \\hat{x}^1 = \\hat{x}_1-\\frac{(\\hat{x}_{2}-\\hat{x}_1)^{2}}{\\hat{x}_{3}-2\\hat{x}_{2}+\\hat{x}_1} $$\n",
    "\n",
    "¿Hasta cuándo iteramos? Hasta que el **criterio de corte** alcance la **tolerancia**.\n",
    "Es importante mencionar que el criterio de corte se realiza sobre la iteración de Aitken, que hemos llamado $ \\hat{x}^n $\n",
    "\n",
    "\n"
   ]
  },
  {
   "cell_type": "code",
   "execution_count": 18,
   "metadata": {
    "hideCode": false,
    "hidePrompt": false,
    "slideshow": {
     "slide_type": "slide"
    }
   },
   "outputs": [],
   "source": [
    "import numpy as np #librería para operaciones algebraicas y numéricas\n",
    "import pandas as pd #librería para manejo de datos\n",
    "\n",
    "#programo el método Steffensen\n",
    "def steffensen(x0 , tol, itmax = 100): \n",
    "        df = pd.DataFrame(columns=('x0','x1','x2','a0'))\n",
    "        contador = 0\n",
    "        x0 = x0 \n",
    "        x1 = g(x0)\n",
    "        x2 = g(x1)\n",
    "        xa= x0 -((x1-x0)**2)/(x2-2*x1+x0)\n",
    "        dif=2*tolerancia\n",
    "        while (contador < itmax) and (dif > tol):\n",
    "            df.loc[contador] = [x0,x1,x2,xa]\n",
    "            x0=xa\n",
    "            x1 = g(x0)\n",
    "            x2 = g(x1)\n",
    "            xa = x0 -((x1-x0)**2)/(x2-2*x1+x0) \n",
    "            contador += 1 \n",
    "            dif=abs((xa - x0) / xa) #lo que comparo son iteraciones de Aitken\n",
    "        print('El método de Steffensen convergió en',contador,'iteraciones')\n",
    "        return df\n",
    "\n"
   ]
  },
  {
   "cell_type": "code",
   "execution_count": 19,
   "metadata": {
    "slideshow": {
     "slide_type": "slide"
    }
   },
   "outputs": [
    {
     "name": "stdout",
     "output_type": "stream",
     "text": [
      "El método de Steffensen convergió en 6 iteraciones\n"
     ]
    }
   ],
   "source": [
    "#defino el valor inicial y la tolerancia\n",
    "X0=0 \n",
    "tolerancia=10**(-15)\n",
    "\n",
    "def f(x):#definimos la función con la que vamos a trabajar\n",
    "    return (x+np.e**(x/2))*np.cos(x)+5   #deben cambiar la función si quieren probar otra \n",
    "\n",
    "def g(x):#definimos la función g \n",
    "    return (x**3+f(x))**(1/3)   # deben cambiar la función si quieren probar otra \n",
    "\n",
    "ejemplo2=steffensen(X0, tolerancia)"
   ]
  },
  {
   "cell_type": "code",
   "execution_count": 20,
   "metadata": {
    "hideCode": true,
    "hidePrompt": false,
    "slideshow": {
     "slide_type": "slide"
    }
   },
   "outputs": [
    {
     "name": "stdout",
     "output_type": "stream",
     "text": [
      "Analicemos las primeras iteraciones. \n",
      "\n",
      "Iteración 0: \n"
     ]
    },
    {
     "data": {
      "text/latex": [
       "$$x_0= 0.0\\;, \\ x_1= g(x_0)= 1.8171205928321397\\;y\\; x_2= g(x_1)= 2.150982355909698$$"
      ],
      "text/plain": [
       "<IPython.core.display.Math object>"
      ]
     },
     "metadata": {},
     "output_type": "display_data"
    },
    {
     "data": {
      "text/latex": [
       "$$\\hat{x}^0=x_0- \\frac{(x_1-x_0)^{2}}{x_2-2x_1+x_0}= 2.2261301821752584$$"
      ],
      "text/plain": [
       "<IPython.core.display.Math object>"
      ]
     },
     "metadata": {},
     "output_type": "display_data"
    },
    {
     "name": "stdout",
     "output_type": "stream",
     "text": [
      "Iteración 1: \n"
     ]
    },
    {
     "data": {
      "text/latex": [
       "$$\\hat{x}_1= \\hat{x}^0= 2.2261301821752584, \\; \\hat{x}_2= g(\\hat{x}_1)= 2.3404556260551432\\;y\\; \\hat{x}_3= g(\\hat{x}_2)= 2.407213459151693$$"
      ],
      "text/plain": [
       "<IPython.core.display.Math object>"
      ]
     },
     "metadata": {},
     "output_type": "display_data"
    },
    {
     "data": {
      "text/latex": [
       "$$\\hat{x}^1=\\hat{x}_1- \\frac{(\\hat{x}_2-\\hat{x}_1)^{2}}{\\hat{x}_3-2\\hat{x}_2+\\hat{x}_1}= 2.500903434459601$$"
      ],
      "text/plain": [
       "<IPython.core.display.Math object>"
      ]
     },
     "metadata": {},
     "output_type": "display_data"
    },
    {
     "name": "stdout",
     "output_type": "stream",
     "text": [
      "Iteración 2: \n"
     ]
    },
    {
     "data": {
      "text/latex": [
       "$$\\hat{x}_2= \\hat{x}^1= 2.500903434459601, \\; \\hat{x}_3= g(\\hat{x}_2)= 2.5112873653638714\\;y\\; \\hat{x}_4= g(\\hat{x}_3)= 2.5184361920167437$$"
      ],
      "text/plain": [
       "<IPython.core.display.Math object>"
      ]
     },
     "metadata": {},
     "output_type": "display_data"
    },
    {
     "data": {
      "text/latex": [
       "$$\\hat{x}^2=\\hat{x}_2- \\frac{(\\hat{x}_3-\\hat{x}_2)^{2}}{\\hat{x}_4-2\\hat{x}_3+\\hat{x}_2}= 2.5342334333237986$$"
      ],
      "text/plain": [
       "<IPython.core.display.Math object>"
      ]
     },
     "metadata": {},
     "output_type": "display_data"
    },
    {
     "name": "stdout",
     "output_type": "stream",
     "text": [
      "Iteración 3: \n"
     ]
    },
    {
     "data": {
      "text/latex": [
       "$$\\hat{x}_3= \\hat{x}^2= 2.5342334333237986, \\; \\hat{x}_4= g(\\hat{x}_3)= 2.5344093782825006\\;y\\; \\hat{x}_5= g(\\hat{x}_4)= 2.53453279019243$$"
      ],
      "text/plain": [
       "<IPython.core.display.Math object>"
      ]
     },
     "metadata": {},
     "output_type": "display_data"
    },
    {
     "data": {
      "text/latex": [
       "$$\\hat{x}^3=\\hat{x}_3- \\frac{(\\hat{x}_4-\\hat{x}_3)^{2}}{\\hat{x}_5-2\\hat{x}_4+\\hat{x}_3}= 2.5348227124388707$$"
      ],
      "text/plain": [
       "<IPython.core.display.Math object>"
      ]
     },
     "metadata": {},
     "output_type": "display_data"
    }
   ],
   "source": [
    "from IPython.display import display, Math\n",
    "import sympy.printing as printing\n",
    "\n",
    "xcero = ejemplo2.x0\n",
    "xuno = ejemplo2.x1\n",
    "xdos = ejemplo2.x2\n",
    "xa = ejemplo2.a0\n",
    "\n",
    "print (\"Analicemos las primeras iteraciones. \\n\")  \n",
    "\n",
    "print (\"Iteración \"+str(0)+\": \")\n",
    "ec = \"x_\"+str(0)+\"= \"+str(xcero[0])+\"\\;, \\\\ x_\"+str(0+1)+\"= g(x_\"+str(0)+\")= \"+str(xuno[0])+\"\\;y\\; x_\"+str(0+2)+\"= g(x_\"+str(0+1)+\")= \"+str(xdos[0])\n",
    "ec2= \"\\hat{x}^\"+str(0)+ \"=x_\"+str(0)+\"- \\\\frac{(x_\"+str(0+1)+\"-x_\"+str(0)+\")^{2}}{x_\"+str(0+2)+\"-2x_\"+str(0+1)+\"+x_\"+str(0)+\"}= \"+str(xa[0])\n",
    "display(Math(printing.latex(ec,mul_symbol='dot')))\n",
    "display(Math(printing.latex(ec2,mul_symbol='dot')))\n",
    "\n",
    "for p in range (1,4):\n",
    "    print (\"Iteración \"+str(p)+\": \")\n",
    "    ec = \"\\hat{x}_\"+str(p)+\"= \\hat{x}^\"+str(p-1)+\"= \"+str(xcero[p])+\", \\; \\hat{x}_\"+str(p+1)+\"= g(\\hat{x}_\"+str(p)+\")= \"+str(xuno[p])+\"\\;y\\; \\hat{x}_\"+str(p+2)+\"= g(\\hat{x}_\"+str(p+1)+\")= \"+str(xdos[p])\n",
    "    ec2= \"\\hat{x}^\"+str(p)+ \"=\\hat{x}_\"+str(p)+\"- \\\\frac{(\\hat{x}_\"+str(p+1)+\"-\\hat{x}_\"+str(p)+\")^{2}}{\\hat{x}_\"+str(p+2)+\"-2\\hat{x}_\"+str(p+1)+\"+\\hat{x}_\"+str(p)+\"}= \"+str(xa[p])\n",
    "    display(Math(printing.latex(ec,mul_symbol='dot')))\n",
    "    display(Math(printing.latex(ec2,mul_symbol='dot')))\n"
   ]
  },
  {
   "cell_type": "code",
   "execution_count": 21,
   "metadata": {
    "slideshow": {
     "slide_type": "slide"
    }
   },
   "outputs": [
    {
     "name": "stdout",
     "output_type": "stream",
     "text": [
      "Resumen de resultados para Steffensen:\n",
      "A continuación se muestran las primeras iteraciones:\n"
     ]
    },
    {
     "data": {
      "text/html": [
       "<div>\n",
       "<style scoped>\n",
       "    .dataframe tbody tr th:only-of-type {\n",
       "        vertical-align: middle;\n",
       "    }\n",
       "\n",
       "    .dataframe tbody tr th {\n",
       "        vertical-align: top;\n",
       "    }\n",
       "\n",
       "    .dataframe thead th {\n",
       "        text-align: right;\n",
       "    }\n",
       "</style>\n",
       "<table border=\"1\" class=\"dataframe\">\n",
       "  <thead>\n",
       "    <tr style=\"text-align: right;\">\n",
       "      <th></th>\n",
       "      <th>xi</th>\n",
       "      <th>xi+1</th>\n",
       "      <th>x+2</th>\n",
       "      <th>xs</th>\n",
       "    </tr>\n",
       "  </thead>\n",
       "  <tbody>\n",
       "    <tr>\n",
       "      <th>0</th>\n",
       "      <td>0.000000</td>\n",
       "      <td>1.817121</td>\n",
       "      <td>2.150982</td>\n",
       "      <td>2.226130</td>\n",
       "    </tr>\n",
       "    <tr>\n",
       "      <th>1</th>\n",
       "      <td>2.226130</td>\n",
       "      <td>2.340456</td>\n",
       "      <td>2.407213</td>\n",
       "      <td>2.500903</td>\n",
       "    </tr>\n",
       "    <tr>\n",
       "      <th>2</th>\n",
       "      <td>2.500903</td>\n",
       "      <td>2.511287</td>\n",
       "      <td>2.518436</td>\n",
       "      <td>2.534233</td>\n",
       "    </tr>\n",
       "    <tr>\n",
       "      <th>3</th>\n",
       "      <td>2.534233</td>\n",
       "      <td>2.534409</td>\n",
       "      <td>2.534533</td>\n",
       "      <td>2.534823</td>\n",
       "    </tr>\n",
       "    <tr>\n",
       "      <th>4</th>\n",
       "      <td>2.534823</td>\n",
       "      <td>2.534823</td>\n",
       "      <td>2.534823</td>\n",
       "      <td>2.534823</td>\n",
       "    </tr>\n",
       "    <tr>\n",
       "      <th>5</th>\n",
       "      <td>2.534823</td>\n",
       "      <td>2.534823</td>\n",
       "      <td>2.534823</td>\n",
       "      <td>2.534823</td>\n",
       "    </tr>\n",
       "  </tbody>\n",
       "</table>\n",
       "</div>"
      ],
      "text/plain": [
       "         xi      xi+1       x+2        xs\n",
       "0  0.000000  1.817121  2.150982  2.226130\n",
       "1  2.226130  2.340456  2.407213  2.500903\n",
       "2  2.500903  2.511287  2.518436  2.534233\n",
       "3  2.534233  2.534409  2.534533  2.534823\n",
       "4  2.534823  2.534823  2.534823  2.534823\n",
       "5  2.534823  2.534823  2.534823  2.534823"
      ]
     },
     "execution_count": 21,
     "metadata": {},
     "output_type": "execute_result"
    }
   ],
   "source": [
    "print('Resumen de resultados para Steffensen:')\n",
    "print('A continuación se muestran las primeras iteraciones:')\n",
    "ejemplo2.columns= ['xi','xi+1','x+2','xs']\n",
    "ejemplo2.head(10)"
   ]
  },
  {
   "cell_type": "markdown",
   "metadata": {
    "slideshow": {
     "slide_type": "slide"
    }
   },
   "source": [
    "![Curso Schwarz-Sosa-Suriano](http://www.fi.uba.ar/sites/default/files/logo.png)\n",
    "\n",
    "\n",
    "\n",
    "# GRACIAS POR SU ATENCIÓN\n",
    "\n",
    "\n",
    "\n",
    "### Ecuaciones no Lineales - Cuarta Parte\n",
    "\n",
    "***\n",
    "\n",
    "**Curso Schwarz - Sosa - Suriano**\n",
    "- Métodos Numéricos. *Curso 2*\n",
    "- Análisis Numérico I. *Curso 4*\n",
    "- Métodos Matemáticos y Numéricos. *Curso 6*"
   ]
  }
 ],
 "metadata": {
  "celltoolbar": "Hide code",
  "kernelspec": {
   "display_name": "Python 3 (ipykernel)",
   "language": "python",
   "name": "python3"
  },
  "language_info": {
   "codemirror_mode": {
    "name": "ipython",
    "version": 3
   },
   "file_extension": ".py",
   "mimetype": "text/x-python",
   "name": "python",
   "nbconvert_exporter": "python",
   "pygments_lexer": "ipython3",
   "version": "3.9.7"
  }
 },
 "nbformat": 4,
 "nbformat_minor": 2
}
