{
 "cells": [
  {
   "cell_type": "markdown",
   "metadata": {
    "hideCode": false,
    "slideshow": {
     "slide_type": "slide"
    }
   },
   "source": [
    "![Curso Schwarz-Sosa-Suriano](http://www.fi.uba.ar/sites/default/files/logo.png)\n",
    "\n",
    "# Ecuaciones no Lineales - Segunda Parte\n",
    "\n",
    "***\n",
    "\n",
    "**Curso Schwarz - Sosa - Suriano**\n",
    "- Métodos Numéricos. *Curso 2*\n",
    "- Análisis Numérico I. *Curso 4*\n",
    "- Métodos Matemáticos y Numéricos. *Curso 6*"
   ]
  },
  {
   "cell_type": "markdown",
   "metadata": {
    "slideshow": {
     "slide_type": "slide"
    }
   },
   "source": [
    "### Búsqueda de raíces en ecuaciones no lineales\n",
    "___\n",
    "\n",
    "Problema a resolver: Hallar $p$ tal que $f(p)=0,$ $p  \\in [a,b].$\n",
    "\n"
   ]
  },
  {
   "cell_type": "markdown",
   "metadata": {
    "slideshow": {
     "slide_type": "slide"
    }
   },
   "source": [
    "### Método de las aproximaciones sucesivas o punto fijo\n",
    "___\n",
    "Partiendo de la formulación del problema tenemos que:\n",
    "$$ f(x)=0 $$\n",
    "Escribimos el problema de manera levemente diferente, incorporando una nueva función $g(x)$:\n",
    "$$ f(x)=x-g(x)=0 $$\n",
    "\n",
    "De esta manera resulta muy sencillo despejar $x$ a partir de suponer que:\n",
    "$$ x=g(x)$$\n",
    "\n",
    "Como estamos resolviendo de forma iterativa la  expresión que queda es:\n",
    "\n",
    "$$ x_{k+1}=g(x_k)$$\n",
    "\n",
    "Siendo un proceso iterativo, hay que partir de un valor inicial $x_0$, también llamado valor 'semilla'."
   ]
  },
  {
   "cell_type": "markdown",
   "metadata": {
    "slideshow": {
     "slide_type": "slide"
    }
   },
   "source": [
    "### Qué tiene que cumplir g(x):\n",
    "___\n",
    "- *Teorema 1.* Si $g(x)$ $\\in C[a,b]$ y $g(x)$ $\\in [a,b]$ para todo $x$ $\\in [a,b]$, entonces $g(x)$ tiene un punto fijo en $[a; b]$.\n",
    "\n",
    "- *Teorema 2.* Si $g'(x)$ existe en $[a, b]$, y existe una constante $m \\leq 1$, tal que:\n",
    "$$|g'(x)|\\leq m, \\; para\\; toda\\; x \\in [a,b],$$\n",
    "entonces, el punto fijo en $[a, b]$ es único.\n",
    "\n",
    "Estos teoremas son **suficientes** pero **no necesarios**, es decir, pueden no cumplirse y existir dicho punto fijo.\n"
   ]
  },
  {
   "cell_type": "markdown",
   "metadata": {
    "slideshow": {
     "slide_type": "slide"
    }
   },
   "source": [
    "### Elección de la g(x):\n",
    "___\n",
    "En la práctica, en general, no verificamos los teoremas antes de empezar, sino que probamos con distintas funciones, partiendo de que:\n",
    "\n",
    "$$ f(x)= 0 $$\n",
    "\n",
    "Si sumamos $x$ a ambos miembros:\n",
    "\n",
    "$$ f(x)+x= x $$\n",
    "\n",
    "Y recordando que $g(x)=x$ podemos definir una primera $g_1(x)$ como:\n",
    "\n",
    "$$ g_1(x)= f(x)+x $$\n",
    "\n",
    "Siguiendo el mismo procedimiento, se puede sumar a ambos miembros $x^2$, $x^3$,$x^7$ por ejemplo, podemos obtener, respectivamente, las siguientes funciones:\n",
    "$$ g_2(x)= \\sqrt[] {f(x)+x^2}, $$\n",
    "$$ g_3(x)= \\sqrt[3] {f(x)+x^3}, $$\n",
    "$$ g_4(x)= \\sqrt[7] {f(x)+x^7}.$$\n"
   ]
  },
  {
   "cell_type": "markdown",
   "metadata": {
    "slideshow": {
     "slide_type": "slide"
    }
   },
   "source": [
    "### Principales pasos a seguir para resolver por punto fijo:\n",
    "___\n",
    "\n",
    "1. Seleccionar un valor inicial $x_0$ dentro del intervalo $[a,b]$ y una función $g(x)$. \n",
    "2. Con el valor inicial $x_0$, comenzar a iterar en la sucesión  $ x_{i+1}=g(x_i)$\n",
    "3. Si el método _no converge_, probar cambiando el valor inicial. \n",
    "4. Si sigue sin converger, probar con otra función $g(x)$ y continuar iterando.\n",
    "5. ¿Hasta cuándo? Tengo que definir una tolerancia y un criterio de corte (repasar presentación anterior)"
   ]
  },
  {
   "cell_type": "code",
   "execution_count": 36,
   "metadata": {
    "hideCode": false,
    "hidePrompt": false,
    "slideshow": {
     "slide_type": "slide"
    }
   },
   "outputs": [],
   "source": [
    "import numpy as np #librería para operaciones algebraicas y numéricas\n",
    "import pandas as pd #librería para manejo de datos\n",
    "\n",
    "#programo el método punto fijo\n",
    "def punto_fijo(x0 , tol, itmax = 100): \n",
    "        df = pd.DataFrame(columns=('xi','gi'))\n",
    "        x0 = x0 \n",
    "        contador = 0  \n",
    "        x1 = g(x0)\n",
    "        while (contador < itmax) and (abs((x1 - x0) / x1) > tol):\n",
    "            df.loc[contador] = [x0,x1]\n",
    "            x0 = x1                                                 \n",
    "            x1 = g(x0)                 \n",
    "            contador += 1                      \n",
    "        print('El método de punto fijo convergió en',contador,'iteraciones')\n",
    "        return df\n"
   ]
  },
  {
   "cell_type": "markdown",
   "metadata": {
    "hideOutput": true,
    "slideshow": {
     "slide_type": "slide"
    }
   },
   "source": [
    "### Ejemplo usando punto fijo\n",
    "___\n",
    "\n",
    "Hallar $p$ tal que $f(p)=0,$ $p  \\in [0,4]$ siendo :\n",
    "$$f(x)=(x+e^\\frac{x}{2}).cos(x)+5$$\n",
    "\n",
    "Aplico el método punto fijo utilizando una función $ g(x)= \\sqrt[3] {f(x)+x^3}$, y un valor inicial $x_0$=0."
   ]
  },
  {
   "cell_type": "code",
   "execution_count": 37,
   "metadata": {
    "slideshow": {
     "slide_type": "slide"
    }
   },
   "outputs": [
    {
     "name": "stdout",
     "output_type": "stream",
     "text": [
      "El método de punto fijo convergió en 90 iteraciones\n"
     ]
    }
   ],
   "source": [
    "#defino el valor inicial y la tolerancia\n",
    "X0=0 \n",
    "tolerancia=10**(-15)\n",
    "\n",
    "def f(x):#definimos la función con la que vamos a trabajar\n",
    "    return (x+np.e**(x/2))*np.cos(x)+5   #deben cambiar la función si quieren probar otra \n",
    "\n",
    "def g(x):#definimos la función g \n",
    "    return (x**3+f(x))**(1/3)   # deben cambiar la función si quieren probar otra \n",
    "\n",
    "ejemplo=punto_fijo(X0, tolerancia)\n"
   ]
  },
  {
   "cell_type": "code",
   "execution_count": 41,
   "metadata": {
    "hideCode": true,
    "hidePrompt": false,
    "slideshow": {
     "slide_type": "slide"
    }
   },
   "outputs": [
    {
     "name": "stdout",
     "output_type": "stream",
     "text": [
      "Analicemos las primeras iteraciones. \n",
      "\n",
      "Iteración 0: \n"
     ]
    },
    {
     "data": {
      "text/latex": [
       "$$x_0= 0.0\\;y\\; g(x_0)= 1.8171205928321397$$"
      ],
      "text/plain": [
       "<IPython.core.display.Math object>"
      ]
     },
     "metadata": {},
     "output_type": "display_data"
    },
    {
     "name": "stdout",
     "output_type": "stream",
     "text": [
      "Iteración 1: \n"
     ]
    },
    {
     "data": {
      "text/latex": [
       "$$x_1= 1.8171205928321397\\;y\\; g(x_1)= 2.150982355909698$$"
      ],
      "text/plain": [
       "<IPython.core.display.Math object>"
      ]
     },
     "metadata": {},
     "output_type": "display_data"
    },
    {
     "name": "stdout",
     "output_type": "stream",
     "text": [
      "Iteración 2: \n"
     ]
    },
    {
     "data": {
      "text/latex": [
       "$$x_2= 2.150982355909698\\;y\\; g(x_2)= 2.2999324676968262$$"
      ],
      "text/plain": [
       "<IPython.core.display.Math object>"
      ]
     },
     "metadata": {},
     "output_type": "display_data"
    },
    {
     "name": "stdout",
     "output_type": "stream",
     "text": [
      "Iteración 3: \n"
     ]
    },
    {
     "data": {
      "text/latex": [
       "$$x_3= 2.2999324676968262\\;y\\; g(x_3)= 2.3828438661129043$$"
      ],
      "text/plain": [
       "<IPython.core.display.Math object>"
      ]
     },
     "metadata": {},
     "output_type": "display_data"
    },
    {
     "name": "stdout",
     "output_type": "stream",
     "text": [
      "Iteración 4: \n"
     ]
    },
    {
     "data": {
      "text/latex": [
       "$$x_4= 2.3828438661129043\\;y\\; g(x_4)= 2.433534558868493$$"
      ],
      "text/plain": [
       "<IPython.core.display.Math object>"
      ]
     },
     "metadata": {},
     "output_type": "display_data"
    },
    {
     "name": "stdout",
     "output_type": "stream",
     "text": [
      "Iteración 5: \n"
     ]
    },
    {
     "data": {
      "text/latex": [
       "$$x_5= 2.433534558868493\\;y\\; g(x_5)= 2.466121243212844$$"
      ],
      "text/plain": [
       "<IPython.core.display.Math object>"
      ]
     },
     "metadata": {},
     "output_type": "display_data"
    },
    {
     "name": "stdout",
     "output_type": "stream",
     "text": [
      "Iteración 6: \n"
     ]
    },
    {
     "data": {
      "text/latex": [
       "$$x_6= 2.466121243212844\\;y\\; g(x_6)= 2.487704834105599$$"
      ],
      "text/plain": [
       "<IPython.core.display.Math object>"
      ]
     },
     "metadata": {},
     "output_type": "display_data"
    },
    {
     "name": "stdout",
     "output_type": "stream",
     "text": [
      "Iteración 7: \n"
     ]
    },
    {
     "data": {
      "text/latex": [
       "$$x_7= 2.487704834105599\\;y\\; g(x_7)= 2.5022726445684715$$"
      ],
      "text/plain": [
       "<IPython.core.display.Math object>"
      ]
     },
     "metadata": {},
     "output_type": "display_data"
    },
    {
     "name": "stdout",
     "output_type": "stream",
     "text": [
      "Iteración 8: \n"
     ]
    },
    {
     "data": {
      "text/latex": [
       "$$x_8= 2.5022726445684715\\;y\\; g(x_8)= 2.5122271524946176$$"
      ],
      "text/plain": [
       "<IPython.core.display.Math object>"
      ]
     },
     "metadata": {},
     "output_type": "display_data"
    },
    {
     "name": "stdout",
     "output_type": "stream",
     "text": [
      "Iteración 9: \n"
     ]
    },
    {
     "data": {
      "text/latex": [
       "$$x_9= 2.5122271524946176\\;y\\; g(x_9)= 2.519085641876241$$"
      ],
      "text/plain": [
       "<IPython.core.display.Math object>"
      ]
     },
     "metadata": {},
     "output_type": "display_data"
    }
   ],
   "source": [
    "from IPython.display import display, Math\n",
    "import sympy.printing as printing\n",
    "\n",
    "xcero = ejemplo.xi\n",
    "xuno = ejemplo.gi\n",
    "\n",
    "print (\"Analicemos las primeras iteraciones. \\n\")  \n",
    "\n",
    "for p in range (10):\n",
    "    print (\"Iteración \"+str(p)+\": \")\n",
    "    ec = \"x_\"+str(p)+\"= \"+str(xcero[p])+\"\\;y\\; g(x_\"+str(p)+\")= \"+str(xuno[p])\n",
    "    display(Math(printing.latex(ec,mul_symbol='dot')))"
   ]
  },
  {
   "cell_type": "code",
   "execution_count": 42,
   "metadata": {
    "hideCode": true,
    "hidePrompt": false,
    "slideshow": {
     "slide_type": "slide"
    }
   },
   "outputs": [
    {
     "data": {
      "image/png": "[encoded data removed]",
      "text/plain": [
       "<Figure size 720x576 with 1 Axes>"
      ]
     },
     "metadata": {
      "needs_background": "light"
     },
     "output_type": "display_data"
    },
    {
     "data": {
      "image/png": "[encoded data removed]",
      "text/plain": [
       "<Figure size 720x576 with 1 Axes>"
      ]
     },
     "metadata": {
      "needs_background": "light"
     },
     "output_type": "display_data"
    }
   ],
   "source": [
    "import matplotlib.pyplot as plt\n",
    "ejex = np.arange(-1, 5, 0.1);\n",
    "y = f(ejex)\n",
    "\n",
    "def i(x):#definimos la función =x\n",
    "    return x\n",
    "\n",
    "for p in range (2):\n",
    "    fig = plt.figure(figsize=(10,8))\n",
    "    plt.plot(ejex, y)\n",
    "    plt.xlabel('x',fontsize=20)\n",
    "    plt.xlim(-0.5,4)\n",
    "    plt.ylabel('f(x)',fontsize=20)\n",
    "    plt.plot(ejex, i(ejex))\n",
    "    plt.plot(ejex, g(ejex))\n",
    "    plt.axhline(y=0, color='k')   \n",
    "    plt.scatter(x=xcero[p], y=0, marker=\"o\", c='green', s=100)\n",
    "    plt.annotate(\"Xi\", (xcero[p], 0),fontsize=20)\n",
    "    plt.plot([xcero[p],xcero[p]], [0,xuno[p]], color='g',linestyle='dashed')\n",
    "    plt.plot([xcero[p],xuno[p]], [xuno[p],xuno[p]], color='g',linestyle='dashed')\n",
    "    plt.scatter(x=xuno[p], y=0, marker=\"o\", c='m', s=100)\n",
    "    plt.annotate(\"Xi+1\", (xuno[p], 0),fontsize=20)\n",
    "    plt.legend(['f(x)','y=x','g(x)'],fontsize=10)\n",
    "    plt.plot([xuno[p],xuno[p]], [xuno[p],0], color='m',linestyle='dashed')\n",
    "    \n",
    "    #plt.axvline(x=x[p], color='g',linestyle='dashed') \n",
    "    #plt.axvline(x=a[p], color='m') \n",
    "    #plt.axvline(x=b[p], color='m'); "
   ]
  },
  {
   "cell_type": "code",
   "execution_count": 43,
   "metadata": {
    "slideshow": {
     "slide_type": "slide"
    }
   },
   "outputs": [
    {
     "name": "stdout",
     "output_type": "stream",
     "text": [
      "Resumen de resultados para punto fijo:\n",
      "A continuación se muestran las primeras iteraciones:\n"
     ]
    },
    {
     "data": {
      "text/html": [
       "<div>\n",
       "<style scoped>\n",
       "    .dataframe tbody tr th:only-of-type {\n",
       "        vertical-align: middle;\n",
       "    }\n",
       "\n",
       "    .dataframe tbody tr th {\n",
       "        vertical-align: top;\n",
       "    }\n",
       "\n",
       "    .dataframe thead th {\n",
       "        text-align: right;\n",
       "    }\n",
       "</style>\n",
       "<table border=\"1\" class=\"dataframe\">\n",
       "  <thead>\n",
       "    <tr style=\"text-align: right;\">\n",
       "      <th></th>\n",
       "      <th>xi</th>\n",
       "      <th>gi</th>\n",
       "    </tr>\n",
       "  </thead>\n",
       "  <tbody>\n",
       "    <tr>\n",
       "      <th>0</th>\n",
       "      <td>0.000000</td>\n",
       "      <td>1.817121</td>\n",
       "    </tr>\n",
       "    <tr>\n",
       "      <th>1</th>\n",
       "      <td>1.817121</td>\n",
       "      <td>2.150982</td>\n",
       "    </tr>\n",
       "    <tr>\n",
       "      <th>2</th>\n",
       "      <td>2.150982</td>\n",
       "      <td>2.299932</td>\n",
       "    </tr>\n",
       "    <tr>\n",
       "      <th>3</th>\n",
       "      <td>2.299932</td>\n",
       "      <td>2.382844</td>\n",
       "    </tr>\n",
       "    <tr>\n",
       "      <th>4</th>\n",
       "      <td>2.382844</td>\n",
       "      <td>2.433535</td>\n",
       "    </tr>\n",
       "    <tr>\n",
       "      <th>5</th>\n",
       "      <td>2.433535</td>\n",
       "      <td>2.466121</td>\n",
       "    </tr>\n",
       "    <tr>\n",
       "      <th>6</th>\n",
       "      <td>2.466121</td>\n",
       "      <td>2.487705</td>\n",
       "    </tr>\n",
       "    <tr>\n",
       "      <th>7</th>\n",
       "      <td>2.487705</td>\n",
       "      <td>2.502273</td>\n",
       "    </tr>\n",
       "    <tr>\n",
       "      <th>8</th>\n",
       "      <td>2.502273</td>\n",
       "      <td>2.512227</td>\n",
       "    </tr>\n",
       "    <tr>\n",
       "      <th>9</th>\n",
       "      <td>2.512227</td>\n",
       "      <td>2.519086</td>\n",
       "    </tr>\n",
       "  </tbody>\n",
       "</table>\n",
       "</div>"
      ],
      "text/plain": [
       "         xi        gi\n",
       "0  0.000000  1.817121\n",
       "1  1.817121  2.150982\n",
       "2  2.150982  2.299932\n",
       "3  2.299932  2.382844\n",
       "4  2.382844  2.433535\n",
       "5  2.433535  2.466121\n",
       "6  2.466121  2.487705\n",
       "7  2.487705  2.502273\n",
       "8  2.502273  2.512227\n",
       "9  2.512227  2.519086"
      ]
     },
     "execution_count": 43,
     "metadata": {},
     "output_type": "execute_result"
    }
   ],
   "source": [
    "print('Resumen de resultados para punto fijo:')\n",
    "print('A continuación se muestran las primeras iteraciones:')\n",
    "ejemplo.head(10)"
   ]
  },
  {
   "cell_type": "markdown",
   "metadata": {
    "slideshow": {
     "slide_type": "slide"
    }
   },
   "source": [
    "### Ejercicio adicional:\n",
    "___\n",
    "\n",
    "Hallar $p$ tal que $f(p)=0,$ $p  \\in [0,4]$ siendo :\n",
    "$$f(x)=(x+e^\\frac{x}{2}).cos(x)+5$$\n",
    "\n",
    "Resolver el ejercicio aplicando nuevamente el método de punto fijo, pero ahora para las funciones:\n",
    "\n",
    "$$ g_1(x)= f(x)+x\\ $$\n",
    "$$ g_2(x)= \\sqrt[3] {f(x)+x^3} $$\n",
    "\n",
    "En cada caso, probar con tres valores de valor inicial $x_0$: 0, 2 y 4.\n",
    "\n",
    "¿Qué conclusiones podemos sacar sobre este método?\n",
    "\n",
    "\n"
   ]
  },
  {
   "cell_type": "markdown",
   "metadata": {
    "slideshow": {
     "slide_type": "slide"
    }
   },
   "source": [
    "![Curso Schwarz-Sosa-Suriano](http://www.fi.uba.ar/sites/default/files/logo.png)\n",
    "\n",
    "\n",
    "\n",
    "# GRACIAS POR SU ATENCIÓN\n",
    "\n",
    "\n",
    "\n",
    "### Ecuaciones no Lineales - Segunda Parte\n",
    "\n",
    "***\n",
    "\n",
    "**Curso Schwarz - Sosa - Suriano**\n",
    "- Métodos Numéricos. *Curso 2*\n",
    "- Análisis Numérico I. *Curso 4*\n",
    "- Métodos Matemáticos y Numéricos. *Curso 6*"
   ]
  }
 ],
 "metadata": {
  "celltoolbar": "Hide code",
  "kernelspec": {
   "display_name": "Python 3 (ipykernel)",
   "language": "python",
   "name": "python3"
  },
  "language_info": {
   "codemirror_mode": {
    "name": "ipython",
    "version": 3
   },
   "file_extension": ".py",
   "mimetype": "text/x-python",
   "name": "python",
   "nbconvert_exporter": "python",
   "pygments_lexer": "ipython3",
   "version": "3.9.7"
  }
 },
 "nbformat": 4,
 "nbformat_minor": 2
}
