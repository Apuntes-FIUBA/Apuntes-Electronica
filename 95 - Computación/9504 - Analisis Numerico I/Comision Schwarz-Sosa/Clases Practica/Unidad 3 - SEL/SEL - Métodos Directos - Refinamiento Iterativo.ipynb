{
 "cells": [
  {
   "cell_type": "markdown",
   "metadata": {
    "hideCode": false,
    "hidePrompt": false,
    "slideshow": {
     "slide_type": "slide"
    }
   },
   "source": [
    "![Curso Schwarz-Sosa-Suriano](http://www.fi.uba.ar/sites/default/files/logo.png)\n",
    "# Sistemas de Ecuaciones Lineales\n",
    "## Métodos Directos - Refinamiento Iterativo\n",
    "***\n",
    "**Curso Schwarz - Sosa - Suriano**\n",
    "- Métodos Numéricos. *Curso 2*\n",
    "- Análisis Numérico I. *Curso 4*\n",
    "- Métodos Matemáticos y Numéricos. *Curso 6*"
   ]
  },
  {
   "cell_type": "code",
   "execution_count": 1,
   "metadata": {
    "slideshow": {
     "slide_type": "skip"
    }
   },
   "outputs": [],
   "source": [
    "from IPython.display import display, Math\n",
    "\n",
    "def factorizarDoolittle(A,pasos=True):\n",
    "    n = np.shape(A)[0]\n",
    "    L = np.zeros((n,n))\n",
    "    U = np.zeros((n,n))\n",
    "    for i in range (0,n):\n",
    "        L[i,i] = 1\n",
    "        U[i,i] = A[i,i]  \n",
    "        if (pasos):\n",
    "            display(Math(\"\\\\text{Vamos a calcular la \"+str(i+1)+\"ª fila de U y la \"+str(i+1)+\"ª columna de L}\"))\n",
    "            display(Math(\"\\\\text{Por definición } L_{\"+str(i+1)+\",\"+str(i+1)+\"} = 1\"))                      \n",
    "            display(Math(\"\\\\text{Y para U:}\"))    \n",
    "            exp = \"U_{\"+str(i+1)+\",\"+str(i+1)+\"} = A_{\"+str(i+1)+\",\"+str(i+1)+\"}\"\n",
    "            expN = \"U_{\"+str(i+1)+\",\"+str(i+1)+\"} = \"+str(A[i,i])        \n",
    "        for k in range(0,i):\n",
    "            U[i,i] -= L[i,k]*U[k,i] \n",
    "            if (pasos):\n",
    "                exp += \" - L_{\"+str(i+1)+\",\"+str(k+1)+\"} \\cdot U_{\"+str(k+1)+\",\"+str(i+1)+\"}\"\n",
    "                expN += \" - \"+str(L[i,k])+\"\\cdot\"+str(U[k,i])\n",
    "        if (pasos):\n",
    "            expN += \"=\"+str(U[i,i])            \n",
    "            if (i>2):\n",
    "                display(Math(exp))\n",
    "                display(Math(expN))\n",
    "            else:\n",
    "                display(Math(exp+\"\\\\implies \"+expN))\n",
    "            display(Math(\"\\\\text{Seguimos con la \"+str(i+1)+\"ª fila de U y la \"+str(i+1)+\"ª columna de L }\"))            \n",
    "        for j in range (i+1,n):         \n",
    "            U[i,j] = A[i,j]             \n",
    "            L[j,i] = A[j,i]\n",
    "            if (pasos):\n",
    "                exp1 = \"U_{\"+str(i+1)+\",\"+str(j+1)+\"} = \\\\frac{A_{\"+str(i+1)+\",\"+str(j+1)+\"}\"  \n",
    "                exp1N = \"U_{\"+str(i+1)+\",\"+str(j+1)+\"} = \\\\frac{\"+str(A[i,j])\n",
    "                exp2 = \"L_{\"+str(j+1)+\",\"+str(i+1)+\"} = \\\\frac{A_{\"+str(j+1)+\",\"+str(i+1)+\"}\" \n",
    "                exp2N = \"L_{\"+str(j+1)+\",\"+str(i+1)+\"} = \\\\frac{\"+str(A[j,i])                \n",
    "            for k in range(0,i):           \n",
    "                U[i,j] -= L[i,k]*U[k,j]                  \n",
    "                L[j,i] -= L[j,k]*U[k,i] \n",
    "                if (pasos):\n",
    "                    exp1  += \" - L_{\"+str(i+1)+\",\"+str(k+1)+\"} \\cdot U_{\"+str(k+1)+\",\"+str(j+1)+\"}\"  \n",
    "                    exp1N += \" - \"+str(L[i,k])+\" \\cdot \"+str(U[k,j])                     \n",
    "                    exp2  += \" - L_{\"+str(j+1)+\",\"+str(k+1)+\"} \\cdot U_{\"+str(k+1)+\",\"+str(i+1)+\"}\" \n",
    "                    exp2N += \" - \"+str(L[j,k])+\" \\cdot \"+str(U[k,i])                     \n",
    "            U[i,j] = U[i,j]/L[i,i] \n",
    "            L[j,i] = L[j,i]/U[i,i]\n",
    "            if (pasos):\n",
    "                exp1  += \"}{L_{\"+str(i+1)+\",\"+str(i+1)+\"}}\"   \n",
    "                exp1N += \"}{1} = \"+str(U[i,j])               \n",
    "                exp2  += \"}{U_{\"+str(i+1)+\",\"+str(i+1)+\"}}\"  \n",
    "                exp2N += \"}{\"+str(U[i,i])+\"} = \"+str(L[j,i])             \n",
    "                if (i>2):\n",
    "                    display(Math(exp1))\n",
    "                    display(Math(exp1N))                \n",
    "                    display(Math(exp2)) \n",
    "                    display(Math(exp2N))   \n",
    "                else:\n",
    "                    display(Math(exp1+\"\\\\implies \"+exp1N))\n",
    "                    display(Math(exp2+\"\\\\implies \"+exp2N))\n",
    "        if (pasos):\n",
    "            if (i<n-1):\n",
    "                display(Math(\"\\\\text{Y hasta acá tenemos:}\"))                \n",
    "            else:\n",
    "                display(Math(\"\\\\text{Y ahora sí tenemos L y U completas:}\"))\n",
    "            display(Math(\"L = \"+bmatrix(L)+\" \\\\hspace{10mm} U = \"+bmatrix(U)+\" \\\\hspace{10mm} A = \"+bmatrix(A)))\n",
    "    return L,U \n",
    "\n",
    "def bmatrix(a):\n",
    "    # credito: https://stackoverflow.com/questions/17129290/numpy-2d-and-1d-array-to-latex-bmatrix\n",
    "    if len(a.shape) > 2:\n",
    "        raise ValueError('solo vectores o matrices bidimensionales')\n",
    "    lines = str(a).replace('[', '').replace(']', '').splitlines()\n",
    "    rv = [r'\\begin{bmatrix}']\n",
    "    rv += ['  ' + ' & '.join(l.split()) + r'\\\\' for l in lines]\n",
    "    rv +=  [r'\\end{bmatrix}']\n",
    "    return '\\n'.join(rv)\n",
    "\n",
    "def sustDirecta(L, B, pasos = True):\n",
    "    n = np.shape(L)[0]\n",
    "    Y = np.zeros(n)    \n",
    "    if (pasos):\n",
    "        display(Math(\"\\\\text{Tenemos:}\"))                \n",
    "        exp = bmatrix(L)+\" \\cdot \\\\begin{bmatrix}\"\n",
    "        for i in range(0,n): exp += \"Y_\"+str(i+1)+r\"\\\\\"       \n",
    "        exp += \"\\\\end{bmatrix} = \"+bmatrix(B.reshape(-1,1))\n",
    "        display(Math(exp))\n",
    "    for i in range(0,n):\n",
    "        Y[i] = B[i]\n",
    "        if (pasos):       \n",
    "            if (i+1==n): \n",
    "                display(Math(\"\\\\text{Y por último calculamos } Y_\"+str(i+1)))             \n",
    "            elif (i==0):\n",
    "                display(Math(\"\\\\text{Primero calculamos } Y_\"+str(i+1)))                                  \n",
    "            else:\n",
    "                display(Math(\"\\\\text{Ahora calculamos } Y_\"+str(i+1)))                    \n",
    "            exp = \"Y_\"+str(i+1)+\" = \\\\frac{B_\"+str(i+1)\n",
    "            expN = \"Y_\"+str(i+1)+\" = \\\\frac{\" + str(B[i])           \n",
    "        for j in range (0,i):\n",
    "            Y[i] += -L[i,j]*Y[j]\n",
    "            if (pasos):\n",
    "                exp  += \" - L_{\"+str(i+1)+\",\"+str(j+1)+\"} \\cdot Y_\"+str(j+1) \n",
    "                expN += \" - \"+str(L[i,j])+\" \\cdot \"+str(Y[j])            \n",
    "        Y[i] = Y[i] / L[i,i]\n",
    "        if (pasos):\n",
    "            exp += \"}{L_{\"+str(i+1)+\",\"+str(i+1)+\"}}\"\n",
    "            expN += \"}{1} = \"+str([i])\n",
    "            display(Math(exp))\n",
    "            display(Math(expN))\n",
    "    if (pasos):\n",
    "        display(Math(\"\\\\text{Y finalmente:}\"))                \n",
    "        display(Math(\"Y = \"+bmatrix(Y)))               \n",
    "    return Y\n",
    "\n",
    "def sustInversa(U, Y ,pasos = True):\n",
    "    n = np.shape(U)[0]\n",
    "    X = np.zeros(n)\n",
    "    if (pasos):\n",
    "        display(Math(\"\\\\text{Tenemos:}\"))                \n",
    "        exp = bmatrix(U)+\" \\cdot \\\\begin{bmatrix}\"\n",
    "        for i in range(0,n): exp += \"X_\"+str(i+1)+r\"\\\\\"       \n",
    "        exp += \"\\\\end{bmatrix} = \"+bmatrix(Y.reshape(-1,1))\n",
    "        display(Math(exp))  \n",
    "    for i in reversed(range(0,n)):\n",
    "        X[i] = Y[i]        \n",
    "        if (pasos):       \n",
    "            if (i+1==n): \n",
    "                display(Math(\"\\\\text{Primero calculamos } X_\"+str(i+1)))           \n",
    "            elif (i==0):\n",
    "                display(Math(\"\\\\text{Y por último calculamos } X_\"+str(i+1)))                    \n",
    "            else:\n",
    "                display(Math(\"\\\\text{Ahora calculamos } X_\"+str(i+1)))                    \n",
    "            exp = \"X_\"+str(i+1)+\" = \\\\frac{Y_\"+str(i+1)\n",
    "            expN = \"X_\"+str(i+1)+\" = \\\\frac{\" + str(Y[i])               \n",
    "        for j in range (i+1,n):\n",
    "            X[i] += -U[i,j]*X[j]\n",
    "            if (pasos):\n",
    "                exp  += \" - U_{\"+str(i+1)+\",\"+str(j+1)+\"} \\cdot X_\"+str(j+1) \n",
    "                expN += \" - \"+str(U[i,j])+\" \\cdot \"+str(X[j])\n",
    "        X[i] = X[i] / U[i,i]  \n",
    "        if (pasos):\n",
    "            exp += \"}{U_{\"+str(i+1)+\",\"+str(i+1)+\"}}\"\n",
    "            expN += \"}{\"+str(U[i,i])+\"} = \"+str(X[i])\n",
    "            display(Math(exp))\n",
    "            display(Math(expN))    \n",
    "    if (pasos):\n",
    "        display(Math(\"\\\\text{Y finalmente:}\"))                \n",
    "        display(Math(\"X = \"+bmatrix(X)))   \n",
    "    return X\n",
    "\n",
    "def factorizarCholesky(A,pasos=True):\n",
    "    n = np.shape(A)[0]\n",
    "    S = np.zeros((n,n))\n",
    "    for i in range (0,n):\n",
    "        S[i,i] = A[i,i]  \n",
    "        if (pasos):\n",
    "            display(Math(\"\\\\text{Vamos a calcular la \"+str(i+1)+\"ª  columna de S}\"))\n",
    "            exp = \"S_{\"+str(i+1)+\",\"+str(i+1)+\"} = \\sqrt{ A_{\"+str(i+1)+\",\"+str(i+1)+\"}\"\n",
    "            expN = \"S_{\"+str(i+1)+\",\"+str(i+1)+\"} = \\sqrt{\"+str(A[i,i])        \n",
    "        for k in range(0,i):\n",
    "            S[i,i] += - S[i,k]**2\n",
    "            if (pasos):\n",
    "                exp += \" - S_{\"+str(i+1)+\",\"+str(k+1)+\"}^2\"\n",
    "                expN += \" - \"+str(S[i,k])+\"^2\"\n",
    "        S[i,i] = np.sqrt(S[i,i])\n",
    "        if (pasos):\n",
    "            exp += \"}\"            \n",
    "            expN += \"} =\"+str(S[i,i])            \n",
    "            if (i>2):\n",
    "                display(Math(exp))\n",
    "                display(Math(expN))\n",
    "            else:\n",
    "                display(Math(exp+\"\\\\implies \"+expN))       \n",
    "        for j in range (i+1,n):     \n",
    "            S[j,i] = A[j,i]\n",
    "            if (pasos):\n",
    "                exp = \"S_{\"+str(j+1)+\",\"+str(i+1)+\"} = \\\\frac{A_{\"+str(j+1)+\",\"+str(i+1)+\"}\" \n",
    "                expN = \"S_{\"+str(j+1)+\",\"+str(i+1)+\"} = \\\\frac{\"+str(A[j,i])                \n",
    "            for k in range(0,i):           \n",
    "                S[j,i] += - S[j,k]*S[i,k]                  \n",
    "                if (pasos):\n",
    "                    exp  += \" - S_{\"+str(j+1)+\",\"+str(k+1)+\"} \\cdot S_{\"+str(i+1)+\",\"+str(k+1)+\"}\"  \n",
    "                    expN += \" - \"+str(S[j,k])+\" \\cdot \"+ str(S[i,k])                  \n",
    "            S[j,i] = S[j,i] / S[i,i]\n",
    "            if (pasos):            \n",
    "                exp  += \"}{S_{\"+str(i+1)+\",\"+str(i+1)+\"}}\"  \n",
    "                expN += \"}{\"+str(S[i,i])+\"} = \"+str(S[j,i])              \n",
    "                if (i>2):\n",
    "                    display(Math(exp))\n",
    "                    display(Math(expN))                \n",
    "                else:\n",
    "                    display(Math(exp+\"\\\\implies \"+expN))\n",
    "        if (pasos):\n",
    "            if (i<n-1):\n",
    "                display(Math(\"\\\\text{Y hasta acá tenemos:}\"))                \n",
    "            else:\n",
    "                display(Math(\"\\\\text{Y ahora sí tenemos S completa:}\"))\n",
    "            display(Math(\"S = \"+bmatrix(S)+\" \\\\hspace{10mm} A = \"+bmatrix(A)))\n",
    "    return S"
   ]
  },
  {
   "cell_type": "markdown",
   "metadata": {
    "hideCode": false,
    "hidePrompt": false,
    "slideshow": {
     "slide_type": "slide"
    }
   },
   "source": [
    "### Matrices mal condicionadas:\n",
    "\n",
    "En el Resumen de Clases Teórias han visto ya el tema de las Condición de una Matriz. Sabemos que: \n",
    "\n",
    "$$ \\kappa(A) = ||A|| \\cdot ||A^{-1}|| $$"
   ]
  },
  {
   "cell_type": "markdown",
   "metadata": {
    "hideCode": false,
    "hidePrompt": false,
    "slideshow": {
     "slide_type": "fragment"
    }
   },
   "source": [
    "Se pude decir que $\\kappa (A)$ es una medida de qué tan cerca está una matriz de tener un determinante nulo. A mayor valor de $\\kappa(A)$ menor será el valor de $det(A)$."
   ]
  },
  {
   "cell_type": "markdown",
   "metadata": {
    "hideCode": false,
    "hidePrompt": false,
    "slideshow": {
     "slide_type": "fragment"
    }
   },
   "source": [
    "Generemos una matriz mal condicionada:"
   ]
  },
  {
   "cell_type": "code",
   "execution_count": 2,
   "metadata": {
    "hideCode": false,
    "hidePrompt": false,
    "slideshow": {
     "slide_type": "fragment"
    }
   },
   "outputs": [
    {
     "name": "stdout",
     "output_type": "stream",
     "text": [
      "[[5.0000e+03 1.0000e+00 5.0000e+00]\n",
      " [1.0000e+00 1.0000e+04 1.0000e+00]\n",
      " [5.0010e+03 1.0001e+04 6.0000e+00]]\n",
      "-5.051647861134412e-07\n"
     ]
    }
   ],
   "source": [
    "import numpy as np\n",
    "A = np.matrix([[5000,  1, 5], [ 1, 10000,  1], [ 5001,  10001,  5.99999999999999]])\n",
    "print(A)\n",
    "print(np.linalg.det(A))"
   ]
  },
  {
   "cell_type": "markdown",
   "metadata": {
    "hideCode": false,
    "hidePrompt": false,
    "slideshow": {
     "slide_type": "slide"
    }
   },
   "source": [
    "Aplicaremos la factorización de Doolittle, proponiendo primero un vector B:"
   ]
  },
  {
   "cell_type": "code",
   "execution_count": 11,
   "metadata": {
    "hideCode": false,
    "hidePrompt": false,
    "slideshow": {
     "slide_type": "fragment"
    }
   },
   "outputs": [
    {
     "name": "stdout",
     "output_type": "stream",
     "text": [
      "[-1.08518305e+13 -1.08411955e+12  1.08520473e+16]\n"
     ]
    }
   ],
   "source": [
    "B = np.array([100,100,100])\n",
    "L, U = factorizarDoolittle(A,False)\n",
    "Y0 = sustDirecta(L, B, False)\n",
    "X0 = sustInversa(U, Y0, False)\n",
    "print (X0)"
   ]
  },
  {
   "cell_type": "markdown",
   "metadata": {
    "slideshow": {
     "slide_type": "fragment"
    }
   },
   "source": [
    "Calculemos el residuo $R$ y una medida del error de la solución en términos relativos de $B$: $\\frac{||R||}{||B||}$"
   ]
  },
  {
   "cell_type": "code",
   "execution_count": 4,
   "metadata": {
    "slideshow": {
     "slide_type": "fragment"
    }
   },
   "outputs": [
    {
     "name": "stdout",
     "output_type": "stream",
     "text": [
      "[[12.  2. 20.]] 0.2\n"
     ]
    }
   ],
   "source": [
    "R0 = B - np.dot(A,X0)\n",
    "rel0 = np.linalg.norm(R0.transpose(),np.inf)/np.linalg.norm(B.transpose(),np.inf)\n",
    "print(R0,rel0)"
   ]
  },
  {
   "cell_type": "markdown",
   "metadata": {
    "slideshow": {
     "slide_type": "fragment"
    }
   },
   "source": [
    "Si la solución fuera la exacta deberíamos haber tenido como residuo el vector nulo, pero cuando tenemos matrices mal condicionadas, este tipo de situaciones pueden ocurrir.\n",
    "\n",
    "En estos casos, podemos reutilizar los resultados de la factorización para en el denominado refinamiento iterativo."
   ]
  },
  {
   "cell_type": "markdown",
   "metadata": {
    "hideCode": false,
    "hidePrompt": false,
    "slideshow": {
     "slide_type": "slide"
    }
   },
   "source": [
    "### Refinamiento iterativo de la solución:\n",
    "\n",
    "Sabemos que esta **estrategia iterativa** permite aprovechar el trabajo realizado con un **método directo** para hallar la solución (que ahora llamaremos $X_0$, para diferenciarla de la solución exacta $X$) de la siguiente forma:\n",
    "\n",
    "$$R_0 = B - A \\cdot X_0$$\n",
    "\n",
    "$$B = A \\cdot X \\implies R_0 = A \\cdot X - A \\cdot X_0$$"
   ]
  },
  {
   "cell_type": "markdown",
   "metadata": {
    "slideshow": {
     "slide_type": "fragment"
    }
   },
   "source": [
    "$$R_0 = A \\cdot (X-X_0)$$"
   ]
  },
  {
   "cell_type": "markdown",
   "metadata": {
    "slideshow": {
     "slide_type": "fragment"
    }
   },
   "source": [
    "\n",
    "$$A \\cdot \\delta_0 = R_0 \\hspace{5mm} con \\hspace{5mm} X = X_0 + \\delta_0$$"
   ]
  },
  {
   "cell_type": "markdown",
   "metadata": {
    "slideshow": {
     "slide_type": "fragment"
    }
   },
   "source": [
    "En consecuencia, si resolvemos el nuevo sel $A \\cdot \\delta_0 = R_0$ y sumamos $\\delta_0$ a la primer solución $X_0$, deberíamos obtener *-al menos una solución más próxima a-* la solución exacta:"
   ]
  },
  {
   "cell_type": "code",
   "execution_count": 12,
   "metadata": {
    "hideCode": false,
    "hidePrompt": false,
    "slideshow": {
     "slide_type": "slide"
    }
   },
   "outputs": [],
   "source": [
    "Y1 = sustDirecta(L, R0.transpose(),False)\n",
    "delta0 = sustInversa(U, Y1, False)\n",
    "X1 = X0 + delta0"
   ]
  },
  {
   "cell_type": "markdown",
   "metadata": {
    "hideCode": false,
    "hidePrompt": false,
    "slideshow": {
     "slide_type": "fragment"
    }
   },
   "source": [
    "Calculamos ahora el nuevo residuo $R$ y la relación $\\frac{||R||}{||B||}$:"
   ]
  },
  {
   "cell_type": "code",
   "execution_count": 8,
   "metadata": {
    "hideCode": false,
    "hidePrompt": false,
    "slideshow": {
     "slide_type": "fragment"
    }
   },
   "outputs": [
    {
     "name": "stdout",
     "output_type": "stream",
     "text": [
      "[[ 4. -2. -4.]] 0.04\n",
      "0.04 y antes esta misma relación era al hallar X0 0.2\n"
     ]
    }
   ],
   "source": [
    "R1 = B - np.dot(A,X1)\n",
    "rel1 = np.linalg.norm(R1.transpose(),np.inf)/np.linalg.norm(B.transpose(),np.inf)\n",
    "print(R1, rel1)\n",
    "print (rel1,\"y antes esta misma relación era al hallar X0\",rel0)"
   ]
  },
  {
   "cell_type": "markdown",
   "metadata": {
    "hideCode": false,
    "hidePrompt": false,
    "slideshow": {
     "slide_type": "fragment"
    }
   },
   "source": [
    "Como vemos, el refinamiento ha mejorado el resultado obtenido. Podríamos repetir el proceso tantas veces como queramos, implementando criterios de corte similares a los que veremos en el próximo video de **Métodos Iterativos**."
   ]
  },
  {
   "cell_type": "markdown",
   "metadata": {
    "hideCode": false,
    "hidePrompt": false,
    "slideshow": {
     "slide_type": "slide"
    }
   },
   "source": [
    "A modo de cierre, vamos a utilizar la función numpy que propone calcular el número de condición de una matriz basado en la norma infinito, y compararlo con la estimación (3.31) del Resumen de Clases, recordando que en nuestro caso tenemos $t=15$:\n",
    "$$\\kappa(A) \\approx \\frac{||\\delta_0||}{||X_0||}\\cdot 10^t$$"
   ]
  },
  {
   "cell_type": "code",
   "execution_count": 13,
   "metadata": {
    "scrolled": true,
    "slideshow": {
     "slide_type": "fragment"
    }
   },
   "outputs": [
    {
     "name": "stdout",
     "output_type": "stream",
     "text": [
      "59999999999999.99 4.456367539582331e+18\n",
      "Relación Numpy/Estimado: 74272.79232637219\n"
     ]
    }
   ],
   "source": [
    "Kestimado = (np.linalg.norm(delta0.transpose(),np.inf)/np.linalg.norm(X0.transpose(),np.inf))*(10**15)\n",
    "Knumpy = np.linalg.cond(A,np.inf)\n",
    "print (Kestimado, Knumpy)\n",
    "print (\"Relación Numpy/Estimado:\",Knumpy/Kestimado)"
   ]
  },
  {
   "cell_type": "markdown",
   "metadata": {
    "slideshow": {
     "slide_type": "fragment"
    }
   },
   "source": [
    "A pesar de que el valor estimado es mucho menor al estimado numéricamente por Numpy, la sola estimación nos da una idea de que tenemos un $\\kappa(A)$ elevado, sin necesidad de tener que calcular la inversa de la matriz como hace Numpy *- a pesar que en este caso no se note el consumo de recursos por el tamaño reducido de la matriz-.*"
   ]
  }
 ],
 "metadata": {
  "celltoolbar": "Slideshow",
  "hide_code_all_hidden": true,
  "kernelspec": {
   "display_name": "Python 3",
   "language": "python",
   "name": "python3"
  },
  "language_info": {
   "codemirror_mode": {
    "name": "ipython",
    "version": 3
   },
   "file_extension": ".py",
   "mimetype": "text/x-python",
   "name": "python",
   "nbconvert_exporter": "python",
   "pygments_lexer": "ipython3",
   "version": "3.7.6"
  },
  "rise": {
   "scroll": true
  }
 },
 "nbformat": 4,
 "nbformat_minor": 4
}
