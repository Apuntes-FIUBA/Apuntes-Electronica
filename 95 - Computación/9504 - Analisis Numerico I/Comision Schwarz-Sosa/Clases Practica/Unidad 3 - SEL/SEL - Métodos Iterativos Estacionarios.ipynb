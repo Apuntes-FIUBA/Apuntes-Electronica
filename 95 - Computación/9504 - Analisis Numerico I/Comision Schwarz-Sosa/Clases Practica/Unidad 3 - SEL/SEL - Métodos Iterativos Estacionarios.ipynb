{
 "cells": [
  {
   "cell_type": "markdown",
   "metadata": {
    "hideCode": false,
    "hidePrompt": false,
    "slideshow": {
     "slide_type": "slide"
    }
   },
   "source": [
    "![Curso Schwarz-Sosa-Suriano](http://www.fi.uba.ar/sites/default/files/logo.png)\n",
    "# Sistemas de Ecuaciones Lineales\n",
    "## Métodos Iterativos Estacionarios\n",
    "***\n",
    "**Curso Schwarz - Sosa - Suriano**\n",
    "- Métodos Numéricos. *Curso 2*\n",
    "- Análisis Numérico I. *Curso 4*\n",
    "- Métodos Matemáticos y Numéricos. *Curso 6*"
   ]
  },
  {
   "cell_type": "markdown",
   "metadata": {
    "hideCode": false,
    "hidePrompt": false,
    "slideshow": {
     "slide_type": "slide"
    }
   },
   "source": [
    "### Métodos iterativos:\n",
    "\n",
    "A la hora de resolver sistemas de ecuaciones lineales nos encontraremos muchas veces con *matrices ralas*, caracterizadas por tener una gran cantidad de coeficientes nulos."
   ]
  },
  {
   "cell_type": "markdown",
   "metadata": {
    "hideCode": false,
    "hidePrompt": false,
    "slideshow": {
     "slide_type": "fragment"
    }
   },
   "source": [
    "Si bien es cierto que en los métodos directos podemos estimar de antemano la cantidad de operaciones que debemos realizar para encontrar la solución, la factorización de matrices ralas suele devolver matrices L y U (o S) que tienen una mayor proporción de coeficientes no nulos que la matriz A original"
   ]
  },
  {
   "cell_type": "markdown",
   "metadata": {
    "hideCode": false,
    "hidePrompt": false,
    "slideshow": {
     "slide_type": "fragment"
    }
   },
   "source": [
    "Pensando en este tipo de matrices se han desarrollado los denominados métodos iterativos, en los que se parte de una solución inicial que se va corrigiendo iteración tras iteración. Para no realizar infinitas repeticiones se incorporan -de manera análoga a lo visto para las ecuaciones no lineales- criterios de corte basados en una tolerancia prefijada."
   ]
  },
  {
   "cell_type": "markdown",
   "metadata": {
    "hideCode": false,
    "hidePrompt": false,
    "slideshow": {
     "slide_type": "slide"
    }
   },
   "source": [
    "### Metodo de Jacobi:\n",
    "\n",
    "$$x_i^{(k+1)} = \\frac{b_i-\\sum_{j=1}^{i-1}{a_{i,j}\\cdot x_j^{(k)}} - \\sum_{j=i+1}^{n}{a_{i,j}\\cdot x_j^{(k)}}}{a_{i,i}}$$ \n",
    "\n",
    "Si la matriz A de nuestro SEL es estrictamente diagonal dominante, entonces la convergencia de Jacobi está garantizada para cualquier vector inicial, por lo que podemos elegir uno en forma arbitraria:\n",
    "$$X^{(0)} = \\begin{bmatrix} x_0^{(0)} \\\\ x_1^{(0)} \\\\ ... \\\\ x_n^{(0)}\\end{bmatrix}$$"
   ]
  },
  {
   "cell_type": "markdown",
   "metadata": {
    "hideCode": false,
    "hidePrompt": false,
    "slideshow": {
     "slide_type": "fragment"
    }
   },
   "source": [
    "Para decidir cuándo debemos dejar de iterar es necesario incorporar al algoritmo un criterio de corte."
   ]
  },
  {
   "cell_type": "markdown",
   "metadata": {
    "hideCode": false,
    "hidePrompt": false,
    "slideshow": {
     "slide_type": "slide"
    }
   },
   "source": [
    "### Criterios de Corte:\n",
    "\n",
    "Las siguientes son algunas de las condiciones que se podrían evaluar al final de cada iteración para decidir si se continúa iterando: \n",
    "\n",
    "$$ (1) \\hspace{2mm} || R^{(k+1)} || = || B - A.X^{(k+1)}|| \\leq TOL  \\hspace{20mm} (2) \\hspace{2mm} \\frac{||R^{(k+1)}||}{||B||} \\leq TOL$$\n",
    "\n",
    "$$ (3) \\hspace{2mm} || X^{(k+1)} - X^{(k)} || \\leq TOL  \\hspace{20mm}  (4) \\hspace{2mm} \\frac{|| X^{(k+1)} - X^{(k)} ||}{|| X^{(k+1)} ||} \\leq TOL $$"
   ]
  },
  {
   "cell_type": "markdown",
   "metadata": {
    "hideCode": false,
    "hidePrompt": false,
    "slideshow": {
     "slide_type": "fragment"
    }
   },
   "source": [
    "Los criterios (1) y (2) se basan en analizar el residuo, y por supuesto el segundo de ellos debería ser considerado como el más apropiado, ya qe se plantea en términos relativos. No obstante, veremos que el residuo no siempre es una magnitud que deba calcularse necesariamente."
   ]
  },
  {
   "cell_type": "markdown",
   "metadata": {
    "hideCode": false,
    "hidePrompt": false,
    "slideshow": {
     "slide_type": "fragment"
    }
   },
   "source": [
    "Los criterios (3) y (4) se basan en la comparación entre iteraciones, y obviamente preferiremos este último por estar planteado en términos relativos. Como este criterio aprovecha los valores de las aproximaciones de $X$, resultará en general de fácil aplicación. "
   ]
  },
  {
   "cell_type": "markdown",
   "metadata": {
    "hideCode": false,
    "hidePrompt": false,
    "slideshow": {
     "slide_type": "slide"
    }
   },
   "source": [
    "### Problema a resolver:"
   ]
  },
  {
   "cell_type": "code",
   "execution_count": 4,
   "metadata": {
    "hideCode": false,
    "hidePrompt": false,
    "slideshow": {
     "slide_type": "fragment"
    }
   },
   "outputs": [
    {
     "name": "stdout",
     "output_type": "stream",
     "text": [
      "[[10 -1  2  0]\n",
      " [-1 11 -1  3]\n",
      " [ 2 -1 10  5]\n",
      " [ 0  3  5 20]]\n"
     ]
    }
   ],
   "source": [
    "from IPython.display import display, Math\n",
    "import numpy as np\n",
    "A = np.matrix([[10,-1,2,0],[-1,11,-1,3],[2,-1,10,5],[0,3,5,20]])\n",
    "print(A)\n",
    "B = np.array([6,25,-11,15])"
   ]
  },
  {
   "cell_type": "markdown",
   "metadata": {
    "hideCode": false,
    "hidePrompt": false,
    "slideshow": {
     "slide_type": "fragment"
    }
   },
   "source": [
    "En el bloque de código encontrarán una función `resolverJacobi(A,B,tol,pasos)` que permite resolver un SEL a partir de conocer la matriz $ A $ y el vector $ B $, fijar una tolerancia `tol` e indicar con `True` o `False` si queremos o no que se acompañe la resolución con el procedimiento paso a paso. "
   ]
  },
  {
   "cell_type": "markdown",
   "metadata": {
    "hideCode": false,
    "hidePrompt": false,
    "slideshow": {
     "slide_type": "fragment"
    }
   },
   "source": [
    "Y si quieren obtener un código más limpio, sin ninguna referencia de paso a paso, pueden eliminar cada uno de los bloques que comienzan con `if (pasos):`"
   ]
  },
  {
   "cell_type": "code",
   "execution_count": 5,
   "metadata": {
    "hideCode": false,
    "hidePrompt": false,
    "slideshow": {
     "slide_type": "slide"
    }
   },
   "outputs": [],
   "source": [
    "def resolverJacobi(A, B, tol, pasos=True):\n",
    "    n = np.shape(A)[0]\n",
    "    X0 = np.zeros(n)\n",
    "    X1 = np.zeros(n)\n",
    "    iteracion = 0\n",
    "    dif = 2*tol\n",
    "    while (dif>tol and iteracion<100):\n",
    "        if (pasos):\n",
    "            display(Math(\"\\\\text{Vamos a realizar la \"+str(iteracion+1)+\"ª iteración}\")) \n",
    "            if (iteracion==0):\n",
    "                 display(Math(\"\\\\text{Adoptamos como vector inicial } X^{(0)} = \"+r\"\\begin{bmatrix} 0 \\\\ 0 \\\\ ... \\\\ 0 \\end{bmatrix}\"))            \n",
    "        for i in range (0,n):\n",
    "            X1[i] = B[i]\n",
    "            if (pasos):\n",
    "                display(Math(\"\\\\text{Vamos a calcular la \"+str(i+1)+\"ª componente de } X^{(\"+str(iteracion+1)+\")}\"))  \n",
    "                exp = \"x_\"+str(i+1)+\"^{(\"+str(iteracion+1)+\")} = \\\\frac{b_\"+str(i+1)\n",
    "                expN = \"x_\"+str(i+1)+\"^{(\"+str(iteracion+1)+\")} = \\\\frac{\"+str(B[i])        \n",
    "            for j in range(0,i):\n",
    "                X1[i] -= A[i,j]*X0[j] \n",
    "                if (pasos):\n",
    "                    exp += \" - a_{\"+str(i+1)+\",\"+str(j+1)+\"} \\cdot x_\"+str(j+1)+\"^{(\"+str(iteracion)+\")}\"\n",
    "                    expN += \" - \"+str(A[i,j])+\"\\cdot\"+str(X0[j])\n",
    "            for j in range(i+1,n):\n",
    "                X1[i] -= A[i,j]*X0[j] \n",
    "                if (pasos):\n",
    "                    exp += \" - a_{\"+str(i+1)+\",\"+str(j+1)+\"} \\cdot x_\"+str(j+1)+\"^{(\"+str(iteracion)+\")}\"\n",
    "                    expN += \" - \"+str(A[i,j])+\"\\cdot\"+str(X0[j])                \n",
    "            X1[i] /= A[i,i]\n",
    "            if (pasos):\n",
    "                exp += \"}{a_{\"+str(i+1)+\",\"+str(i+1)+\"}}\"\n",
    "                expN += \"}{\"+str(A[i,i])+\"} = \"+str(X1[i])\n",
    "                display(Math(exp))\n",
    "                display(Math(expN))  \n",
    "        dif = np.linalg.norm(np.transpose(X1-X0),np.inf) / np.linalg.norm(X1.transpose(),np.inf)                \n",
    "        if (pasos):   \n",
    "            exp = \"\\\\text{Evaluamos el criterio corte: } \\\\frac{|| X^{(\"+str(iteracion+1)+\")} - X^{(\"+str(iteracion)+\")} ||}{|| X^{(\"+str(iteracion+1)+\")} ||} = \"+str(dif)            \n",
    "            if (dif>tol):\n",
    "                exp += \" > tol = \"+str(tol)\n",
    "                display(Math(exp)) \n",
    "            else:\n",
    "                exp +=  \" \\leq tol = \"+str(tol)\n",
    "                display(Math(exp)) \n",
    "                exp = \"\\\\text{Y hemos encontrado nuestra solución aproximada: } X^{(\"+str(iteracion+1)+\")} = \\\\begin{bmatrix}\"\n",
    "                for i in range (0,n):\n",
    "                    exp += str(X1[i])+r\"\\\\\"\n",
    "                exp += r\"\\end{bmatrix}\"\n",
    "                display(Math(exp))\n",
    "        X0 = X1.copy()\n",
    "        iteracion += 1\n",
    "    return X1 \n"
   ]
  },
  {
   "cell_type": "code",
   "execution_count": 6,
   "metadata": {
    "hideCode": false,
    "hidePrompt": false,
    "slideshow": {
     "slide_type": "slide"
    }
   },
   "outputs": [
    {
     "data": {
      "text/latex": [
       "$\\displaystyle \\text{Vamos a realizar la 1ª iteración}$"
      ],
      "text/plain": [
       "<IPython.core.display.Math object>"
      ]
     },
     "metadata": {},
     "output_type": "display_data"
    },
    {
     "data": {
      "text/latex": [
       "$\\displaystyle \\text{Adoptamos como vector inicial } X^{(0)} = \\begin{bmatrix} 0 \\\\ 0 \\\\ ... \\\\ 0 \\end{bmatrix}$"
      ],
      "text/plain": [
       "<IPython.core.display.Math object>"
      ]
     },
     "metadata": {},
     "output_type": "display_data"
    },
    {
     "data": {
      "text/latex": [
       "$\\displaystyle \\text{Vamos a calcular la 1ª componente de } X^{(1)}$"
      ],
      "text/plain": [
       "<IPython.core.display.Math object>"
      ]
     },
     "metadata": {},
     "output_type": "display_data"
    },
    {
     "data": {
      "text/latex": [
       "$\\displaystyle x_1^{(1)} = \\frac{b_1 - a_{1,2} \\cdot x_2^{(0)} - a_{1,3} \\cdot x_3^{(0)} - a_{1,4} \\cdot x_4^{(0)}}{a_{1,1}}$"
      ],
      "text/plain": [
       "<IPython.core.display.Math object>"
      ]
     },
     "metadata": {},
     "output_type": "display_data"
    },
    {
     "data": {
      "text/latex": [
       "$\\displaystyle x_1^{(1)} = \\frac{6 - -1\\cdot0.0 - 2\\cdot0.0 - 0\\cdot0.0}{10} = 0.6$"
      ],
      "text/plain": [
       "<IPython.core.display.Math object>"
      ]
     },
     "metadata": {},
     "output_type": "display_data"
    },
    {
     "data": {
      "text/latex": [
       "$\\displaystyle \\text{Vamos a calcular la 2ª componente de } X^{(1)}$"
      ],
      "text/plain": [
       "<IPython.core.display.Math object>"
      ]
     },
     "metadata": {},
     "output_type": "display_data"
    },
    {
     "data": {
      "text/latex": [
       "$\\displaystyle x_2^{(1)} = \\frac{b_2 - a_{2,1} \\cdot x_1^{(0)} - a_{2,3} \\cdot x_3^{(0)} - a_{2,4} \\cdot x_4^{(0)}}{a_{2,2}}$"
      ],
      "text/plain": [
       "<IPython.core.display.Math object>"
      ]
     },
     "metadata": {},
     "output_type": "display_data"
    },
    {
     "data": {
      "text/latex": [
       "$\\displaystyle x_2^{(1)} = \\frac{25 - -1\\cdot0.0 - -1\\cdot0.0 - 3\\cdot0.0}{11} = 2.272727272727273$"
      ],
      "text/plain": [
       "<IPython.core.display.Math object>"
      ]
     },
     "metadata": {},
     "output_type": "display_data"
    },
    {
     "data": {
      "text/latex": [
       "$\\displaystyle \\text{Vamos a calcular la 3ª componente de } X^{(1)}$"
      ],
      "text/plain": [
       "<IPython.core.display.Math object>"
      ]
     },
     "metadata": {},
     "output_type": "display_data"
    },
    {
     "data": {
      "text/latex": [
       "$\\displaystyle x_3^{(1)} = \\frac{b_3 - a_{3,1} \\cdot x_1^{(0)} - a_{3,2} \\cdot x_2^{(0)} - a_{3,4} \\cdot x_4^{(0)}}{a_{3,3}}$"
      ],
      "text/plain": [
       "<IPython.core.display.Math object>"
      ]
     },
     "metadata": {},
     "output_type": "display_data"
    },
    {
     "data": {
      "text/latex": [
       "$\\displaystyle x_3^{(1)} = \\frac{-11 - 2\\cdot0.0 - -1\\cdot0.0 - 5\\cdot0.0}{10} = -1.1$"
      ],
      "text/plain": [
       "<IPython.core.display.Math object>"
      ]
     },
     "metadata": {},
     "output_type": "display_data"
    },
    {
     "data": {
      "text/latex": [
       "$\\displaystyle \\text{Vamos a calcular la 4ª componente de } X^{(1)}$"
      ],
      "text/plain": [
       "<IPython.core.display.Math object>"
      ]
     },
     "metadata": {},
     "output_type": "display_data"
    },
    {
     "data": {
      "text/latex": [
       "$\\displaystyle x_4^{(1)} = \\frac{b_4 - a_{4,1} \\cdot x_1^{(0)} - a_{4,2} \\cdot x_2^{(0)} - a_{4,3} \\cdot x_3^{(0)}}{a_{4,4}}$"
      ],
      "text/plain": [
       "<IPython.core.display.Math object>"
      ]
     },
     "metadata": {},
     "output_type": "display_data"
    },
    {
     "data": {
      "text/latex": [
       "$\\displaystyle x_4^{(1)} = \\frac{15 - 0\\cdot0.0 - 3\\cdot0.0 - 5\\cdot0.0}{20} = 0.75$"
      ],
      "text/plain": [
       "<IPython.core.display.Math object>"
      ]
     },
     "metadata": {},
     "output_type": "display_data"
    },
    {
     "data": {
      "text/latex": [
       "$\\displaystyle \\text{Evaluamos el criterio corte: } \\frac{|| X^{(1)} - X^{(0)} ||}{|| X^{(1)} ||} = 1.0 > tol = 0.0001$"
      ],
      "text/plain": [
       "<IPython.core.display.Math object>"
      ]
     },
     "metadata": {},
     "output_type": "display_data"
    },
    {
     "data": {
      "text/latex": [
       "$\\displaystyle \\text{Vamos a realizar la 2ª iteración}$"
      ],
      "text/plain": [
       "<IPython.core.display.Math object>"
      ]
     },
     "metadata": {},
     "output_type": "display_data"
    },
    {
     "data": {
      "text/latex": [
       "$\\displaystyle \\text{Vamos a calcular la 1ª componente de } X^{(2)}$"
      ],
      "text/plain": [
       "<IPython.core.display.Math object>"
      ]
     },
     "metadata": {},
     "output_type": "display_data"
    },
    {
     "data": {
      "text/latex": [
       "$\\displaystyle x_1^{(2)} = \\frac{b_1 - a_{1,2} \\cdot x_2^{(1)} - a_{1,3} \\cdot x_3^{(1)} - a_{1,4} \\cdot x_4^{(1)}}{a_{1,1}}$"
      ],
      "text/plain": [
       "<IPython.core.display.Math object>"
      ]
     },
     "metadata": {},
     "output_type": "display_data"
    },
    {
     "data": {
      "text/latex": [
       "$\\displaystyle x_1^{(2)} = \\frac{6 - -1\\cdot2.272727272727273 - 2\\cdot-1.1 - 0\\cdot0.75}{10} = 1.0472727272727274$"
      ],
      "text/plain": [
       "<IPython.core.display.Math object>"
      ]
     },
     "metadata": {},
     "output_type": "display_data"
    },
    {
     "data": {
      "text/latex": [
       "$\\displaystyle \\text{Vamos a calcular la 2ª componente de } X^{(2)}$"
      ],
      "text/plain": [
       "<IPython.core.display.Math object>"
      ]
     },
     "metadata": {},
     "output_type": "display_data"
    },
    {
     "data": {
      "text/latex": [
       "$\\displaystyle x_2^{(2)} = \\frac{b_2 - a_{2,1} \\cdot x_1^{(1)} - a_{2,3} \\cdot x_3^{(1)} - a_{2,4} \\cdot x_4^{(1)}}{a_{2,2}}$"
      ],
      "text/plain": [
       "<IPython.core.display.Math object>"
      ]
     },
     "metadata": {},
     "output_type": "display_data"
    },
    {
     "data": {
      "text/latex": [
       "$\\displaystyle x_2^{(2)} = \\frac{25 - -1\\cdot0.6 - -1\\cdot-1.1 - 3\\cdot0.75}{11} = 2.022727272727273$"
      ],
      "text/plain": [
       "<IPython.core.display.Math object>"
      ]
     },
     "metadata": {},
     "output_type": "display_data"
    },
    {
     "data": {
      "text/latex": [
       "$\\displaystyle \\text{Vamos a calcular la 3ª componente de } X^{(2)}$"
      ],
      "text/plain": [
       "<IPython.core.display.Math object>"
      ]
     },
     "metadata": {},
     "output_type": "display_data"
    },
    {
     "data": {
      "text/latex": [
       "$\\displaystyle x_3^{(2)} = \\frac{b_3 - a_{3,1} \\cdot x_1^{(1)} - a_{3,2} \\cdot x_2^{(1)} - a_{3,4} \\cdot x_4^{(1)}}{a_{3,3}}$"
      ],
      "text/plain": [
       "<IPython.core.display.Math object>"
      ]
     },
     "metadata": {},
     "output_type": "display_data"
    },
    {
     "data": {
      "text/latex": [
       "$\\displaystyle x_3^{(2)} = \\frac{-11 - 2\\cdot0.6 - -1\\cdot2.272727272727273 - 5\\cdot0.75}{10} = -1.3677272727272727$"
      ],
      "text/plain": [
       "<IPython.core.display.Math object>"
      ]
     },
     "metadata": {},
     "output_type": "display_data"
    },
    {
     "data": {
      "text/latex": [
       "$\\displaystyle \\text{Vamos a calcular la 4ª componente de } X^{(2)}$"
      ],
      "text/plain": [
       "<IPython.core.display.Math object>"
      ]
     },
     "metadata": {},
     "output_type": "display_data"
    },
    {
     "data": {
      "text/latex": [
       "$\\displaystyle x_4^{(2)} = \\frac{b_4 - a_{4,1} \\cdot x_1^{(1)} - a_{4,2} \\cdot x_2^{(1)} - a_{4,3} \\cdot x_3^{(1)}}{a_{4,4}}$"
      ],
      "text/plain": [
       "<IPython.core.display.Math object>"
      ]
     },
     "metadata": {},
     "output_type": "display_data"
    },
    {
     "data": {
      "text/latex": [
       "$\\displaystyle x_4^{(2)} = \\frac{15 - 0\\cdot0.6 - 3\\cdot2.272727272727273 - 5\\cdot-1.1}{20} = 0.6840909090909091$"
      ],
      "text/plain": [
       "<IPython.core.display.Math object>"
      ]
     },
     "metadata": {},
     "output_type": "display_data"
    },
    {
     "data": {
      "text/latex": [
       "$\\displaystyle \\text{Evaluamos el criterio corte: } \\frac{|| X^{(2)} - X^{(1)} ||}{|| X^{(2)} ||} = 0.221123595505618 > tol = 0.0001$"
      ],
      "text/plain": [
       "<IPython.core.display.Math object>"
      ]
     },
     "metadata": {},
     "output_type": "display_data"
    },
    {
     "data": {
      "text/latex": [
       "$\\displaystyle \\text{Vamos a realizar la 3ª iteración}$"
      ],
      "text/plain": [
       "<IPython.core.display.Math object>"
      ]
     },
     "metadata": {},
     "output_type": "display_data"
    },
    {
     "data": {
      "text/latex": [
       "$\\displaystyle \\text{Vamos a calcular la 1ª componente de } X^{(3)}$"
      ],
      "text/plain": [
       "<IPython.core.display.Math object>"
      ]
     },
     "metadata": {},
     "output_type": "display_data"
    },
    {
     "data": {
      "text/latex": [
       "$\\displaystyle x_1^{(3)} = \\frac{b_1 - a_{1,2} \\cdot x_2^{(2)} - a_{1,3} \\cdot x_3^{(2)} - a_{1,4} \\cdot x_4^{(2)}}{a_{1,1}}$"
      ],
      "text/plain": [
       "<IPython.core.display.Math object>"
      ]
     },
     "metadata": {},
     "output_type": "display_data"
    },
    {
     "data": {
      "text/latex": [
       "$\\displaystyle x_1^{(3)} = \\frac{6 - -1\\cdot2.022727272727273 - 2\\cdot-1.3677272727272727 - 0\\cdot0.6840909090909091}{10} = 1.0758181818181818$"
      ],
      "text/plain": [
       "<IPython.core.display.Math object>"
      ]
     },
     "metadata": {},
     "output_type": "display_data"
    },
    {
     "data": {
      "text/latex": [
       "$\\displaystyle \\text{Vamos a calcular la 2ª componente de } X^{(3)}$"
      ],
      "text/plain": [
       "<IPython.core.display.Math object>"
      ]
     },
     "metadata": {},
     "output_type": "display_data"
    },
    {
     "data": {
      "text/latex": [
       "$\\displaystyle x_2^{(3)} = \\frac{b_2 - a_{2,1} \\cdot x_1^{(2)} - a_{2,3} \\cdot x_3^{(2)} - a_{2,4} \\cdot x_4^{(2)}}{a_{2,2}}$"
      ],
      "text/plain": [
       "<IPython.core.display.Math object>"
      ]
     },
     "metadata": {},
     "output_type": "display_data"
    },
    {
     "data": {
      "text/latex": [
       "$\\displaystyle x_2^{(3)} = \\frac{25 - -1\\cdot1.0472727272727274 - -1\\cdot-1.3677272727272727 - 3\\cdot0.6840909090909091}{11} = 2.05702479338843$"
      ],
      "text/plain": [
       "<IPython.core.display.Math object>"
      ]
     },
     "metadata": {},
     "output_type": "display_data"
    },
    {
     "data": {
      "text/latex": [
       "$\\displaystyle \\text{Vamos a calcular la 3ª componente de } X^{(3)}$"
      ],
      "text/plain": [
       "<IPython.core.display.Math object>"
      ]
     },
     "metadata": {},
     "output_type": "display_data"
    },
    {
     "data": {
      "text/latex": [
       "$\\displaystyle x_3^{(3)} = \\frac{b_3 - a_{3,1} \\cdot x_1^{(2)} - a_{3,2} \\cdot x_2^{(2)} - a_{3,4} \\cdot x_4^{(2)}}{a_{3,3}}$"
      ],
      "text/plain": [
       "<IPython.core.display.Math object>"
      ]
     },
     "metadata": {},
     "output_type": "display_data"
    },
    {
     "data": {
      "text/latex": [
       "$\\displaystyle x_3^{(3)} = \\frac{-11 - 2\\cdot1.0472727272727274 - -1\\cdot2.022727272727273 - 5\\cdot0.6840909090909091}{10} = -1.4492272727272726$"
      ],
      "text/plain": [
       "<IPython.core.display.Math object>"
      ]
     },
     "metadata": {},
     "output_type": "display_data"
    },
    {
     "data": {
      "text/latex": [
       "$\\displaystyle \\text{Vamos a calcular la 4ª componente de } X^{(3)}$"
      ],
      "text/plain": [
       "<IPython.core.display.Math object>"
      ]
     },
     "metadata": {},
     "output_type": "display_data"
    },
    {
     "data": {
      "text/latex": [
       "$\\displaystyle x_4^{(3)} = \\frac{b_4 - a_{4,1} \\cdot x_1^{(2)} - a_{4,2} \\cdot x_2^{(2)} - a_{4,3} \\cdot x_3^{(2)}}{a_{4,4}}$"
      ],
      "text/plain": [
       "<IPython.core.display.Math object>"
      ]
     },
     "metadata": {},
     "output_type": "display_data"
    },
    {
     "data": {
      "text/latex": [
       "$\\displaystyle x_4^{(3)} = \\frac{15 - 0\\cdot1.0472727272727274 - 3\\cdot2.022727272727273 - 5\\cdot-1.3677272727272727}{20} = 0.7885227272727272$"
      ],
      "text/plain": [
       "<IPython.core.display.Math object>"
      ]
     },
     "metadata": {},
     "output_type": "display_data"
    },
    {
     "data": {
      "text/latex": [
       "$\\displaystyle \\text{Evaluamos el criterio corte: } \\frac{|| X^{(3)} - X^{(2)} ||}{|| X^{(3)} ||} = 0.050768380875853725 > tol = 0.0001$"
      ],
      "text/plain": [
       "<IPython.core.display.Math object>"
      ]
     },
     "metadata": {},
     "output_type": "display_data"
    },
    {
     "data": {
      "text/latex": [
       "$\\displaystyle \\text{Vamos a realizar la 4ª iteración}$"
      ],
      "text/plain": [
       "<IPython.core.display.Math object>"
      ]
     },
     "metadata": {},
     "output_type": "display_data"
    },
    {
     "data": {
      "text/latex": [
       "$\\displaystyle \\text{Vamos a calcular la 1ª componente de } X^{(4)}$"
      ],
      "text/plain": [
       "<IPython.core.display.Math object>"
      ]
     },
     "metadata": {},
     "output_type": "display_data"
    },
    {
     "data": {
      "text/latex": [
       "$\\displaystyle x_1^{(4)} = \\frac{b_1 - a_{1,2} \\cdot x_2^{(3)} - a_{1,3} \\cdot x_3^{(3)} - a_{1,4} \\cdot x_4^{(3)}}{a_{1,1}}$"
      ],
      "text/plain": [
       "<IPython.core.display.Math object>"
      ]
     },
     "metadata": {},
     "output_type": "display_data"
    },
    {
     "data": {
      "text/latex": [
       "$\\displaystyle x_1^{(4)} = \\frac{6 - -1\\cdot2.05702479338843 - 2\\cdot-1.4492272727272726 - 0\\cdot0.7885227272727272}{10} = 1.0955479338842973$"
      ],
      "text/plain": [
       "<IPython.core.display.Math object>"
      ]
     },
     "metadata": {},
     "output_type": "display_data"
    },
    {
     "data": {
      "text/latex": [
       "$\\displaystyle \\text{Vamos a calcular la 2ª componente de } X^{(4)}$"
      ],
      "text/plain": [
       "<IPython.core.display.Math object>"
      ]
     },
     "metadata": {},
     "output_type": "display_data"
    },
    {
     "data": {
      "text/latex": [
       "$\\displaystyle x_2^{(4)} = \\frac{b_2 - a_{2,1} \\cdot x_1^{(3)} - a_{2,3} \\cdot x_3^{(3)} - a_{2,4} \\cdot x_4^{(3)}}{a_{2,2}}$"
      ],
      "text/plain": [
       "<IPython.core.display.Math object>"
      ]
     },
     "metadata": {},
     "output_type": "display_data"
    },
    {
     "data": {
      "text/latex": [
       "$\\displaystyle x_2^{(4)} = \\frac{25 - -1\\cdot1.0758181818181818 - -1\\cdot-1.4492272727272726 - 3\\cdot0.7885227272727272}{11} = 2.023729338842975$"
      ],
      "text/plain": [
       "<IPython.core.display.Math object>"
      ]
     },
     "metadata": {},
     "output_type": "display_data"
    },
    {
     "data": {
      "text/latex": [
       "$\\displaystyle \\text{Vamos a calcular la 3ª componente de } X^{(4)}$"
      ],
      "text/plain": [
       "<IPython.core.display.Math object>"
      ]
     },
     "metadata": {},
     "output_type": "display_data"
    },
    {
     "data": {
      "text/latex": [
       "$\\displaystyle x_3^{(4)} = \\frac{b_3 - a_{3,1} \\cdot x_1^{(3)} - a_{3,2} \\cdot x_2^{(3)} - a_{3,4} \\cdot x_4^{(3)}}{a_{3,3}}$"
      ],
      "text/plain": [
       "<IPython.core.display.Math object>"
      ]
     },
     "metadata": {},
     "output_type": "display_data"
    },
    {
     "data": {
      "text/latex": [
       "$\\displaystyle x_3^{(4)} = \\frac{-11 - 2\\cdot1.0758181818181818 - -1\\cdot2.05702479338843 - 5\\cdot0.7885227272727272}{10} = -1.503722520661157$"
      ],
      "text/plain": [
       "<IPython.core.display.Math object>"
      ]
     },
     "metadata": {},
     "output_type": "display_data"
    },
    {
     "data": {
      "text/latex": [
       "$\\displaystyle \\text{Vamos a calcular la 4ª componente de } X^{(4)}$"
      ],
      "text/plain": [
       "<IPython.core.display.Math object>"
      ]
     },
     "metadata": {},
     "output_type": "display_data"
    },
    {
     "data": {
      "text/latex": [
       "$\\displaystyle x_4^{(4)} = \\frac{b_4 - a_{4,1} \\cdot x_1^{(3)} - a_{4,2} \\cdot x_2^{(3)} - a_{4,3} \\cdot x_3^{(3)}}{a_{4,4}}$"
      ],
      "text/plain": [
       "<IPython.core.display.Math object>"
      ]
     },
     "metadata": {},
     "output_type": "display_data"
    },
    {
     "data": {
      "text/latex": [
       "$\\displaystyle x_4^{(4)} = \\frac{15 - 0\\cdot1.0758181818181818 - 3\\cdot2.05702479338843 - 5\\cdot-1.4492272727272726}{20} = 0.8037530991735536$"
      ],
      "text/plain": [
       "<IPython.core.display.Math object>"
      ]
     },
     "metadata": {},
     "output_type": "display_data"
    },
    {
     "data": {
      "text/latex": [
       "$\\displaystyle \\text{Evaluamos el criterio corte: } \\frac{|| X^{(4)} - X^{(3)} ||}{|| X^{(4)} ||} = 0.02692813059924358 > tol = 0.0001$"
      ],
      "text/plain": [
       "<IPython.core.display.Math object>"
      ]
     },
     "metadata": {},
     "output_type": "display_data"
    },
    {
     "data": {
      "text/latex": [
       "$\\displaystyle \\text{Vamos a realizar la 5ª iteración}$"
      ],
      "text/plain": [
       "<IPython.core.display.Math object>"
      ]
     },
     "metadata": {},
     "output_type": "display_data"
    },
    {
     "data": {
      "text/latex": [
       "$\\displaystyle \\text{Vamos a calcular la 1ª componente de } X^{(5)}$"
      ],
      "text/plain": [
       "<IPython.core.display.Math object>"
      ]
     },
     "metadata": {},
     "output_type": "display_data"
    },
    {
     "data": {
      "text/latex": [
       "$\\displaystyle x_1^{(5)} = \\frac{b_1 - a_{1,2} \\cdot x_2^{(4)} - a_{1,3} \\cdot x_3^{(4)} - a_{1,4} \\cdot x_4^{(4)}}{a_{1,1}}$"
      ],
      "text/plain": [
       "<IPython.core.display.Math object>"
      ]
     },
     "metadata": {},
     "output_type": "display_data"
    },
    {
     "data": {
      "text/latex": [
       "$\\displaystyle x_1^{(5)} = \\frac{6 - -1\\cdot2.023729338842975 - 2\\cdot-1.503722520661157 - 0\\cdot0.8037530991735536}{10} = 1.103117438016529$"
      ],
      "text/plain": [
       "<IPython.core.display.Math object>"
      ]
     },
     "metadata": {},
     "output_type": "display_data"
    },
    {
     "data": {
      "text/latex": [
       "$\\displaystyle \\text{Vamos a calcular la 2ª componente de } X^{(5)}$"
      ],
      "text/plain": [
       "<IPython.core.display.Math object>"
      ]
     },
     "metadata": {},
     "output_type": "display_data"
    },
    {
     "data": {
      "text/latex": [
       "$\\displaystyle x_2^{(5)} = \\frac{b_2 - a_{2,1} \\cdot x_1^{(4)} - a_{2,3} \\cdot x_3^{(4)} - a_{2,4} \\cdot x_4^{(4)}}{a_{2,2}}$"
      ],
      "text/plain": [
       "<IPython.core.display.Math object>"
      ]
     },
     "metadata": {},
     "output_type": "display_data"
    },
    {
     "data": {
      "text/latex": [
       "$\\displaystyle x_2^{(5)} = \\frac{25 - -1\\cdot1.0955479338842973 - -1\\cdot-1.503722520661157 - 3\\cdot0.8037530991735536}{11} = 2.0164151014274982$"
      ],
      "text/plain": [
       "<IPython.core.display.Math object>"
      ]
     },
     "metadata": {},
     "output_type": "display_data"
    },
    {
     "data": {
      "text/latex": [
       "$\\displaystyle \\text{Vamos a calcular la 3ª componente de } X^{(5)}$"
      ],
      "text/plain": [
       "<IPython.core.display.Math object>"
      ]
     },
     "metadata": {},
     "output_type": "display_data"
    },
    {
     "data": {
      "text/latex": [
       "$\\displaystyle x_3^{(5)} = \\frac{b_3 - a_{3,1} \\cdot x_1^{(4)} - a_{3,2} \\cdot x_2^{(4)} - a_{3,4} \\cdot x_4^{(4)}}{a_{3,3}}$"
      ],
      "text/plain": [
       "<IPython.core.display.Math object>"
      ]
     },
     "metadata": {},
     "output_type": "display_data"
    },
    {
     "data": {
      "text/latex": [
       "$\\displaystyle x_3^{(5)} = \\frac{-11 - 2\\cdot1.0955479338842973 - -1\\cdot2.023729338842975 - 5\\cdot0.8037530991735536}{10} = -1.5186132024793388$"
      ],
      "text/plain": [
       "<IPython.core.display.Math object>"
      ]
     },
     "metadata": {},
     "output_type": "display_data"
    },
    {
     "data": {
      "text/latex": [
       "$\\displaystyle \\text{Vamos a calcular la 4ª componente de } X^{(5)}$"
      ],
      "text/plain": [
       "<IPython.core.display.Math object>"
      ]
     },
     "metadata": {},
     "output_type": "display_data"
    },
    {
     "data": {
      "text/latex": [
       "$\\displaystyle x_4^{(5)} = \\frac{b_4 - a_{4,1} \\cdot x_1^{(4)} - a_{4,2} \\cdot x_2^{(4)} - a_{4,3} \\cdot x_3^{(4)}}{a_{4,4}}$"
      ],
      "text/plain": [
       "<IPython.core.display.Math object>"
      ]
     },
     "metadata": {},
     "output_type": "display_data"
    },
    {
     "data": {
      "text/latex": [
       "$\\displaystyle x_4^{(5)} = \\frac{15 - 0\\cdot1.0955479338842973 - 3\\cdot2.023729338842975 - 5\\cdot-1.503722520661157}{20} = 0.8223712293388431$"
      ],
      "text/plain": [
       "<IPython.core.display.Math object>"
      ]
     },
     "metadata": {},
     "output_type": "display_data"
    },
    {
     "data": {
      "text/latex": [
       "$\\displaystyle \\text{Evaluamos el criterio corte: } \\frac{|| X^{(5)} - X^{(4)} ||}{|| X^{(5)} ||} = 0.009233282448692714 > tol = 0.0001$"
      ],
      "text/plain": [
       "<IPython.core.display.Math object>"
      ]
     },
     "metadata": {},
     "output_type": "display_data"
    },
    {
     "data": {
      "text/latex": [
       "$\\displaystyle \\text{Vamos a realizar la 6ª iteración}$"
      ],
      "text/plain": [
       "<IPython.core.display.Math object>"
      ]
     },
     "metadata": {},
     "output_type": "display_data"
    },
    {
     "data": {
      "text/latex": [
       "$\\displaystyle \\text{Vamos a calcular la 1ª componente de } X^{(6)}$"
      ],
      "text/plain": [
       "<IPython.core.display.Math object>"
      ]
     },
     "metadata": {},
     "output_type": "display_data"
    },
    {
     "data": {
      "text/latex": [
       "$\\displaystyle x_1^{(6)} = \\frac{b_1 - a_{1,2} \\cdot x_2^{(5)} - a_{1,3} \\cdot x_3^{(5)} - a_{1,4} \\cdot x_4^{(5)}}{a_{1,1}}$"
      ],
      "text/plain": [
       "<IPython.core.display.Math object>"
      ]
     },
     "metadata": {},
     "output_type": "display_data"
    },
    {
     "data": {
      "text/latex": [
       "$\\displaystyle x_1^{(6)} = \\frac{6 - -1\\cdot2.0164151014274982 - 2\\cdot-1.5186132024793388 - 0\\cdot0.8223712293388431}{10} = 1.1053641506386174$"
      ],
      "text/plain": [
       "<IPython.core.display.Math object>"
      ]
     },
     "metadata": {},
     "output_type": "display_data"
    },
    {
     "data": {
      "text/latex": [
       "$\\displaystyle \\text{Vamos a calcular la 2ª componente de } X^{(6)}$"
      ],
      "text/plain": [
       "<IPython.core.display.Math object>"
      ]
     },
     "metadata": {},
     "output_type": "display_data"
    },
    {
     "data": {
      "text/latex": [
       "$\\displaystyle x_2^{(6)} = \\frac{b_2 - a_{2,1} \\cdot x_1^{(5)} - a_{2,3} \\cdot x_3^{(5)} - a_{2,4} \\cdot x_4^{(5)}}{a_{2,2}}$"
      ],
      "text/plain": [
       "<IPython.core.display.Math object>"
      ]
     },
     "metadata": {},
     "output_type": "display_data"
    },
    {
     "data": {
      "text/latex": [
       "$\\displaystyle x_2^{(6)} = \\frac{25 - -1\\cdot1.103117438016529 - -1\\cdot-1.5186132024793388 - 3\\cdot0.8223712293388431}{11} = 2.0106718679564235$"
      ],
      "text/plain": [
       "<IPython.core.display.Math object>"
      ]
     },
     "metadata": {},
     "output_type": "display_data"
    },
    {
     "data": {
      "text/latex": [
       "$\\displaystyle \\text{Vamos a calcular la 3ª componente de } X^{(6)}$"
      ],
      "text/plain": [
       "<IPython.core.display.Math object>"
      ]
     },
     "metadata": {},
     "output_type": "display_data"
    },
    {
     "data": {
      "text/latex": [
       "$\\displaystyle x_3^{(6)} = \\frac{b_3 - a_{3,1} \\cdot x_1^{(5)} - a_{3,2} \\cdot x_2^{(5)} - a_{3,4} \\cdot x_4^{(5)}}{a_{3,3}}$"
      ],
      "text/plain": [
       "<IPython.core.display.Math object>"
      ]
     },
     "metadata": {},
     "output_type": "display_data"
    },
    {
     "data": {
      "text/latex": [
       "$\\displaystyle x_3^{(6)} = \\frac{-11 - 2\\cdot1.103117438016529 - -1\\cdot2.0164151014274982 - 5\\cdot0.8223712293388431}{10} = -1.5301675921299775$"
      ],
      "text/plain": [
       "<IPython.core.display.Math object>"
      ]
     },
     "metadata": {},
     "output_type": "display_data"
    },
    {
     "data": {
      "text/latex": [
       "$\\displaystyle \\text{Vamos a calcular la 4ª componente de } X^{(6)}$"
      ],
      "text/plain": [
       "<IPython.core.display.Math object>"
      ]
     },
     "metadata": {},
     "output_type": "display_data"
    },
    {
     "data": {
      "text/latex": [
       "$\\displaystyle x_4^{(6)} = \\frac{b_4 - a_{4,1} \\cdot x_1^{(5)} - a_{4,2} \\cdot x_2^{(5)} - a_{4,3} \\cdot x_3^{(5)}}{a_{4,4}}$"
      ],
      "text/plain": [
       "<IPython.core.display.Math object>"
      ]
     },
     "metadata": {},
     "output_type": "display_data"
    },
    {
     "data": {
      "text/latex": [
       "$\\displaystyle x_4^{(6)} = \\frac{15 - 0\\cdot1.103117438016529 - 3\\cdot2.0164151014274982 - 5\\cdot-1.5186132024793388}{20} = 0.8271910354057098$"
      ],
      "text/plain": [
       "<IPython.core.display.Math object>"
      ]
     },
     "metadata": {},
     "output_type": "display_data"
    },
    {
     "data": {
      "text/latex": [
       "$\\displaystyle \\text{Evaluamos el criterio corte: } \\frac{|| X^{(6)} - X^{(5)} ||}{|| X^{(6)} ||} = 0.0057465317115030735 > tol = 0.0001$"
      ],
      "text/plain": [
       "<IPython.core.display.Math object>"
      ]
     },
     "metadata": {},
     "output_type": "display_data"
    },
    {
     "data": {
      "text/latex": [
       "$\\displaystyle \\text{Vamos a realizar la 7ª iteración}$"
      ],
      "text/plain": [
       "<IPython.core.display.Math object>"
      ]
     },
     "metadata": {},
     "output_type": "display_data"
    },
    {
     "data": {
      "text/latex": [
       "$\\displaystyle \\text{Vamos a calcular la 1ª componente de } X^{(7)}$"
      ],
      "text/plain": [
       "<IPython.core.display.Math object>"
      ]
     },
     "metadata": {},
     "output_type": "display_data"
    },
    {
     "data": {
      "text/latex": [
       "$\\displaystyle x_1^{(7)} = \\frac{b_1 - a_{1,2} \\cdot x_2^{(6)} - a_{1,3} \\cdot x_3^{(6)} - a_{1,4} \\cdot x_4^{(6)}}{a_{1,1}}$"
      ],
      "text/plain": [
       "<IPython.core.display.Math object>"
      ]
     },
     "metadata": {},
     "output_type": "display_data"
    },
    {
     "data": {
      "text/latex": [
       "$\\displaystyle x_1^{(7)} = \\frac{6 - -1\\cdot2.0106718679564235 - 2\\cdot-1.5301675921299775 - 0\\cdot0.8271910354057098}{10} = 1.107100705221638$"
      ],
      "text/plain": [
       "<IPython.core.display.Math object>"
      ]
     },
     "metadata": {},
     "output_type": "display_data"
    },
    {
     "data": {
      "text/latex": [
       "$\\displaystyle \\text{Vamos a calcular la 2ª componente de } X^{(7)}$"
      ],
      "text/plain": [
       "<IPython.core.display.Math object>"
      ]
     },
     "metadata": {},
     "output_type": "display_data"
    },
    {
     "data": {
      "text/latex": [
       "$\\displaystyle x_2^{(7)} = \\frac{b_2 - a_{2,1} \\cdot x_1^{(6)} - a_{2,3} \\cdot x_3^{(6)} - a_{2,4} \\cdot x_4^{(6)}}{a_{2,2}}$"
      ],
      "text/plain": [
       "<IPython.core.display.Math object>"
      ]
     },
     "metadata": {},
     "output_type": "display_data"
    },
    {
     "data": {
      "text/latex": [
       "$\\displaystyle x_2^{(7)} = \\frac{25 - -1\\cdot1.1053641506386174 - -1\\cdot-1.5301675921299775 - 3\\cdot0.8271910354057098}{11} = 2.0085112229355917$"
      ],
      "text/plain": [
       "<IPython.core.display.Math object>"
      ]
     },
     "metadata": {},
     "output_type": "display_data"
    },
    {
     "data": {
      "text/latex": [
       "$\\displaystyle \\text{Vamos a calcular la 3ª componente de } X^{(7)}$"
      ],
      "text/plain": [
       "<IPython.core.display.Math object>"
      ]
     },
     "metadata": {},
     "output_type": "display_data"
    },
    {
     "data": {
      "text/latex": [
       "$\\displaystyle x_3^{(7)} = \\frac{b_3 - a_{3,1} \\cdot x_1^{(6)} - a_{3,2} \\cdot x_2^{(6)} - a_{3,4} \\cdot x_4^{(6)}}{a_{3,3}}$"
      ],
      "text/plain": [
       "<IPython.core.display.Math object>"
      ]
     },
     "metadata": {},
     "output_type": "display_data"
    },
    {
     "data": {
      "text/latex": [
       "$\\displaystyle x_3^{(7)} = \\frac{-11 - 2\\cdot1.1053641506386174 - -1\\cdot2.0106718679564235 - 5\\cdot0.8271910354057098}{10} = -1.533601161034936$"
      ],
      "text/plain": [
       "<IPython.core.display.Math object>"
      ]
     },
     "metadata": {},
     "output_type": "display_data"
    },
    {
     "data": {
      "text/latex": [
       "$\\displaystyle \\text{Vamos a calcular la 4ª componente de } X^{(7)}$"
      ],
      "text/plain": [
       "<IPython.core.display.Math object>"
      ]
     },
     "metadata": {},
     "output_type": "display_data"
    },
    {
     "data": {
      "text/latex": [
       "$\\displaystyle x_4^{(7)} = \\frac{b_4 - a_{4,1} \\cdot x_1^{(6)} - a_{4,2} \\cdot x_2^{(6)} - a_{4,3} \\cdot x_3^{(6)}}{a_{4,4}}$"
      ],
      "text/plain": [
       "<IPython.core.display.Math object>"
      ]
     },
     "metadata": {},
     "output_type": "display_data"
    },
    {
     "data": {
      "text/latex": [
       "$\\displaystyle x_4^{(7)} = \\frac{15 - 0\\cdot1.1053641506386174 - 3\\cdot2.0106718679564235 - 5\\cdot-1.5301675921299775}{20} = 0.8309411178390309$"
      ],
      "text/plain": [
       "<IPython.core.display.Math object>"
      ]
     },
     "metadata": {},
     "output_type": "display_data"
    },
    {
     "data": {
      "text/latex": [
       "$\\displaystyle \\text{Evaluamos el criterio corte: } \\frac{|| X^{(7)} - X^{(6)} ||}{|| X^{(7)} ||} = 0.0018670955832848467 > tol = 0.0001$"
      ],
      "text/plain": [
       "<IPython.core.display.Math object>"
      ]
     },
     "metadata": {},
     "output_type": "display_data"
    },
    {
     "data": {
      "text/latex": [
       "$\\displaystyle \\text{Vamos a realizar la 8ª iteración}$"
      ],
      "text/plain": [
       "<IPython.core.display.Math object>"
      ]
     },
     "metadata": {},
     "output_type": "display_data"
    },
    {
     "data": {
      "text/latex": [
       "$\\displaystyle \\text{Vamos a calcular la 1ª componente de } X^{(8)}$"
      ],
      "text/plain": [
       "<IPython.core.display.Math object>"
      ]
     },
     "metadata": {},
     "output_type": "display_data"
    },
    {
     "data": {
      "text/latex": [
       "$\\displaystyle x_1^{(8)} = \\frac{b_1 - a_{1,2} \\cdot x_2^{(7)} - a_{1,3} \\cdot x_3^{(7)} - a_{1,4} \\cdot x_4^{(7)}}{a_{1,1}}$"
      ],
      "text/plain": [
       "<IPython.core.display.Math object>"
      ]
     },
     "metadata": {},
     "output_type": "display_data"
    },
    {
     "data": {
      "text/latex": [
       "$\\displaystyle x_1^{(8)} = \\frac{6 - -1\\cdot2.0085112229355917 - 2\\cdot-1.533601161034936 - 0\\cdot0.8309411178390309}{10} = 1.1075713545005463$"
      ],
      "text/plain": [
       "<IPython.core.display.Math object>"
      ]
     },
     "metadata": {},
     "output_type": "display_data"
    },
    {
     "data": {
      "text/latex": [
       "$\\displaystyle \\text{Vamos a calcular la 2ª componente de } X^{(8)}$"
      ],
      "text/plain": [
       "<IPython.core.display.Math object>"
      ]
     },
     "metadata": {},
     "output_type": "display_data"
    },
    {
     "data": {
      "text/latex": [
       "$\\displaystyle x_2^{(8)} = \\frac{b_2 - a_{2,1} \\cdot x_1^{(7)} - a_{2,3} \\cdot x_3^{(7)} - a_{2,4} \\cdot x_4^{(7)}}{a_{2,2}}$"
      ],
      "text/plain": [
       "<IPython.core.display.Math object>"
      ]
     },
     "metadata": {},
     "output_type": "display_data"
    },
    {
     "data": {
      "text/latex": [
       "$\\displaystyle x_2^{(8)} = \\frac{25 - -1\\cdot1.107100705221638 - -1\\cdot-1.533601161034936 - 3\\cdot0.8309411178390309}{11} = 2.0073341991517824$"
      ],
      "text/plain": [
       "<IPython.core.display.Math object>"
      ]
     },
     "metadata": {},
     "output_type": "display_data"
    },
    {
     "data": {
      "text/latex": [
       "$\\displaystyle \\text{Vamos a calcular la 3ª componente de } X^{(8)}$"
      ],
      "text/plain": [
       "<IPython.core.display.Math object>"
      ]
     },
     "metadata": {},
     "output_type": "display_data"
    },
    {
     "data": {
      "text/latex": [
       "$\\displaystyle x_3^{(8)} = \\frac{b_3 - a_{3,1} \\cdot x_1^{(7)} - a_{3,2} \\cdot x_2^{(7)} - a_{3,4} \\cdot x_4^{(7)}}{a_{3,3}}$"
      ],
      "text/plain": [
       "<IPython.core.display.Math object>"
      ]
     },
     "metadata": {},
     "output_type": "display_data"
    },
    {
     "data": {
      "text/latex": [
       "$\\displaystyle x_3^{(8)} = \\frac{-11 - 2\\cdot1.107100705221638 - -1\\cdot2.0085112229355917 - 5\\cdot0.8309411178390309}{10} = -1.536039577670284$"
      ],
      "text/plain": [
       "<IPython.core.display.Math object>"
      ]
     },
     "metadata": {},
     "output_type": "display_data"
    },
    {
     "data": {
      "text/latex": [
       "$\\displaystyle \\text{Vamos a calcular la 4ª componente de } X^{(8)}$"
      ],
      "text/plain": [
       "<IPython.core.display.Math object>"
      ]
     },
     "metadata": {},
     "output_type": "display_data"
    },
    {
     "data": {
      "text/latex": [
       "$\\displaystyle x_4^{(8)} = \\frac{b_4 - a_{4,1} \\cdot x_1^{(7)} - a_{4,2} \\cdot x_2^{(7)} - a_{4,3} \\cdot x_3^{(7)}}{a_{4,4}}$"
      ],
      "text/plain": [
       "<IPython.core.display.Math object>"
      ]
     },
     "metadata": {},
     "output_type": "display_data"
    },
    {
     "data": {
      "text/latex": [
       "$\\displaystyle x_4^{(8)} = \\frac{15 - 0\\cdot1.107100705221638 - 3\\cdot2.0085112229355917 - 5\\cdot-1.533601161034936}{20} = 0.8321236068183954$"
      ],
      "text/plain": [
       "<IPython.core.display.Math object>"
      ]
     },
     "metadata": {},
     "output_type": "display_data"
    },
    {
     "data": {
      "text/latex": [
       "$\\displaystyle \\text{Evaluamos el criterio corte: } \\frac{|| X^{(8)} - X^{(7)} ||}{|| X^{(8)} ||} = 0.0012147536949145366 > tol = 0.0001$"
      ],
      "text/plain": [
       "<IPython.core.display.Math object>"
      ]
     },
     "metadata": {},
     "output_type": "display_data"
    },
    {
     "data": {
      "text/latex": [
       "$\\displaystyle \\text{Vamos a realizar la 9ª iteración}$"
      ],
      "text/plain": [
       "<IPython.core.display.Math object>"
      ]
     },
     "metadata": {},
     "output_type": "display_data"
    },
    {
     "data": {
      "text/latex": [
       "$\\displaystyle \\text{Vamos a calcular la 1ª componente de } X^{(9)}$"
      ],
      "text/plain": [
       "<IPython.core.display.Math object>"
      ]
     },
     "metadata": {},
     "output_type": "display_data"
    },
    {
     "data": {
      "text/latex": [
       "$\\displaystyle x_1^{(9)} = \\frac{b_1 - a_{1,2} \\cdot x_2^{(8)} - a_{1,3} \\cdot x_3^{(8)} - a_{1,4} \\cdot x_4^{(8)}}{a_{1,1}}$"
      ],
      "text/plain": [
       "<IPython.core.display.Math object>"
      ]
     },
     "metadata": {},
     "output_type": "display_data"
    },
    {
     "data": {
      "text/latex": [
       "$\\displaystyle x_1^{(9)} = \\frac{6 - -1\\cdot2.0073341991517824 - 2\\cdot-1.536039577670284 - 0\\cdot0.8321236068183954}{10} = 1.107941335449235$"
      ],
      "text/plain": [
       "<IPython.core.display.Math object>"
      ]
     },
     "metadata": {},
     "output_type": "display_data"
    },
    {
     "data": {
      "text/latex": [
       "$\\displaystyle \\text{Vamos a calcular la 2ª componente de } X^{(9)}$"
      ],
      "text/plain": [
       "<IPython.core.display.Math object>"
      ]
     },
     "metadata": {},
     "output_type": "display_data"
    },
    {
     "data": {
      "text/latex": [
       "$\\displaystyle x_2^{(9)} = \\frac{b_2 - a_{2,1} \\cdot x_1^{(8)} - a_{2,3} \\cdot x_3^{(8)} - a_{2,4} \\cdot x_4^{(8)}}{a_{2,2}}$"
      ],
      "text/plain": [
       "<IPython.core.display.Math object>"
      ]
     },
     "metadata": {},
     "output_type": "display_data"
    },
    {
     "data": {
      "text/latex": [
       "$\\displaystyle x_2^{(9)} = \\frac{25 - -1\\cdot1.1075713545005463 - -1\\cdot-1.536039577670284 - 3\\cdot0.8321236068183954}{11} = 2.0068328142159158$"
      ],
      "text/plain": [
       "<IPython.core.display.Math object>"
      ]
     },
     "metadata": {},
     "output_type": "display_data"
    },
    {
     "data": {
      "text/latex": [
       "$\\displaystyle \\text{Vamos a calcular la 3ª componente de } X^{(9)}$"
      ],
      "text/plain": [
       "<IPython.core.display.Math object>"
      ]
     },
     "metadata": {},
     "output_type": "display_data"
    },
    {
     "data": {
      "text/latex": [
       "$\\displaystyle x_3^{(9)} = \\frac{b_3 - a_{3,1} \\cdot x_1^{(8)} - a_{3,2} \\cdot x_2^{(8)} - a_{3,4} \\cdot x_4^{(8)}}{a_{3,3}}$"
      ],
      "text/plain": [
       "<IPython.core.display.Math object>"
      ]
     },
     "metadata": {},
     "output_type": "display_data"
    },
    {
     "data": {
      "text/latex": [
       "$\\displaystyle x_3^{(9)} = \\frac{-11 - 2\\cdot1.1075713545005463 - -1\\cdot2.0073341991517824 - 5\\cdot0.8321236068183954}{10} = -1.5368426543941287$"
      ],
      "text/plain": [
       "<IPython.core.display.Math object>"
      ]
     },
     "metadata": {},
     "output_type": "display_data"
    },
    {
     "data": {
      "text/latex": [
       "$\\displaystyle \\text{Vamos a calcular la 4ª componente de } X^{(9)}$"
      ],
      "text/plain": [
       "<IPython.core.display.Math object>"
      ]
     },
     "metadata": {},
     "output_type": "display_data"
    },
    {
     "data": {
      "text/latex": [
       "$\\displaystyle x_4^{(9)} = \\frac{b_4 - a_{4,1} \\cdot x_1^{(8)} - a_{4,2} \\cdot x_2^{(8)} - a_{4,3} \\cdot x_3^{(8)}}{a_{4,4}}$"
      ],
      "text/plain": [
       "<IPython.core.display.Math object>"
      ]
     },
     "metadata": {},
     "output_type": "display_data"
    },
    {
     "data": {
      "text/latex": [
       "$\\displaystyle x_4^{(9)} = \\frac{15 - 0\\cdot1.1075713545005463 - 3\\cdot2.0073341991517824 - 5\\cdot-1.536039577670284}{20} = 0.8329097645448036$"
      ],
      "text/plain": [
       "<IPython.core.display.Math object>"
      ]
     },
     "metadata": {},
     "output_type": "display_data"
    },
    {
     "data": {
      "text/latex": [
       "$\\displaystyle \\text{Evaluamos el criterio corte: } \\frac{|| X^{(9)} - X^{(8)} ||}{|| X^{(9)} ||} = 0.0004001712141419653 > tol = 0.0001$"
      ],
      "text/plain": [
       "<IPython.core.display.Math object>"
      ]
     },
     "metadata": {},
     "output_type": "display_data"
    },
    {
     "data": {
      "text/latex": [
       "$\\displaystyle \\text{Vamos a realizar la 10ª iteración}$"
      ],
      "text/plain": [
       "<IPython.core.display.Math object>"
      ]
     },
     "metadata": {},
     "output_type": "display_data"
    },
    {
     "data": {
      "text/latex": [
       "$\\displaystyle \\text{Vamos a calcular la 1ª componente de } X^{(10)}$"
      ],
      "text/plain": [
       "<IPython.core.display.Math object>"
      ]
     },
     "metadata": {},
     "output_type": "display_data"
    },
    {
     "data": {
      "text/latex": [
       "$\\displaystyle x_1^{(10)} = \\frac{b_1 - a_{1,2} \\cdot x_2^{(9)} - a_{1,3} \\cdot x_3^{(9)} - a_{1,4} \\cdot x_4^{(9)}}{a_{1,1}}$"
      ],
      "text/plain": [
       "<IPython.core.display.Math object>"
      ]
     },
     "metadata": {},
     "output_type": "display_data"
    },
    {
     "data": {
      "text/latex": [
       "$\\displaystyle x_1^{(10)} = \\frac{6 - -1\\cdot2.0068328142159158 - 2\\cdot-1.5368426543941287 - 0\\cdot0.8329097645448036}{10} = 1.1080518123004173$"
      ],
      "text/plain": [
       "<IPython.core.display.Math object>"
      ]
     },
     "metadata": {},
     "output_type": "display_data"
    },
    {
     "data": {
      "text/latex": [
       "$\\displaystyle \\text{Vamos a calcular la 2ª componente de } X^{(10)}$"
      ],
      "text/plain": [
       "<IPython.core.display.Math object>"
      ]
     },
     "metadata": {},
     "output_type": "display_data"
    },
    {
     "data": {
      "text/latex": [
       "$\\displaystyle x_2^{(10)} = \\frac{b_2 - a_{2,1} \\cdot x_1^{(9)} - a_{2,3} \\cdot x_3^{(9)} - a_{2,4} \\cdot x_4^{(9)}}{a_{2,2}}$"
      ],
      "text/plain": [
       "<IPython.core.display.Math object>"
      ]
     },
     "metadata": {},
     "output_type": "display_data"
    },
    {
     "data": {
      "text/latex": [
       "$\\displaystyle x_2^{(10)} = \\frac{25 - -1\\cdot1.107941335449235 - -1\\cdot-1.5368426543941287 - 3\\cdot0.8329097645448036}{11} = 2.006579035220063$"
      ],
      "text/plain": [
       "<IPython.core.display.Math object>"
      ]
     },
     "metadata": {},
     "output_type": "display_data"
    },
    {
     "data": {
      "text/latex": [
       "$\\displaystyle \\text{Vamos a calcular la 3ª componente de } X^{(10)}$"
      ],
      "text/plain": [
       "<IPython.core.display.Math object>"
      ]
     },
     "metadata": {},
     "output_type": "display_data"
    },
    {
     "data": {
      "text/latex": [
       "$\\displaystyle x_3^{(10)} = \\frac{b_3 - a_{3,1} \\cdot x_1^{(9)} - a_{3,2} \\cdot x_2^{(9)} - a_{3,4} \\cdot x_4^{(9)}}{a_{3,3}}$"
      ],
      "text/plain": [
       "<IPython.core.display.Math object>"
      ]
     },
     "metadata": {},
     "output_type": "display_data"
    },
    {
     "data": {
      "text/latex": [
       "$\\displaystyle x_3^{(10)} = \\frac{-11 - 2\\cdot1.107941335449235 - -1\\cdot2.0068328142159158 - 5\\cdot0.8329097645448036}{10} = -1.5373598679406573$"
      ],
      "text/plain": [
       "<IPython.core.display.Math object>"
      ]
     },
     "metadata": {},
     "output_type": "display_data"
    },
    {
     "data": {
      "text/latex": [
       "$\\displaystyle \\text{Vamos a calcular la 4ª componente de } X^{(10)}$"
      ],
      "text/plain": [
       "<IPython.core.display.Math object>"
      ]
     },
     "metadata": {},
     "output_type": "display_data"
    },
    {
     "data": {
      "text/latex": [
       "$\\displaystyle x_4^{(10)} = \\frac{b_4 - a_{4,1} \\cdot x_1^{(9)} - a_{4,2} \\cdot x_2^{(9)} - a_{4,3} \\cdot x_3^{(9)}}{a_{4,4}}$"
      ],
      "text/plain": [
       "<IPython.core.display.Math object>"
      ]
     },
     "metadata": {},
     "output_type": "display_data"
    },
    {
     "data": {
      "text/latex": [
       "$\\displaystyle x_4^{(10)} = \\frac{15 - 0\\cdot1.107941335449235 - 3\\cdot2.0068328142159158 - 5\\cdot-1.5368426543941287}{20} = 0.8331857414661448$"
      ],
      "text/plain": [
       "<IPython.core.display.Math object>"
      ]
     },
     "metadata": {},
     "output_type": "display_data"
    },
    {
     "data": {
      "text/latex": [
       "$\\displaystyle \\text{Evaluamos el criterio corte: } \\frac{|| X^{(10)} - X^{(9)} ||}{|| X^{(10)} ||} = 0.00025775887091924977 > tol = 0.0001$"
      ],
      "text/plain": [
       "<IPython.core.display.Math object>"
      ]
     },
     "metadata": {},
     "output_type": "display_data"
    },
    {
     "data": {
      "text/latex": [
       "$\\displaystyle \\text{Vamos a realizar la 11ª iteración}$"
      ],
      "text/plain": [
       "<IPython.core.display.Math object>"
      ]
     },
     "metadata": {},
     "output_type": "display_data"
    },
    {
     "data": {
      "text/latex": [
       "$\\displaystyle \\text{Vamos a calcular la 1ª componente de } X^{(11)}$"
      ],
      "text/plain": [
       "<IPython.core.display.Math object>"
      ]
     },
     "metadata": {},
     "output_type": "display_data"
    },
    {
     "data": {
      "text/latex": [
       "$\\displaystyle x_1^{(11)} = \\frac{b_1 - a_{1,2} \\cdot x_2^{(10)} - a_{1,3} \\cdot x_3^{(10)} - a_{1,4} \\cdot x_4^{(10)}}{a_{1,1}}$"
      ],
      "text/plain": [
       "<IPython.core.display.Math object>"
      ]
     },
     "metadata": {},
     "output_type": "display_data"
    },
    {
     "data": {
      "text/latex": [
       "$\\displaystyle x_1^{(11)} = \\frac{6 - -1\\cdot2.006579035220063 - 2\\cdot-1.5373598679406573 - 0\\cdot0.8331857414661448}{10} = 1.1081298771101378$"
      ],
      "text/plain": [
       "<IPython.core.display.Math object>"
      ]
     },
     "metadata": {},
     "output_type": "display_data"
    },
    {
     "data": {
      "text/latex": [
       "$\\displaystyle \\text{Vamos a calcular la 2ª componente de } X^{(11)}$"
      ],
      "text/plain": [
       "<IPython.core.display.Math object>"
      ]
     },
     "metadata": {},
     "output_type": "display_data"
    },
    {
     "data": {
      "text/latex": [
       "$\\displaystyle x_2^{(11)} = \\frac{b_2 - a_{2,1} \\cdot x_1^{(10)} - a_{2,3} \\cdot x_3^{(10)} - a_{2,4} \\cdot x_4^{(10)}}{a_{2,2}}$"
      ],
      "text/plain": [
       "<IPython.core.display.Math object>"
      ]
     },
     "metadata": {},
     "output_type": "display_data"
    },
    {
     "data": {
      "text/latex": [
       "$\\displaystyle x_2^{(11)} = \\frac{25 - -1\\cdot1.1080518123004173 - -1\\cdot-1.5373598679406573 - 3\\cdot0.8331857414661448}{11} = 2.006466792723757$"
      ],
      "text/plain": [
       "<IPython.core.display.Math object>"
      ]
     },
     "metadata": {},
     "output_type": "display_data"
    },
    {
     "data": {
      "text/latex": [
       "$\\displaystyle \\text{Vamos a calcular la 3ª componente de } X^{(11)}$"
      ],
      "text/plain": [
       "<IPython.core.display.Math object>"
      ]
     },
     "metadata": {},
     "output_type": "display_data"
    },
    {
     "data": {
      "text/latex": [
       "$\\displaystyle x_3^{(11)} = \\frac{b_3 - a_{3,1} \\cdot x_1^{(10)} - a_{3,2} \\cdot x_2^{(10)} - a_{3,4} \\cdot x_4^{(10)}}{a_{3,3}}$"
      ],
      "text/plain": [
       "<IPython.core.display.Math object>"
      ]
     },
     "metadata": {},
     "output_type": "display_data"
    },
    {
     "data": {
      "text/latex": [
       "$\\displaystyle x_3^{(11)} = \\frac{-11 - 2\\cdot1.1080518123004173 - -1\\cdot2.006579035220063 - 5\\cdot0.8331857414661448}{10} = -1.5375453296711494$"
      ],
      "text/plain": [
       "<IPython.core.display.Math object>"
      ]
     },
     "metadata": {},
     "output_type": "display_data"
    },
    {
     "data": {
      "text/latex": [
       "$\\displaystyle \\text{Vamos a calcular la 4ª componente de } X^{(11)}$"
      ],
      "text/plain": [
       "<IPython.core.display.Math object>"
      ]
     },
     "metadata": {},
     "output_type": "display_data"
    },
    {
     "data": {
      "text/latex": [
       "$\\displaystyle x_4^{(11)} = \\frac{b_4 - a_{4,1} \\cdot x_1^{(10)} - a_{4,2} \\cdot x_2^{(10)} - a_{4,3} \\cdot x_3^{(10)}}{a_{4,4}}$"
      ],
      "text/plain": [
       "<IPython.core.display.Math object>"
      ]
     },
     "metadata": {},
     "output_type": "display_data"
    },
    {
     "data": {
      "text/latex": [
       "$\\displaystyle x_4^{(11)} = \\frac{15 - 0\\cdot1.1080518123004173 - 3\\cdot2.006579035220063 - 5\\cdot-1.5373598679406573}{20} = 0.8333531117021549$"
      ],
      "text/plain": [
       "<IPython.core.display.Math object>"
      ]
     },
     "metadata": {},
     "output_type": "display_data"
    },
    {
     "data": {
      "text/latex": [
       "$\\displaystyle \\text{Evaluamos el criterio corte: } \\frac{|| X^{(11)} - X^{(10)} ||}{|| X^{(11)} ||} = 9.243199596660274e-05 \\leq tol = 0.0001$"
      ],
      "text/plain": [
       "<IPython.core.display.Math object>"
      ]
     },
     "metadata": {},
     "output_type": "display_data"
    },
    {
     "data": {
      "text/latex": [
       "$\\displaystyle \\text{Y hemos encontrado nuestra solución aproximada: } X^{(11)} = \\begin{bmatrix}1.1081298771101378\\\\2.006466792723757\\\\-1.5375453296711494\\\\0.8333531117021549\\\\\\end{bmatrix}$"
      ],
      "text/plain": [
       "<IPython.core.display.Math object>"
      ]
     },
     "metadata": {},
     "output_type": "display_data"
    },
    {
     "data": {
      "text/plain": [
       "array([ 1.10812988,  2.00646679, -1.53754533,  0.83335311])"
      ]
     },
     "execution_count": 6,
     "metadata": {},
     "output_type": "execute_result"
    }
   ],
   "source": [
    "resolverJacobi(A,B,10**-4)"
   ]
  },
  {
   "cell_type": "markdown",
   "metadata": {
    "hideCode": false,
    "hidePrompt": false,
    "slideshow": {
     "slide_type": "slide"
    }
   },
   "source": [
    "### Metodo de Gauss Seidel:\n",
    "\n",
    "Analizando la expresión de Jacobi vemos que la primer sumatoria que aparece en el numerador usa valores de $X^{(k)}$ cuando podría estar usando los de $X^{(k+1)}$ que se van calculando en cada iteración. \n",
    "\n",
    "$$x_i^{(k+1)} = \\frac{b_i-\\sum_{j=1}^{i-1}{a_{i,j}\\cdot x_j^{(k)}} - \\sum_{j=i+1}^{n}{a_{i,j}\\cdot x_j^{(k)}}}{a_{i,i}}$$"
   ]
  },
  {
   "cell_type": "markdown",
   "metadata": {
    "slideshow": {
     "slide_type": "fragment"
    }
   },
   "source": [
    "Si aplicamos esa modificación, llegamos al Método de Gauss Seidel: \n",
    "\n",
    "$$x_i^{(k+1)} = \\frac{b_i-\\sum_{j=1}^{i-1}{a_{i,j}\\cdot x_j^{(k+1)}} - \\sum_{j=i+1}^{n}{a_{i,j}\\cdot x_j^{(k)}}}{a_{i,i}}$$\n"
   ]
  },
  {
   "cell_type": "markdown",
   "metadata": {
    "slideshow": {
     "slide_type": "fragment"
    }
   },
   "source": [
    "Al ser una mejora del método de Jacobi, también tenemos en este caso la convergencia asegurada si la matriz A es estrictamente diagonal dominante. "
   ]
  },
  {
   "cell_type": "markdown",
   "metadata": {
    "slideshow": {
     "slide_type": "fragment"
    }
   },
   "source": [
    "No obstante, al ser un caso particular del método SOR, convergerá siempre que la matriz A sea definida positiva, lo que le da un rango de acción algo más amplio que el del método de Jacobi."
   ]
  },
  {
   "cell_type": "code",
   "execution_count": 9,
   "metadata": {
    "slideshow": {
     "slide_type": "slide"
    }
   },
   "outputs": [],
   "source": [
    "def resolverGaussSeidel(A, B, tol, pasos=True):\n",
    "    n = np.shape(A)[0]\n",
    "    X0 = np.zeros(n)\n",
    "    X1 = np.zeros(n)\n",
    "    iteracion = 0\n",
    "    dif = 2*tol\n",
    "    while (dif>tol and iteracion<100):\n",
    "        if (pasos):\n",
    "            display(Math(\"\\\\text{Vamos a realizar la \"+str(iteracion+1)+\"ª iteración}\")) \n",
    "            if (iteracion==0):\n",
    "                 display(Math(\"\\\\text{Adoptamos como vector inicial } X^{(0)} = \"+r\"\\begin{bmatrix} 0 \\\\ 0 \\\\ ... \\\\ 0 \\end{bmatrix}\"))            \n",
    "        for i in range (0,n):\n",
    "            X1[i] = B[i]\n",
    "            if (pasos):\n",
    "                display(Math(\"\\\\text{Vamos a calcular la \"+str(i+1)+\"ª componente de } X^{(\"+str(iteracion+1)+\")}\"))  \n",
    "                exp = \"x_\"+str(i+1)+\"^{(\"+str(iteracion+1)+\")} = \\\\frac{b_\"+str(i+1)\n",
    "                expN = \"x_\"+str(i+1)+\"^{(\"+str(iteracion+1)+\")} = \\\\frac{\"+str(B[i])        \n",
    "            for j in range(0,i):\n",
    "                X1[i] -= A[i,j]*X1[j] \n",
    "                if (pasos):\n",
    "                    exp += \" - a_{\"+str(i+1)+\",\"+str(j+1)+\"} \\cdot x_\"+str(j+1)+\"^{(\"+str(iteracion+1)+\")}\"\n",
    "                    expN += \" - \"+str(A[i,j])+\"\\cdot\"+str(X1[j])\n",
    "            for j in range(i+1,n):\n",
    "                X1[i] -= A[i,j]*X0[j] \n",
    "                if (pasos):\n",
    "                    exp += \" - a_{\"+str(i+1)+\",\"+str(j+1)+\"} \\cdot x_\"+str(j+1)+\"^{(\"+str(iteracion)+\")}\"\n",
    "                    expN += \" - \"+str(A[i,j])+\"\\cdot\"+str(X0[j])                \n",
    "            X1[i] /= A[i,i]\n",
    "            if (pasos):\n",
    "                exp += \"}{a_{\"+str(i+1)+\",\"+str(i+1)+\"}}\"\n",
    "                expN += \"}{\"+str(A[i,i])+\"} = \"+str(X1[i])\n",
    "                display(Math(exp))\n",
    "                display(Math(expN))  \n",
    "        dif = np.linalg.norm(np.transpose(X1-X0),np.inf) / np.linalg.norm(X1.transpose(),np.inf)                \n",
    "        if (pasos):   \n",
    "            exp = \"\\\\text{Evaluamos el criterio corte: } \\\\frac{|| X^{(\"+str(iteracion+1)+\")} - X^{(\"+str(iteracion)+\")} ||}{|| X^{(\"+str(iteracion+1)+\")} ||} = \"+str(dif)            \n",
    "            if (dif>tol):\n",
    "                exp += \" > tol = \"+str(tol)\n",
    "                display(Math(exp)) \n",
    "            else:\n",
    "                exp +=  \" \\leq tol = \"+str(tol)\n",
    "                display(Math(exp)) \n",
    "                exp = \"\\\\text{Y hemos encontrado nuestra solución aproximada: } X^{(\"+str(iteracion+1)+\")} = \\\\begin{bmatrix}\"\n",
    "                for i in range (0,n):\n",
    "                    exp += str(X1[i])+r\"\\\\\"\n",
    "                exp += r\"\\end{bmatrix}\"\n",
    "                display(Math(exp))\n",
    "        X0 = X1.copy()\n",
    "        iteracion += 1\n",
    "    return X1 \n"
   ]
  },
  {
   "cell_type": "code",
   "execution_count": 10,
   "metadata": {
    "slideshow": {
     "slide_type": "slide"
    }
   },
   "outputs": [
    {
     "data": {
      "text/latex": [
       "$\\displaystyle \\text{Vamos a realizar la 1ª iteración}$"
      ],
      "text/plain": [
       "<IPython.core.display.Math object>"
      ]
     },
     "metadata": {},
     "output_type": "display_data"
    },
    {
     "data": {
      "text/latex": [
       "$\\displaystyle \\text{Adoptamos como vector inicial } X^{(0)} = \\begin{bmatrix} 0 \\\\ 0 \\\\ ... \\\\ 0 \\end{bmatrix}$"
      ],
      "text/plain": [
       "<IPython.core.display.Math object>"
      ]
     },
     "metadata": {},
     "output_type": "display_data"
    },
    {
     "data": {
      "text/latex": [
       "$\\displaystyle \\text{Vamos a calcular la 1ª componente de } X^{(1)}$"
      ],
      "text/plain": [
       "<IPython.core.display.Math object>"
      ]
     },
     "metadata": {},
     "output_type": "display_data"
    },
    {
     "data": {
      "text/latex": [
       "$\\displaystyle x_1^{(1)} = \\frac{b_1 - a_{1,2} \\cdot x_2^{(0)} - a_{1,3} \\cdot x_3^{(0)} - a_{1,4} \\cdot x_4^{(0)}}{a_{1,1}}$"
      ],
      "text/plain": [
       "<IPython.core.display.Math object>"
      ]
     },
     "metadata": {},
     "output_type": "display_data"
    },
    {
     "data": {
      "text/latex": [
       "$\\displaystyle x_1^{(1)} = \\frac{6 - -1\\cdot0.0 - 2\\cdot0.0 - 0\\cdot0.0}{10} = 0.6$"
      ],
      "text/plain": [
       "<IPython.core.display.Math object>"
      ]
     },
     "metadata": {},
     "output_type": "display_data"
    },
    {
     "data": {
      "text/latex": [
       "$\\displaystyle \\text{Vamos a calcular la 2ª componente de } X^{(1)}$"
      ],
      "text/plain": [
       "<IPython.core.display.Math object>"
      ]
     },
     "metadata": {},
     "output_type": "display_data"
    },
    {
     "data": {
      "text/latex": [
       "$\\displaystyle x_2^{(1)} = \\frac{b_2 - a_{2,1} \\cdot x_1^{(1)} - a_{2,3} \\cdot x_3^{(0)} - a_{2,4} \\cdot x_4^{(0)}}{a_{2,2}}$"
      ],
      "text/plain": [
       "<IPython.core.display.Math object>"
      ]
     },
     "metadata": {},
     "output_type": "display_data"
    },
    {
     "data": {
      "text/latex": [
       "$\\displaystyle x_2^{(1)} = \\frac{25 - -1\\cdot0.6 - -1\\cdot0.0 - 3\\cdot0.0}{11} = 2.3272727272727276$"
      ],
      "text/plain": [
       "<IPython.core.display.Math object>"
      ]
     },
     "metadata": {},
     "output_type": "display_data"
    },
    {
     "data": {
      "text/latex": [
       "$\\displaystyle \\text{Vamos a calcular la 3ª componente de } X^{(1)}$"
      ],
      "text/plain": [
       "<IPython.core.display.Math object>"
      ]
     },
     "metadata": {},
     "output_type": "display_data"
    },
    {
     "data": {
      "text/latex": [
       "$\\displaystyle x_3^{(1)} = \\frac{b_3 - a_{3,1} \\cdot x_1^{(1)} - a_{3,2} \\cdot x_2^{(1)} - a_{3,4} \\cdot x_4^{(0)}}{a_{3,3}}$"
      ],
      "text/plain": [
       "<IPython.core.display.Math object>"
      ]
     },
     "metadata": {},
     "output_type": "display_data"
    },
    {
     "data": {
      "text/latex": [
       "$\\displaystyle x_3^{(1)} = \\frac{-11 - 2\\cdot0.6 - -1\\cdot2.3272727272727276 - 5\\cdot0.0}{10} = -0.9872727272727271$"
      ],
      "text/plain": [
       "<IPython.core.display.Math object>"
      ]
     },
     "metadata": {},
     "output_type": "display_data"
    },
    {
     "data": {
      "text/latex": [
       "$\\displaystyle \\text{Vamos a calcular la 4ª componente de } X^{(1)}$"
      ],
      "text/plain": [
       "<IPython.core.display.Math object>"
      ]
     },
     "metadata": {},
     "output_type": "display_data"
    },
    {
     "data": {
      "text/latex": [
       "$\\displaystyle x_4^{(1)} = \\frac{b_4 - a_{4,1} \\cdot x_1^{(1)} - a_{4,2} \\cdot x_2^{(1)} - a_{4,3} \\cdot x_3^{(1)}}{a_{4,4}}$"
      ],
      "text/plain": [
       "<IPython.core.display.Math object>"
      ]
     },
     "metadata": {},
     "output_type": "display_data"
    },
    {
     "data": {
      "text/latex": [
       "$\\displaystyle x_4^{(1)} = \\frac{15 - 0\\cdot0.6 - 3\\cdot2.3272727272727276 - 5\\cdot-0.9872727272727271}{20} = 0.6477272727272727$"
      ],
      "text/plain": [
       "<IPython.core.display.Math object>"
      ]
     },
     "metadata": {},
     "output_type": "display_data"
    },
    {
     "data": {
      "text/latex": [
       "$\\displaystyle \\text{Evaluamos el criterio corte: } \\frac{|| X^{(1)} - X^{(0)} ||}{|| X^{(1)} ||} = 1.0 > tol = 0.0001$"
      ],
      "text/plain": [
       "<IPython.core.display.Math object>"
      ]
     },
     "metadata": {},
     "output_type": "display_data"
    },
    {
     "data": {
      "text/latex": [
       "$\\displaystyle \\text{Vamos a realizar la 2ª iteración}$"
      ],
      "text/plain": [
       "<IPython.core.display.Math object>"
      ]
     },
     "metadata": {},
     "output_type": "display_data"
    },
    {
     "data": {
      "text/latex": [
       "$\\displaystyle \\text{Vamos a calcular la 1ª componente de } X^{(2)}$"
      ],
      "text/plain": [
       "<IPython.core.display.Math object>"
      ]
     },
     "metadata": {},
     "output_type": "display_data"
    },
    {
     "data": {
      "text/latex": [
       "$\\displaystyle x_1^{(2)} = \\frac{b_1 - a_{1,2} \\cdot x_2^{(1)} - a_{1,3} \\cdot x_3^{(1)} - a_{1,4} \\cdot x_4^{(1)}}{a_{1,1}}$"
      ],
      "text/plain": [
       "<IPython.core.display.Math object>"
      ]
     },
     "metadata": {},
     "output_type": "display_data"
    },
    {
     "data": {
      "text/latex": [
       "$\\displaystyle x_1^{(2)} = \\frac{6 - -1\\cdot2.3272727272727276 - 2\\cdot-0.9872727272727271 - 0\\cdot0.6477272727272727}{10} = 1.0301818181818183$"
      ],
      "text/plain": [
       "<IPython.core.display.Math object>"
      ]
     },
     "metadata": {},
     "output_type": "display_data"
    },
    {
     "data": {
      "text/latex": [
       "$\\displaystyle \\text{Vamos a calcular la 2ª componente de } X^{(2)}$"
      ],
      "text/plain": [
       "<IPython.core.display.Math object>"
      ]
     },
     "metadata": {},
     "output_type": "display_data"
    },
    {
     "data": {
      "text/latex": [
       "$\\displaystyle x_2^{(2)} = \\frac{b_2 - a_{2,1} \\cdot x_1^{(2)} - a_{2,3} \\cdot x_3^{(1)} - a_{2,4} \\cdot x_4^{(1)}}{a_{2,2}}$"
      ],
      "text/plain": [
       "<IPython.core.display.Math object>"
      ]
     },
     "metadata": {},
     "output_type": "display_data"
    },
    {
     "data": {
      "text/latex": [
       "$\\displaystyle x_2^{(2)} = \\frac{25 - -1\\cdot1.0301818181818183 - -1\\cdot-0.9872727272727271 - 3\\cdot0.6477272727272727}{11} = 2.0999752066115707$"
      ],
      "text/plain": [
       "<IPython.core.display.Math object>"
      ]
     },
     "metadata": {},
     "output_type": "display_data"
    },
    {
     "data": {
      "text/latex": [
       "$\\displaystyle \\text{Vamos a calcular la 3ª componente de } X^{(2)}$"
      ],
      "text/plain": [
       "<IPython.core.display.Math object>"
      ]
     },
     "metadata": {},
     "output_type": "display_data"
    },
    {
     "data": {
      "text/latex": [
       "$\\displaystyle x_3^{(2)} = \\frac{b_3 - a_{3,1} \\cdot x_1^{(2)} - a_{3,2} \\cdot x_2^{(2)} - a_{3,4} \\cdot x_4^{(1)}}{a_{3,3}}$"
      ],
      "text/plain": [
       "<IPython.core.display.Math object>"
      ]
     },
     "metadata": {},
     "output_type": "display_data"
    },
    {
     "data": {
      "text/latex": [
       "$\\displaystyle x_3^{(2)} = \\frac{-11 - 2\\cdot1.0301818181818183 - -1\\cdot2.0999752066115707 - 5\\cdot0.6477272727272727}{10} = -1.4199024793388428$"
      ],
      "text/plain": [
       "<IPython.core.display.Math object>"
      ]
     },
     "metadata": {},
     "output_type": "display_data"
    },
    {
     "data": {
      "text/latex": [
       "$\\displaystyle \\text{Vamos a calcular la 4ª componente de } X^{(2)}$"
      ],
      "text/plain": [
       "<IPython.core.display.Math object>"
      ]
     },
     "metadata": {},
     "output_type": "display_data"
    },
    {
     "data": {
      "text/latex": [
       "$\\displaystyle x_4^{(2)} = \\frac{b_4 - a_{4,1} \\cdot x_1^{(2)} - a_{4,2} \\cdot x_2^{(2)} - a_{4,3} \\cdot x_3^{(2)}}{a_{4,4}}$"
      ],
      "text/plain": [
       "<IPython.core.display.Math object>"
      ]
     },
     "metadata": {},
     "output_type": "display_data"
    },
    {
     "data": {
      "text/latex": [
       "$\\displaystyle x_4^{(2)} = \\frac{15 - 0\\cdot1.0301818181818183 - 3\\cdot2.0999752066115707 - 5\\cdot-1.4199024793388428}{20} = 0.7899793388429751$"
      ],
      "text/plain": [
       "<IPython.core.display.Math object>"
      ]
     },
     "metadata": {},
     "output_type": "display_data"
    },
    {
     "data": {
      "text/latex": [
       "$\\displaystyle \\text{Evaluamos el criterio corte: } \\frac{|| X^{(2)} - X^{(1)} ||}{|| X^{(2)} ||} = 0.20601659995985783 > tol = 0.0001$"
      ],
      "text/plain": [
       "<IPython.core.display.Math object>"
      ]
     },
     "metadata": {},
     "output_type": "display_data"
    },
    {
     "data": {
      "text/latex": [
       "$\\displaystyle \\text{Vamos a realizar la 3ª iteración}$"
      ],
      "text/plain": [
       "<IPython.core.display.Math object>"
      ]
     },
     "metadata": {},
     "output_type": "display_data"
    },
    {
     "data": {
      "text/latex": [
       "$\\displaystyle \\text{Vamos a calcular la 1ª componente de } X^{(3)}$"
      ],
      "text/plain": [
       "<IPython.core.display.Math object>"
      ]
     },
     "metadata": {},
     "output_type": "display_data"
    },
    {
     "data": {
      "text/latex": [
       "$\\displaystyle x_1^{(3)} = \\frac{b_1 - a_{1,2} \\cdot x_2^{(2)} - a_{1,3} \\cdot x_3^{(2)} - a_{1,4} \\cdot x_4^{(2)}}{a_{1,1}}$"
      ],
      "text/plain": [
       "<IPython.core.display.Math object>"
      ]
     },
     "metadata": {},
     "output_type": "display_data"
    },
    {
     "data": {
      "text/latex": [
       "$\\displaystyle x_1^{(3)} = \\frac{6 - -1\\cdot2.0999752066115707 - 2\\cdot-1.4199024793388428 - 0\\cdot0.7899793388429751}{10} = 1.0939780165289257$"
      ],
      "text/plain": [
       "<IPython.core.display.Math object>"
      ]
     },
     "metadata": {},
     "output_type": "display_data"
    },
    {
     "data": {
      "text/latex": [
       "$\\displaystyle \\text{Vamos a calcular la 2ª componente de } X^{(3)}$"
      ],
      "text/plain": [
       "<IPython.core.display.Math object>"
      ]
     },
     "metadata": {},
     "output_type": "display_data"
    },
    {
     "data": {
      "text/latex": [
       "$\\displaystyle x_2^{(3)} = \\frac{b_2 - a_{2,1} \\cdot x_1^{(3)} - a_{2,3} \\cdot x_3^{(2)} - a_{2,4} \\cdot x_4^{(2)}}{a_{2,2}}$"
      ],
      "text/plain": [
       "<IPython.core.display.Math object>"
      ]
     },
     "metadata": {},
     "output_type": "display_data"
    },
    {
     "data": {
      "text/latex": [
       "$\\displaystyle x_2^{(3)} = \\frac{25 - -1\\cdot1.0939780165289257 - -1\\cdot-1.4199024793388428 - 3\\cdot0.7899793388429751}{11} = 2.0276488655146507$"
      ],
      "text/plain": [
       "<IPython.core.display.Math object>"
      ]
     },
     "metadata": {},
     "output_type": "display_data"
    },
    {
     "data": {
      "text/latex": [
       "$\\displaystyle \\text{Vamos a calcular la 3ª componente de } X^{(3)}$"
      ],
      "text/plain": [
       "<IPython.core.display.Math object>"
      ]
     },
     "metadata": {},
     "output_type": "display_data"
    },
    {
     "data": {
      "text/latex": [
       "$\\displaystyle x_3^{(3)} = \\frac{b_3 - a_{3,1} \\cdot x_1^{(3)} - a_{3,2} \\cdot x_2^{(3)} - a_{3,4} \\cdot x_4^{(2)}}{a_{3,3}}$"
      ],
      "text/plain": [
       "<IPython.core.display.Math object>"
      ]
     },
     "metadata": {},
     "output_type": "display_data"
    },
    {
     "data": {
      "text/latex": [
       "$\\displaystyle x_3^{(3)} = \\frac{-11 - 2\\cdot1.0939780165289257 - -1\\cdot2.0276488655146507 - 5\\cdot0.7899793388429751}{10} = -1.5110203861758076$"
      ],
      "text/plain": [
       "<IPython.core.display.Math object>"
      ]
     },
     "metadata": {},
     "output_type": "display_data"
    },
    {
     "data": {
      "text/latex": [
       "$\\displaystyle \\text{Vamos a calcular la 4ª componente de } X^{(3)}$"
      ],
      "text/plain": [
       "<IPython.core.display.Math object>"
      ]
     },
     "metadata": {},
     "output_type": "display_data"
    },
    {
     "data": {
      "text/latex": [
       "$\\displaystyle x_4^{(3)} = \\frac{b_4 - a_{4,1} \\cdot x_1^{(3)} - a_{4,2} \\cdot x_2^{(3)} - a_{4,3} \\cdot x_3^{(3)}}{a_{4,4}}$"
      ],
      "text/plain": [
       "<IPython.core.display.Math object>"
      ]
     },
     "metadata": {},
     "output_type": "display_data"
    },
    {
     "data": {
      "text/latex": [
       "$\\displaystyle x_4^{(3)} = \\frac{15 - 0\\cdot1.0939780165289257 - 3\\cdot2.0276488655146507 - 5\\cdot-1.5110203861758076}{20} = 0.8236077667167543$"
      ],
      "text/plain": [
       "<IPython.core.display.Math object>"
      ]
     },
     "metadata": {},
     "output_type": "display_data"
    },
    {
     "data": {
      "text/latex": [
       "$\\displaystyle \\text{Evaluamos el criterio corte: } \\frac{|| X^{(3)} - X^{(2)} ||}{|| X^{(3)} ||} = 0.04493771499920797 > tol = 0.0001$"
      ],
      "text/plain": [
       "<IPython.core.display.Math object>"
      ]
     },
     "metadata": {},
     "output_type": "display_data"
    },
    {
     "data": {
      "text/latex": [
       "$\\displaystyle \\text{Vamos a realizar la 4ª iteración}$"
      ],
      "text/plain": [
       "<IPython.core.display.Math object>"
      ]
     },
     "metadata": {},
     "output_type": "display_data"
    },
    {
     "data": {
      "text/latex": [
       "$\\displaystyle \\text{Vamos a calcular la 1ª componente de } X^{(4)}$"
      ],
      "text/plain": [
       "<IPython.core.display.Math object>"
      ]
     },
     "metadata": {},
     "output_type": "display_data"
    },
    {
     "data": {
      "text/latex": [
       "$\\displaystyle x_1^{(4)} = \\frac{b_1 - a_{1,2} \\cdot x_2^{(3)} - a_{1,3} \\cdot x_3^{(3)} - a_{1,4} \\cdot x_4^{(3)}}{a_{1,1}}$"
      ],
      "text/plain": [
       "<IPython.core.display.Math object>"
      ]
     },
     "metadata": {},
     "output_type": "display_data"
    },
    {
     "data": {
      "text/latex": [
       "$\\displaystyle x_1^{(4)} = \\frac{6 - -1\\cdot2.0276488655146507 - 2\\cdot-1.5110203861758076 - 0\\cdot0.8236077667167543}{10} = 1.1049689637866265$"
      ],
      "text/plain": [
       "<IPython.core.display.Math object>"
      ]
     },
     "metadata": {},
     "output_type": "display_data"
    },
    {
     "data": {
      "text/latex": [
       "$\\displaystyle \\text{Vamos a calcular la 2ª componente de } X^{(4)}$"
      ],
      "text/plain": [
       "<IPython.core.display.Math object>"
      ]
     },
     "metadata": {},
     "output_type": "display_data"
    },
    {
     "data": {
      "text/latex": [
       "$\\displaystyle x_2^{(4)} = \\frac{b_2 - a_{2,1} \\cdot x_1^{(4)} - a_{2,3} \\cdot x_3^{(3)} - a_{2,4} \\cdot x_4^{(3)}}{a_{2,2}}$"
      ],
      "text/plain": [
       "<IPython.core.display.Math object>"
      ]
     },
     "metadata": {},
     "output_type": "display_data"
    },
    {
     "data": {
      "text/latex": [
       "$\\displaystyle x_2^{(4)} = \\frac{25 - -1\\cdot1.1049689637866265 - -1\\cdot-1.5110203861758076 - 3\\cdot0.8236077667167543}{11} = 2.0111932070418685$"
      ],
      "text/plain": [
       "<IPython.core.display.Math object>"
      ]
     },
     "metadata": {},
     "output_type": "display_data"
    },
    {
     "data": {
      "text/latex": [
       "$\\displaystyle \\text{Vamos a calcular la 3ª componente de } X^{(4)}$"
      ],
      "text/plain": [
       "<IPython.core.display.Math object>"
      ]
     },
     "metadata": {},
     "output_type": "display_data"
    },
    {
     "data": {
      "text/latex": [
       "$\\displaystyle x_3^{(4)} = \\frac{b_3 - a_{3,1} \\cdot x_1^{(4)} - a_{3,2} \\cdot x_2^{(4)} - a_{3,4} \\cdot x_4^{(3)}}{a_{3,3}}$"
      ],
      "text/plain": [
       "<IPython.core.display.Math object>"
      ]
     },
     "metadata": {},
     "output_type": "display_data"
    },
    {
     "data": {
      "text/latex": [
       "$\\displaystyle x_3^{(4)} = \\frac{-11 - 2\\cdot1.1049689637866265 - -1\\cdot2.0111932070418685 - 5\\cdot0.8236077667167543}{10} = -1.5316783554115156$"
      ],
      "text/plain": [
       "<IPython.core.display.Math object>"
      ]
     },
     "metadata": {},
     "output_type": "display_data"
    },
    {
     "data": {
      "text/latex": [
       "$\\displaystyle \\text{Vamos a calcular la 4ª componente de } X^{(4)}$"
      ],
      "text/plain": [
       "<IPython.core.display.Math object>"
      ]
     },
     "metadata": {},
     "output_type": "display_data"
    },
    {
     "data": {
      "text/latex": [
       "$\\displaystyle x_4^{(4)} = \\frac{b_4 - a_{4,1} \\cdot x_1^{(4)} - a_{4,2} \\cdot x_2^{(4)} - a_{4,3} \\cdot x_3^{(4)}}{a_{4,4}}$"
      ],
      "text/plain": [
       "<IPython.core.display.Math object>"
      ]
     },
     "metadata": {},
     "output_type": "display_data"
    },
    {
     "data": {
      "text/latex": [
       "$\\displaystyle x_4^{(4)} = \\frac{15 - 0\\cdot1.1049689637866265 - 3\\cdot2.0111932070418685 - 5\\cdot-1.5316783554115156}{20} = 0.8312406077965987$"
      ],
      "text/plain": [
       "<IPython.core.display.Math object>"
      ]
     },
     "metadata": {},
     "output_type": "display_data"
    },
    {
     "data": {
      "text/latex": [
       "$\\displaystyle \\text{Evaluamos el criterio corte: } \\frac{|| X^{(4)} - X^{(3)} ||}{|| X^{(4)} ||} = 0.010271499109771013 > tol = 0.0001$"
      ],
      "text/plain": [
       "<IPython.core.display.Math object>"
      ]
     },
     "metadata": {},
     "output_type": "display_data"
    },
    {
     "data": {
      "text/latex": [
       "$\\displaystyle \\text{Vamos a realizar la 5ª iteración}$"
      ],
      "text/plain": [
       "<IPython.core.display.Math object>"
      ]
     },
     "metadata": {},
     "output_type": "display_data"
    },
    {
     "data": {
      "text/latex": [
       "$\\displaystyle \\text{Vamos a calcular la 1ª componente de } X^{(5)}$"
      ],
      "text/plain": [
       "<IPython.core.display.Math object>"
      ]
     },
     "metadata": {},
     "output_type": "display_data"
    },
    {
     "data": {
      "text/latex": [
       "$\\displaystyle x_1^{(5)} = \\frac{b_1 - a_{1,2} \\cdot x_2^{(4)} - a_{1,3} \\cdot x_3^{(4)} - a_{1,4} \\cdot x_4^{(4)}}{a_{1,1}}$"
      ],
      "text/plain": [
       "<IPython.core.display.Math object>"
      ]
     },
     "metadata": {},
     "output_type": "display_data"
    },
    {
     "data": {
      "text/latex": [
       "$\\displaystyle x_1^{(5)} = \\frac{6 - -1\\cdot2.0111932070418685 - 2\\cdot-1.5316783554115156 - 0\\cdot0.8312406077965987}{10} = 1.10745499178649$"
      ],
      "text/plain": [
       "<IPython.core.display.Math object>"
      ]
     },
     "metadata": {},
     "output_type": "display_data"
    },
    {
     "data": {
      "text/latex": [
       "$\\displaystyle \\text{Vamos a calcular la 2ª componente de } X^{(5)}$"
      ],
      "text/plain": [
       "<IPython.core.display.Math object>"
      ]
     },
     "metadata": {},
     "output_type": "display_data"
    },
    {
     "data": {
      "text/latex": [
       "$\\displaystyle x_2^{(5)} = \\frac{b_2 - a_{2,1} \\cdot x_1^{(5)} - a_{2,3} \\cdot x_3^{(4)} - a_{2,4} \\cdot x_4^{(4)}}{a_{2,2}}$"
      ],
      "text/plain": [
       "<IPython.core.display.Math object>"
      ]
     },
     "metadata": {},
     "output_type": "display_data"
    },
    {
     "data": {
      "text/latex": [
       "$\\displaystyle x_2^{(5)} = \\frac{25 - -1\\cdot1.10745499178649 - -1\\cdot-1.5316783554115156 - 3\\cdot0.8312406077965987}{11} = 2.007459528453198$"
      ],
      "text/plain": [
       "<IPython.core.display.Math object>"
      ]
     },
     "metadata": {},
     "output_type": "display_data"
    },
    {
     "data": {
      "text/latex": [
       "$\\displaystyle \\text{Vamos a calcular la 3ª componente de } X^{(5)}$"
      ],
      "text/plain": [
       "<IPython.core.display.Math object>"
      ]
     },
     "metadata": {},
     "output_type": "display_data"
    },
    {
     "data": {
      "text/latex": [
       "$\\displaystyle x_3^{(5)} = \\frac{b_3 - a_{3,1} \\cdot x_1^{(5)} - a_{3,2} \\cdot x_2^{(5)} - a_{3,4} \\cdot x_4^{(4)}}{a_{3,3}}$"
      ],
      "text/plain": [
       "<IPython.core.display.Math object>"
      ]
     },
     "metadata": {},
     "output_type": "display_data"
    },
    {
     "data": {
      "text/latex": [
       "$\\displaystyle x_3^{(5)} = \\frac{-11 - 2\\cdot1.10745499178649 - -1\\cdot2.007459528453198 - 5\\cdot0.8312406077965987}{10} = -1.5363653494102774$"
      ],
      "text/plain": [
       "<IPython.core.display.Math object>"
      ]
     },
     "metadata": {},
     "output_type": "display_data"
    },
    {
     "data": {
      "text/latex": [
       "$\\displaystyle \\text{Vamos a calcular la 4ª componente de } X^{(5)}$"
      ],
      "text/plain": [
       "<IPython.core.display.Math object>"
      ]
     },
     "metadata": {},
     "output_type": "display_data"
    },
    {
     "data": {
      "text/latex": [
       "$\\displaystyle x_4^{(5)} = \\frac{b_4 - a_{4,1} \\cdot x_1^{(5)} - a_{4,2} \\cdot x_2^{(5)} - a_{4,3} \\cdot x_3^{(5)}}{a_{4,4}}$"
      ],
      "text/plain": [
       "<IPython.core.display.Math object>"
      ]
     },
     "metadata": {},
     "output_type": "display_data"
    },
    {
     "data": {
      "text/latex": [
       "$\\displaystyle x_4^{(5)} = \\frac{15 - 0\\cdot1.10745499178649 - 3\\cdot2.007459528453198 - 5\\cdot-1.5363653494102774}{20} = 0.8329724080845896$"
      ],
      "text/plain": [
       "<IPython.core.display.Math object>"
      ]
     },
     "metadata": {},
     "output_type": "display_data"
    },
    {
     "data": {
      "text/latex": [
       "$\\displaystyle \\text{Evaluamos el criterio corte: } \\frac{|| X^{(5)} - X^{(4)} ||}{|| X^{(5)} ||} = 0.0023347887876838886 > tol = 0.0001$"
      ],
      "text/plain": [
       "<IPython.core.display.Math object>"
      ]
     },
     "metadata": {},
     "output_type": "display_data"
    },
    {
     "data": {
      "text/latex": [
       "$\\displaystyle \\text{Vamos a realizar la 6ª iteración}$"
      ],
      "text/plain": [
       "<IPython.core.display.Math object>"
      ]
     },
     "metadata": {},
     "output_type": "display_data"
    },
    {
     "data": {
      "text/latex": [
       "$\\displaystyle \\text{Vamos a calcular la 1ª componente de } X^{(6)}$"
      ],
      "text/plain": [
       "<IPython.core.display.Math object>"
      ]
     },
     "metadata": {},
     "output_type": "display_data"
    },
    {
     "data": {
      "text/latex": [
       "$\\displaystyle x_1^{(6)} = \\frac{b_1 - a_{1,2} \\cdot x_2^{(5)} - a_{1,3} \\cdot x_3^{(5)} - a_{1,4} \\cdot x_4^{(5)}}{a_{1,1}}$"
      ],
      "text/plain": [
       "<IPython.core.display.Math object>"
      ]
     },
     "metadata": {},
     "output_type": "display_data"
    },
    {
     "data": {
      "text/latex": [
       "$\\displaystyle x_1^{(6)} = \\frac{6 - -1\\cdot2.007459528453198 - 2\\cdot-1.5363653494102774 - 0\\cdot0.8329724080845896}{10} = 1.1080190227273754$"
      ],
      "text/plain": [
       "<IPython.core.display.Math object>"
      ]
     },
     "metadata": {},
     "output_type": "display_data"
    },
    {
     "data": {
      "text/latex": [
       "$\\displaystyle \\text{Vamos a calcular la 2ª componente de } X^{(6)}$"
      ],
      "text/plain": [
       "<IPython.core.display.Math object>"
      ]
     },
     "metadata": {},
     "output_type": "display_data"
    },
    {
     "data": {
      "text/latex": [
       "$\\displaystyle x_2^{(6)} = \\frac{b_2 - a_{2,1} \\cdot x_1^{(6)} - a_{2,3} \\cdot x_3^{(5)} - a_{2,4} \\cdot x_4^{(5)}}{a_{2,2}}$"
      ],
      "text/plain": [
       "<IPython.core.display.Math object>"
      ]
     },
     "metadata": {},
     "output_type": "display_data"
    },
    {
     "data": {
      "text/latex": [
       "$\\displaystyle x_2^{(6)} = \\frac{25 - -1\\cdot1.1080190227273754 - -1\\cdot-1.5363653494102774 - 3\\cdot0.8329724080845896}{11} = 2.0066124044603026$"
      ],
      "text/plain": [
       "<IPython.core.display.Math object>"
      ]
     },
     "metadata": {},
     "output_type": "display_data"
    },
    {
     "data": {
      "text/latex": [
       "$\\displaystyle \\text{Vamos a calcular la 3ª componente de } X^{(6)}$"
      ],
      "text/plain": [
       "<IPython.core.display.Math object>"
      ]
     },
     "metadata": {},
     "output_type": "display_data"
    },
    {
     "data": {
      "text/latex": [
       "$\\displaystyle x_3^{(6)} = \\frac{b_3 - a_{3,1} \\cdot x_1^{(6)} - a_{3,2} \\cdot x_2^{(6)} - a_{3,4} \\cdot x_4^{(5)}}{a_{3,3}}$"
      ],
      "text/plain": [
       "<IPython.core.display.Math object>"
      ]
     },
     "metadata": {},
     "output_type": "display_data"
    },
    {
     "data": {
      "text/latex": [
       "$\\displaystyle x_3^{(6)} = \\frac{-11 - 2\\cdot1.1080190227273754 - -1\\cdot2.0066124044603026 - 5\\cdot0.8329724080845896}{10} = -1.5374287681417396$"
      ],
      "text/plain": [
       "<IPython.core.display.Math object>"
      ]
     },
     "metadata": {},
     "output_type": "display_data"
    },
    {
     "data": {
      "text/latex": [
       "$\\displaystyle \\text{Vamos a calcular la 4ª componente de } X^{(6)}$"
      ],
      "text/plain": [
       "<IPython.core.display.Math object>"
      ]
     },
     "metadata": {},
     "output_type": "display_data"
    },
    {
     "data": {
      "text/latex": [
       "$\\displaystyle x_4^{(6)} = \\frac{b_4 - a_{4,1} \\cdot x_1^{(6)} - a_{4,2} \\cdot x_2^{(6)} - a_{4,3} \\cdot x_3^{(6)}}{a_{4,4}}$"
      ],
      "text/plain": [
       "<IPython.core.display.Math object>"
      ]
     },
     "metadata": {},
     "output_type": "display_data"
    },
    {
     "data": {
      "text/latex": [
       "$\\displaystyle x_4^{(6)} = \\frac{15 - 0\\cdot1.1080190227273754 - 3\\cdot2.0066124044603026 - 5\\cdot-1.5374287681417396}{20} = 0.8333653313663895$"
      ],
      "text/plain": [
       "<IPython.core.display.Math object>"
      ]
     },
     "metadata": {},
     "output_type": "display_data"
    },
    {
     "data": {
      "text/latex": [
       "$\\displaystyle \\text{Evaluamos el criterio corte: } \\frac{|| X^{(6)} - X^{(5)} ||}{|| X^{(6)} ||} = 0.0005299572199884927 > tol = 0.0001$"
      ],
      "text/plain": [
       "<IPython.core.display.Math object>"
      ]
     },
     "metadata": {},
     "output_type": "display_data"
    },
    {
     "data": {
      "text/latex": [
       "$\\displaystyle \\text{Vamos a realizar la 7ª iteración}$"
      ],
      "text/plain": [
       "<IPython.core.display.Math object>"
      ]
     },
     "metadata": {},
     "output_type": "display_data"
    },
    {
     "data": {
      "text/latex": [
       "$\\displaystyle \\text{Vamos a calcular la 1ª componente de } X^{(7)}$"
      ],
      "text/plain": [
       "<IPython.core.display.Math object>"
      ]
     },
     "metadata": {},
     "output_type": "display_data"
    },
    {
     "data": {
      "text/latex": [
       "$\\displaystyle x_1^{(7)} = \\frac{b_1 - a_{1,2} \\cdot x_2^{(6)} - a_{1,3} \\cdot x_3^{(6)} - a_{1,4} \\cdot x_4^{(6)}}{a_{1,1}}$"
      ],
      "text/plain": [
       "<IPython.core.display.Math object>"
      ]
     },
     "metadata": {},
     "output_type": "display_data"
    },
    {
     "data": {
      "text/latex": [
       "$\\displaystyle x_1^{(7)} = \\frac{6 - -1\\cdot2.0066124044603026 - 2\\cdot-1.5374287681417396 - 0\\cdot0.8333653313663895}{10} = 1.1081469940743782$"
      ],
      "text/plain": [
       "<IPython.core.display.Math object>"
      ]
     },
     "metadata": {},
     "output_type": "display_data"
    },
    {
     "data": {
      "text/latex": [
       "$\\displaystyle \\text{Vamos a calcular la 2ª componente de } X^{(7)}$"
      ],
      "text/plain": [
       "<IPython.core.display.Math object>"
      ]
     },
     "metadata": {},
     "output_type": "display_data"
    },
    {
     "data": {
      "text/latex": [
       "$\\displaystyle x_2^{(7)} = \\frac{b_2 - a_{2,1} \\cdot x_1^{(7)} - a_{2,3} \\cdot x_3^{(6)} - a_{2,4} \\cdot x_4^{(6)}}{a_{2,2}}$"
      ],
      "text/plain": [
       "<IPython.core.display.Math object>"
      ]
     },
     "metadata": {},
     "output_type": "display_data"
    },
    {
     "data": {
      "text/latex": [
       "$\\displaystyle x_2^{(7)} = \\frac{25 - -1\\cdot1.1081469940743782 - -1\\cdot-1.5374287681417396 - 3\\cdot0.8333653313663895}{11} = 2.0064202028939517$"
      ],
      "text/plain": [
       "<IPython.core.display.Math object>"
      ]
     },
     "metadata": {},
     "output_type": "display_data"
    },
    {
     "data": {
      "text/latex": [
       "$\\displaystyle \\text{Vamos a calcular la 3ª componente de } X^{(7)}$"
      ],
      "text/plain": [
       "<IPython.core.display.Math object>"
      ]
     },
     "metadata": {},
     "output_type": "display_data"
    },
    {
     "data": {
      "text/latex": [
       "$\\displaystyle x_3^{(7)} = \\frac{b_3 - a_{3,1} \\cdot x_1^{(7)} - a_{3,2} \\cdot x_2^{(7)} - a_{3,4} \\cdot x_4^{(6)}}{a_{3,3}}$"
      ],
      "text/plain": [
       "<IPython.core.display.Math object>"
      ]
     },
     "metadata": {},
     "output_type": "display_data"
    },
    {
     "data": {
      "text/latex": [
       "$\\displaystyle x_3^{(7)} = \\frac{-11 - 2\\cdot1.1081469940743782 - -1\\cdot2.0064202028939517 - 5\\cdot0.8333653313663895}{10} = -1.537670044208675$"
      ],
      "text/plain": [
       "<IPython.core.display.Math object>"
      ]
     },
     "metadata": {},
     "output_type": "display_data"
    },
    {
     "data": {
      "text/latex": [
       "$\\displaystyle \\text{Vamos a calcular la 4ª componente de } X^{(7)}$"
      ],
      "text/plain": [
       "<IPython.core.display.Math object>"
      ]
     },
     "metadata": {},
     "output_type": "display_data"
    },
    {
     "data": {
      "text/latex": [
       "$\\displaystyle x_4^{(7)} = \\frac{b_4 - a_{4,1} \\cdot x_1^{(7)} - a_{4,2} \\cdot x_2^{(7)} - a_{4,3} \\cdot x_3^{(7)}}{a_{4,4}}$"
      ],
      "text/plain": [
       "<IPython.core.display.Math object>"
      ]
     },
     "metadata": {},
     "output_type": "display_data"
    },
    {
     "data": {
      "text/latex": [
       "$\\displaystyle x_4^{(7)} = \\frac{15 - 0\\cdot1.1081469940743782 - 3\\cdot2.0064202028939517 - 5\\cdot-1.537670044208675}{20} = 0.833454480618076$"
      ],
      "text/plain": [
       "<IPython.core.display.Math object>"
      ]
     },
     "metadata": {},
     "output_type": "display_data"
    },
    {
     "data": {
      "text/latex": [
       "$\\displaystyle \\text{Evaluamos el criterio corte: } \\frac{|| X^{(7)} - X^{(6)} ||}{|| X^{(7)} ||} = 0.00012025201230901988 > tol = 0.0001$"
      ],
      "text/plain": [
       "<IPython.core.display.Math object>"
      ]
     },
     "metadata": {},
     "output_type": "display_data"
    },
    {
     "data": {
      "text/latex": [
       "$\\displaystyle \\text{Vamos a realizar la 8ª iteración}$"
      ],
      "text/plain": [
       "<IPython.core.display.Math object>"
      ]
     },
     "metadata": {},
     "output_type": "display_data"
    },
    {
     "data": {
      "text/latex": [
       "$\\displaystyle \\text{Vamos a calcular la 1ª componente de } X^{(8)}$"
      ],
      "text/plain": [
       "<IPython.core.display.Math object>"
      ]
     },
     "metadata": {},
     "output_type": "display_data"
    },
    {
     "data": {
      "text/latex": [
       "$\\displaystyle x_1^{(8)} = \\frac{b_1 - a_{1,2} \\cdot x_2^{(7)} - a_{1,3} \\cdot x_3^{(7)} - a_{1,4} \\cdot x_4^{(7)}}{a_{1,1}}$"
      ],
      "text/plain": [
       "<IPython.core.display.Math object>"
      ]
     },
     "metadata": {},
     "output_type": "display_data"
    },
    {
     "data": {
      "text/latex": [
       "$\\displaystyle x_1^{(8)} = \\frac{6 - -1\\cdot2.0064202028939517 - 2\\cdot-1.537670044208675 - 0\\cdot0.833454480618076}{10} = 1.1081760291311302$"
      ],
      "text/plain": [
       "<IPython.core.display.Math object>"
      ]
     },
     "metadata": {},
     "output_type": "display_data"
    },
    {
     "data": {
      "text/latex": [
       "$\\displaystyle \\text{Vamos a calcular la 2ª componente de } X^{(8)}$"
      ],
      "text/plain": [
       "<IPython.core.display.Math object>"
      ]
     },
     "metadata": {},
     "output_type": "display_data"
    },
    {
     "data": {
      "text/latex": [
       "$\\displaystyle x_2^{(8)} = \\frac{b_2 - a_{2,1} \\cdot x_1^{(8)} - a_{2,3} \\cdot x_3^{(7)} - a_{2,4} \\cdot x_4^{(7)}}{a_{2,2}}$"
      ],
      "text/plain": [
       "<IPython.core.display.Math object>"
      ]
     },
     "metadata": {},
     "output_type": "display_data"
    },
    {
     "data": {
      "text/latex": [
       "$\\displaystyle x_2^{(8)} = \\frac{25 - -1\\cdot1.1081760291311302 - -1\\cdot-1.537670044208675 - 3\\cdot0.833454480618076}{11} = 2.0063765948243844$"
      ],
      "text/plain": [
       "<IPython.core.display.Math object>"
      ]
     },
     "metadata": {},
     "output_type": "display_data"
    },
    {
     "data": {
      "text/latex": [
       "$\\displaystyle \\text{Vamos a calcular la 3ª componente de } X^{(8)}$"
      ],
      "text/plain": [
       "<IPython.core.display.Math object>"
      ]
     },
     "metadata": {},
     "output_type": "display_data"
    },
    {
     "data": {
      "text/latex": [
       "$\\displaystyle x_3^{(8)} = \\frac{b_3 - a_{3,1} \\cdot x_1^{(8)} - a_{3,2} \\cdot x_2^{(8)} - a_{3,4} \\cdot x_4^{(7)}}{a_{3,3}}$"
      ],
      "text/plain": [
       "<IPython.core.display.Math object>"
      ]
     },
     "metadata": {},
     "output_type": "display_data"
    },
    {
     "data": {
      "text/latex": [
       "$\\displaystyle x_3^{(8)} = \\frac{-11 - 2\\cdot1.1081760291311302 - -1\\cdot2.0063765948243844 - 5\\cdot0.833454480618076}{10} = -1.5377247866528254$"
      ],
      "text/plain": [
       "<IPython.core.display.Math object>"
      ]
     },
     "metadata": {},
     "output_type": "display_data"
    },
    {
     "data": {
      "text/latex": [
       "$\\displaystyle \\text{Vamos a calcular la 4ª componente de } X^{(8)}$"
      ],
      "text/plain": [
       "<IPython.core.display.Math object>"
      ]
     },
     "metadata": {},
     "output_type": "display_data"
    },
    {
     "data": {
      "text/latex": [
       "$\\displaystyle x_4^{(8)} = \\frac{b_4 - a_{4,1} \\cdot x_1^{(8)} - a_{4,2} \\cdot x_2^{(8)} - a_{4,3} \\cdot x_3^{(8)}}{a_{4,4}}$"
      ],
      "text/plain": [
       "<IPython.core.display.Math object>"
      ]
     },
     "metadata": {},
     "output_type": "display_data"
    },
    {
     "data": {
      "text/latex": [
       "$\\displaystyle x_4^{(8)} = \\frac{15 - 0\\cdot1.1081760291311302 - 3\\cdot2.0063765948243844 - 5\\cdot-1.5377247866528254}{20} = 0.8334747074395488$"
      ],
      "text/plain": [
       "<IPython.core.display.Math object>"
      ]
     },
     "metadata": {},
     "output_type": "display_data"
    },
    {
     "data": {
      "text/latex": [
       "$\\displaystyle \\text{Evaluamos el criterio corte: } \\frac{|| X^{(8)} - X^{(7)} ||}{|| X^{(8)} ||} = 2.7284231829454327e-05 \\leq tol = 0.0001$"
      ],
      "text/plain": [
       "<IPython.core.display.Math object>"
      ]
     },
     "metadata": {},
     "output_type": "display_data"
    },
    {
     "data": {
      "text/latex": [
       "$\\displaystyle \\text{Y hemos encontrado nuestra solución aproximada: } X^{(8)} = \\begin{bmatrix}1.1081760291311302\\\\2.0063765948243844\\\\-1.5377247866528254\\\\0.8334747074395488\\\\\\end{bmatrix}$"
      ],
      "text/plain": [
       "<IPython.core.display.Math object>"
      ]
     },
     "metadata": {},
     "output_type": "display_data"
    },
    {
     "data": {
      "text/plain": [
       "array([ 1.10817603,  2.00637659, -1.53772479,  0.83347471])"
      ]
     },
     "execution_count": 10,
     "metadata": {},
     "output_type": "execute_result"
    }
   ],
   "source": [
    "resolverGaussSeidel(A,B,10**-4)"
   ]
  },
  {
   "cell_type": "markdown",
   "metadata": {
    "hideCode": false,
    "hidePrompt": false,
    "slideshow": {
     "slide_type": "slide"
    }
   },
   "source": [
    "### Metodo de las Sobrerrelajaciones Sucesivas (SOR):\n",
    "\n",
    "Este método tiene su convergencia asegurada para cualquier valor de $0 < \\omega < 2$ si la matriz A es definida positiva:\n",
    "\n",
    "$$x_i^{(k+1)} = (1-\\omega) \\cdot x_i^{(k)} + \\omega \\cdot \\frac{b_i-\\sum_{j=1}^{i-1}{a_{i,j}\\cdot x_j^{(k+1)}} - \\sum_{j=i+1}^{n}{a_{i,j}\\cdot x_j^{(k)}}}{a_{i,i}}$$\n",
    " \n",
    "Es interesante observar que si $\\omega = 1$ se convierte en el método de Gauss Seidel -por lo que aquel también converge si A es definida positiva.\n",
    "\n",
    "En el desarrollo de este código, incorporamos un parámetro `w` para representar a $\\omega$."
   ]
  },
  {
   "cell_type": "code",
   "execution_count": 11,
   "metadata": {
    "slideshow": {
     "slide_type": "slide"
    }
   },
   "outputs": [],
   "source": [
    "def resolverSOR(A, B, w, tol, pasos=True):\n",
    "    n = np.shape(A)[0]\n",
    "    X0 = np.zeros(n)\n",
    "    X1 = np.zeros(n)\n",
    "    iteracion = 0\n",
    "    dif = 2*tol\n",
    "    while (dif>tol and iteracion<100):\n",
    "        if (pasos):\n",
    "            display(Math(\"\\\\text{Vamos a realizar la \"+str(iteracion+1)+\"ª iteración}\")) \n",
    "            if (iteracion==0):\n",
    "                 display(Math(\"\\\\text{Adoptamos como vector inicial } X^{(0)} = \"+r\"\\begin{bmatrix} 0 \\\\ 0 \\\\ ... \\\\ 0 \\end{bmatrix}\"))            \n",
    "        for i in range (0,n):\n",
    "            X1[i] = B[i]\n",
    "            if (pasos):\n",
    "                display(Math(\"\\\\text{Vamos a calcular la \"+str(i+1)+\"ª componente de } X^{(\"+str(iteracion+1)+\")}\"))  \n",
    "                exp = \"x_\"+str(i+1)+\"^{(\"+str(iteracion+1)+\")} = (1-\\\\omega) \\\\cdot x_\"+str(i+1)+\"^{(\"+str(iteracion)+\")} + \\\\omega \\\\cdot \\\\frac{b_\"+str(i+1)\n",
    "                expN = \"x_\"+str(i+1)+\"^{(\"+str(iteracion+1)+\")} = (1-\"+str(w)+\") \\\\cdot \"+str(X0[i])+\" + \"+str(w)+\" \\\\cdot \\\\frac{\"+str(B[i])        \n",
    "            for j in range(0,i):\n",
    "                X1[i] -= A[i,j]*X1[j] \n",
    "                if (pasos):\n",
    "                    exp += \" - a_{\"+str(i+1)+\",\"+str(j+1)+\"} \\cdot x_\"+str(j+1)+\"^{(\"+str(iteracion+1)+\")}\"\n",
    "                    expN += \" - \"+str(A[i,j])+\"\\cdot\"+str(X1[j])\n",
    "            for j in range(i+1,n):\n",
    "                X1[i] -= A[i,j]*X0[j] \n",
    "                if (pasos):\n",
    "                    exp += \" - a_{\"+str(i+1)+\",\"+str(j+1)+\"} \\cdot x_\"+str(j+1)+\"^{(\"+str(iteracion)+\")}\"\n",
    "                    expN += \" - \"+str(A[i,j])+\"\\cdot\"+str(X0[j])                \n",
    "            X1[i] /= A[i,i]\n",
    "            X1[i] = (1-w) * X0[i] + w*X1[i]\n",
    "            if (pasos):\n",
    "                exp += \"}{a_{\"+str(i+1)+\",\"+str(i+1)+\"}}\"\n",
    "                expN += \"}{\"+str(A[i,i])+\"} = \"+str(X1[i])\n",
    "                display(Math(exp))\n",
    "                display(Math(expN))  \n",
    "        dif = np.linalg.norm(np.transpose(X1-X0),np.inf) / np.linalg.norm(X1.transpose(),np.inf)                \n",
    "        if (pasos):   \n",
    "            exp = \"\\\\text{Evaluamos el criterio corte: } \\\\frac{|| X^{(\"+str(iteracion+1)+\")} - X^{(\"+str(iteracion)+\")} ||}{|| X^{(\"+str(iteracion+1)+\")} ||} = \"+str(dif)            \n",
    "            if (dif>tol):\n",
    "                exp += \" > tol = \"+str(tol)\n",
    "                display(Math(exp)) \n",
    "            else:\n",
    "                exp +=  \" \\leq tol = \"+str(tol)\n",
    "                display(Math(exp)) \n",
    "                exp = \"\\\\text{Y hemos encontrado nuestra solución aproximada: } X^{(\"+str(iteracion+1)+\")} = \\\\begin{bmatrix}\"\n",
    "                for i in range (0,n):\n",
    "                    exp += str(X1[i])+r\"\\\\\"\n",
    "                exp += r\"\\end{bmatrix}\"\n",
    "                display(Math(exp))\n",
    "        X0 = X1.copy()\n",
    "        iteracion += 1\n",
    "    return X1 \n"
   ]
  },
  {
   "cell_type": "code",
   "execution_count": 15,
   "metadata": {
    "slideshow": {
     "slide_type": "slide"
    }
   },
   "outputs": [
    {
     "data": {
      "text/latex": [
       "$\\displaystyle \\text{Vamos a realizar la 1ª iteración}$"
      ],
      "text/plain": [
       "<IPython.core.display.Math object>"
      ]
     },
     "metadata": {},
     "output_type": "display_data"
    },
    {
     "data": {
      "text/latex": [
       "$\\displaystyle \\text{Adoptamos como vector inicial } X^{(0)} = \\begin{bmatrix} 0 \\\\ 0 \\\\ ... \\\\ 0 \\end{bmatrix}$"
      ],
      "text/plain": [
       "<IPython.core.display.Math object>"
      ]
     },
     "metadata": {},
     "output_type": "display_data"
    },
    {
     "data": {
      "text/latex": [
       "$\\displaystyle \\text{Vamos a calcular la 1ª componente de } X^{(1)}$"
      ],
      "text/plain": [
       "<IPython.core.display.Math object>"
      ]
     },
     "metadata": {},
     "output_type": "display_data"
    },
    {
     "data": {
      "text/latex": [
       "$\\displaystyle x_1^{(1)} = (1-\\omega) \\cdot x_1^{(0)} + \\omega \\cdot \\frac{b_1 - a_{1,2} \\cdot x_2^{(0)} - a_{1,3} \\cdot x_3^{(0)} - a_{1,4} \\cdot x_4^{(0)}}{a_{1,1}}$"
      ],
      "text/plain": [
       "<IPython.core.display.Math object>"
      ]
     },
     "metadata": {},
     "output_type": "display_data"
    },
    {
     "data": {
      "text/latex": [
       "$\\displaystyle x_1^{(1)} = (1-1.1) \\cdot 0.0 + 1.1 \\cdot \\frac{6 - -1\\cdot0.0 - 2\\cdot0.0 - 0\\cdot0.0}{10} = 0.66$"
      ],
      "text/plain": [
       "<IPython.core.display.Math object>"
      ]
     },
     "metadata": {},
     "output_type": "display_data"
    },
    {
     "data": {
      "text/latex": [
       "$\\displaystyle \\text{Vamos a calcular la 2ª componente de } X^{(1)}$"
      ],
      "text/plain": [
       "<IPython.core.display.Math object>"
      ]
     },
     "metadata": {},
     "output_type": "display_data"
    },
    {
     "data": {
      "text/latex": [
       "$\\displaystyle x_2^{(1)} = (1-\\omega) \\cdot x_2^{(0)} + \\omega \\cdot \\frac{b_2 - a_{2,1} \\cdot x_1^{(1)} - a_{2,3} \\cdot x_3^{(0)} - a_{2,4} \\cdot x_4^{(0)}}{a_{2,2}}$"
      ],
      "text/plain": [
       "<IPython.core.display.Math object>"
      ]
     },
     "metadata": {},
     "output_type": "display_data"
    },
    {
     "data": {
      "text/latex": [
       "$\\displaystyle x_2^{(1)} = (1-1.1) \\cdot 0.0 + 1.1 \\cdot \\frac{25 - -1\\cdot0.66 - -1\\cdot0.0 - 3\\cdot0.0}{11} = 2.566$"
      ],
      "text/plain": [
       "<IPython.core.display.Math object>"
      ]
     },
     "metadata": {},
     "output_type": "display_data"
    },
    {
     "data": {
      "text/latex": [
       "$\\displaystyle \\text{Vamos a calcular la 3ª componente de } X^{(1)}$"
      ],
      "text/plain": [
       "<IPython.core.display.Math object>"
      ]
     },
     "metadata": {},
     "output_type": "display_data"
    },
    {
     "data": {
      "text/latex": [
       "$\\displaystyle x_3^{(1)} = (1-\\omega) \\cdot x_3^{(0)} + \\omega \\cdot \\frac{b_3 - a_{3,1} \\cdot x_1^{(1)} - a_{3,2} \\cdot x_2^{(1)} - a_{3,4} \\cdot x_4^{(0)}}{a_{3,3}}$"
      ],
      "text/plain": [
       "<IPython.core.display.Math object>"
      ]
     },
     "metadata": {},
     "output_type": "display_data"
    },
    {
     "data": {
      "text/latex": [
       "$\\displaystyle x_3^{(1)} = (1-1.1) \\cdot 0.0 + 1.1 \\cdot \\frac{-11 - 2\\cdot0.66 - -1\\cdot2.566 - 5\\cdot0.0}{10} = -1.0729400000000002$"
      ],
      "text/plain": [
       "<IPython.core.display.Math object>"
      ]
     },
     "metadata": {},
     "output_type": "display_data"
    },
    {
     "data": {
      "text/latex": [
       "$\\displaystyle \\text{Vamos a calcular la 4ª componente de } X^{(1)}$"
      ],
      "text/plain": [
       "<IPython.core.display.Math object>"
      ]
     },
     "metadata": {},
     "output_type": "display_data"
    },
    {
     "data": {
      "text/latex": [
       "$\\displaystyle x_4^{(1)} = (1-\\omega) \\cdot x_4^{(0)} + \\omega \\cdot \\frac{b_4 - a_{4,1} \\cdot x_1^{(1)} - a_{4,2} \\cdot x_2^{(1)} - a_{4,3} \\cdot x_3^{(1)}}{a_{4,4}}$"
      ],
      "text/plain": [
       "<IPython.core.display.Math object>"
      ]
     },
     "metadata": {},
     "output_type": "display_data"
    },
    {
     "data": {
      "text/latex": [
       "$\\displaystyle x_4^{(1)} = (1-1.1) \\cdot 0.0 + 1.1 \\cdot \\frac{15 - 0\\cdot0.66 - 3\\cdot2.566 - 5\\cdot-1.0729400000000002}{20} = 0.6966685000000001$"
      ],
      "text/plain": [
       "<IPython.core.display.Math object>"
      ]
     },
     "metadata": {},
     "output_type": "display_data"
    },
    {
     "data": {
      "text/latex": [
       "$\\displaystyle \\text{Evaluamos el criterio corte: } \\frac{|| X^{(1)} - X^{(0)} ||}{|| X^{(1)} ||} = 1.0 > tol = 0.0001$"
      ],
      "text/plain": [
       "<IPython.core.display.Math object>"
      ]
     },
     "metadata": {},
     "output_type": "display_data"
    },
    {
     "data": {
      "text/latex": [
       "$\\displaystyle \\text{Vamos a realizar la 2ª iteración}$"
      ],
      "text/plain": [
       "<IPython.core.display.Math object>"
      ]
     },
     "metadata": {},
     "output_type": "display_data"
    },
    {
     "data": {
      "text/latex": [
       "$\\displaystyle \\text{Vamos a calcular la 1ª componente de } X^{(2)}$"
      ],
      "text/plain": [
       "<IPython.core.display.Math object>"
      ]
     },
     "metadata": {},
     "output_type": "display_data"
    },
    {
     "data": {
      "text/latex": [
       "$\\displaystyle x_1^{(2)} = (1-\\omega) \\cdot x_1^{(1)} + \\omega \\cdot \\frac{b_1 - a_{1,2} \\cdot x_2^{(1)} - a_{1,3} \\cdot x_3^{(1)} - a_{1,4} \\cdot x_4^{(1)}}{a_{1,1}}$"
      ],
      "text/plain": [
       "<IPython.core.display.Math object>"
      ]
     },
     "metadata": {},
     "output_type": "display_data"
    },
    {
     "data": {
      "text/latex": [
       "$\\displaystyle x_1^{(2)} = (1-1.1) \\cdot 0.66 + 1.1 \\cdot \\frac{6 - -1\\cdot2.566 - 2\\cdot-1.0729400000000002 - 0\\cdot0.6966685000000001}{10} = 1.1123067999999998$"
      ],
      "text/plain": [
       "<IPython.core.display.Math object>"
      ]
     },
     "metadata": {},
     "output_type": "display_data"
    },
    {
     "data": {
      "text/latex": [
       "$\\displaystyle \\text{Vamos a calcular la 2ª componente de } X^{(2)}$"
      ],
      "text/plain": [
       "<IPython.core.display.Math object>"
      ]
     },
     "metadata": {},
     "output_type": "display_data"
    },
    {
     "data": {
      "text/latex": [
       "$\\displaystyle x_2^{(2)} = (1-\\omega) \\cdot x_2^{(1)} + \\omega \\cdot \\frac{b_2 - a_{2,1} \\cdot x_1^{(2)} - a_{2,3} \\cdot x_3^{(1)} - a_{2,4} \\cdot x_4^{(1)}}{a_{2,2}}$"
      ],
      "text/plain": [
       "<IPython.core.display.Math object>"
      ]
     },
     "metadata": {},
     "output_type": "display_data"
    },
    {
     "data": {
      "text/latex": [
       "$\\displaystyle x_2^{(2)} = (1-1.1) \\cdot 2.566 + 1.1 \\cdot \\frac{25 - -1\\cdot1.1123067999999998 - -1\\cdot-1.0729400000000002 - 3\\cdot0.6966685000000001}{11} = 2.03833613$"
      ],
      "text/plain": [
       "<IPython.core.display.Math object>"
      ]
     },
     "metadata": {},
     "output_type": "display_data"
    },
    {
     "data": {
      "text/latex": [
       "$\\displaystyle \\text{Vamos a calcular la 3ª componente de } X^{(2)}$"
      ],
      "text/plain": [
       "<IPython.core.display.Math object>"
      ]
     },
     "metadata": {},
     "output_type": "display_data"
    },
    {
     "data": {
      "text/latex": [
       "$\\displaystyle x_3^{(2)} = (1-\\omega) \\cdot x_3^{(1)} + \\omega \\cdot \\frac{b_3 - a_{3,1} \\cdot x_1^{(2)} - a_{3,2} \\cdot x_2^{(2)} - a_{3,4} \\cdot x_4^{(1)}}{a_{3,3}}$"
      ],
      "text/plain": [
       "<IPython.core.display.Math object>"
      ]
     },
     "metadata": {},
     "output_type": "display_data"
    },
    {
     "data": {
      "text/latex": [
       "$\\displaystyle x_3^{(2)} = (1-1.1) \\cdot -1.0729400000000002 + 1.1 \\cdot \\frac{-11 - 2\\cdot1.1123067999999998 - -1\\cdot2.03833613 - 5\\cdot0.6966685000000001}{10} = -1.5063641966999999$"
      ],
      "text/plain": [
       "<IPython.core.display.Math object>"
      ]
     },
     "metadata": {},
     "output_type": "display_data"
    },
    {
     "data": {
      "text/latex": [
       "$\\displaystyle \\text{Vamos a calcular la 4ª componente de } X^{(2)}$"
      ],
      "text/plain": [
       "<IPython.core.display.Math object>"
      ]
     },
     "metadata": {},
     "output_type": "display_data"
    },
    {
     "data": {
      "text/latex": [
       "$\\displaystyle x_4^{(2)} = (1-\\omega) \\cdot x_4^{(1)} + \\omega \\cdot \\frac{b_4 - a_{4,1} \\cdot x_1^{(2)} - a_{4,2} \\cdot x_2^{(2)} - a_{4,3} \\cdot x_3^{(2)}}{a_{4,4}}$"
      ],
      "text/plain": [
       "<IPython.core.display.Math object>"
      ]
     },
     "metadata": {},
     "output_type": "display_data"
    },
    {
     "data": {
      "text/latex": [
       "$\\displaystyle x_4^{(2)} = (1-1.1) \\cdot 0.6966685000000001 + 1.1 \\cdot \\frac{15 - 0\\cdot1.1123067999999998 - 3\\cdot2.03833613 - 5\\cdot-1.5063641966999999}{20} = 0.8332578426424999$"
      ],
      "text/plain": [
       "<IPython.core.display.Math object>"
      ]
     },
     "metadata": {},
     "output_type": "display_data"
    },
    {
     "data": {
      "text/latex": [
       "$\\displaystyle \\text{Evaluamos el criterio corte: } \\frac{|| X^{(2)} - X^{(1)} ||}{|| X^{(2)} ||} = 0.2588698999315682 > tol = 0.0001$"
      ],
      "text/plain": [
       "<IPython.core.display.Math object>"
      ]
     },
     "metadata": {},
     "output_type": "display_data"
    },
    {
     "data": {
      "text/latex": [
       "$\\displaystyle \\text{Vamos a realizar la 3ª iteración}$"
      ],
      "text/plain": [
       "<IPython.core.display.Math object>"
      ]
     },
     "metadata": {},
     "output_type": "display_data"
    },
    {
     "data": {
      "text/latex": [
       "$\\displaystyle \\text{Vamos a calcular la 1ª componente de } X^{(3)}$"
      ],
      "text/plain": [
       "<IPython.core.display.Math object>"
      ]
     },
     "metadata": {},
     "output_type": "display_data"
    },
    {
     "data": {
      "text/latex": [
       "$\\displaystyle x_1^{(3)} = (1-\\omega) \\cdot x_1^{(2)} + \\omega \\cdot \\frac{b_1 - a_{1,2} \\cdot x_2^{(2)} - a_{1,3} \\cdot x_3^{(2)} - a_{1,4} \\cdot x_4^{(2)}}{a_{1,1}}$"
      ],
      "text/plain": [
       "<IPython.core.display.Math object>"
      ]
     },
     "metadata": {},
     "output_type": "display_data"
    },
    {
     "data": {
      "text/latex": [
       "$\\displaystyle x_1^{(3)} = (1-1.1) \\cdot 1.1123067999999998 + 1.1 \\cdot \\frac{6 - -1\\cdot2.03833613 - 2\\cdot-1.5063641966999999 - 0\\cdot0.8332578426424999}{10} = 1.104386417574$"
      ],
      "text/plain": [
       "<IPython.core.display.Math object>"
      ]
     },
     "metadata": {},
     "output_type": "display_data"
    },
    {
     "data": {
      "text/latex": [
       "$\\displaystyle \\text{Vamos a calcular la 2ª componente de } X^{(3)}$"
      ],
      "text/plain": [
       "<IPython.core.display.Math object>"
      ]
     },
     "metadata": {},
     "output_type": "display_data"
    },
    {
     "data": {
      "text/latex": [
       "$\\displaystyle x_2^{(3)} = (1-\\omega) \\cdot x_2^{(2)} + \\omega \\cdot \\frac{b_2 - a_{2,1} \\cdot x_1^{(3)} - a_{2,3} \\cdot x_3^{(2)} - a_{2,4} \\cdot x_4^{(2)}}{a_{2,2}}$"
      ],
      "text/plain": [
       "<IPython.core.display.Math object>"
      ]
     },
     "metadata": {},
     "output_type": "display_data"
    },
    {
     "data": {
      "text/latex": [
       "$\\displaystyle x_2^{(3)} = (1-1.1) \\cdot 2.03833613 + 1.1 \\cdot \\frac{25 - -1\\cdot1.104386417574 - -1\\cdot-1.5063641966999999 - 3\\cdot0.8332578426424999}{11} = 2.0059912562946502$"
      ],
      "text/plain": [
       "<IPython.core.display.Math object>"
      ]
     },
     "metadata": {},
     "output_type": "display_data"
    },
    {
     "data": {
      "text/latex": [
       "$\\displaystyle \\text{Vamos a calcular la 3ª componente de } X^{(3)}$"
      ],
      "text/plain": [
       "<IPython.core.display.Math object>"
      ]
     },
     "metadata": {},
     "output_type": "display_data"
    },
    {
     "data": {
      "text/latex": [
       "$\\displaystyle x_3^{(3)} = (1-\\omega) \\cdot x_3^{(2)} + \\omega \\cdot \\frac{b_3 - a_{3,1} \\cdot x_1^{(3)} - a_{3,2} \\cdot x_2^{(3)} - a_{3,4} \\cdot x_4^{(2)}}{a_{3,3}}$"
      ],
      "text/plain": [
       "<IPython.core.display.Math object>"
      ]
     },
     "metadata": {},
     "output_type": "display_data"
    },
    {
     "data": {
      "text/latex": [
       "$\\displaystyle x_3^{(3)} = (1-1.1) \\cdot -1.5063641966999999 + 1.1 \\cdot \\frac{-11 - 2\\cdot1.104386417574 - -1\\cdot2.0059912562946502 - 5\\cdot0.8332578426424999}{10} = -1.5399613674572437$"
      ],
      "text/plain": [
       "<IPython.core.display.Math object>"
      ]
     },
     "metadata": {},
     "output_type": "display_data"
    },
    {
     "data": {
      "text/latex": [
       "$\\displaystyle \\text{Vamos a calcular la 4ª componente de } X^{(3)}$"
      ],
      "text/plain": [
       "<IPython.core.display.Math object>"
      ]
     },
     "metadata": {},
     "output_type": "display_data"
    },
    {
     "data": {
      "text/latex": [
       "$\\displaystyle x_4^{(3)} = (1-\\omega) \\cdot x_4^{(2)} + \\omega \\cdot \\frac{b_4 - a_{4,1} \\cdot x_1^{(3)} - a_{4,2} \\cdot x_2^{(3)} - a_{4,3} \\cdot x_3^{(3)}}{a_{4,4}}$"
      ],
      "text/plain": [
       "<IPython.core.display.Math object>"
      ]
     },
     "metadata": {},
     "output_type": "display_data"
    },
    {
     "data": {
      "text/latex": [
       "$\\displaystyle x_4^{(3)} = (1-1.1) \\cdot 0.8332578426424999 + 1.1 \\cdot \\frac{15 - 0\\cdot1.104386417574 - 3\\cdot2.0059912562946502 - 5\\cdot-1.5399613674572437}{20} = 0.8341750344978746$"
      ],
      "text/plain": [
       "<IPython.core.display.Math object>"
      ]
     },
     "metadata": {},
     "output_type": "display_data"
    },
    {
     "data": {
      "text/latex": [
       "$\\displaystyle \\text{Evaluamos el criterio corte: } \\frac{|| X^{(3)} - X^{(2)} ||}{|| X^{(3)} ||} = 0.016748413360137226 > tol = 0.0001$"
      ],
      "text/plain": [
       "<IPython.core.display.Math object>"
      ]
     },
     "metadata": {},
     "output_type": "display_data"
    },
    {
     "data": {
      "text/latex": [
       "$\\displaystyle \\text{Vamos a realizar la 4ª iteración}$"
      ],
      "text/plain": [
       "<IPython.core.display.Math object>"
      ]
     },
     "metadata": {},
     "output_type": "display_data"
    },
    {
     "data": {
      "text/latex": [
       "$\\displaystyle \\text{Vamos a calcular la 1ª componente de } X^{(4)}$"
      ],
      "text/plain": [
       "<IPython.core.display.Math object>"
      ]
     },
     "metadata": {},
     "output_type": "display_data"
    },
    {
     "data": {
      "text/latex": [
       "$\\displaystyle x_1^{(4)} = (1-\\omega) \\cdot x_1^{(3)} + \\omega \\cdot \\frac{b_1 - a_{1,2} \\cdot x_2^{(3)} - a_{1,3} \\cdot x_3^{(3)} - a_{1,4} \\cdot x_4^{(3)}}{a_{1,1}}$"
      ],
      "text/plain": [
       "<IPython.core.display.Math object>"
      ]
     },
     "metadata": {},
     "output_type": "display_data"
    },
    {
     "data": {
      "text/latex": [
       "$\\displaystyle x_1^{(4)} = (1-1.1) \\cdot 1.104386417574 + 1.1 \\cdot \\frac{6 - -1\\cdot2.0059912562946502 - 2\\cdot-1.5399613674572437 - 0\\cdot0.8341750344978746}{10} = 1.109011897275605$"
      ],
      "text/plain": [
       "<IPython.core.display.Math object>"
      ]
     },
     "metadata": {},
     "output_type": "display_data"
    },
    {
     "data": {
      "text/latex": [
       "$\\displaystyle \\text{Vamos a calcular la 2ª componente de } X^{(4)}$"
      ],
      "text/plain": [
       "<IPython.core.display.Math object>"
      ]
     },
     "metadata": {},
     "output_type": "display_data"
    },
    {
     "data": {
      "text/latex": [
       "$\\displaystyle x_2^{(4)} = (1-\\omega) \\cdot x_2^{(3)} + \\omega \\cdot \\frac{b_2 - a_{2,1} \\cdot x_1^{(4)} - a_{2,3} \\cdot x_3^{(3)} - a_{2,4} \\cdot x_4^{(3)}}{a_{2,2}}$"
      ],
      "text/plain": [
       "<IPython.core.display.Math object>"
      ]
     },
     "metadata": {},
     "output_type": "display_data"
    },
    {
     "data": {
      "text/latex": [
       "$\\displaystyle x_2^{(4)} = (1-1.1) \\cdot 2.0059912562946502 + 1.1 \\cdot \\frac{25 - -1\\cdot1.109011897275605 - -1\\cdot-1.5399613674572437 - 3\\cdot0.8341750344978746}{11} = 2.0060534170030087$"
      ],
      "text/plain": [
       "<IPython.core.display.Math object>"
      ]
     },
     "metadata": {},
     "output_type": "display_data"
    },
    {
     "data": {
      "text/latex": [
       "$\\displaystyle \\text{Vamos a calcular la 3ª componente de } X^{(4)}$"
      ],
      "text/plain": [
       "<IPython.core.display.Math object>"
      ]
     },
     "metadata": {},
     "output_type": "display_data"
    },
    {
     "data": {
      "text/latex": [
       "$\\displaystyle x_3^{(4)} = (1-\\omega) \\cdot x_3^{(3)} + \\omega \\cdot \\frac{b_3 - a_{3,1} \\cdot x_1^{(4)} - a_{3,2} \\cdot x_2^{(4)} - a_{3,4} \\cdot x_4^{(3)}}{a_{3,3}}$"
      ],
      "text/plain": [
       "<IPython.core.display.Math object>"
      ]
     },
     "metadata": {},
     "output_type": "display_data"
    },
    {
     "data": {
      "text/latex": [
       "$\\displaystyle x_3^{(4)} = (1-1.1) \\cdot -1.5399613674572437 + 1.1 \\cdot \\frac{-11 - 2\\cdot1.109011897275605 - -1\\cdot2.0060534170030087 - 5\\cdot0.8341750344978746}{10} = -1.5381168737584088$"
      ],
      "text/plain": [
       "<IPython.core.display.Math object>"
      ]
     },
     "metadata": {},
     "output_type": "display_data"
    },
    {
     "data": {
      "text/latex": [
       "$\\displaystyle \\text{Vamos a calcular la 4ª componente de } X^{(4)}$"
      ],
      "text/plain": [
       "<IPython.core.display.Math object>"
      ]
     },
     "metadata": {},
     "output_type": "display_data"
    },
    {
     "data": {
      "text/latex": [
       "$\\displaystyle x_4^{(4)} = (1-\\omega) \\cdot x_4^{(3)} + \\omega \\cdot \\frac{b_4 - a_{4,1} \\cdot x_1^{(4)} - a_{4,2} \\cdot x_2^{(4)} - a_{4,3} \\cdot x_3^{(4)}}{a_{4,4}}$"
      ],
      "text/plain": [
       "<IPython.core.display.Math object>"
      ]
     },
     "metadata": {},
     "output_type": "display_data"
    },
    {
     "data": {
      "text/latex": [
       "$\\displaystyle x_4^{(4)} = (1-1.1) \\cdot 0.8341750344978746 + 1.1 \\cdot \\frac{15 - 0\\cdot1.109011897275605 - 3\\cdot2.0060534170030087 - 5\\cdot-1.5381168737584088}{20} = 0.8335658230282784$"
      ],
      "text/plain": [
       "<IPython.core.display.Math object>"
      ]
     },
     "metadata": {},
     "output_type": "display_data"
    },
    {
     "data": {
      "text/latex": [
       "$\\displaystyle \\text{Evaluamos el criterio corte: } \\frac{|| X^{(4)} - X^{(3)} ||}{|| X^{(4)} ||} = 0.0023057609844284854 > tol = 0.0001$"
      ],
      "text/plain": [
       "<IPython.core.display.Math object>"
      ]
     },
     "metadata": {},
     "output_type": "display_data"
    },
    {
     "data": {
      "text/latex": [
       "$\\displaystyle \\text{Vamos a realizar la 5ª iteración}$"
      ],
      "text/plain": [
       "<IPython.core.display.Math object>"
      ]
     },
     "metadata": {},
     "output_type": "display_data"
    },
    {
     "data": {
      "text/latex": [
       "$\\displaystyle \\text{Vamos a calcular la 1ª componente de } X^{(5)}$"
      ],
      "text/plain": [
       "<IPython.core.display.Math object>"
      ]
     },
     "metadata": {},
     "output_type": "display_data"
    },
    {
     "data": {
      "text/latex": [
       "$\\displaystyle x_1^{(5)} = (1-\\omega) \\cdot x_1^{(4)} + \\omega \\cdot \\frac{b_1 - a_{1,2} \\cdot x_2^{(4)} - a_{1,3} \\cdot x_3^{(4)} - a_{1,4} \\cdot x_4^{(4)}}{a_{1,1}}$"
      ],
      "text/plain": [
       "<IPython.core.display.Math object>"
      ]
     },
     "metadata": {},
     "output_type": "display_data"
    },
    {
     "data": {
      "text/latex": [
       "$\\displaystyle x_1^{(5)} = (1-1.1) \\cdot 1.109011897275605 + 1.1 \\cdot \\frac{6 - -1\\cdot2.0060534170030087 - 2\\cdot-1.5381168737584088 - 0\\cdot0.8335658230282784}{10} = 1.1081503983696204$"
      ],
      "text/plain": [
       "<IPython.core.display.Math object>"
      ]
     },
     "metadata": {},
     "output_type": "display_data"
    },
    {
     "data": {
      "text/latex": [
       "$\\displaystyle \\text{Vamos a calcular la 2ª componente de } X^{(5)}$"
      ],
      "text/plain": [
       "<IPython.core.display.Math object>"
      ]
     },
     "metadata": {},
     "output_type": "display_data"
    },
    {
     "data": {
      "text/latex": [
       "$\\displaystyle x_2^{(5)} = (1-\\omega) \\cdot x_2^{(4)} + \\omega \\cdot \\frac{b_2 - a_{2,1} \\cdot x_1^{(5)} - a_{2,3} \\cdot x_3^{(4)} - a_{2,4} \\cdot x_4^{(4)}}{a_{2,2}}$"
      ],
      "text/plain": [
       "<IPython.core.display.Math object>"
      ]
     },
     "metadata": {},
     "output_type": "display_data"
    },
    {
     "data": {
      "text/latex": [
       "$\\displaystyle x_2^{(5)} = (1-1.1) \\cdot 2.0060534170030087 + 1.1 \\cdot \\frac{25 - -1\\cdot1.1081503983696204 - -1\\cdot-1.5381168737584088 - 3\\cdot0.8335658230282784}{11} = 2.0063282638523368$"
      ],
      "text/plain": [
       "<IPython.core.display.Math object>"
      ]
     },
     "metadata": {},
     "output_type": "display_data"
    },
    {
     "data": {
      "text/latex": [
       "$\\displaystyle \\text{Vamos a calcular la 3ª componente de } X^{(5)}$"
      ],
      "text/plain": [
       "<IPython.core.display.Math object>"
      ]
     },
     "metadata": {},
     "output_type": "display_data"
    },
    {
     "data": {
      "text/latex": [
       "$\\displaystyle x_3^{(5)} = (1-\\omega) \\cdot x_3^{(4)} + \\omega \\cdot \\frac{b_3 - a_{3,1} \\cdot x_1^{(5)} - a_{3,2} \\cdot x_2^{(5)} - a_{3,4} \\cdot x_4^{(4)}}{a_{3,3}}$"
      ],
      "text/plain": [
       "<IPython.core.display.Math object>"
      ]
     },
     "metadata": {},
     "output_type": "display_data"
    },
    {
     "data": {
      "text/latex": [
       "$\\displaystyle x_3^{(5)} = (1-1.1) \\cdot -1.5381168737584088 + 1.1 \\cdot \\frac{-11 - 2\\cdot1.1081503983696204 - -1\\cdot2.0063282638523368 - 5\\cdot0.8335658230282784}{10} = -1.5377464939072716$"
      ],
      "text/plain": [
       "<IPython.core.display.Math object>"
      ]
     },
     "metadata": {},
     "output_type": "display_data"
    },
    {
     "data": {
      "text/latex": [
       "$\\displaystyle \\text{Vamos a calcular la 4ª componente de } X^{(5)}$"
      ],
      "text/plain": [
       "<IPython.core.display.Math object>"
      ]
     },
     "metadata": {},
     "output_type": "display_data"
    },
    {
     "data": {
      "text/latex": [
       "$\\displaystyle x_4^{(5)} = (1-\\omega) \\cdot x_4^{(4)} + \\omega \\cdot \\frac{b_4 - a_{4,1} \\cdot x_1^{(5)} - a_{4,2} \\cdot x_2^{(5)} - a_{4,3} \\cdot x_3^{(5)}}{a_{4,4}}$"
      ],
      "text/plain": [
       "<IPython.core.display.Math object>"
      ]
     },
     "metadata": {},
     "output_type": "display_data"
    },
    {
     "data": {
      "text/latex": [
       "$\\displaystyle x_4^{(5)} = (1-1.1) \\cdot 0.8335658230282784 + 1.1 \\cdot \\frac{15 - 0\\cdot1.1081503983696204 - 3\\cdot2.0063282638523368 - 5\\cdot-1.5377464939072716}{20} = 0.8334795399860362$"
      ],
      "text/plain": [
       "<IPython.core.display.Math object>"
      ]
     },
     "metadata": {},
     "output_type": "display_data"
    },
    {
     "data": {
      "text/latex": [
       "$\\displaystyle \\text{Evaluamos el criterio corte: } \\frac{|| X^{(5)} - X^{(4)} ||}{|| X^{(5)} ||} = 0.0004293908038410264 > tol = 0.0001$"
      ],
      "text/plain": [
       "<IPython.core.display.Math object>"
      ]
     },
     "metadata": {},
     "output_type": "display_data"
    },
    {
     "data": {
      "text/latex": [
       "$\\displaystyle \\text{Vamos a realizar la 6ª iteración}$"
      ],
      "text/plain": [
       "<IPython.core.display.Math object>"
      ]
     },
     "metadata": {},
     "output_type": "display_data"
    },
    {
     "data": {
      "text/latex": [
       "$\\displaystyle \\text{Vamos a calcular la 1ª componente de } X^{(6)}$"
      ],
      "text/plain": [
       "<IPython.core.display.Math object>"
      ]
     },
     "metadata": {},
     "output_type": "display_data"
    },
    {
     "data": {
      "text/latex": [
       "$\\displaystyle x_1^{(6)} = (1-\\omega) \\cdot x_1^{(5)} + \\omega \\cdot \\frac{b_1 - a_{1,2} \\cdot x_2^{(5)} - a_{1,3} \\cdot x_3^{(5)} - a_{1,4} \\cdot x_4^{(5)}}{a_{1,1}}$"
      ],
      "text/plain": [
       "<IPython.core.display.Math object>"
      ]
     },
     "metadata": {},
     "output_type": "display_data"
    },
    {
     "data": {
      "text/latex": [
       "$\\displaystyle x_1^{(6)} = (1-1.1) \\cdot 1.1081503983696204 + 1.1 \\cdot \\frac{6 - -1\\cdot2.0063282638523368 - 2\\cdot-1.5377464939072716 - 0\\cdot0.8334795399860362}{10} = 1.108185297846395$"
      ],
      "text/plain": [
       "<IPython.core.display.Math object>"
      ]
     },
     "metadata": {},
     "output_type": "display_data"
    },
    {
     "data": {
      "text/latex": [
       "$\\displaystyle \\text{Vamos a calcular la 2ª componente de } X^{(6)}$"
      ],
      "text/plain": [
       "<IPython.core.display.Math object>"
      ]
     },
     "metadata": {},
     "output_type": "display_data"
    },
    {
     "data": {
      "text/latex": [
       "$\\displaystyle x_2^{(6)} = (1-\\omega) \\cdot x_2^{(5)} + \\omega \\cdot \\frac{b_2 - a_{2,1} \\cdot x_1^{(6)} - a_{2,3} \\cdot x_3^{(5)} - a_{2,4} \\cdot x_4^{(5)}}{a_{2,2}}$"
      ],
      "text/plain": [
       "<IPython.core.display.Math object>"
      ]
     },
     "metadata": {},
     "output_type": "display_data"
    },
    {
     "data": {
      "text/latex": [
       "$\\displaystyle x_2^{(6)} = (1-1.1) \\cdot 2.0063282638523368 + 1.1 \\cdot \\frac{25 - -1\\cdot1.108185297846395 - -1\\cdot-1.5377464939072716 - 3\\cdot0.8334795399860362}{11} = 2.006367192012868$"
      ],
      "text/plain": [
       "<IPython.core.display.Math object>"
      ]
     },
     "metadata": {},
     "output_type": "display_data"
    },
    {
     "data": {
      "text/latex": [
       "$\\displaystyle \\text{Vamos a calcular la 3ª componente de } X^{(6)}$"
      ],
      "text/plain": [
       "<IPython.core.display.Math object>"
      ]
     },
     "metadata": {},
     "output_type": "display_data"
    },
    {
     "data": {
      "text/latex": [
       "$\\displaystyle x_3^{(6)} = (1-\\omega) \\cdot x_3^{(5)} + \\omega \\cdot \\frac{b_3 - a_{3,1} \\cdot x_1^{(6)} - a_{3,2} \\cdot x_2^{(6)} - a_{3,4} \\cdot x_4^{(5)}}{a_{3,3}}$"
      ],
      "text/plain": [
       "<IPython.core.display.Math object>"
      ]
     },
     "metadata": {},
     "output_type": "display_data"
    },
    {
     "data": {
      "text/latex": [
       "$\\displaystyle x_3^{(6)} = (1-1.1) \\cdot -1.5377464939072716 + 1.1 \\cdot \\frac{-11 - 2\\cdot1.108185297846395 - -1\\cdot2.006367192012868 - 5\\cdot0.8334795399860362}{10} = -1.5377394720063844$"
      ],
      "text/plain": [
       "<IPython.core.display.Math object>"
      ]
     },
     "metadata": {},
     "output_type": "display_data"
    },
    {
     "data": {
      "text/latex": [
       "$\\displaystyle \\text{Vamos a calcular la 4ª componente de } X^{(6)}$"
      ],
      "text/plain": [
       "<IPython.core.display.Math object>"
      ]
     },
     "metadata": {},
     "output_type": "display_data"
    },
    {
     "data": {
      "text/latex": [
       "$\\displaystyle x_4^{(6)} = (1-\\omega) \\cdot x_4^{(5)} + \\omega \\cdot \\frac{b_4 - a_{4,1} \\cdot x_1^{(6)} - a_{4,2} \\cdot x_2^{(6)} - a_{4,3} \\cdot x_3^{(6)}}{a_{4,4}}$"
      ],
      "text/plain": [
       "<IPython.core.display.Math object>"
      ]
     },
     "metadata": {},
     "output_type": "display_data"
    },
    {
     "data": {
      "text/latex": [
       "$\\displaystyle x_4^{(6)} = (1-1.1) \\cdot 0.8334795399860362 + 1.1 \\cdot \\frac{15 - 0\\cdot1.108185297846395 - 3\\cdot2.006367192012868 - 5\\cdot-1.5377394720063844}{20} = 0.8334798141210288$"
      ],
      "text/plain": [
       "<IPython.core.display.Math object>"
      ]
     },
     "metadata": {},
     "output_type": "display_data"
    },
    {
     "data": {
      "text/latex": [
       "$\\displaystyle \\text{Evaluamos el criterio corte: } \\frac{|| X^{(6)} - X^{(5)} ||}{|| X^{(6)} ||} = 1.9402311145263378e-05 \\leq tol = 0.0001$"
      ],
      "text/plain": [
       "<IPython.core.display.Math object>"
      ]
     },
     "metadata": {},
     "output_type": "display_data"
    },
    {
     "data": {
      "text/latex": [
       "$\\displaystyle \\text{Y hemos encontrado nuestra solución aproximada: } X^{(6)} = \\begin{bmatrix}1.108185297846395\\\\2.006367192012868\\\\-1.5377394720063844\\\\0.8334798141210288\\\\\\end{bmatrix}$"
      ],
      "text/plain": [
       "<IPython.core.display.Math object>"
      ]
     },
     "metadata": {},
     "output_type": "display_data"
    },
    {
     "data": {
      "text/plain": [
       "array([ 1.1081853 ,  2.00636719, -1.53773947,  0.83347981])"
      ]
     },
     "execution_count": 15,
     "metadata": {},
     "output_type": "execute_result"
    }
   ],
   "source": [
    "resolverSOR(A,B,1.1,10**-4)"
   ]
  }
 ],
 "metadata": {
  "celltoolbar": "Slideshow",
  "hide_code_all_hidden": true,
  "kernelspec": {
   "display_name": "Python 3",
   "language": "python",
   "name": "python3"
  },
  "language_info": {
   "codemirror_mode": {
    "name": "ipython",
    "version": 3
   },
   "file_extension": ".py",
   "mimetype": "text/x-python",
   "name": "python",
   "nbconvert_exporter": "python",
   "pygments_lexer": "ipython3",
   "version": "3.7.6"
  },
  "rise": {
   "scroll": true
  }
 },
 "nbformat": 4,
 "nbformat_minor": 4
}
