{
 "cells": [
  {
   "cell_type": "markdown",
   "metadata": {
    "hideCode": false,
    "hidePrompt": false,
    "slideshow": {
     "slide_type": "slide"
    }
   },
   "source": [
    "![Curso Schwarz-Sosa-Suriano](http://www.fi.uba.ar/sites/default/files/logo.png)\n",
    "# Sistemas de Ecuaciones Lineales\n",
    "## Métodos Directos\n",
    "***\n",
    "**Curso Schwarz - Sosa - Suriano**\n",
    "- Métodos Numéricos. *Curso 2*\n",
    "- Análisis Numérico I. *Curso 4*\n",
    "- Métodos Matemáticos y Numéricos. *Curso 6*"
   ]
  },
  {
   "cell_type": "markdown",
   "metadata": {
    "hideCode": false,
    "hidePrompt": false,
    "slideshow": {
     "slide_type": "slide"
    }
   },
   "source": [
    "### Factorización de Matrices:\n",
    "\n",
    "Resolver un SEL cualquiera, sin que la matriz A sea particularmente rala, mediante eliminación Gaussiana requiere una cantidad de operaciones $O({n^3}/3)$ siendo $n$ la cantidad de ecuaciones del sistema.\n",
    "\n",
    "Si por el contrario tenemos una matriz A que sea diagonal inferior o diagonal superior,  se requiere una cantidad de operaciones proporcional a $O(n^2)$. "
   ]
  },
  {
   "cell_type": "markdown",
   "metadata": {
    "hideCode": false,
    "hidePrompt": false,
    "slideshow": {
     "slide_type": "fragment"
    }
   },
   "source": [
    "Una forma de aprovechar esta reducción sustancial en la cantidad de opraciones necesarias es factorizando $A$ en la forma $A = L \\cdot U$, donde $L$ es diagonal inferior y $U$ es diagonal superior. De esta manera:\n",
    "1. Resolvemos primero $L \\cdot Y = B $ \n",
    "2. Y finalmente $U \\cdot X = Y $"
   ]
  },
  {
   "cell_type": "markdown",
   "metadata": {
    "hideCode": false,
    "hidePrompt": false,
    "slideshow": {
     "slide_type": "fragment"
    }
   },
   "source": [
    "Con esto conseguiremos reducir la cantidad de operaciones de $O({n^3}/3)$ a $O(2.{n^2})$ para resolver el mismo SEL."
   ]
  },
  {
   "cell_type": "markdown",
   "metadata": {
    "hideCode": false,
    "hidePrompt": false,
    "slideshow": {
     "slide_type": "slide"
    }
   },
   "source": [
    "Ahora bien, ¿cuál es el costo computacional de la factorización?"
   ]
  },
  {
   "cell_type": "markdown",
   "metadata": {
    "hideCode": false,
    "hidePrompt": false,
    "slideshow": {
     "slide_type": "fragment"
    }
   },
   "source": [
    "Lamentablemente, la cantidad de operaciones necesarias es también $O({n^3}/3)$."
   ]
  },
  {
   "cell_type": "markdown",
   "metadata": {
    "hideCode": false,
    "hidePrompt": false,
    "slideshow": {
     "slide_type": "fragment"
    }
   },
   "source": [
    "No obstante, cada vez que debamos recalcular un SEL que comparta la misma matriz A con nuestro sistema original, requeriremos solamente  $O(2.{n^2})$ operaciones, por lo que el esfuerzo de la factorización será siempre justificado."
   ]
  },
  {
   "cell_type": "markdown",
   "metadata": {
    "hideCode": false,
    "hidePrompt": false,
    "slideshow": {
     "slide_type": "fragment"
    }
   },
   "source": [
    "Antes de avanzar con los métodos de factorización, vamos a presentar el problema con el que trabajaremos, definiendo para ello la matriz A y el vector B:"
   ]
  },
  {
   "cell_type": "code",
   "execution_count": 1,
   "metadata": {
    "hideCode": false,
    "hidePrompt": false,
    "slideshow": {
     "slide_type": "skip"
    }
   },
   "outputs": [
    {
     "name": "stdout",
     "output_type": "stream",
     "text": [
      "[[15  9  9 11]\n",
      " [ 9 12  7  8]\n",
      " [ 9  7  7  7]\n",
      " [11  8  7 10]]\n"
     ]
    }
   ],
   "source": [
    "import numpy as np\n",
    "A = np.matrix([[15,  9,  9, 11], [ 9, 12,  7,  8], [ 9,  7,  7,  7], [11,  8,  7, 10]])\n",
    "print(A)\n",
    "B = np.array([1,2,3,3])"
   ]
  },
  {
   "cell_type": "code",
   "execution_count": 2,
   "metadata": {
    "hideCode": false,
    "hidePrompt": false,
    "slideshow": {
     "slide_type": "fragment"
    }
   },
   "outputs": [
    {
     "name": "stdout",
     "output_type": "stream",
     "text": [
      "[[15  9  9]\n",
      " [ 9 12  7]\n",
      " [ 9  7  7]]\n"
     ]
    }
   ],
   "source": [
    "import numpy as np\n",
    "B = np.array([1,2,3])\n",
    "A = np.matrix([[15,  9,  9], [ 9, 12,  7], [ 9,  7,  7]])\n",
    "print(A)"
   ]
  },
  {
   "cell_type": "markdown",
   "metadata": {
    "hideCode": false,
    "hidePrompt": false,
    "slideshow": {
     "slide_type": "slide"
    }
   },
   "source": [
    "### Factorización de Doolittle:\n",
    "\n",
    "$$L_{i,i} . U_{i,i} = A_{i,i} - \\sum_{k=1}^{i-1}{L_{i,k}.U_{k,i}} \\hspace{5mm} con \\hspace{5mm} L_{i,i} = 1 \\implies\n",
    "U_{i,i} = A_{i,i} - \\sum_{k=1}^{i-1}{L_{i,k}.U_{k,i}}$$\n",
    "\n",
    "$$U_{i,j} = \\frac{A_{i,j} - \\sum_{k=1}^{i-1}{L_{i,k}.U_{k,j}}}{L_{i,i}} \\hspace{10mm} L_{j,i} = \\frac{A_{j,i} - \\sum_{k=1}^{i-1}{L_{j,k}.U_{k,i}}}{U_{i,i}}  \\hspace{5mm} con \\hspace{5mm} j \\in [i+1,n] $$"
   ]
  },
  {
   "cell_type": "markdown",
   "metadata": {
    "hideCode": false,
    "hidePrompt": false,
    "slideshow": {
     "slide_type": "fragment"
    }
   },
   "source": [
    "En el bloque de código encontrarán una función `factorizarDoolittle` que permite realizar la factorización , y otra `bmatrix` que nos permite presentar una matriz en forma un poco más estética en formato $\\LaTeX$."
   ]
  },
  {
   "cell_type": "markdown",
   "metadata": {
    "hideCode": false,
    "hidePrompt": false,
    "slideshow": {
     "slide_type": "fragment"
    }
   },
   "source": [
    "Para factorizar una matriz A bastará con hacer `factorizarDoolittle(A)`, y además de obtener L y U como parámetros de salida, obtendrán una visualización en $\\LaTeX$ paso a paso. \n",
    "\n",
    "Si solamente quieren factorizar sin que aparezca la resolución paso a paso, basta con hacer `factorizarDoolittle(A, False)`\n",
    "\n",
    "Y si quieren obtener un código más limpio, sin ninguna referencia de paso a paso, pueden eliminar cada uno de los bloques que comienzan con `if (pasos):`"
   ]
  },
  {
   "cell_type": "code",
   "execution_count": 3,
   "metadata": {
    "hideCode": false,
    "hidePrompt": false,
    "slideshow": {
     "slide_type": "slide"
    }
   },
   "outputs": [],
   "source": [
    "from IPython.display import display, Math\n",
    "\n",
    "def factorizarDoolittle(A,pasos=True):\n",
    "    n = np.shape(A)[0]\n",
    "    L = np.zeros((n,n))\n",
    "    U = np.zeros((n,n))\n",
    "    for i in range (0,n):\n",
    "        L[i,i] = 1\n",
    "        U[i,i] = A[i,i]  \n",
    "        if (pasos):\n",
    "            display(Math(\"\\\\text{Vamos a calcular la \"+str(i+1)+\"ª fila de U y la \"+str(i+1)+\"ª columna de L}\"))\n",
    "            display(Math(\"\\\\text{Por definición } L_{\"+str(i+1)+\",\"+str(i+1)+\"} = 1\"))                      \n",
    "            display(Math(\"\\\\text{Y para U:}\"))    \n",
    "            exp = \"U_{\"+str(i+1)+\",\"+str(i+1)+\"} = A_{\"+str(i+1)+\",\"+str(i+1)+\"}\"\n",
    "            expN = \"U_{\"+str(i+1)+\",\"+str(i+1)+\"} = \"+str(A[i,i])        \n",
    "        for k in range(0,i):\n",
    "            U[i,i] -= L[i,k]*U[k,i] \n",
    "            if (pasos):\n",
    "                exp += \" - L_{\"+str(i+1)+\",\"+str(k+1)+\"} \\cdot U_{\"+str(k+1)+\",\"+str(i+1)+\"}\"\n",
    "                expN += \" - \"+str(L[i,k])+\"\\cdot\"+str(U[k,i])\n",
    "        if (pasos):\n",
    "            expN += \"=\"+str(U[i,i])            \n",
    "            if (i>2):\n",
    "                display(Math(exp))\n",
    "                display(Math(expN))\n",
    "            else:\n",
    "                display(Math(exp+\"\\\\implies \"+expN))\n",
    "            display(Math(\"\\\\text{Seguimos con la \"+str(i+1)+\"ª fila de U y la \"+str(i+1)+\"ª columna de L }\"))            \n",
    "        for j in range (i+1,n):         \n",
    "            U[i,j] = A[i,j]             \n",
    "            L[j,i] = A[j,i]\n",
    "            if (pasos):\n",
    "                exp1 = \"U_{\"+str(i+1)+\",\"+str(j+1)+\"} = \\\\frac{A_{\"+str(i+1)+\",\"+str(j+1)+\"}\"  \n",
    "                exp1N = \"U_{\"+str(i+1)+\",\"+str(j+1)+\"} = \\\\frac{\"+str(A[i,j])\n",
    "                exp2 = \"L_{\"+str(j+1)+\",\"+str(i+1)+\"} = \\\\frac{A_{\"+str(j+1)+\",\"+str(i+1)+\"}\" \n",
    "                exp2N = \"L_{\"+str(j+1)+\",\"+str(i+1)+\"} = \\\\frac{\"+str(A[j,i])                \n",
    "            for k in range(0,i):           \n",
    "                U[i,j] -= L[i,k]*U[k,j]                  \n",
    "                L[j,i] -= L[j,k]*U[k,i] \n",
    "                if (pasos):\n",
    "                    exp1  += \" - L_{\"+str(i+1)+\",\"+str(k+1)+\"} \\cdot U_{\"+str(k+1)+\",\"+str(j+1)+\"}\"  \n",
    "                    exp1N += \" - \"+str(L[i,k])+\" \\cdot \"+str(U[k,j])                     \n",
    "                    exp2  += \" - L_{\"+str(j+1)+\",\"+str(k+1)+\"} \\cdot U_{\"+str(k+1)+\",\"+str(i+1)+\"}\" \n",
    "                    exp2N += \" - \"+str(L[j,k])+\" \\cdot \"+str(U[k,i])                     \n",
    "            U[i,j] = U[i,j]/L[i,i] \n",
    "            L[j,i] = L[j,i]/U[i,i]\n",
    "            if (pasos):\n",
    "                exp1  += \"}{L_{\"+str(i+1)+\",\"+str(i+1)+\"}}\"   \n",
    "                exp1N += \"}{1} = \"+str(U[i,j])               \n",
    "                exp2  += \"}{U_{\"+str(i+1)+\",\"+str(i+1)+\"}}\"  \n",
    "                exp2N += \"}{\"+str(U[i,i])+\"} = \"+str(L[j,i])             \n",
    "                if (i>2):\n",
    "                    display(Math(exp1))\n",
    "                    display(Math(exp1N))                \n",
    "                    display(Math(exp2)) \n",
    "                    display(Math(exp2N))   \n",
    "                else:\n",
    "                    display(Math(exp1+\"\\\\implies \"+exp1N))\n",
    "                    display(Math(exp2+\"\\\\implies \"+exp2N))\n",
    "        if (pasos):\n",
    "            if (i<n-1):\n",
    "                display(Math(\"\\\\text{Y hasta acá tenemos:}\"))                \n",
    "            else:\n",
    "                display(Math(\"\\\\text{Y ahora sí tenemos L y U completas:}\"))\n",
    "            display(Math(\"L = \"+bmatrix(L)+\" \\\\hspace{10mm} U = \"+bmatrix(U)+\" \\\\hspace{10mm} A = \"+bmatrix(A)))\n",
    "    return L,U \n",
    "\n",
    "def bmatrix(a):\n",
    "    # credito: https://stackoverflow.com/questions/17129290/numpy-2d-and-1d-array-to-latex-bmatrix\n",
    "    if len(a.shape) > 2:\n",
    "        raise ValueError('solo vectores o matrices bidimensionales')\n",
    "    lines = str(a).replace('[', '').replace(']', '').splitlines()\n",
    "    rv = [r'\\begin{bmatrix}']\n",
    "    rv += ['  ' + ' & '.join(l.split()) + r'\\\\' for l in lines]\n",
    "    rv +=  [r'\\end{bmatrix}']\n",
    "    return '\\n'.join(rv)"
   ]
  },
  {
   "cell_type": "code",
   "execution_count": 4,
   "metadata": {
    "hideCode": false,
    "hidePrompt": false,
    "slideshow": {
     "slide_type": "slide"
    }
   },
   "outputs": [
    {
     "data": {
      "text/latex": [
       "$\\displaystyle \\text{Vamos a calcular la 1ª fila de U y la 1ª columna de L}$"
      ],
      "text/plain": [
       "<IPython.core.display.Math object>"
      ]
     },
     "metadata": {},
     "output_type": "display_data"
    },
    {
     "data": {
      "text/latex": [
       "$\\displaystyle \\text{Por definición } L_{1,1} = 1$"
      ],
      "text/plain": [
       "<IPython.core.display.Math object>"
      ]
     },
     "metadata": {},
     "output_type": "display_data"
    },
    {
     "data": {
      "text/latex": [
       "$\\displaystyle \\text{Y para U:}$"
      ],
      "text/plain": [
       "<IPython.core.display.Math object>"
      ]
     },
     "metadata": {},
     "output_type": "display_data"
    },
    {
     "data": {
      "text/latex": [
       "$\\displaystyle U_{1,1} = A_{1,1}\\implies U_{1,1} = 15=15.0$"
      ],
      "text/plain": [
       "<IPython.core.display.Math object>"
      ]
     },
     "metadata": {},
     "output_type": "display_data"
    },
    {
     "data": {
      "text/latex": [
       "$\\displaystyle \\text{Seguimos con la 1ª fila de U y la 1ª columna de L }$"
      ],
      "text/plain": [
       "<IPython.core.display.Math object>"
      ]
     },
     "metadata": {},
     "output_type": "display_data"
    },
    {
     "data": {
      "text/latex": [
       "$\\displaystyle U_{1,2} = \\frac{A_{1,2}}{L_{1,1}}\\implies U_{1,2} = \\frac{9}{1} = 9.0$"
      ],
      "text/plain": [
       "<IPython.core.display.Math object>"
      ]
     },
     "metadata": {},
     "output_type": "display_data"
    },
    {
     "data": {
      "text/latex": [
       "$\\displaystyle L_{2,1} = \\frac{A_{2,1}}{U_{1,1}}\\implies L_{2,1} = \\frac{9}{15.0} = 0.6$"
      ],
      "text/plain": [
       "<IPython.core.display.Math object>"
      ]
     },
     "metadata": {},
     "output_type": "display_data"
    },
    {
     "data": {
      "text/latex": [
       "$\\displaystyle U_{1,3} = \\frac{A_{1,3}}{L_{1,1}}\\implies U_{1,3} = \\frac{9}{1} = 9.0$"
      ],
      "text/plain": [
       "<IPython.core.display.Math object>"
      ]
     },
     "metadata": {},
     "output_type": "display_data"
    },
    {
     "data": {
      "text/latex": [
       "$\\displaystyle L_{3,1} = \\frac{A_{3,1}}{U_{1,1}}\\implies L_{3,1} = \\frac{9}{15.0} = 0.6$"
      ],
      "text/plain": [
       "<IPython.core.display.Math object>"
      ]
     },
     "metadata": {},
     "output_type": "display_data"
    },
    {
     "data": {
      "text/latex": [
       "$\\displaystyle \\text{Y hasta acá tenemos:}$"
      ],
      "text/plain": [
       "<IPython.core.display.Math object>"
      ]
     },
     "metadata": {},
     "output_type": "display_data"
    },
    {
     "data": {
      "text/latex": [
       "$\\displaystyle L = \\begin{bmatrix}\n",
       "  1. & 0. & 0.\\\\\n",
       "  0.6 & 0. & 0.\\\\\n",
       "  0.6 & 0. & 0.\\\\\n",
       "\\end{bmatrix} \\hspace{10mm} U = \\begin{bmatrix}\n",
       "  15. & 9. & 9.\\\\\n",
       "  0. & 0. & 0.\\\\\n",
       "  0. & 0. & 0.\\\\\n",
       "\\end{bmatrix} \\hspace{10mm} A = \\begin{bmatrix}\n",
       "  15 & 9 & 9\\\\\n",
       "  9 & 12 & 7\\\\\n",
       "  9 & 7 & 7\\\\\n",
       "\\end{bmatrix}$"
      ],
      "text/plain": [
       "<IPython.core.display.Math object>"
      ]
     },
     "metadata": {},
     "output_type": "display_data"
    },
    {
     "data": {
      "text/latex": [
       "$\\displaystyle \\text{Vamos a calcular la 2ª fila de U y la 2ª columna de L}$"
      ],
      "text/plain": [
       "<IPython.core.display.Math object>"
      ]
     },
     "metadata": {},
     "output_type": "display_data"
    },
    {
     "data": {
      "text/latex": [
       "$\\displaystyle \\text{Por definición } L_{2,2} = 1$"
      ],
      "text/plain": [
       "<IPython.core.display.Math object>"
      ]
     },
     "metadata": {},
     "output_type": "display_data"
    },
    {
     "data": {
      "text/latex": [
       "$\\displaystyle \\text{Y para U:}$"
      ],
      "text/plain": [
       "<IPython.core.display.Math object>"
      ]
     },
     "metadata": {},
     "output_type": "display_data"
    },
    {
     "data": {
      "text/latex": [
       "$\\displaystyle U_{2,2} = A_{2,2} - L_{2,1} \\cdot U_{1,2}\\implies U_{2,2} = 12 - 0.6\\cdot9.0=6.6000000000000005$"
      ],
      "text/plain": [
       "<IPython.core.display.Math object>"
      ]
     },
     "metadata": {},
     "output_type": "display_data"
    },
    {
     "data": {
      "text/latex": [
       "$\\displaystyle \\text{Seguimos con la 2ª fila de U y la 2ª columna de L }$"
      ],
      "text/plain": [
       "<IPython.core.display.Math object>"
      ]
     },
     "metadata": {},
     "output_type": "display_data"
    },
    {
     "data": {
      "text/latex": [
       "$\\displaystyle U_{2,3} = \\frac{A_{2,3} - L_{2,1} \\cdot U_{1,3}}{L_{2,2}}\\implies U_{2,3} = \\frac{7 - 0.6 \\cdot 9.0}{1} = 1.6000000000000005$"
      ],
      "text/plain": [
       "<IPython.core.display.Math object>"
      ]
     },
     "metadata": {},
     "output_type": "display_data"
    },
    {
     "data": {
      "text/latex": [
       "$\\displaystyle L_{3,2} = \\frac{A_{3,2} - L_{3,1} \\cdot U_{1,2}}{U_{2,2}}\\implies L_{3,2} = \\frac{7 - 0.6 \\cdot 9.0}{6.6000000000000005} = 0.2424242424242425$"
      ],
      "text/plain": [
       "<IPython.core.display.Math object>"
      ]
     },
     "metadata": {},
     "output_type": "display_data"
    },
    {
     "data": {
      "text/latex": [
       "$\\displaystyle \\text{Y hasta acá tenemos:}$"
      ],
      "text/plain": [
       "<IPython.core.display.Math object>"
      ]
     },
     "metadata": {},
     "output_type": "display_data"
    },
    {
     "data": {
      "text/latex": [
       "$\\displaystyle L = \\begin{bmatrix}\n",
       "  1. & 0. & 0.\\\\\n",
       "  0.6 & 1. & 0.\\\\\n",
       "  0.6 & 0.24242424 & 0.\\\\\n",
       "\\end{bmatrix} \\hspace{10mm} U = \\begin{bmatrix}\n",
       "  15. & 9. & 9.\\\\\n",
       "  0. & 6.6 & 1.6\\\\\n",
       "  0. & 0. & 0.\\\\\n",
       "\\end{bmatrix} \\hspace{10mm} A = \\begin{bmatrix}\n",
       "  15 & 9 & 9\\\\\n",
       "  9 & 12 & 7\\\\\n",
       "  9 & 7 & 7\\\\\n",
       "\\end{bmatrix}$"
      ],
      "text/plain": [
       "<IPython.core.display.Math object>"
      ]
     },
     "metadata": {},
     "output_type": "display_data"
    },
    {
     "data": {
      "text/latex": [
       "$\\displaystyle \\text{Vamos a calcular la 3ª fila de U y la 3ª columna de L}$"
      ],
      "text/plain": [
       "<IPython.core.display.Math object>"
      ]
     },
     "metadata": {},
     "output_type": "display_data"
    },
    {
     "data": {
      "text/latex": [
       "$\\displaystyle \\text{Por definición } L_{3,3} = 1$"
      ],
      "text/plain": [
       "<IPython.core.display.Math object>"
      ]
     },
     "metadata": {},
     "output_type": "display_data"
    },
    {
     "data": {
      "text/latex": [
       "$\\displaystyle \\text{Y para U:}$"
      ],
      "text/plain": [
       "<IPython.core.display.Math object>"
      ]
     },
     "metadata": {},
     "output_type": "display_data"
    },
    {
     "data": {
      "text/latex": [
       "$\\displaystyle U_{3,3} = A_{3,3} - L_{3,1} \\cdot U_{1,3} - L_{3,2} \\cdot U_{2,3}\\implies U_{3,3} = 7 - 0.6\\cdot9.0 - 0.2424242424242425\\cdot1.6000000000000005=1.2121212121212124$"
      ],
      "text/plain": [
       "<IPython.core.display.Math object>"
      ]
     },
     "metadata": {},
     "output_type": "display_data"
    },
    {
     "data": {
      "text/latex": [
       "$\\displaystyle \\text{Seguimos con la 3ª fila de U y la 3ª columna de L }$"
      ],
      "text/plain": [
       "<IPython.core.display.Math object>"
      ]
     },
     "metadata": {},
     "output_type": "display_data"
    },
    {
     "data": {
      "text/latex": [
       "$\\displaystyle \\text{Y ahora sí tenemos L y U completas:}$"
      ],
      "text/plain": [
       "<IPython.core.display.Math object>"
      ]
     },
     "metadata": {},
     "output_type": "display_data"
    },
    {
     "data": {
      "text/latex": [
       "$\\displaystyle L = \\begin{bmatrix}\n",
       "  1. & 0. & 0.\\\\\n",
       "  0.6 & 1. & 0.\\\\\n",
       "  0.6 & 0.24242424 & 1.\\\\\n",
       "\\end{bmatrix} \\hspace{10mm} U = \\begin{bmatrix}\n",
       "  15. & 9. & 9.\\\\\n",
       "  0. & 6.6 & 1.6\\\\\n",
       "  0. & 0. & 1.21212121\\\\\n",
       "\\end{bmatrix} \\hspace{10mm} A = \\begin{bmatrix}\n",
       "  15 & 9 & 9\\\\\n",
       "  9 & 12 & 7\\\\\n",
       "  9 & 7 & 7\\\\\n",
       "\\end{bmatrix}$"
      ],
      "text/plain": [
       "<IPython.core.display.Math object>"
      ]
     },
     "metadata": {},
     "output_type": "display_data"
    }
   ],
   "source": [
    "L, U = factorizarDoolittle(A)"
   ]
  },
  {
   "cell_type": "markdown",
   "metadata": {
    "hideCode": false,
    "hidePrompt": false,
    "slideshow": {
     "slide_type": "slide"
    }
   },
   "source": [
    "#### Sustitución Directa:\n",
    "\n",
    "Utilizaremos la sustitución directa para hallar el vector $Y$ que resuelve nuestro SEL mediante la resolución del sistema $ L \\cdot Y=B$. Para ello, tenemos el siguiente código, al que se le puede aplicar un tercer parámetro `False` para ahorrar la salida paso a paso:"
   ]
  },
  {
   "cell_type": "code",
   "execution_count": 5,
   "metadata": {
    "slideshow": {
     "slide_type": "fragment"
    }
   },
   "outputs": [],
   "source": [
    "def sustDirecta(L, B, pasos = True):\n",
    "    n = np.shape(L)[0]\n",
    "    Y = np.zeros(n)    \n",
    "    if (pasos):\n",
    "        display(Math(\"\\\\text{Tenemos:}\"))                \n",
    "        exp = bmatrix(L)+\" \\cdot \\\\begin{bmatrix}\"\n",
    "        for i in range(0,n): exp += \"Y_\"+str(i+1)+r\"\\\\\"       \n",
    "        exp += \"\\\\end{bmatrix} = \"+bmatrix(B.reshape(-1,1))\n",
    "        display(Math(exp))\n",
    "    for i in range(0,n):\n",
    "        Y[i] = B[i]\n",
    "        if (pasos):       \n",
    "            if (i+1==n): \n",
    "                display(Math(\"\\\\text{Y por último calculamos } Y_\"+str(i+1)))             \n",
    "            elif (i==0):\n",
    "                display(Math(\"\\\\text{Primero calculamos } Y_\"+str(i+1)))                                  \n",
    "            else:\n",
    "                display(Math(\"\\\\text{Ahora calculamos } Y_\"+str(i+1)))                    \n",
    "            exp = \"Y_\"+str(i+1)+\" = \\\\frac{B_\"+str(i+1)\n",
    "            expN = \"Y_\"+str(i+1)+\" = \\\\frac{\" + str(B[i])           \n",
    "        for j in range (0,i):\n",
    "            Y[i] += -L[i,j]*Y[j]\n",
    "            if (pasos):\n",
    "                exp  += \" - L_{\"+str(i+1)+\",\"+str(j+1)+\"} \\cdot Y_\"+str(j+1) \n",
    "                expN += \" - \"+str(L[i,j])+\" \\cdot \"+str(Y[j])            \n",
    "        Y[i] = Y[i] / L[i,i]\n",
    "        if (pasos):\n",
    "            exp += \"}{L_{\"+str(i+1)+\",\"+str(i+1)+\"}}\"\n",
    "            expN += \"}{1} = \"+str([i])\n",
    "            display(Math(exp))\n",
    "            display(Math(expN))\n",
    "    if (pasos):\n",
    "        display(Math(\"\\\\text{Y finalmente:}\"))                \n",
    "        display(Math(\"Y = \"+bmatrix(Y)))               \n",
    "    return Y"
   ]
  },
  {
   "cell_type": "code",
   "execution_count": 6,
   "metadata": {
    "hideCode": false,
    "hidePrompt": false,
    "slideshow": {
     "slide_type": "slide"
    }
   },
   "outputs": [
    {
     "data": {
      "text/latex": [
       "$\\displaystyle \\text{Tenemos:}$"
      ],
      "text/plain": [
       "<IPython.core.display.Math object>"
      ]
     },
     "metadata": {},
     "output_type": "display_data"
    },
    {
     "data": {
      "text/latex": [
       "$\\displaystyle \\begin{bmatrix}\n",
       "  1. & 0. & 0.\\\\\n",
       "  0.6 & 1. & 0.\\\\\n",
       "  0.6 & 0.24242424 & 1.\\\\\n",
       "\\end{bmatrix} \\cdot \\begin{bmatrix}Y_1\\\\Y_2\\\\Y_3\\\\\\end{bmatrix} = \\begin{bmatrix}\n",
       "  1\\\\\n",
       "  2\\\\\n",
       "  3\\\\\n",
       "\\end{bmatrix}$"
      ],
      "text/plain": [
       "<IPython.core.display.Math object>"
      ]
     },
     "metadata": {},
     "output_type": "display_data"
    },
    {
     "data": {
      "text/latex": [
       "$\\displaystyle \\text{Primero calculamos } Y_1$"
      ],
      "text/plain": [
       "<IPython.core.display.Math object>"
      ]
     },
     "metadata": {},
     "output_type": "display_data"
    },
    {
     "data": {
      "text/latex": [
       "$\\displaystyle Y_1 = \\frac{B_1}{L_{1,1}}$"
      ],
      "text/plain": [
       "<IPython.core.display.Math object>"
      ]
     },
     "metadata": {},
     "output_type": "display_data"
    },
    {
     "data": {
      "text/latex": [
       "$\\displaystyle Y_1 = \\frac{1}{1} = [0]$"
      ],
      "text/plain": [
       "<IPython.core.display.Math object>"
      ]
     },
     "metadata": {},
     "output_type": "display_data"
    },
    {
     "data": {
      "text/latex": [
       "$\\displaystyle \\text{Ahora calculamos } Y_2$"
      ],
      "text/plain": [
       "<IPython.core.display.Math object>"
      ]
     },
     "metadata": {},
     "output_type": "display_data"
    },
    {
     "data": {
      "text/latex": [
       "$\\displaystyle Y_2 = \\frac{B_2 - L_{2,1} \\cdot Y_1}{L_{2,2}}$"
      ],
      "text/plain": [
       "<IPython.core.display.Math object>"
      ]
     },
     "metadata": {},
     "output_type": "display_data"
    },
    {
     "data": {
      "text/latex": [
       "$\\displaystyle Y_2 = \\frac{2 - 0.6 \\cdot 1.0}{1} = [1]$"
      ],
      "text/plain": [
       "<IPython.core.display.Math object>"
      ]
     },
     "metadata": {},
     "output_type": "display_data"
    },
    {
     "data": {
      "text/latex": [
       "$\\displaystyle \\text{Y por último calculamos } Y_3$"
      ],
      "text/plain": [
       "<IPython.core.display.Math object>"
      ]
     },
     "metadata": {},
     "output_type": "display_data"
    },
    {
     "data": {
      "text/latex": [
       "$\\displaystyle Y_3 = \\frac{B_3 - L_{3,1} \\cdot Y_1 - L_{3,2} \\cdot Y_2}{L_{3,3}}$"
      ],
      "text/plain": [
       "<IPython.core.display.Math object>"
      ]
     },
     "metadata": {},
     "output_type": "display_data"
    },
    {
     "data": {
      "text/latex": [
       "$\\displaystyle Y_3 = \\frac{3 - 0.6 \\cdot 1.0 - 0.2424242424242425 \\cdot 1.4}{1} = [2]$"
      ],
      "text/plain": [
       "<IPython.core.display.Math object>"
      ]
     },
     "metadata": {},
     "output_type": "display_data"
    },
    {
     "data": {
      "text/latex": [
       "$\\displaystyle \\text{Y finalmente:}$"
      ],
      "text/plain": [
       "<IPython.core.display.Math object>"
      ]
     },
     "metadata": {},
     "output_type": "display_data"
    },
    {
     "data": {
      "text/latex": [
       "$\\displaystyle Y = \\begin{bmatrix}\n",
       "  1. & 1.4 & 2.06060606\\\\\n",
       "\\end{bmatrix}$"
      ],
      "text/plain": [
       "<IPython.core.display.Math object>"
      ]
     },
     "metadata": {},
     "output_type": "display_data"
    }
   ],
   "source": [
    "Y = sustDirecta(L, B)"
   ]
  },
  {
   "cell_type": "markdown",
   "metadata": {
    "hideCode": false,
    "hidePrompt": false,
    "slideshow": {
     "slide_type": "slide"
    }
   },
   "source": [
    "#### Sustitución Inversa:\n",
    "\n",
    "Utilizaremos la sustitución inversa para hallar el vector $X$ que resuelve nuestro SEL mediante la resolución del sistema $U \\cdot X=Y$. Para ello, tenemos el siguiente código, al que se le puede aplicar un tercer parámetro `False` para ahorrar la salida paso a paso:"
   ]
  },
  {
   "cell_type": "code",
   "execution_count": 7,
   "metadata": {
    "hideCode": false,
    "hidePrompt": false,
    "slideshow": {
     "slide_type": "fragment"
    }
   },
   "outputs": [],
   "source": [
    "def sustInversa(U, Y ,pasos = True):\n",
    "    n = np.shape(U)[0]\n",
    "    X = np.zeros(n)\n",
    "    if (pasos):\n",
    "        display(Math(\"\\\\text{Tenemos:}\"))                \n",
    "        exp = bmatrix(U)+\" \\cdot \\\\begin{bmatrix}\"\n",
    "        for i in range(0,n): exp += \"X_\"+str(i+1)+r\"\\\\\"       \n",
    "        exp += \"\\\\end{bmatrix} = \"+bmatrix(Y.reshape(-1,1))\n",
    "        display(Math(exp))  \n",
    "    for i in reversed(range(0,n)):\n",
    "        X[i] = Y[i]        \n",
    "        if (pasos):       \n",
    "            if (i+1==n): \n",
    "                display(Math(\"\\\\text{Primero calculamos } X_\"+str(i+1)))           \n",
    "            elif (i==0):\n",
    "                display(Math(\"\\\\text{Y por último calculamos } X_\"+str(i+1)))                    \n",
    "            else:\n",
    "                display(Math(\"\\\\text{Ahora calculamos } X_\"+str(i+1)))                    \n",
    "            exp = \"X_\"+str(i+1)+\" = \\\\frac{Y_\"+str(i+1)\n",
    "            expN = \"X_\"+str(i+1)+\" = \\\\frac{\" + str(Y[i])               \n",
    "        for j in range (i+1,n):\n",
    "            X[i] += -U[i,j]*X[j]\n",
    "            if (pasos):\n",
    "                exp  += \" - U_{\"+str(i+1)+\",\"+str(j+1)+\"} \\cdot X_\"+str(j+1) \n",
    "                expN += \" - \"+str(U[i,j])+\" \\cdot \"+str(X[j])\n",
    "        X[i] = X[i] / U[i,i]  \n",
    "        if (pasos):\n",
    "            exp += \"}{U_{\"+str(i+1)+\",\"+str(i+1)+\"}}\"\n",
    "            expN += \"}{\"+str(U[i,i])+\"} = \"+str(X[i])\n",
    "            display(Math(exp))\n",
    "            display(Math(expN))    \n",
    "    if (pasos):\n",
    "        display(Math(\"\\\\text{Y finalmente:}\"))                \n",
    "        display(Math(\"X = \"+bmatrix(X)))   \n",
    "    return X"
   ]
  },
  {
   "cell_type": "code",
   "execution_count": 8,
   "metadata": {
    "hideCode": false,
    "hidePrompt": false,
    "slideshow": {
     "slide_type": "slide"
    }
   },
   "outputs": [
    {
     "data": {
      "text/latex": [
       "$\\displaystyle \\text{Tenemos:}$"
      ],
      "text/plain": [
       "<IPython.core.display.Math object>"
      ]
     },
     "metadata": {},
     "output_type": "display_data"
    },
    {
     "data": {
      "text/latex": [
       "$\\displaystyle \\begin{bmatrix}\n",
       "  15. & 9. & 9.\\\\\n",
       "  0. & 6.6 & 1.6\\\\\n",
       "  0. & 0. & 1.21212121\\\\\n",
       "\\end{bmatrix} \\cdot \\begin{bmatrix}X_1\\\\X_2\\\\X_3\\\\\\end{bmatrix} = \\begin{bmatrix}\n",
       "  1.\\\\\n",
       "  1.4\\\\\n",
       "  2.06060606\\\\\n",
       "\\end{bmatrix}$"
      ],
      "text/plain": [
       "<IPython.core.display.Math object>"
      ]
     },
     "metadata": {},
     "output_type": "display_data"
    },
    {
     "data": {
      "text/latex": [
       "$\\displaystyle \\text{Primero calculamos } X_3$"
      ],
      "text/plain": [
       "<IPython.core.display.Math object>"
      ]
     },
     "metadata": {},
     "output_type": "display_data"
    },
    {
     "data": {
      "text/latex": [
       "$\\displaystyle X_3 = \\frac{Y_3}{U_{3,3}}$"
      ],
      "text/plain": [
       "<IPython.core.display.Math object>"
      ]
     },
     "metadata": {},
     "output_type": "display_data"
    },
    {
     "data": {
      "text/latex": [
       "$\\displaystyle X_3 = \\frac{2.0606060606060606}{1.2121212121212124} = 1.6999999999999995$"
      ],
      "text/plain": [
       "<IPython.core.display.Math object>"
      ]
     },
     "metadata": {},
     "output_type": "display_data"
    },
    {
     "data": {
      "text/latex": [
       "$\\displaystyle \\text{Ahora calculamos } X_2$"
      ],
      "text/plain": [
       "<IPython.core.display.Math object>"
      ]
     },
     "metadata": {},
     "output_type": "display_data"
    },
    {
     "data": {
      "text/latex": [
       "$\\displaystyle X_2 = \\frac{Y_2 - U_{2,3} \\cdot X_3}{U_{2,2}}$"
      ],
      "text/plain": [
       "<IPython.core.display.Math object>"
      ]
     },
     "metadata": {},
     "output_type": "display_data"
    },
    {
     "data": {
      "text/latex": [
       "$\\displaystyle X_2 = \\frac{1.4 - 1.6000000000000005 \\cdot 1.6999999999999995}{6.6000000000000005} = -0.20000000000000004$"
      ],
      "text/plain": [
       "<IPython.core.display.Math object>"
      ]
     },
     "metadata": {},
     "output_type": "display_data"
    },
    {
     "data": {
      "text/latex": [
       "$\\displaystyle \\text{Y por último calculamos } X_1$"
      ],
      "text/plain": [
       "<IPython.core.display.Math object>"
      ]
     },
     "metadata": {},
     "output_type": "display_data"
    },
    {
     "data": {
      "text/latex": [
       "$\\displaystyle X_1 = \\frac{Y_1 - U_{1,2} \\cdot X_2 - U_{1,3} \\cdot X_3}{U_{1,1}}$"
      ],
      "text/plain": [
       "<IPython.core.display.Math object>"
      ]
     },
     "metadata": {},
     "output_type": "display_data"
    },
    {
     "data": {
      "text/latex": [
       "$\\displaystyle X_1 = \\frac{1.0 - 9.0 \\cdot -0.20000000000000004 - 9.0 \\cdot 1.6999999999999995}{15.0} = -0.8333333333333329$"
      ],
      "text/plain": [
       "<IPython.core.display.Math object>"
      ]
     },
     "metadata": {},
     "output_type": "display_data"
    },
    {
     "data": {
      "text/latex": [
       "$\\displaystyle \\text{Y finalmente:}$"
      ],
      "text/plain": [
       "<IPython.core.display.Math object>"
      ]
     },
     "metadata": {},
     "output_type": "display_data"
    },
    {
     "data": {
      "text/latex": [
       "$\\displaystyle X = \\begin{bmatrix}\n",
       "  -0.83333333 & -0.2 & 1.7\\\\\n",
       "\\end{bmatrix}$"
      ],
      "text/plain": [
       "<IPython.core.display.Math object>"
      ]
     },
     "metadata": {},
     "output_type": "display_data"
    }
   ],
   "source": [
    "Xdoolittle = sustInversa(U, Y)"
   ]
  },
  {
   "cell_type": "markdown",
   "metadata": {
    "hideCode": false,
    "hidePrompt": false,
    "slideshow": {
     "slide_type": "slide"
    }
   },
   "source": [
    "Ahora podemos realizar algunas verificaciones básicas para chequear el éxito de nuestras operaciones:"
   ]
  },
  {
   "cell_type": "markdown",
   "metadata": {
    "hideCode": false,
    "hidePrompt": false,
    "slideshow": {
     "slide_type": "fragment"
    }
   },
   "source": [
    "Primero que nada... se cumple $ A = L \\cdot U $"
   ]
  },
  {
   "cell_type": "code",
   "execution_count": 9,
   "metadata": {
    "hideCode": false,
    "hidePrompt": false,
    "slideshow": {
     "slide_type": "fragment"
    }
   },
   "outputs": [
    {
     "data": {
      "text/plain": [
       "matrix([[0., 0., 0.],\n",
       "        [0., 0., 0.],\n",
       "        [0., 0., 0.]])"
      ]
     },
     "execution_count": 9,
     "metadata": {},
     "output_type": "execute_result"
    }
   ],
   "source": [
    "np.dot(L,U) - A"
   ]
  },
  {
   "cell_type": "markdown",
   "metadata": {
    "hideCode": false,
    "hidePrompt": false,
    "slideshow": {
     "slide_type": "fragment"
    }
   },
   "source": [
    "Y lo más importante, se cumple $ A \\cdot X = B $"
   ]
  },
  {
   "cell_type": "code",
   "execution_count": 10,
   "metadata": {
    "hideCode": false,
    "hidePrompt": false,
    "slideshow": {
     "slide_type": "fragment"
    }
   },
   "outputs": [
    {
     "name": "stdout",
     "output_type": "stream",
     "text": [
      "[[1. 2. 3.]]\n",
      "[1 2 3]\n"
     ]
    }
   ],
   "source": [
    "print(np.dot(A,Xdoolittle))\n",
    "print(B)"
   ]
  },
  {
   "cell_type": "markdown",
   "metadata": {
    "hideCode": false,
    "hidePrompt": false,
    "slideshow": {
     "slide_type": "slide"
    }
   },
   "source": [
    "### Factorización de Cholesky:\n",
    "\n",
    "Esta alternativa se basa en considerar que L y U serán transpuestas entre sí, o sea $A = S \\cdot S^T $. Con estas condiciones, las fórmulas se simplifican notablemente:"
   ]
  },
  {
   "cell_type": "markdown",
   "metadata": {
    "hideCode": false,
    "hidePrompt": false,
    "slideshow": {
     "slide_type": "fragment"
    }
   },
   "source": [
    "$$L_{i,i} . U_{i,i} = A_{i,i} - \\sum_{k=1}^{i-1}{L_{i,k}.U_{k,i}} \\hspace{5mm} con \\hspace{5mm} L_{i,i} = U_{i,i} = S_{i,i} \\implies\n",
    "S_{i,i} = \\sqrt{A_{i,i} - \\sum_{k=1}^{i-1}{S_{i,k}^2}}$$\n",
    "\n",
    "$$S_{j,i} = \\frac{A_{j,i} - \\sum_{k=1}^{i-1}{S_{j,k}.S_{i,k}}}{S_{i,i}} \\hspace{5mm} con \\hspace{5mm} j \\in [i+1,n]$$"
   ]
  },
  {
   "cell_type": "markdown",
   "metadata": {
    "hideCode": false,
    "hidePrompt": false,
    "slideshow": {
     "slide_type": "fragment"
    }
   },
   "source": [
    "Como así también el costo computacional, ya que debe calcularse -y almacenarse- solo una matriz $S$ en lugar de $L$ y $U$. Como contrapartida, el método exige que la matriz sea simétrica y definida positiva.\n",
    "\n",
    "Vamos a crear una función `factorizarCholesky` similar a la vista para Doolittle:"
   ]
  },
  {
   "cell_type": "code",
   "execution_count": 11,
   "metadata": {
    "hideCode": false,
    "hidePrompt": false,
    "slideshow": {
     "slide_type": "slide"
    }
   },
   "outputs": [],
   "source": [
    "def factorizarCholesky(A,pasos=True):\n",
    "    n = np.shape(A)[0]\n",
    "    S = np.zeros((n,n))\n",
    "    for i in range (0,n):\n",
    "        S[i,i] = A[i,i]  \n",
    "        if (pasos):\n",
    "            display(Math(\"\\\\text{Vamos a calcular la \"+str(i+1)+\"ª  columna de S}\"))\n",
    "            exp = \"S_{\"+str(i+1)+\",\"+str(i+1)+\"} = \\sqrt{ A_{\"+str(i+1)+\",\"+str(i+1)+\"}\"\n",
    "            expN = \"S_{\"+str(i+1)+\",\"+str(i+1)+\"} = \\sqrt{\"+str(A[i,i])        \n",
    "        for k in range(0,i):\n",
    "            S[i,i] += - S[i,k]**2\n",
    "            if (pasos):\n",
    "                exp += \" - S_{\"+str(i+1)+\",\"+str(k+1)+\"}^2\"\n",
    "                expN += \" - \"+str(S[i,k])+\"^2\"\n",
    "        S[i,i] = np.sqrt(S[i,i])\n",
    "        if (pasos):\n",
    "            exp += \"}\"            \n",
    "            expN += \"} =\"+str(S[i,i])            \n",
    "            if (i>2):\n",
    "                display(Math(exp))\n",
    "                display(Math(expN))\n",
    "            else:\n",
    "                display(Math(exp+\"\\\\implies \"+expN))       \n",
    "        for j in range (i+1,n):     \n",
    "            S[j,i] = A[j,i]\n",
    "            if (pasos):\n",
    "                exp = \"S_{\"+str(j+1)+\",\"+str(i+1)+\"} = \\\\frac{A_{\"+str(j+1)+\",\"+str(i+1)+\"}\" \n",
    "                expN = \"S_{\"+str(j+1)+\",\"+str(i+1)+\"} = \\\\frac{\"+str(A[j,i])                \n",
    "            for k in range(0,i):           \n",
    "                S[j,i] += - S[j,k]*S[i,k]                  \n",
    "                if (pasos):\n",
    "                    exp  += \" - S_{\"+str(j+1)+\",\"+str(k+1)+\"} \\cdot S_{\"+str(i+1)+\",\"+str(k+1)+\"}\"  \n",
    "                    expN += \" - \"+str(S[j,k])+\" \\cdot \"+ str(S[i,k])                  \n",
    "            S[j,i] = S[j,i] / S[i,i]\n",
    "            if (pasos):            \n",
    "                exp  += \"}{S_{\"+str(i+1)+\",\"+str(i+1)+\"}}\"  \n",
    "                expN += \"}{\"+str(S[i,i])+\"} = \"+str(S[j,i])              \n",
    "                if (i>2):\n",
    "                    display(Math(exp))\n",
    "                    display(Math(expN))                \n",
    "                else:\n",
    "                    display(Math(exp+\"\\\\implies \"+expN))\n",
    "        if (pasos):\n",
    "            if (i<n-1):\n",
    "                display(Math(\"\\\\text{Y hasta acá tenemos:}\"))                \n",
    "            else:\n",
    "                display(Math(\"\\\\text{Y ahora sí tenemos S completa:}\"))\n",
    "            display(Math(\"S = \"+bmatrix(S)+\" \\\\hspace{10mm} A = \"+bmatrix(A)))\n",
    "    return S"
   ]
  },
  {
   "cell_type": "code",
   "execution_count": 12,
   "metadata": {
    "hideCode": false,
    "hidePrompt": false,
    "slideshow": {
     "slide_type": "slide"
    }
   },
   "outputs": [
    {
     "data": {
      "text/latex": [
       "$\\displaystyle \\text{Vamos a calcular la 1ª  columna de S}$"
      ],
      "text/plain": [
       "<IPython.core.display.Math object>"
      ]
     },
     "metadata": {},
     "output_type": "display_data"
    },
    {
     "data": {
      "text/latex": [
       "$\\displaystyle S_{1,1} = \\sqrt{ A_{1,1}}\\implies S_{1,1} = \\sqrt{15} =3.872983346207417$"
      ],
      "text/plain": [
       "<IPython.core.display.Math object>"
      ]
     },
     "metadata": {},
     "output_type": "display_data"
    },
    {
     "data": {
      "text/latex": [
       "$\\displaystyle S_{2,1} = \\frac{A_{2,1}}{S_{1,1}}\\implies S_{2,1} = \\frac{9}{3.872983346207417} = 2.32379000772445$"
      ],
      "text/plain": [
       "<IPython.core.display.Math object>"
      ]
     },
     "metadata": {},
     "output_type": "display_data"
    },
    {
     "data": {
      "text/latex": [
       "$\\displaystyle S_{3,1} = \\frac{A_{3,1}}{S_{1,1}}\\implies S_{3,1} = \\frac{9}{3.872983346207417} = 2.32379000772445$"
      ],
      "text/plain": [
       "<IPython.core.display.Math object>"
      ]
     },
     "metadata": {},
     "output_type": "display_data"
    },
    {
     "data": {
      "text/latex": [
       "$\\displaystyle \\text{Y hasta acá tenemos:}$"
      ],
      "text/plain": [
       "<IPython.core.display.Math object>"
      ]
     },
     "metadata": {},
     "output_type": "display_data"
    },
    {
     "data": {
      "text/latex": [
       "$\\displaystyle S = \\begin{bmatrix}\n",
       "  3.87298335 & 0. & 0.\\\\\n",
       "  2.32379001 & 0. & 0.\\\\\n",
       "  2.32379001 & 0. & 0.\\\\\n",
       "\\end{bmatrix} \\hspace{10mm} A = \\begin{bmatrix}\n",
       "  15 & 9 & 9\\\\\n",
       "  9 & 12 & 7\\\\\n",
       "  9 & 7 & 7\\\\\n",
       "\\end{bmatrix}$"
      ],
      "text/plain": [
       "<IPython.core.display.Math object>"
      ]
     },
     "metadata": {},
     "output_type": "display_data"
    },
    {
     "data": {
      "text/latex": [
       "$\\displaystyle \\text{Vamos a calcular la 2ª  columna de S}$"
      ],
      "text/plain": [
       "<IPython.core.display.Math object>"
      ]
     },
     "metadata": {},
     "output_type": "display_data"
    },
    {
     "data": {
      "text/latex": [
       "$\\displaystyle S_{2,2} = \\sqrt{ A_{2,2} - S_{2,1}^2}\\implies S_{2,2} = \\sqrt{12 - 2.32379000772445^2} =2.569046515733026$"
      ],
      "text/plain": [
       "<IPython.core.display.Math object>"
      ]
     },
     "metadata": {},
     "output_type": "display_data"
    },
    {
     "data": {
      "text/latex": [
       "$\\displaystyle S_{3,2} = \\frac{A_{3,2} - S_{3,1} \\cdot S_{2,1}}{S_{2,2}}\\implies S_{3,2} = \\frac{7 - 2.32379000772445 \\cdot 2.32379000772445}{2.569046515733026} = 0.6227991553292183$"
      ],
      "text/plain": [
       "<IPython.core.display.Math object>"
      ]
     },
     "metadata": {},
     "output_type": "display_data"
    },
    {
     "data": {
      "text/latex": [
       "$\\displaystyle \\text{Y hasta acá tenemos:}$"
      ],
      "text/plain": [
       "<IPython.core.display.Math object>"
      ]
     },
     "metadata": {},
     "output_type": "display_data"
    },
    {
     "data": {
      "text/latex": [
       "$\\displaystyle S = \\begin{bmatrix}\n",
       "  3.87298335 & 0. & 0.\\\\\n",
       "  2.32379001 & 2.56904652 & 0.\\\\\n",
       "  2.32379001 & 0.62279916 & 0.\\\\\n",
       "\\end{bmatrix} \\hspace{10mm} A = \\begin{bmatrix}\n",
       "  15 & 9 & 9\\\\\n",
       "  9 & 12 & 7\\\\\n",
       "  9 & 7 & 7\\\\\n",
       "\\end{bmatrix}$"
      ],
      "text/plain": [
       "<IPython.core.display.Math object>"
      ]
     },
     "metadata": {},
     "output_type": "display_data"
    },
    {
     "data": {
      "text/latex": [
       "$\\displaystyle \\text{Vamos a calcular la 3ª  columna de S}$"
      ],
      "text/plain": [
       "<IPython.core.display.Math object>"
      ]
     },
     "metadata": {},
     "output_type": "display_data"
    },
    {
     "data": {
      "text/latex": [
       "$\\displaystyle S_{3,3} = \\sqrt{ A_{3,3} - S_{3,1}^2 - S_{3,2}^2}\\implies S_{3,3} = \\sqrt{7 - 2.32379000772445^2 - 0.6227991553292183^2} =1.1009637651263606$"
      ],
      "text/plain": [
       "<IPython.core.display.Math object>"
      ]
     },
     "metadata": {},
     "output_type": "display_data"
    },
    {
     "data": {
      "text/latex": [
       "$\\displaystyle \\text{Y ahora sí tenemos S completa:}$"
      ],
      "text/plain": [
       "<IPython.core.display.Math object>"
      ]
     },
     "metadata": {},
     "output_type": "display_data"
    },
    {
     "data": {
      "text/latex": [
       "$\\displaystyle S = \\begin{bmatrix}\n",
       "  3.87298335 & 0. & 0.\\\\\n",
       "  2.32379001 & 2.56904652 & 0.\\\\\n",
       "  2.32379001 & 0.62279916 & 1.10096377\\\\\n",
       "\\end{bmatrix} \\hspace{10mm} A = \\begin{bmatrix}\n",
       "  15 & 9 & 9\\\\\n",
       "  9 & 12 & 7\\\\\n",
       "  9 & 7 & 7\\\\\n",
       "\\end{bmatrix}$"
      ],
      "text/plain": [
       "<IPython.core.display.Math object>"
      ]
     },
     "metadata": {},
     "output_type": "display_data"
    }
   ],
   "source": [
    "S = factorizarCholesky(A)"
   ]
  },
  {
   "cell_type": "markdown",
   "metadata": {
    "hideCode": false,
    "hidePrompt": false,
    "slideshow": {
     "slide_type": "slide"
    }
   },
   "source": [
    "Vamos a verificar si $S$ cumple con la condición esencial de Cholesky:"
   ]
  },
  {
   "cell_type": "code",
   "execution_count": 13,
   "metadata": {
    "hideCode": false,
    "hidePrompt": false,
    "slideshow": {
     "slide_type": "fragment"
    }
   },
   "outputs": [
    {
     "name": "stdout",
     "output_type": "stream",
     "text": [
      "[[15.  9.  9.]\n",
      " [ 9. 12.  7.]\n",
      " [ 9.  7.  7.]]\n",
      "[[15  9  9]\n",
      " [ 9 12  7]\n",
      " [ 9  7  7]]\n"
     ]
    }
   ],
   "source": [
    "print(np.dot(S,np.transpose(S)))\n",
    "print(A)"
   ]
  },
  {
   "cell_type": "markdown",
   "metadata": {
    "hideCode": false,
    "hidePrompt": false,
    "slideshow": {
     "slide_type": "slide"
    }
   },
   "source": [
    "Y ahora aplicamos primero la sustitución directa y luego la inversa:"
   ]
  },
  {
   "cell_type": "code",
   "execution_count": 14,
   "metadata": {
    "hideCode": false,
    "hidePrompt": false,
    "slideshow": {
     "slide_type": "fragment"
    }
   },
   "outputs": [
    {
     "data": {
      "text/latex": [
       "$\\displaystyle \\text{Tenemos:}$"
      ],
      "text/plain": [
       "<IPython.core.display.Math object>"
      ]
     },
     "metadata": {},
     "output_type": "display_data"
    },
    {
     "data": {
      "text/latex": [
       "$\\displaystyle \\begin{bmatrix}\n",
       "  3.87298335 & 0. & 0.\\\\\n",
       "  2.32379001 & 2.56904652 & 0.\\\\\n",
       "  2.32379001 & 0.62279916 & 1.10096377\\\\\n",
       "\\end{bmatrix} \\cdot \\begin{bmatrix}Y_1\\\\Y_2\\\\Y_3\\\\\\end{bmatrix} = \\begin{bmatrix}\n",
       "  1\\\\\n",
       "  2\\\\\n",
       "  3\\\\\n",
       "\\end{bmatrix}$"
      ],
      "text/plain": [
       "<IPython.core.display.Math object>"
      ]
     },
     "metadata": {},
     "output_type": "display_data"
    },
    {
     "data": {
      "text/latex": [
       "$\\displaystyle \\text{Primero calculamos } Y_1$"
      ],
      "text/plain": [
       "<IPython.core.display.Math object>"
      ]
     },
     "metadata": {},
     "output_type": "display_data"
    },
    {
     "data": {
      "text/latex": [
       "$\\displaystyle Y_1 = \\frac{B_1}{L_{1,1}}$"
      ],
      "text/plain": [
       "<IPython.core.display.Math object>"
      ]
     },
     "metadata": {},
     "output_type": "display_data"
    },
    {
     "data": {
      "text/latex": [
       "$\\displaystyle Y_1 = \\frac{1}{1} = [0]$"
      ],
      "text/plain": [
       "<IPython.core.display.Math object>"
      ]
     },
     "metadata": {},
     "output_type": "display_data"
    },
    {
     "data": {
      "text/latex": [
       "$\\displaystyle \\text{Ahora calculamos } Y_2$"
      ],
      "text/plain": [
       "<IPython.core.display.Math object>"
      ]
     },
     "metadata": {},
     "output_type": "display_data"
    },
    {
     "data": {
      "text/latex": [
       "$\\displaystyle Y_2 = \\frac{B_2 - L_{2,1} \\cdot Y_1}{L_{2,2}}$"
      ],
      "text/plain": [
       "<IPython.core.display.Math object>"
      ]
     },
     "metadata": {},
     "output_type": "display_data"
    },
    {
     "data": {
      "text/latex": [
       "$\\displaystyle Y_2 = \\frac{2 - 2.32379000772445 \\cdot 0.2581988897471611}{1} = [1]$"
      ],
      "text/plain": [
       "<IPython.core.display.Math object>"
      ]
     },
     "metadata": {},
     "output_type": "display_data"
    },
    {
     "data": {
      "text/latex": [
       "$\\displaystyle \\text{Y por último calculamos } Y_3$"
      ],
      "text/plain": [
       "<IPython.core.display.Math object>"
      ]
     },
     "metadata": {},
     "output_type": "display_data"
    },
    {
     "data": {
      "text/latex": [
       "$\\displaystyle Y_3 = \\frac{B_3 - L_{3,1} \\cdot Y_1 - L_{3,2} \\cdot Y_2}{L_{3,3}}$"
      ],
      "text/plain": [
       "<IPython.core.display.Math object>"
      ]
     },
     "metadata": {},
     "output_type": "display_data"
    },
    {
     "data": {
      "text/latex": [
       "$\\displaystyle Y_3 = \\frac{3 - 2.32379000772445 \\cdot 0.2581988897471611 - 0.6227991553292183 \\cdot 0.5449492609130661}{1} = [2]$"
      ],
      "text/plain": [
       "<IPython.core.display.Math object>"
      ]
     },
     "metadata": {},
     "output_type": "display_data"
    },
    {
     "data": {
      "text/latex": [
       "$\\displaystyle \\text{Y finalmente:}$"
      ],
      "text/plain": [
       "<IPython.core.display.Math object>"
      ]
     },
     "metadata": {},
     "output_type": "display_data"
    },
    {
     "data": {
      "text/latex": [
       "$\\displaystyle Y = \\begin{bmatrix}\n",
       "  0.25819889 & 0.54494926 & 1.8716384\\\\\n",
       "\\end{bmatrix}$"
      ],
      "text/plain": [
       "<IPython.core.display.Math object>"
      ]
     },
     "metadata": {},
     "output_type": "display_data"
    }
   ],
   "source": [
    "Y = sustDirecta(S, B)"
   ]
  },
  {
   "cell_type": "code",
   "execution_count": 15,
   "metadata": {
    "hideCode": false,
    "hidePrompt": false,
    "slideshow": {
     "slide_type": "slide"
    }
   },
   "outputs": [
    {
     "data": {
      "text/latex": [
       "$\\displaystyle \\text{Tenemos:}$"
      ],
      "text/plain": [
       "<IPython.core.display.Math object>"
      ]
     },
     "metadata": {},
     "output_type": "display_data"
    },
    {
     "data": {
      "text/latex": [
       "$\\displaystyle \\begin{bmatrix}\n",
       "  3.87298335 & 2.32379001 & 2.32379001\\\\\n",
       "  0. & 2.56904652 & 0.62279916\\\\\n",
       "  0. & 0. & 1.10096377\\\\\n",
       "\\end{bmatrix} \\cdot \\begin{bmatrix}X_1\\\\X_2\\\\X_3\\\\\\end{bmatrix} = \\begin{bmatrix}\n",
       "  0.25819889\\\\\n",
       "  0.54494926\\\\\n",
       "  1.8716384\\\\\n",
       "\\end{bmatrix}$"
      ],
      "text/plain": [
       "<IPython.core.display.Math object>"
      ]
     },
     "metadata": {},
     "output_type": "display_data"
    },
    {
     "data": {
      "text/latex": [
       "$\\displaystyle \\text{Primero calculamos } X_3$"
      ],
      "text/plain": [
       "<IPython.core.display.Math object>"
      ]
     },
     "metadata": {},
     "output_type": "display_data"
    },
    {
     "data": {
      "text/latex": [
       "$\\displaystyle X_3 = \\frac{Y_3}{U_{3,3}}$"
      ],
      "text/plain": [
       "<IPython.core.display.Math object>"
      ]
     },
     "metadata": {},
     "output_type": "display_data"
    },
    {
     "data": {
      "text/latex": [
       "$\\displaystyle X_3 = \\frac{1.871638400714813}{1.1009637651263606} = 1.7$"
      ],
      "text/plain": [
       "<IPython.core.display.Math object>"
      ]
     },
     "metadata": {},
     "output_type": "display_data"
    },
    {
     "data": {
      "text/latex": [
       "$\\displaystyle \\text{Ahora calculamos } X_2$"
      ],
      "text/plain": [
       "<IPython.core.display.Math object>"
      ]
     },
     "metadata": {},
     "output_type": "display_data"
    },
    {
     "data": {
      "text/latex": [
       "$\\displaystyle X_2 = \\frac{Y_2 - U_{2,3} \\cdot X_3}{U_{2,2}}$"
      ],
      "text/plain": [
       "<IPython.core.display.Math object>"
      ]
     },
     "metadata": {},
     "output_type": "display_data"
    },
    {
     "data": {
      "text/latex": [
       "$\\displaystyle X_2 = \\frac{0.5449492609130661 - 0.6227991553292183 \\cdot 1.7}{2.569046515733026} = -0.19999999999999993$"
      ],
      "text/plain": [
       "<IPython.core.display.Math object>"
      ]
     },
     "metadata": {},
     "output_type": "display_data"
    },
    {
     "data": {
      "text/latex": [
       "$\\displaystyle \\text{Y por último calculamos } X_1$"
      ],
      "text/plain": [
       "<IPython.core.display.Math object>"
      ]
     },
     "metadata": {},
     "output_type": "display_data"
    },
    {
     "data": {
      "text/latex": [
       "$\\displaystyle X_1 = \\frac{Y_1 - U_{1,2} \\cdot X_2 - U_{1,3} \\cdot X_3}{U_{1,1}}$"
      ],
      "text/plain": [
       "<IPython.core.display.Math object>"
      ]
     },
     "metadata": {},
     "output_type": "display_data"
    },
    {
     "data": {
      "text/latex": [
       "$\\displaystyle X_1 = \\frac{0.2581988897471611 - 2.32379000772445 \\cdot -0.19999999999999993 - 2.32379000772445 \\cdot 1.7}{3.872983346207417} = -0.8333333333333334$"
      ],
      "text/plain": [
       "<IPython.core.display.Math object>"
      ]
     },
     "metadata": {},
     "output_type": "display_data"
    },
    {
     "data": {
      "text/latex": [
       "$\\displaystyle \\text{Y finalmente:}$"
      ],
      "text/plain": [
       "<IPython.core.display.Math object>"
      ]
     },
     "metadata": {},
     "output_type": "display_data"
    },
    {
     "data": {
      "text/latex": [
       "$\\displaystyle X = \\begin{bmatrix}\n",
       "  -0.83333333 & -0.2 & 1.7\\\\\n",
       "\\end{bmatrix}$"
      ],
      "text/plain": [
       "<IPython.core.display.Math object>"
      ]
     },
     "metadata": {},
     "output_type": "display_data"
    }
   ],
   "source": [
    "Xcholesky = sustInversa(S.transpose(), Y)"
   ]
  },
  {
   "cell_type": "code",
   "execution_count": 16,
   "metadata": {
    "hideCode": false,
    "hidePrompt": false,
    "slideshow": {
     "slide_type": "slide"
    }
   },
   "outputs": [
    {
     "data": {
      "text/plain": [
       "matrix([[ 1.11022302e-15, -8.88178420e-16,  8.88178420e-16]])"
      ]
     },
     "execution_count": 16,
     "metadata": {},
     "output_type": "execute_result"
    }
   ],
   "source": [
    "B - np.dot(A,Xcholesky)"
   ]
  },
  {
   "cell_type": "code",
   "execution_count": 17,
   "metadata": {
    "hideCode": false,
    "hidePrompt": false
   },
   "outputs": [
    {
     "name": "stdout",
     "output_type": "stream",
     "text": [
      "[-0.83333333 -0.2         1.7       ] [-0.83333333 -0.2         1.7       ]\n"
     ]
    }
   ],
   "source": [
    "print(Xcholesky, Xdoolittle)"
   ]
  }
 ],
 "metadata": {
  "celltoolbar": "Hide code",
  "hide_code_all_hidden": true,
  "interpreter": {
   "hash": "916dbcbb3f70747c44a77c7bcd40155683ae19c65e1c03b4aa3499c5328201f1"
  },
  "kernelspec": {
   "display_name": "Python 3.10.4 64-bit",
   "language": "python",
   "name": "python3"
  },
  "language_info": {
   "codemirror_mode": {
    "name": "ipython",
    "version": 3
   },
   "file_extension": ".py",
   "mimetype": "text/x-python",
   "name": "python",
   "nbconvert_exporter": "python",
   "pygments_lexer": "ipython3",
   "version": "3.10.4"
  },
  "rise": {
   "scroll": true
  }
 },
 "nbformat": 4,
 "nbformat_minor": 4
}
