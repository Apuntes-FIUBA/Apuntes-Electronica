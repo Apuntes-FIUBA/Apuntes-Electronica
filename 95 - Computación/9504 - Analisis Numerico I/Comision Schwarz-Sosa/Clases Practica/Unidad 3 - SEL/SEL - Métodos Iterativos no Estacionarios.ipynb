{
 "cells": [
  {
   "cell_type": "markdown",
   "metadata": {
    "hideCode": false,
    "hidePrompt": false,
    "slideshow": {
     "slide_type": "slide"
    }
   },
   "source": [
    "![Curso Schwarz-Sosa-Suriano](http://www.fi.uba.ar/sites/default/files/logo.png)\n",
    "# Sistemas de Ecuaciones Lineales\n",
    "## Métodos Iterativos no Estacionarios\n",
    "***\n",
    "**Curso Schwarz - Sosa - Suriano**\n",
    "- Métodos Numéricos. *Curso 2*\n",
    "- Análisis Numérico I. *Curso 4*\n",
    "- Métodos Matemáticos y Numéricos. *Curso 6*"
   ]
  },
  {
   "cell_type": "markdown",
   "metadata": {
    "hideCode": false,
    "hidePrompt": false,
    "slideshow": {
     "slide_type": "slide"
    }
   },
   "source": [
    "### Métodos iterativos no estacionarios:\n",
    "\n",
    "Los métodos iterativos no estacionarios se presentan como una alternativa eficiente para resolver SEL con matrices ralas. Sabemos que todos los métodos iterativos vistos hasta aquí pueden representarse con la expresión:\n",
    "\n",
    "$$X^{(k+1)} = T \\cdot X^{(k)} +C$$"
   ]
  },
  {
   "cell_type": "markdown",
   "metadata": {
    "hideCode": false,
    "hidePrompt": false,
    "slideshow": {
     "slide_type": "fragment"
    }
   },
   "source": [
    "Esta fórmula también representa a los métodos iterativos no estacionarios, ya que obtienen su denominación del hecho de que la matriz T y el vector C no son constantes -o estacionarios- como sí lo son en los métodos de Jacobi, Gauss Seidel y SOR. No obstante, hay una expresión que nos interesa un poco más, ya que define la mecánica iterativa de casi todos ellos:"
   ]
  },
  {
   "cell_type": "markdown",
   "metadata": {
    "hideCode": false,
    "hidePrompt": false,
    "slideshow": {
     "slide_type": "fragment"
    }
   },
   "source": [
    "$$X^{(k+1)} = X^{(k)} + \\alpha_k \\cdot R^{(k)}$$\n",
    "\n",
    "Donde $\\alpha$ es un parámetro que varía con cada iteración **y cuya expresión se obtiene de forma distinta para cada uno de los Métodos**. A partir de esta expresión, el resíduo de la iteración siguiente puede reformularse como:"
   ]
  },
  {
   "cell_type": "markdown",
   "metadata": {
    "hideCode": false,
    "hidePrompt": false,
    "slideshow": {
     "slide_type": "fragment"
    }
   },
   "source": [
    "$$R^{(k+1)} = B - A \\cdot X^{(k+1)} = B - A \\cdot ( X^{(k)} + \\alpha_k \\cdot R^{(k)}) =  B - A \\cdot X^{(k)} - \\alpha_k \\cdot A \\cdot R^{(k)} \\implies R^{(k+1)} = R^{(k)} - \\alpha_k \\cdot A \\cdot R^{(k)}$$"
   ]
  },
  {
   "cell_type": "markdown",
   "metadata": {
    "hideCode": false,
    "hidePrompt": false,
    "slideshow": {
     "slide_type": "slide"
    }
   },
   "source": [
    "### Metodo de los Mínimos Residuos:\n",
    "\n",
    "Este método propone la minimización del resíduo como un camino para buscar la mejor aproximación de $X$. Para ello se deriva el residuo respecto del parámetro $\\alpha$ y se iguala a cero su expresión para despejar el siguiente valor:"
   ]
  },
  {
   "cell_type": "markdown",
   "metadata": {
    "hideCode": false,
    "hidePrompt": false,
    "slideshow": {
     "slide_type": "fragment"
    }
   },
   "source": [
    "$$ \\alpha_k = \\dfrac{(A\\cdot R^{(k)})^T \\cdot R^{(k)}}{(A\\cdot R^{(k)})^T \\cdot A \\cdot R^{(k)}} $$"
   ]
  },
  {
   "cell_type": "markdown",
   "metadata": {
    "hideCode": false,
    "hidePrompt": false,
    "slideshow": {
     "slide_type": "fragment"
    }
   },
   "source": [
    "Este método converge si A es definida positiva, y el algoritmo adopta la forma:\n",
    "\n",
    "$$R^{(0)} = B - A \\cdot X^{(0)} \\hspace{5mm} \\text{solo en la primera iteración}$$\n",
    "\n",
    "$$ \\alpha_k = \\dfrac{(A\\cdot R^{(k)})^T \\cdot R^{(k)}}{(A\\cdot R^{(k)})^T \\cdot A \\cdot R^{(k)}} $$\n",
    "\n",
    "$$X^{(k+1)} = X^{(k)} + \\alpha_k \\cdot R^{(k)}$$\n",
    "\n",
    "$$R^{(k+1)} = R^{(k)} - \\alpha_k \\cdot A \\cdot R^{(k)}$$"
   ]
  },
  {
   "cell_type": "markdown",
   "metadata": {
    "hideCode": false,
    "hidePrompt": false,
    "slideshow": {
     "slide_type": "slide"
    }
   },
   "source": [
    "### Problema a resolver:"
   ]
  },
  {
   "cell_type": "code",
   "execution_count": 1,
   "metadata": {
    "hideCode": false,
    "hidePrompt": false,
    "slideshow": {
     "slide_type": "fragment"
    }
   },
   "outputs": [
    {
     "name": "stdout",
     "output_type": "stream",
     "text": [
      "[[10 -1  2  0]\n",
      " [-1 11 -1  3]\n",
      " [ 2 -1 10  5]\n",
      " [ 0  3  5 20]]\n"
     ]
    }
   ],
   "source": [
    "from IPython.display import display, Math\n",
    "import numpy as np\n",
    "A = np.matrix([[10,-1,2,0],[-1,11,-1,3],[2,-1,10,5],[0,3,5,20]])\n",
    "print(A)\n",
    "B = np.array([6,25,-11,15])"
   ]
  },
  {
   "cell_type": "markdown",
   "metadata": {
    "hideCode": false,
    "hidePrompt": false,
    "slideshow": {
     "slide_type": "fragment"
    }
   },
   "source": [
    "En el bloque de código encontrarán una función `resolverMMR(A,B,tol,pasos)` que permite resolver un SEL a partir de conocer la matriz $ A $ y el vector $ B $, fijar una tolerancia `tol` e indicar con `True` o `False` si queremos o no que se acompañe la resolución con el procedimiento paso a paso. "
   ]
  },
  {
   "cell_type": "markdown",
   "metadata": {
    "hideCode": false,
    "hidePrompt": false,
    "slideshow": {
     "slide_type": "fragment"
    }
   },
   "source": [
    "Y si quieren obtener un código más limpio, sin ninguna referencia de paso a paso, pueden eliminar cada uno de los bloques que comienzan con `if (pasos):`"
   ]
  },
  {
   "cell_type": "code",
   "execution_count": 2,
   "metadata": {
    "hideCode": false,
    "hidePrompt": false,
    "slideshow": {
     "slide_type": "slide"
    }
   },
   "outputs": [],
   "source": [
    "def resolverMMR(A, B, tol, pasos=True):\n",
    "    n = np.shape(A)[0]\n",
    "    X1 = np.zeros(n)\n",
    "    R1 = np.copy(B)\n",
    "    den = np.linalg.norm(B,np.inf)\n",
    "    if (den==0): den = 1    \n",
    "    iteracion = 0\n",
    "    dif = 2*tol\n",
    "    while (dif>tol):\n",
    "        if (pasos):\n",
    "            display(Math(\"\\\\text{Vamos a realizar la \"+str(iteracion+1)+\"ª iteración}\")) \n",
    "            if (iteracion==0):\n",
    "                display(Math(\"\\\\text{Adoptamos como vector inicial } X^{(0)} = \"+r\"\\begin{bmatrix} 0 \\\\ 0 \\\\ ... \\\\ 0 \\end{bmatrix}\"))            \n",
    "                display(Math(\"\\\\text{En consecuencia } R^{(0)} = B\"))    \n",
    "        X0 = np.copy(X1) \n",
    "        R0 = np.copy(R1).reshape(-1)\n",
    "        AR0 = np.dot(A,R0)        \n",
    "        alfa = (np.inner(AR0,R0) / np.inner(AR0,AR0)).item()\n",
    "        X1 = X0 + alfa*R0       \n",
    "        R1 = R0 - alfa*AR0    \n",
    "        dif = np.linalg.norm(R1.transpose(),np.inf)/den        \n",
    "        if (pasos):\n",
    "            display(Math(\"A \\\\cdot R^{(\"+str(iteracion)+\")} = \"+bmatrix(AR0)+\"^T\"))   \n",
    "            exp = r\"\\alpha_\"+str(iteracion)+\" = \\dfrac{(A\\cdot R^{(\"+str(iteracion)+\")})^T \\cdot R^{(\"+str(iteracion)+\")}}{(A\\cdot R^{(\"+str(iteracion)+\")})^T \\cdot A \\cdot R^{(\"+str(iteracion)+\")}} =\" +str(alfa)\n",
    "            display(Math(exp)) \n",
    "            exp = \"X^{(\"+str(iteracion+1)+\")} = X^{(\"+str(iteracion)+r\")} + \\alpha_{\"+str(iteracion)+\"} \\cdot R^{(\"+str(iteracion)+\")} = \"+bmatrix(X1)\n",
    "            display(Math(exp))\n",
    "            exp = \"R^{(\"+str(iteracion+1)+\")} = R^{(\"+str(iteracion)+r\")} - \\alpha_{\"+str(iteracion)+r\"} \\cdot A \\cdot R^{(\"+str(iteracion)+\")} = \"+bmatrix(R1)\n",
    "            display(Math(exp)) \n",
    "            exp = \"\\\\text{Evaluamos el criterio corte: } \\\\frac{|| R^{(\"+str(iteracion+1)+\")}||}{|| B ||} = \"+str(dif)            \n",
    "            if (dif>tol):\n",
    "                exp += \" > tol = \"+str(tol)\n",
    "                display(Math(exp)) \n",
    "            else:\n",
    "                exp +=  \" \\leq tol = \"+str(tol)\n",
    "                display(Math(exp)) \n",
    "                exp = \"\\\\text{Y hemos encontrado nuestra solución aproximada: } X^{(\"+str(iteracion+1)+\")} = \"+bmatrix(X1)\n",
    "                display(Math(exp))\n",
    "        iteracion += 1                \n",
    "    return (X1)\n",
    "\n",
    "def bmatrix(a):\n",
    "    # credito: https://stackoverflow.com/questions/17129290/numpy-2d-and-1d-array-to-latex-bmatrix\n",
    "    if len(a.shape) > 2:\n",
    "        raise ValueError('solo vectores o matrices bidimensionales')\n",
    "    lines = str(a).replace('[', '').replace(']', '').splitlines()\n",
    "    rv = [r'\\begin{bmatrix}']\n",
    "    rv += ['  ' + ' & '.join(l.split()) + r'\\\\' for l in lines]\n",
    "    rv +=  [r'\\end{bmatrix}']\n",
    "    return '\\n'.join(rv)"
   ]
  },
  {
   "cell_type": "code",
   "execution_count": 3,
   "metadata": {
    "hideCode": false,
    "hidePrompt": false,
    "slideshow": {
     "slide_type": "slide"
    }
   },
   "outputs": [
    {
     "data": {
      "text/latex": [
       "$\\displaystyle \\text{Vamos a realizar la 1ª iteración}$"
      ],
      "text/plain": [
       "<IPython.core.display.Math object>"
      ]
     },
     "metadata": {},
     "output_type": "display_data"
    },
    {
     "data": {
      "text/latex": [
       "$\\displaystyle \\text{Adoptamos como vector inicial } X^{(0)} = \\begin{bmatrix} 0 \\\\ 0 \\\\ ... \\\\ 0 \\end{bmatrix}$"
      ],
      "text/plain": [
       "<IPython.core.display.Math object>"
      ]
     },
     "metadata": {},
     "output_type": "display_data"
    },
    {
     "data": {
      "text/latex": [
       "$\\displaystyle \\text{En consecuencia } R^{(0)} = B$"
      ],
      "text/plain": [
       "<IPython.core.display.Math object>"
      ]
     },
     "metadata": {},
     "output_type": "display_data"
    },
    {
     "data": {
      "text/latex": [
       "$\\displaystyle A \\cdot R^{(0)} = \\begin{bmatrix}\n",
       "  13 & 325 & -48 & 320\\\\\n",
       "\\end{bmatrix}^T$"
      ],
      "text/plain": [
       "<IPython.core.display.Math object>"
      ]
     },
     "metadata": {},
     "output_type": "display_data"
    },
    {
     "data": {
      "text/latex": [
       "$\\displaystyle \\alpha_0 = \\dfrac{(A\\cdot R^{(0)})^T \\cdot R^{(0)}}{(A\\cdot R^{(0)})^T \\cdot A \\cdot R^{(0)}} =0.06428089578048247$"
      ],
      "text/plain": [
       "<IPython.core.display.Math object>"
      ]
     },
     "metadata": {},
     "output_type": "display_data"
    },
    {
     "data": {
      "text/latex": [
       "$\\displaystyle X^{(1)} = X^{(0)} + \\alpha_{0} \\cdot R^{(0)} = \\begin{bmatrix}\n",
       "  0.38568537 & 1.60702239 & -0.70708985 & 0.96421344\\\\\n",
       "\\end{bmatrix}$"
      ],
      "text/plain": [
       "<IPython.core.display.Math object>"
      ]
     },
     "metadata": {},
     "output_type": "display_data"
    },
    {
     "data": {
      "text/latex": [
       "$\\displaystyle R^{(1)} = R^{(0)} - \\alpha_{0} \\cdot A \\cdot R^{(0)} = \\begin{bmatrix}\n",
       "  5.16434835 & 4.10870887 & -7.914517 & -5.56988665\\\\\n",
       "\\end{bmatrix}$"
      ],
      "text/plain": [
       "<IPython.core.display.Math object>"
      ]
     },
     "metadata": {},
     "output_type": "display_data"
    },
    {
     "data": {
      "text/latex": [
       "$\\displaystyle \\text{Evaluamos el criterio corte: } \\frac{|| R^{(1)}||}{|| B ||} = 0.31658068010147367 > tol = 0.0001$"
      ],
      "text/plain": [
       "<IPython.core.display.Math object>"
      ]
     },
     "metadata": {},
     "output_type": "display_data"
    },
    {
     "data": {
      "text/latex": [
       "$\\displaystyle \\text{Vamos a realizar la 2ª iteración}$"
      ],
      "text/plain": [
       "<IPython.core.display.Math object>"
      ]
     },
     "metadata": {},
     "output_type": "display_data"
    },
    {
     "data": {
      "text/latex": [
       "$\\displaystyle A \\cdot R^{(1)} = \\begin{bmatrix}\n",
       "  31.70574067 & 31.23630628 & -100.77461544 & -138.64419139\\\\\n",
       "\\end{bmatrix}^T$"
      ],
      "text/plain": [
       "<IPython.core.display.Math object>"
      ]
     },
     "metadata": {},
     "output_type": "display_data"
    },
    {
     "data": {
      "text/latex": [
       "$\\displaystyle \\alpha_1 = \\dfrac{(A\\cdot R^{(1)})^T \\cdot R^{(1)}}{(A\\cdot R^{(1)})^T \\cdot A \\cdot R^{(1)}} =0.05937412804218769$"
      ],
      "text/plain": [
       "<IPython.core.display.Math object>"
      ]
     },
     "metadata": {},
     "output_type": "display_data"
    },
    {
     "data": {
      "text/latex": [
       "$\\displaystyle X^{(2)} = X^{(1)} + \\alpha_{1} \\cdot R^{(1)} = \\begin{bmatrix}\n",
       "  0.69231406 & 1.8509734 & -1.1770074 & 0.63350627\\\\\n",
       "\\end{bmatrix}$"
      ],
      "text/plain": [
       "<IPython.core.display.Math object>"
      ]
     },
     "metadata": {},
     "output_type": "display_data"
    },
    {
     "data": {
      "text/latex": [
       "$\\displaystyle R^{(2)} = R^{(1)} - \\alpha_{1} \\cdot A \\cdot R^{(1)} = \\begin{bmatrix}\n",
       "  3.28184765 & 2.25408042 & -1.93111208 & 2.66199132\\\\\n",
       "\\end{bmatrix}$"
      ],
      "text/plain": [
       "<IPython.core.display.Math object>"
      ]
     },
     "metadata": {},
     "output_type": "display_data"
    },
    {
     "data": {
      "text/latex": [
       "$\\displaystyle \\text{Evaluamos el criterio corte: } \\frac{|| R^{(2)}||}{|| B ||} = 0.13127390594059413 > tol = 0.0001$"
      ],
      "text/plain": [
       "<IPython.core.display.Math object>"
      ]
     },
     "metadata": {},
     "output_type": "display_data"
    },
    {
     "data": {
      "text/latex": [
       "$\\displaystyle \\text{Vamos a realizar la 3ª iteración}$"
      ],
      "text/plain": [
       "<IPython.core.display.Math object>"
      ]
     },
     "metadata": {},
     "output_type": "display_data"
    },
    {
     "data": {
      "text/latex": [
       "$\\displaystyle A \\cdot R^{(2)} = \\begin{bmatrix}\n",
       "  26.7021719 & 31.43012305 & -1.69154934 & 50.3465073\\\\\n",
       "\\end{bmatrix}^T$"
      ],
      "text/plain": [
       "<IPython.core.display.Math object>"
      ]
     },
     "metadata": {},
     "output_type": "display_data"
    },
    {
     "data": {
      "text/latex": [
       "$\\displaystyle \\alpha_2 = \\dfrac{(A\\cdot R^{(2)})^T \\cdot R^{(2)}}{(A\\cdot R^{(2)})^T \\cdot A \\cdot R^{(2)}} =0.06978121200530638$"
      ],
      "text/plain": [
       "<IPython.core.display.Math object>"
      ]
     },
     "metadata": {},
     "output_type": "display_data"
    },
    {
     "data": {
      "text/latex": [
       "$\\displaystyle X^{(3)} = X^{(2)} + \\alpha_{2} \\cdot R^{(2)} = \\begin{bmatrix}\n",
       "  0.92132536 & 2.00826586 & -1.31176274 & 0.81926325\\\\\n",
       "\\end{bmatrix}$"
      ],
      "text/plain": [
       "<IPython.core.display.Math object>"
      ]
     },
     "metadata": {},
     "output_type": "display_data"
    },
    {
     "data": {
      "text/latex": [
       "$\\displaystyle R^{(3)} = R^{(2)} - \\alpha_{2} \\cdot A \\cdot R^{(2)} = \\begin{bmatrix}\n",
       "  1.41853773 & 0.06084834 & -1.81307372 & -0.85124898\\\\\n",
       "\\end{bmatrix}$"
      ],
      "text/plain": [
       "<IPython.core.display.Math object>"
      ]
     },
     "metadata": {},
     "output_type": "display_data"
    },
    {
     "data": {
      "text/latex": [
       "$\\displaystyle \\text{Evaluamos el criterio corte: } \\frac{|| R^{(3)}||}{|| B ||} = 0.07252294877621096 > tol = 0.0001$"
      ],
      "text/plain": [
       "<IPython.core.display.Math object>"
      ]
     },
     "metadata": {},
     "output_type": "display_data"
    },
    {
     "data": {
      "text/latex": [
       "$\\displaystyle \\text{Vamos a realizar la 4ª iteración}$"
      ],
      "text/plain": [
       "<IPython.core.display.Math object>"
      ]
     },
     "metadata": {},
     "output_type": "display_data"
    },
    {
     "data": {
      "text/latex": [
       "$\\displaystyle A \\cdot R^{(3)} = \\begin{bmatrix}\n",
       "  10.49838152 & -1.48987917 & -19.61075496 & -25.90780312\\\\\n",
       "\\end{bmatrix}^T$"
      ],
      "text/plain": [
       "<IPython.core.display.Math object>"
      ]
     },
     "metadata": {},
     "output_type": "display_data"
    },
    {
     "data": {
      "text/latex": [
       "$\\displaystyle \\alpha_3 = \\dfrac{(A\\cdot R^{(3)})^T \\cdot R^{(3)}}{(A\\cdot R^{(3)})^T \\cdot A \\cdot R^{(3)}} =0.06198378907710884$"
      ],
      "text/plain": [
       "<IPython.core.display.Math object>"
      ]
     },
     "metadata": {},
     "output_type": "display_data"
    },
    {
     "data": {
      "text/latex": [
       "$\\displaystyle X^{(4)} = X^{(3)} + \\alpha_{3} \\cdot R^{(3)} = \\begin{bmatrix}\n",
       "  1.00925171 & 2.01203748 & -1.42414392 & 0.76649962\\\\\n",
       "\\end{bmatrix}$"
      ],
      "text/plain": [
       "<IPython.core.display.Math object>"
      ]
     },
     "metadata": {},
     "output_type": "display_data"
    },
    {
     "data": {
      "text/latex": [
       "$\\displaystyle R^{(4)} = R^{(3)} - \\alpha_{3} \\cdot A \\cdot R^{(3)} = \\begin{bmatrix}\n",
       "  0.76780826 & 0.1531967 & -0.59752482 & 0.75461483\\\\\n",
       "\\end{bmatrix}$"
      ],
      "text/plain": [
       "<IPython.core.display.Math object>"
      ]
     },
     "metadata": {},
     "output_type": "display_data"
    },
    {
     "data": {
      "text/latex": [
       "$\\displaystyle \\text{Evaluamos el criterio corte: } \\frac{|| R^{(4)}||}{|| B ||} = 0.030712330576720723 > tol = 0.0001$"
      ],
      "text/plain": [
       "<IPython.core.display.Math object>"
      ]
     },
     "metadata": {},
     "output_type": "display_data"
    },
    {
     "data": {
      "text/latex": [
       "$\\displaystyle \\text{Vamos a realizar la 5ª iteración}$"
      ],
      "text/plain": [
       "<IPython.core.display.Math object>"
      ]
     },
     "metadata": {},
     "output_type": "display_data"
    },
    {
     "data": {
      "text/latex": [
       "$\\displaystyle A \\cdot R^{(4)} = \\begin{bmatrix}\n",
       "  6.3298363 & 3.77872473 & -0.81975424 & 12.56426253\\\\\n",
       "\\end{bmatrix}^T$"
      ],
      "text/plain": [
       "<IPython.core.display.Math object>"
      ]
     },
     "metadata": {},
     "output_type": "display_data"
    },
    {
     "data": {
      "text/latex": [
       "$\\displaystyle \\alpha_4 = \\dfrac{(A\\cdot R^{(4)})^T \\cdot R^{(4)}}{(A\\cdot R^{(4)})^T \\cdot A \\cdot R^{(4)}} =0.0723887435296658$"
      ],
      "text/plain": [
       "<IPython.core.display.Math object>"
      ]
     },
     "metadata": {},
     "output_type": "display_data"
    },
    {
     "data": {
      "text/latex": [
       "$\\displaystyle X^{(5)} = X^{(4)} + \\alpha_{4} \\cdot R^{(4)} = \\begin{bmatrix}\n",
       "  1.06483238 & 2.02312719 & -1.46739799 & 0.82112524\\\\\n",
       "\\end{bmatrix}$"
      ],
      "text/plain": [
       "<IPython.core.display.Math object>"
      ]
     },
     "metadata": {},
     "output_type": "display_data"
    },
    {
     "data": {
      "text/latex": [
       "$\\displaystyle R^{(5)} = R^{(4)} - \\alpha_{4} \\cdot A \\cdot R^{(4)} = \\begin{bmatrix}\n",
       "  0.30959937 & -0.12034044 & -0.53818384 & -0.15489635\\\\\n",
       "\\end{bmatrix}$"
      ],
      "text/plain": [
       "<IPython.core.display.Math object>"
      ]
     },
     "metadata": {},
     "output_type": "display_data"
    },
    {
     "data": {
      "text/latex": [
       "$\\displaystyle \\text{Evaluamos el criterio corte: } \\frac{|| R^{(5)}||}{|| B ||} = 0.021527353629451393 > tol = 0.0001$"
      ],
      "text/plain": [
       "<IPython.core.display.Math object>"
      ]
     },
     "metadata": {},
     "output_type": "display_data"
    },
    {
     "data": {
      "text/latex": [
       "$\\displaystyle \\text{Vamos a realizar la 6ª iteración}$"
      ],
      "text/plain": [
       "<IPython.core.display.Math object>"
      ]
     },
     "metadata": {},
     "output_type": "display_data"
    },
    {
     "data": {
      "text/latex": [
       "$\\displaystyle A \\cdot R^{(5)} = \\begin{bmatrix}\n",
       "  2.13996643 & -1.55984938 & -5.41678099 & -6.14986754\\\\\n",
       "\\end{bmatrix}^T$"
      ],
      "text/plain": [
       "<IPython.core.display.Math object>"
      ]
     },
     "metadata": {},
     "output_type": "display_data"
    },
    {
     "data": {
      "text/latex": [
       "$\\displaystyle \\alpha_5 = \\dfrac{(A\\cdot R^{(5)})^T \\cdot R^{(5)}}{(A\\cdot R^{(5)})^T \\cdot A \\cdot R^{(5)}} =0.06360718488004974$"
      ],
      "text/plain": [
       "<IPython.core.display.Math object>"
      ]
     },
     "metadata": {},
     "output_type": "display_data"
    },
    {
     "data": {
      "text/latex": [
       "$\\displaystyle X^{(6)} = X^{(5)} + \\alpha_{5} \\cdot R^{(5)} = \\begin{bmatrix}\n",
       "  1.08452512 & 2.01547268 & -1.50163035 & 0.81127272\\\\\n",
       "\\end{bmatrix}$"
      ],
      "text/plain": [
       "<IPython.core.display.Math object>"
      ]
     },
     "metadata": {},
     "output_type": "display_data"
    },
    {
     "data": {
      "text/latex": [
       "$\\displaystyle R^{(6)} = R^{(5)} - \\alpha_{5} \\cdot A \\cdot R^{(5)} = \\begin{bmatrix}\n",
       "  0.17348213 & -0.02112281 & -0.19363765 & 0.23627941\\\\\n",
       "\\end{bmatrix}$"
      ],
      "text/plain": [
       "<IPython.core.display.Math object>"
      ]
     },
     "metadata": {},
     "output_type": "display_data"
    },
    {
     "data": {
      "text/latex": [
       "$\\displaystyle \\text{Evaluamos el criterio corte: } \\frac{|| R^{(6)}||}{|| B ||} = 0.00945117640432686 > tol = 0.0001$"
      ],
      "text/plain": [
       "<IPython.core.display.Math object>"
      ]
     },
     "metadata": {},
     "output_type": "display_data"
    },
    {
     "data": {
      "text/latex": [
       "$\\displaystyle \\text{Vamos a realizar la 7ª iteración}$"
      ],
      "text/plain": [
       "<IPython.core.display.Math object>"
      ]
     },
     "metadata": {},
     "output_type": "display_data"
    },
    {
     "data": {
      "text/latex": [
       "$\\displaystyle A \\cdot R^{(6)} = \\begin{bmatrix}\n",
       "  1.36866878 & 0.49664286 & -0.38689239 & 3.69403152\\\\\n",
       "\\end{bmatrix}^T$"
      ],
      "text/plain": [
       "<IPython.core.display.Math object>"
      ]
     },
     "metadata": {},
     "output_type": "display_data"
    },
    {
     "data": {
      "text/latex": [
       "$\\displaystyle \\alpha_6 = \\dfrac{(A\\cdot R^{(6)})^T \\cdot R^{(6)}}{(A\\cdot R^{(6)})^T \\cdot A \\cdot R^{(6)}} =0.07380806980617984$"
      ],
      "text/plain": [
       "<IPython.core.display.Math object>"
      ]
     },
     "metadata": {},
     "output_type": "display_data"
    },
    {
     "data": {
      "text/latex": [
       "$\\displaystyle X^{(7)} = X^{(6)} + \\alpha_{6} \\cdot R^{(6)} = \\begin{bmatrix}\n",
       "  1.09732951 & 2.01391364 & -1.51592237 & 0.82871204\\\\\n",
       "\\end{bmatrix}$"
      ],
      "text/plain": [
       "<IPython.core.display.Math object>"
      ]
     },
     "metadata": {},
     "output_type": "display_data"
    },
    {
     "data": {
      "text/latex": [
       "$\\displaystyle R^{(7)} = R^{(6)} - \\alpha_{6} \\cdot A \\cdot R^{(6)} = \\begin{bmatrix}\n",
       "  0.07246333 & -0.05777906 & -0.16508187 & -0.03636993\\\\\n",
       "\\end{bmatrix}$"
      ],
      "text/plain": [
       "<IPython.core.display.Math object>"
      ]
     },
     "metadata": {},
     "output_type": "display_data"
    },
    {
     "data": {
      "text/latex": [
       "$\\displaystyle \\text{Evaluamos el criterio corte: } \\frac{|| R^{(7)}||}{|| B ||} = 0.006603274795821237 > tol = 0.0001$"
      ],
      "text/plain": [
       "<IPython.core.display.Math object>"
      ]
     },
     "metadata": {},
     "output_type": "display_data"
    },
    {
     "data": {
      "text/latex": [
       "$\\displaystyle \\text{Vamos a realizar la 8ª iteración}$"
      ],
      "text/plain": [
       "<IPython.core.display.Math object>"
      ]
     },
     "metadata": {},
     "output_type": "display_data"
    },
    {
     "data": {
      "text/latex": [
       "$\\displaystyle A \\cdot R^{(7)} = \\begin{bmatrix}\n",
       "  0.45224858 & -0.65206089 & -1.62996262 & -1.72614506\\\\\n",
       "\\end{bmatrix}^T$"
      ],
      "text/plain": [
       "<IPython.core.display.Math object>"
      ]
     },
     "metadata": {},
     "output_type": "display_data"
    },
    {
     "data": {
      "text/latex": [
       "$\\displaystyle \\alpha_7 = \\dfrac{(A\\cdot R^{(7)})^T \\cdot R^{(7)}}{(A\\cdot R^{(7)})^T \\cdot A \\cdot R^{(7)}} =0.06420358131309$"
      ],
      "text/plain": [
       "<IPython.core.display.Math object>"
      ]
     },
     "metadata": {},
     "output_type": "display_data"
    },
    {
     "data": {
      "text/latex": [
       "$\\displaystyle X^{(8)} = X^{(7)} + \\alpha_{7} \\cdot R^{(7)} = \\begin{bmatrix}\n",
       "  1.10198191 & 2.01020402 & -1.52652122 & 0.82637696\\\\\n",
       "\\end{bmatrix}$"
      ],
      "text/plain": [
       "<IPython.core.display.Math object>"
      ]
     },
     "metadata": {},
     "output_type": "display_data"
    },
    {
     "data": {
      "text/latex": [
       "$\\displaystyle R^{(8)} = R^{(7)} - \\alpha_{7} \\cdot A \\cdot R^{(7)} = \\begin{bmatrix}\n",
       "  0.04342735 & -0.01591442 & -0.06043243 & 0.07445477\\\\\n",
       "\\end{bmatrix}$"
      ],
      "text/plain": [
       "<IPython.core.display.Math object>"
      ]
     },
     "metadata": {},
     "output_type": "display_data"
    },
    {
     "data": {
      "text/latex": [
       "$\\displaystyle \\text{Evaluamos el criterio corte: } \\frac{|| R^{(8)}||}{|| B ||} = 0.00297819072207263 > tol = 0.0001$"
      ],
      "text/plain": [
       "<IPython.core.display.Math object>"
      ]
     },
     "metadata": {},
     "output_type": "display_data"
    },
    {
     "data": {
      "text/latex": [
       "$\\displaystyle \\text{Vamos a realizar la 9ª iteración}$"
      ],
      "text/plain": [
       "<IPython.core.display.Math object>"
      ]
     },
     "metadata": {},
     "output_type": "display_data"
    },
    {
     "data": {
      "text/latex": [
       "$\\displaystyle A \\cdot R^{(8)} = \\begin{bmatrix}\n",
       "  0.32932303 & 0.06531082 & -0.12928137 & 1.13918995\\\\\n",
       "\\end{bmatrix}^T$"
      ],
      "text/plain": [
       "<IPython.core.display.Math object>"
      ]
     },
     "metadata": {},
     "output_type": "display_data"
    },
    {
     "data": {
      "text/latex": [
       "$\\displaystyle \\alpha_8 = \\dfrac{(A\\cdot R^{(8)})^T \\cdot R^{(8)}}{(A\\cdot R^{(8)})^T \\cdot A \\cdot R^{(8)}} =0.07419713357875878$"
      ],
      "text/plain": [
       "<IPython.core.display.Math object>"
      ]
     },
     "metadata": {},
     "output_type": "display_data"
    },
    {
     "data": {
      "text/latex": [
       "$\\displaystyle X^{(9)} = X^{(8)} + \\alpha_{8} \\cdot R^{(8)} = \\begin{bmatrix}\n",
       "  1.1052041 & 2.00902322 & -1.53100513 & 0.83190129\\\\\n",
       "\\end{bmatrix}$"
      ],
      "text/plain": [
       "<IPython.core.display.Math object>"
      ]
     },
     "metadata": {},
     "output_type": "display_data"
    },
    {
     "data": {
      "text/latex": [
       "$\\displaystyle R^{(9)} = R^{(8)} - \\alpha_{8} \\cdot A \\cdot R^{(8)} = \\begin{bmatrix}\n",
       "  0.01899252 & -0.02076029 & -0.05084013 & -0.01006986\\\\\n",
       "\\end{bmatrix}$"
      ],
      "text/plain": [
       "<IPython.core.display.Math object>"
      ]
     },
     "metadata": {},
     "output_type": "display_data"
    },
    {
     "data": {
      "text/latex": [
       "$\\displaystyle \\text{Evaluamos el criterio corte: } \\frac{|| R^{(9)}||}{|| B ||} = 0.002033605002545242 > tol = 0.0001$"
      ],
      "text/plain": [
       "<IPython.core.display.Math object>"
      ]
     },
     "metadata": {},
     "output_type": "display_data"
    },
    {
     "data": {
      "text/latex": [
       "$\\displaystyle \\text{Vamos a realizar la 10ª iteración}$"
      ],
      "text/plain": [
       "<IPython.core.display.Math object>"
      ]
     },
     "metadata": {},
     "output_type": "display_data"
    },
    {
     "data": {
      "text/latex": [
       "$\\displaystyle A \\cdot R^{(9)} = \\begin{bmatrix}\n",
       "  0.10900527 & -0.22672518 & -0.50000522 & -0.51787872\\\\\n",
       "\\end{bmatrix}^T$"
      ],
      "text/plain": [
       "<IPython.core.display.Math object>"
      ]
     },
     "metadata": {},
     "output_type": "display_data"
    },
    {
     "data": {
      "text/latex": [
       "$\\displaystyle \\alpha_9 = \\dfrac{(A\\cdot R^{(9)})^T \\cdot R^{(9)}}{(A\\cdot R^{(9)})^T \\cdot A \\cdot R^{(9)}} =0.06433895265680138$"
      ],
      "text/plain": [
       "<IPython.core.display.Math object>"
      ]
     },
     "metadata": {},
     "output_type": "display_data"
    },
    {
     "data": {
      "text/latex": [
       "$\\displaystyle X^{(10)} = X^{(9)} + \\alpha_{9} \\cdot R^{(9)} = \\begin{bmatrix}\n",
       "  1.10642605 & 2.00768752 & -1.53427613 & 0.83125341\\\\\n",
       "\\end{bmatrix}$"
      ],
      "text/plain": [
       "<IPython.core.display.Math object>"
      ]
     },
     "metadata": {},
     "output_type": "display_data"
    },
    {
     "data": {
      "text/latex": [
       "$\\displaystyle R^{(10)} = R^{(9)} - \\alpha_{9} \\cdot A \\cdot R^{(9)} = \\begin{bmatrix}\n",
       "  0.01197924 & -0.00617303 & -0.01867031 & 0.02324991\\\\\n",
       "\\end{bmatrix}$"
      ],
      "text/plain": [
       "<IPython.core.display.Math object>"
      ]
     },
     "metadata": {},
     "output_type": "display_data"
    },
    {
     "data": {
      "text/latex": [
       "$\\displaystyle \\text{Evaluamos el criterio corte: } \\frac{|| R^{(10)}||}{|| B ||} = 0.0009299965347187147 > tol = 0.0001$"
      ],
      "text/plain": [
       "<IPython.core.display.Math object>"
      ]
     },
     "metadata": {},
     "output_type": "display_data"
    },
    {
     "data": {
      "text/latex": [
       "$\\displaystyle \\text{Vamos a realizar la 11ª iteración}$"
      ],
      "text/plain": [
       "<IPython.core.display.Math object>"
      ]
     },
     "metadata": {},
     "output_type": "display_data"
    },
    {
     "data": {
      "text/latex": [
       "$\\displaystyle A \\cdot R^{(10)} = \\begin{bmatrix}\n",
       "  0.08862478 & 0.00853748 & -0.04032206 & 0.35312761\\\\\n",
       "\\end{bmatrix}^T$"
      ],
      "text/plain": [
       "<IPython.core.display.Math object>"
      ]
     },
     "metadata": {},
     "output_type": "display_data"
    },
    {
     "data": {
      "text/latex": [
       "$\\displaystyle \\alpha_10 = \\dfrac{(A\\cdot R^{(10)})^T \\cdot R^{(10)}}{(A\\cdot R^{(10)})^T \\cdot A \\cdot R^{(10)}} =0.07427785604234602$"
      ],
      "text/plain": [
       "<IPython.core.display.Math object>"
      ]
     },
     "metadata": {},
     "output_type": "display_data"
    },
    {
     "data": {
      "text/latex": [
       "$\\displaystyle X^{(11)} = X^{(10)} + \\alpha_{10} \\cdot R^{(10)} = \\begin{bmatrix}\n",
       "  1.10731585 & 2.007229 & -1.53566292 & 0.83298036\\\\\n",
       "\\end{bmatrix}$"
      ],
      "text/plain": [
       "<IPython.core.display.Math object>"
      ]
     },
     "metadata": {},
     "output_type": "display_data"
    },
    {
     "data": {
      "text/latex": [
       "$\\displaystyle R^{(11)} = R^{(10)} - \\alpha_{10} \\cdot A \\cdot R^{(10)} = \\begin{bmatrix}\n",
       "  0.00539638 & -0.00680718 & -0.01567528 & -0.00297965\\\\\n",
       "\\end{bmatrix}$"
      ],
      "text/plain": [
       "<IPython.core.display.Math object>"
      ]
     },
     "metadata": {},
     "output_type": "display_data"
    },
    {
     "data": {
      "text/latex": [
       "$\\displaystyle \\text{Evaluamos el criterio corte: } \\frac{|| R^{(11)}||}{|| B ||} = 0.0006270110819312931 > tol = 0.0001$"
      ],
      "text/plain": [
       "<IPython.core.display.Math object>"
      ]
     },
     "metadata": {},
     "output_type": "display_data"
    },
    {
     "data": {
      "text/latex": [
       "$\\displaystyle \\text{Vamos a realizar la 12ª iteración}$"
      ],
      "text/plain": [
       "<IPython.core.display.Math object>"
      ]
     },
     "metadata": {},
     "output_type": "display_data"
    },
    {
     "data": {
      "text/latex": [
       "$\\displaystyle A \\cdot R^{(11)} = \\begin{bmatrix}\n",
       "  0.02942041 & -0.07353898 & -0.15405108 & -0.15839088\\\\\n",
       "\\end{bmatrix}^T$"
      ],
      "text/plain": [
       "<IPython.core.display.Math object>"
      ]
     },
     "metadata": {},
     "output_type": "display_data"
    },
    {
     "data": {
      "text/latex": [
       "$\\displaystyle \\alpha_11 = \\dfrac{(A\\cdot R^{(11)})^T \\cdot R^{(11)}}{(A\\cdot R^{(11)})^T \\cdot A \\cdot R^{(11)}} =0.06436574937433752$"
      ],
      "text/plain": [
       "<IPython.core.display.Math object>"
      ]
     },
     "metadata": {},
     "output_type": "display_data"
    },
    {
     "data": {
      "text/latex": [
       "$\\displaystyle X^{(12)} = X^{(11)} + \\alpha_{11} \\cdot R^{(11)} = \\begin{bmatrix}\n",
       "  1.10766319 & 2.00679085 & -1.53667187 & 0.83278858\\\\\n",
       "\\end{bmatrix}$"
      ],
      "text/plain": [
       "<IPython.core.display.Math object>"
      ]
     },
     "metadata": {},
     "output_type": "display_data"
    },
    {
     "data": {
      "text/latex": [
       "$\\displaystyle R^{(12)} = R^{(11)} - \\alpha_{11} \\cdot A \\cdot R^{(11)} = \\begin{bmatrix}\n",
       "  0.00350271 & -0.00207378 & -0.00575966 & 0.0072153\\\\\n",
       "\\end{bmatrix}$"
      ],
      "text/plain": [
       "<IPython.core.display.Math object>"
      ]
     },
     "metadata": {},
     "output_type": "display_data"
    },
    {
     "data": {
      "text/latex": [
       "$\\displaystyle \\text{Evaluamos el criterio corte: } \\frac{|| R^{(12)}||}{|| B ||} = 0.00028861197745198337 > tol = 0.0001$"
      ],
      "text/plain": [
       "<IPython.core.display.Math object>"
      ]
     },
     "metadata": {},
     "output_type": "display_data"
    },
    {
     "data": {
      "text/latex": [
       "$\\displaystyle \\text{Vamos a realizar la 13ª iteración}$"
      ],
      "text/plain": [
       "<IPython.core.display.Math object>"
      ]
     },
     "metadata": {},
     "output_type": "display_data"
    },
    {
     "data": {
      "text/latex": [
       "$\\displaystyle A \\cdot R^{(12)} = \\begin{bmatrix}\n",
       "  0.02558158 & 0.00109122 & -0.01244093 & 0.10928632\\\\\n",
       "\\end{bmatrix}^T$"
      ],
      "text/plain": [
       "<IPython.core.display.Math object>"
      ]
     },
     "metadata": {},
     "output_type": "display_data"
    },
    {
     "data": {
      "text/latex": [
       "$\\displaystyle \\alpha_12 = \\dfrac{(A\\cdot R^{(12)})^T \\cdot R^{(12)}}{(A\\cdot R^{(12)})^T \\cdot A \\cdot R^{(12)}} =0.0742935294522749$"
      ],
      "text/plain": [
       "<IPython.core.display.Math object>"
      ]
     },
     "metadata": {},
     "output_type": "display_data"
    },
    {
     "data": {
      "text/latex": [
       "$\\displaystyle X^{(13)} = X^{(12)} + \\alpha_{12} \\cdot R^{(12)} = \\begin{bmatrix}\n",
       "  1.10792342 & 2.00663678 & -1.53709978 & 0.83332463\\\\\n",
       "\\end{bmatrix}$"
      ],
      "text/plain": [
       "<IPython.core.display.Math object>"
      ]
     },
     "metadata": {},
     "output_type": "display_data"
    },
    {
     "data": {
      "text/latex": [
       "$\\displaystyle R^{(13)} = R^{(12)} - \\alpha_{12} \\cdot A \\cdot R^{(12)} = \\begin{bmatrix}\n",
       "  0.00160217 & -0.00215486 & -0.00483538 & -0.00090397\\\\\n",
       "\\end{bmatrix}$"
      ],
      "text/plain": [
       "<IPython.core.display.Math object>"
      ]
     },
     "metadata": {},
     "output_type": "display_data"
    },
    {
     "data": {
      "text/latex": [
       "$\\displaystyle \\text{Evaluamos el criterio corte: } \\frac{|| R^{(13)}||}{|| B ||} = 0.00019341532225450824 > tol = 0.0001$"
      ],
      "text/plain": [
       "<IPython.core.display.Math object>"
      ]
     },
     "metadata": {},
     "output_type": "display_data"
    },
    {
     "data": {
      "text/latex": [
       "$\\displaystyle \\text{Vamos a realizar la 14ª iteración}$"
      ],
      "text/plain": [
       "<IPython.core.display.Math object>"
      ]
     },
     "metadata": {},
     "output_type": "display_data"
    },
    {
     "data": {
      "text/latex": [
       "$\\displaystyle A \\cdot R^{(13)} = \\begin{bmatrix}\n",
       "  0.00850575 & -0.02318209 & -0.04751448 & -0.04872082\\\\\n",
       "\\end{bmatrix}^T$"
      ],
      "text/plain": [
       "<IPython.core.display.Math object>"
      ]
     },
     "metadata": {},
     "output_type": "display_data"
    },
    {
     "data": {
      "text/latex": [
       "$\\displaystyle \\alpha_13 = \\dfrac{(A\\cdot R^{(13)})^T \\cdot R^{(13)}}{(A\\cdot R^{(13)})^T \\cdot A \\cdot R^{(13)}} =0.06437090292190055$"
      ],
      "text/plain": [
       "<IPython.core.display.Math object>"
      ]
     },
     "metadata": {},
     "output_type": "display_data"
    },
    {
     "data": {
      "text/latex": [
       "$\\displaystyle X^{(14)} = X^{(13)} + \\alpha_{13} \\cdot R^{(13)} = \\begin{bmatrix}\n",
       "  1.10802655 & 2.00649807 & -1.53741104 & 0.83326644\\\\\n",
       "\\end{bmatrix}$"
      ],
      "text/plain": [
       "<IPython.core.display.Math object>"
      ]
     },
     "metadata": {},
     "output_type": "display_data"
    },
    {
     "data": {
      "text/latex": [
       "$\\displaystyle R^{(14)} = R^{(13)} - \\alpha_{13} \\cdot A \\cdot R^{(13)} = \\begin{bmatrix}\n",
       "  0.00105464 & -0.0006626 & -0.00177683 & 0.00223224\\\\\n",
       "\\end{bmatrix}$"
      ],
      "text/plain": [
       "<IPython.core.display.Math object>"
      ]
     },
     "metadata": {},
     "output_type": "display_data"
    },
    {
     "data": {
      "text/latex": [
       "$\\displaystyle \\text{Evaluamos el criterio corte: } \\frac{|| R^{(14)}||}{|| B ||} = 8.928944531004457e-05 \\leq tol = 0.0001$"
      ],
      "text/plain": [
       "<IPython.core.display.Math object>"
      ]
     },
     "metadata": {},
     "output_type": "display_data"
    },
    {
     "data": {
      "text/latex": [
       "$\\displaystyle \\text{Y hemos encontrado nuestra solución aproximada: } X^{(14)} = \\begin{bmatrix}\n",
       "  1.10802655 & 2.00649807 & -1.53741104 & 0.83326644\\\\\n",
       "\\end{bmatrix}$"
      ],
      "text/plain": [
       "<IPython.core.display.Math object>"
      ]
     },
     "metadata": {},
     "output_type": "display_data"
    },
    {
     "data": {
      "text/plain": [
       "array([ 1.10802655,  2.00649807, -1.53741104,  0.83326644])"
      ]
     },
     "execution_count": 3,
     "metadata": {},
     "output_type": "execute_result"
    }
   ],
   "source": [
    "resolverMMR(A,B,10**-4,True)"
   ]
  },
  {
   "cell_type": "markdown",
   "metadata": {
    "hideCode": false,
    "hidePrompt": false,
    "slideshow": {
     "slide_type": "slide"
    }
   },
   "source": [
    "### Metodo del Descenso Más Rápido:\n",
    "\n",
    "Este método interpreta la solución de nuestro SEL como el mínimo de una Forma Cuadrática (equivalente a una función cuadrática pero en $\\mathbb{R}^n$) y propone como dirección para la búsqueda de ese mínimo la de los residuos de cada iteración, que resultan opuestos al gradiente. De allí, se obtiene:"
   ]
  },
  {
   "cell_type": "markdown",
   "metadata": {
    "hideCode": false,
    "hidePrompt": false,
    "slideshow": {
     "slide_type": "fragment"
    }
   },
   "source": [
    "$$ \\alpha_k = \\dfrac{(R^{(k)})^T \\cdot R^{(k)}}{(R^{(k)})^T \\cdot A \\cdot R^{(k)}} $$"
   ]
  },
  {
   "cell_type": "markdown",
   "metadata": {
    "hideCode": false,
    "hidePrompt": false,
    "slideshow": {
     "slide_type": "fragment"
    }
   },
   "source": [
    "Este método converge si A es simétrica definida positiva, y el algoritmo adopta la forma:\n",
    "\n",
    "$$R^{(0)} = B - A \\cdot X^{(0)} \\hspace{5mm} \\text{solo en la primera iteración}$$\n",
    "\n",
    "$$ \\alpha_k = \\dfrac{(R^{(k)})^T \\cdot R^{(k)}}{(R^{(k)})^T \\cdot A \\cdot R^{(k)}} $$\n",
    "\n",
    "$$X^{(k+1)} = X^{(k)} + \\alpha_k \\cdot R^{(k)}$$\n",
    "\n",
    "$$R^{(k+1)} = R^{(k)} - \\alpha_k \\cdot A \\cdot R^{(k)}$$"
   ]
  },
  {
   "cell_type": "code",
   "execution_count": 4,
   "metadata": {
    "hideCode": false,
    "hidePrompt": false,
    "slideshow": {
     "slide_type": "slide"
    }
   },
   "outputs": [],
   "source": [
    "def resolverDMR(A, B, tol, pasos=True):\n",
    "    n = np.shape(A)[0]\n",
    "    X1 = np.zeros(n)\n",
    "    R1 = np.copy(B)\n",
    "    den = np.linalg.norm(B,np.inf)\n",
    "    if (den==0): den = 1    \n",
    "    iteracion = 0\n",
    "    dif = 2*tol\n",
    "    while (dif>tol):\n",
    "        if (pasos):\n",
    "            display(Math(\"\\\\text{Vamos a realizar la \"+str(iteracion+1)+\"ª iteración}\")) \n",
    "            if (iteracion==0):\n",
    "                display(Math(\"\\\\text{Adoptamos como vector inicial } X^{(0)} = \"+r\"\\begin{bmatrix} 0 \\\\ 0 \\\\ ... \\\\ 0 \\end{bmatrix}\"))            \n",
    "                display(Math(\"\\\\text{En consecuencia } R^{(0)} = B\"))    \n",
    "        X0 = np.copy(X1) \n",
    "        R0 = np.copy(R1).reshape(-1)\n",
    "        AR0 = np.dot(A,R0)        \n",
    "        alfa = (np.inner(R0,R0) / np.inner(R0,AR0)).item()\n",
    "        X1 = X0 + alfa*R0       \n",
    "        R1 = R0 - alfa*AR0    \n",
    "        dif = np.linalg.norm(R1.transpose(),np.inf)/den       \n",
    "        if (pasos):\n",
    "            display(Math(\"A \\\\cdot R^{(\"+str(iteracion)+\")} = \"+bmatrix(AR0)+\"^T\"))   \n",
    "            exp = r\"\\alpha_\"+str(iteracion)+\" = \\dfrac{(R^{(\"+str(iteracion)+\")})^T \\cdot R^{(\"+str(iteracion)+\")}}{(R^{(\"+str(iteracion)+\")})^T \\cdot A \\cdot R^{(\"+str(iteracion)+\")}} =\" +str(alfa)\n",
    "            display(Math(exp)) \n",
    "            exp = \"X^{(\"+str(iteracion+1)+\")} = X^{(\"+str(iteracion)+r\")} + \\alpha_{\"+str(iteracion)+\"} \\cdot R^{(\"+str(iteracion)+\")} = \"+bmatrix(X1)\n",
    "            display(Math(exp))\n",
    "            exp = \"R^{(\"+str(iteracion+1)+\")} = R^{(\"+str(iteracion)+r\")} - \\alpha_{\"+str(iteracion)+r\"} \\cdot A \\cdot R^{(\"+str(iteracion)+\")} = \"+bmatrix(R1)\n",
    "            display(Math(exp))            \n",
    "            exp = \"\\\\text{Evaluamos el criterio corte: } \\\\frac{|| R^{(\"+str(iteracion+1)+\")}||}{|| B ||} = \"+str(dif)            \n",
    "            if (dif>tol):\n",
    "                exp += \" > tol = \"+str(tol)\n",
    "                display(Math(exp)) \n",
    "            else:\n",
    "                exp +=  \" \\leq tol = \"+str(tol)\n",
    "                display(Math(exp)) \n",
    "                exp = \"\\\\text{Y hemos encontrado nuestra solución aproximada: } X^{(\"+str(iteracion+1)+\")} = \"+bmatrix(X1)\n",
    "                display(Math(exp))\n",
    "        iteracion += 1                 \n",
    "    return (X1)"
   ]
  },
  {
   "cell_type": "code",
   "execution_count": 5,
   "metadata": {
    "hideCode": false,
    "hidePrompt": false,
    "scrolled": false,
    "slideshow": {
     "slide_type": "slide"
    }
   },
   "outputs": [
    {
     "data": {
      "text/latex": [
       "$\\displaystyle \\text{Vamos a realizar la 1ª iteración}$"
      ],
      "text/plain": [
       "<IPython.core.display.Math object>"
      ]
     },
     "metadata": {},
     "output_type": "display_data"
    },
    {
     "data": {
      "text/latex": [
       "$\\displaystyle \\text{Adoptamos como vector inicial } X^{(0)} = \\begin{bmatrix} 0 \\\\ 0 \\\\ ... \\\\ 0 \\end{bmatrix}$"
      ],
      "text/plain": [
       "<IPython.core.display.Math object>"
      ]
     },
     "metadata": {},
     "output_type": "display_data"
    },
    {
     "data": {
      "text/latex": [
       "$\\displaystyle \\text{En consecuencia } R^{(0)} = B$"
      ],
      "text/plain": [
       "<IPython.core.display.Math object>"
      ]
     },
     "metadata": {},
     "output_type": "display_data"
    },
    {
     "data": {
      "text/latex": [
       "$\\displaystyle A \\cdot R^{(0)} = \\begin{bmatrix}\n",
       "  13 & 325 & -48 & 320\\\\\n",
       "\\end{bmatrix}^T$"
      ],
      "text/plain": [
       "<IPython.core.display.Math object>"
      ]
     },
     "metadata": {},
     "output_type": "display_data"
    },
    {
     "data": {
      "text/latex": [
       "$\\displaystyle \\alpha_0 = \\dfrac{(R^{(0)})^T \\cdot R^{(0)}}{(R^{(0)})^T \\cdot A \\cdot R^{(0)}} =0.07442169832237085$"
      ],
      "text/plain": [
       "<IPython.core.display.Math object>"
      ]
     },
     "metadata": {},
     "output_type": "display_data"
    },
    {
     "data": {
      "text/latex": [
       "$\\displaystyle X^{(1)} = X^{(0)} + \\alpha_{0} \\cdot R^{(0)} = \\begin{bmatrix}\n",
       "  0.44653019 & 1.86054246 & -0.81863868 & 1.11632547\\\\\n",
       "\\end{bmatrix}$"
      ],
      "text/plain": [
       "<IPython.core.display.Math object>"
      ]
     },
     "metadata": {},
     "output_type": "display_data"
    },
    {
     "data": {
      "text/latex": [
       "$\\displaystyle R^{(1)} = R^{(0)} - \\alpha_{0} \\cdot A \\cdot R^{(0)} = \\begin{bmatrix}\n",
       "  5.03251792 & 0.81294805 & -7.42775848 & -8.81494346\\\\\n",
       "\\end{bmatrix}$"
      ],
      "text/plain": [
       "<IPython.core.display.Math object>"
      ]
     },
     "metadata": {},
     "output_type": "display_data"
    },
    {
     "data": {
      "text/latex": [
       "$\\displaystyle \\text{Evaluamos el criterio corte: } \\frac{|| R^{(1)}||}{|| B ||} = 0.3525977385263468 > tol = 0.0001$"
      ],
      "text/plain": [
       "<IPython.core.display.Math object>"
      ]
     },
     "metadata": {},
     "output_type": "display_data"
    },
    {
     "data": {
      "text/latex": [
       "$\\displaystyle \\text{Vamos a realizar la 2ª iteración}$"
      ],
      "text/plain": [
       "<IPython.core.display.Math object>"
      ]
     },
     "metadata": {},
     "output_type": "display_data"
    },
    {
     "data": {
      "text/latex": [
       "$\\displaystyle A \\cdot R^{(1)} = \\begin{bmatrix}\n",
       "  34.65671421 & -15.10716133 & -109.10021432 & -210.99881753\\\\\n",
       "\\end{bmatrix}^T$"
      ],
      "text/plain": [
       "<IPython.core.display.Math object>"
      ]
     },
     "metadata": {},
     "output_type": "display_data"
    },
    {
     "data": {
      "text/latex": [
       "$\\displaystyle \\alpha_1 = \\dfrac{(R^{(1)})^T \\cdot R^{(1)}}{(R^{(1)})^T \\cdot A \\cdot R^{(1)}} =0.05608656832723465$"
      ],
      "text/plain": [
       "<IPython.core.display.Math object>"
      ]
     },
     "metadata": {},
     "output_type": "display_data"
    },
    {
     "data": {
      "text/latex": [
       "$\\displaystyle X^{(2)} = X^{(1)} + \\alpha_{1} \\cdot R^{(1)} = \\begin{bmatrix}\n",
       "  0.72878685 & 1.90613792 & -1.23523617 & 0.62192555\\\\\n",
       "\\end{bmatrix}$"
      ],
      "text/plain": [
       "<IPython.core.display.Math object>"
      ]
     },
     "metadata": {},
     "output_type": "display_data"
    },
    {
     "data": {
      "text/latex": [
       "$\\displaystyle R^{(2)} = R^{(1)} - \\alpha_{1} \\cdot A \\cdot R^{(1)} = \\begin{bmatrix}\n",
       "  3.08874175 & 1.66025688 & -1.30870186 & 3.01925613\\\\\n",
       "\\end{bmatrix}$"
      ],
      "text/plain": [
       "<IPython.core.display.Math object>"
      ]
     },
     "metadata": {},
     "output_type": "display_data"
    },
    {
     "data": {
      "text/latex": [
       "$\\displaystyle \\text{Evaluamos el criterio corte: } \\frac{|| R^{(2)}||}{|| B ||} = 0.12354967008684231 > tol = 0.0001$"
      ],
      "text/plain": [
       "<IPython.core.display.Math object>"
      ]
     },
     "metadata": {},
     "output_type": "display_data"
    },
    {
     "data": {
      "text/latex": [
       "$\\displaystyle \\text{Vamos a realizar la 3ª iteración}$"
      ],
      "text/plain": [
       "<IPython.core.display.Math object>"
      ]
     },
     "metadata": {},
     "output_type": "display_data"
    },
    {
     "data": {
      "text/latex": [
       "$\\displaystyle A \\cdot R^{(2)} = \\begin{bmatrix}\n",
       "  26.60975693 & 25.5405542 & 6.52648873 & 58.82238403\\\\\n",
       "\\end{bmatrix}^T$"
      ],
      "text/plain": [
       "<IPython.core.display.Math object>"
      ]
     },
     "metadata": {},
     "output_type": "display_data"
    },
    {
     "data": {
      "text/latex": [
       "$\\displaystyle \\alpha_2 = \\dfrac{(R^{(2)})^T \\cdot R^{(2)}}{(R^{(2)})^T \\cdot A \\cdot R^{(2)}} =0.07875068110025$"
      ],
      "text/plain": [
       "<IPython.core.display.Math object>"
      ]
     },
     "metadata": {},
     "output_type": "display_data"
    },
    {
     "data": {
      "text/latex": [
       "$\\displaystyle X^{(3)} = X^{(2)} + \\alpha_{2} \\cdot R^{(2)} = \\begin{bmatrix}\n",
       "  0.97202737 & 2.03688428 & -1.33829733 & 0.85969402\\\\\n",
       "\\end{bmatrix}$"
      ],
      "text/plain": [
       "<IPython.core.display.Math object>"
      ]
     },
     "metadata": {},
     "output_type": "display_data"
    },
    {
     "data": {
      "text/latex": [
       "$\\displaystyle R^{(3)} = R^{(2)} - \\alpha_{2} \\cdot A \\cdot R^{(2)} = \\begin{bmatrix}\n",
       "  0.99320527 & -0.35107916 & -1.82266729 & -1.61304667\\\\\n",
       "\\end{bmatrix}$"
      ],
      "text/plain": [
       "<IPython.core.display.Math object>"
      ]
     },
     "metadata": {},
     "output_type": "display_data"
    },
    {
     "data": {
      "text/latex": [
       "$\\displaystyle \\text{Evaluamos el criterio corte: } \\frac{|| R^{(3)}||}{|| B ||} = 0.07290669153840906 > tol = 0.0001$"
      ],
      "text/plain": [
       "<IPython.core.display.Math object>"
      ]
     },
     "metadata": {},
     "output_type": "display_data"
    },
    {
     "data": {
      "text/latex": [
       "$\\displaystyle \\text{Vamos a realizar la 4ª iteración}$"
      ],
      "text/plain": [
       "<IPython.core.display.Math object>"
      ]
     },
     "metadata": {},
     "output_type": "display_data"
    },
    {
     "data": {
      "text/latex": [
       "$\\displaystyle A \\cdot R^{(3)} = \\begin{bmatrix}\n",
       "  6.63779728 & -7.87154873 & -23.95441655 & -42.42750738\\\\\n",
       "\\end{bmatrix}^T$"
      ],
      "text/plain": [
       "<IPython.core.display.Math object>"
      ]
     },
     "metadata": {},
     "output_type": "display_data"
    },
    {
     "data": {
      "text/latex": [
       "$\\displaystyle \\alpha_3 = \\dfrac{(R^{(3)})^T \\cdot R^{(3)}}{(R^{(3)})^T \\cdot A \\cdot R^{(3)}} =0.057912523293092585$"
      ],
      "text/plain": [
       "<IPython.core.display.Math object>"
      ]
     },
     "metadata": {},
     "output_type": "display_data"
    },
    {
     "data": {
      "text/latex": [
       "$\\displaystyle X^{(4)} = X^{(3)} + \\alpha_{3} \\cdot R^{(3)} = \\begin{bmatrix}\n",
       "  1.02954639 & 2.0165524 & -1.44385259 & 0.76627842\\\\\n",
       "\\end{bmatrix}$"
      ],
      "text/plain": [
       "<IPython.core.display.Math object>"
      ]
     },
     "metadata": {},
     "output_type": "display_data"
    },
    {
     "data": {
      "text/latex": [
       "$\\displaystyle R^{(4)} = R^{(3)} - \\alpha_{3} \\cdot A \\cdot R^{(3)} = \\begin{bmatrix}\n",
       "  0.60879368 & 0.10478209 & -0.43540658 & 0.84403734\\\\\n",
       "\\end{bmatrix}$"
      ],
      "text/plain": [
       "<IPython.core.display.Math object>"
      ]
     },
     "metadata": {},
     "output_type": "display_data"
    },
    {
     "data": {
      "text/latex": [
       "$\\displaystyle \\text{Evaluamos el criterio corte: } \\frac{|| R^{(4)}||}{|| B ||} = 0.03376149344506365 > tol = 0.0001$"
      ],
      "text/plain": [
       "<IPython.core.display.Math object>"
      ]
     },
     "metadata": {},
     "output_type": "display_data"
    },
    {
     "data": {
      "text/latex": [
       "$\\displaystyle \\text{Vamos a realizar la 5ª iteración}$"
      ],
      "text/plain": [
       "<IPython.core.display.Math object>"
      ]
     },
     "metadata": {},
     "output_type": "display_data"
    },
    {
     "data": {
      "text/latex": [
       "$\\displaystyle A \\cdot R^{(4)} = \\begin{bmatrix}\n",
       "  5.11234155 & 3.51132792 & 0.97892613 & 15.01806009\\\\\n",
       "\\end{bmatrix}^T$"
      ],
      "text/plain": [
       "<IPython.core.display.Math object>"
      ]
     },
     "metadata": {},
     "output_type": "display_data"
    },
    {
     "data": {
      "text/latex": [
       "$\\displaystyle \\alpha_4 = \\dfrac{(R^{(4)})^T \\cdot R^{(4)}}{(R^{(4)})^T \\cdot A \\cdot R^{(4)}} =0.08160194092469666$"
      ],
      "text/plain": [
       "<IPython.core.display.Math object>"
      ]
     },
     "metadata": {},
     "output_type": "display_data"
    },
    {
     "data": {
      "text/latex": [
       "$\\displaystyle X^{(5)} = X^{(4)} + \\alpha_{4} \\cdot R^{(4)} = \\begin{bmatrix}\n",
       "  1.07922514 & 2.02510283 & -1.47938261 & 0.8351535\\\\\n",
       "\\end{bmatrix}$"
      ],
      "text/plain": [
       "<IPython.core.display.Math object>"
      ]
     },
     "metadata": {},
     "output_type": "display_data"
    },
    {
     "data": {
      "text/latex": [
       "$\\displaystyle R^{(5)} = R^{(4)} - \\alpha_{4} \\cdot A \\cdot R^{(4)} = \\begin{bmatrix}\n",
       "  0.19161669 & -0.18174908 & -0.51528885 & -0.38146552\\\\\n",
       "\\end{bmatrix}$"
      ],
      "text/plain": [
       "<IPython.core.display.Math object>"
      ]
     },
     "metadata": {},
     "output_type": "display_data"
    },
    {
     "data": {
      "text/latex": [
       "$\\displaystyle \\text{Evaluamos el criterio corte: } \\frac{|| R^{(5)}||}{|| B ||} = 0.020611554166445938 > tol = 0.0001$"
      ],
      "text/plain": [
       "<IPython.core.display.Math object>"
      ]
     },
     "metadata": {},
     "output_type": "display_data"
    },
    {
     "data": {
      "text/latex": [
       "$\\displaystyle \\text{Vamos a realizar la 6ª iteración}$"
      ],
      "text/plain": [
       "<IPython.core.display.Math object>"
      ]
     },
     "metadata": {},
     "output_type": "display_data"
    },
    {
     "data": {
      "text/latex": [
       "$\\displaystyle A \\cdot R^{(5)} = \\begin{bmatrix}\n",
       "  1.06733825 & -2.81996428 & -6.49523367 & -10.75100184\\\\\n",
       "\\end{bmatrix}^T$"
      ],
      "text/plain": [
       "<IPython.core.display.Math object>"
      ]
     },
     "metadata": {},
     "output_type": "display_data"
    },
    {
     "data": {
      "text/latex": [
       "$\\displaystyle \\alpha_5 = \\dfrac{(R^{(5)})^T \\cdot R^{(5)}}{(R^{(5)})^T \\cdot A \\cdot R^{(5)}} =0.05888329696123551$"
      ],
      "text/plain": [
       "<IPython.core.display.Math object>"
      ]
     },
     "metadata": {},
     "output_type": "display_data"
    },
    {
     "data": {
      "text/latex": [
       "$\\displaystyle X^{(6)} = X^{(5)} + \\alpha_{5} \\cdot R^{(5)} = \\begin{bmatrix}\n",
       "  1.09050816 & 2.01440084 & -1.50972452 & 0.81269156\\\\\n",
       "\\end{bmatrix}$"
      ],
      "text/plain": [
       "<IPython.core.display.Math object>"
      ]
     },
     "metadata": {},
     "output_type": "display_data"
    },
    {
     "data": {
      "text/latex": [
       "$\\displaystyle R^{(6)} = R^{(5)} - \\alpha_{5} \\cdot A \\cdot R^{(5)} = \\begin{bmatrix}\n",
       "  0.12876829 & -0.01570029 & -0.13282808 & 0.25158892\\\\\n",
       "\\end{bmatrix}$"
      ],
      "text/plain": [
       "<IPython.core.display.Math object>"
      ]
     },
     "metadata": {},
     "output_type": "display_data"
    },
    {
     "data": {
      "text/latex": [
       "$\\displaystyle \\text{Evaluamos el criterio corte: } \\frac{|| R^{(6)}||}{|| B ||} = 0.010063556709525327 > tol = 0.0001$"
      ],
      "text/plain": [
       "<IPython.core.display.Math object>"
      ]
     },
     "metadata": {},
     "output_type": "display_data"
    },
    {
     "data": {
      "text/latex": [
       "$\\displaystyle \\text{Vamos a realizar la 7ª iteración}$"
      ],
      "text/plain": [
       "<IPython.core.display.Math object>"
      ]
     },
     "metadata": {},
     "output_type": "display_data"
    },
    {
     "data": {
      "text/latex": [
       "$\\displaystyle A \\cdot R^{(6)} = \\begin{bmatrix}\n",
       "  1.03772705 & 0.58612338 & 0.20290065 & 4.32053709\\\\\n",
       "\\end{bmatrix}^T$"
      ],
      "text/plain": [
       "<IPython.core.display.Math object>"
      ]
     },
     "metadata": {},
     "output_type": "display_data"
    },
    {
     "data": {
      "text/latex": [
       "$\\displaystyle \\alpha_6 = \\dfrac{(R^{(6)})^T \\cdot R^{(6)}}{(R^{(6)})^T \\cdot A \\cdot R^{(6)}} =0.08254143915885388$"
      ],
      "text/plain": [
       "<IPython.core.display.Math object>"
      ]
     },
     "metadata": {},
     "output_type": "display_data"
    },
    {
     "data": {
      "text/latex": [
       "$\\displaystyle X^{(7)} = X^{(6)} + \\alpha_{6} \\cdot R^{(6)} = \\begin{bmatrix}\n",
       "  1.10113688 & 2.01310492 & -1.52068834 & 0.83345807\\\\\n",
       "\\end{bmatrix}$"
      ],
      "text/plain": [
       "<IPython.core.display.Math object>"
      ]
     },
     "metadata": {},
     "output_type": "display_data"
    },
    {
     "data": {
      "text/latex": [
       "$\\displaystyle R^{(7)} = R^{(6)} - \\alpha_{6} \\cdot A \\cdot R^{(6)} = \\begin{bmatrix}\n",
       "  0.04311281 & -0.06407975 & -0.14957579 & -0.10503443\\\\\n",
       "\\end{bmatrix}$"
      ],
      "text/plain": [
       "<IPython.core.display.Math object>"
      ]
     },
     "metadata": {},
     "output_type": "display_data"
    },
    {
     "data": {
      "text/latex": [
       "$\\displaystyle \\text{Evaluamos el criterio corte: } \\frac{|| R^{(7)}||}{|| B ||} = 0.0059830317126559965 > tol = 0.0001$"
      ],
      "text/plain": [
       "<IPython.core.display.Math object>"
      ]
     },
     "metadata": {},
     "output_type": "display_data"
    },
    {
     "data": {
      "text/latex": [
       "$\\displaystyle \\text{Vamos a realizar la 8ª iteración}$"
      ],
      "text/plain": [
       "<IPython.core.display.Math object>"
      ]
     },
     "metadata": {},
     "output_type": "display_data"
    },
    {
     "data": {
      "text/latex": [
       "$\\displaystyle A \\cdot R^{(7)} = \\begin{bmatrix}\n",
       "  0.19605625 & -0.91351761 & -1.87062471 & -3.04080685\\\\\n",
       "\\end{bmatrix}^T$"
      ],
      "text/plain": [
       "<IPython.core.display.Math object>"
      ]
     },
     "metadata": {},
     "output_type": "display_data"
    },
    {
     "data": {
      "text/latex": [
       "$\\displaystyle \\alpha_7 = \\dfrac{(R^{(7)})^T \\cdot R^{(7)}}{(R^{(7)})^T \\cdot A \\cdot R^{(7)}} =0.059098249848719704$"
      ],
      "text/plain": [
       "<IPython.core.display.Math object>"
      ]
     },
     "metadata": {},
     "output_type": "display_data"
    },
    {
     "data": {
      "text/latex": [
       "$\\displaystyle X^{(8)} = X^{(7)} + \\alpha_{7} \\cdot R^{(7)} = \\begin{bmatrix}\n",
       "  1.10368477 & 2.00931792 & -1.52952801 & 0.82725072\\\\\n",
       "\\end{bmatrix}$"
      ],
      "text/plain": [
       "<IPython.core.display.Math object>"
      ]
     },
     "metadata": {},
     "output_type": "display_data"
    },
    {
     "data": {
      "text/latex": [
       "$\\displaystyle R^{(8)} = R^{(7)} - \\alpha_{7} \\cdot A \\cdot R^{(7)} = \\begin{bmatrix}\n",
       "  0.03152623 & -0.01009246 & -0.03902515 & 0.07467193\\\\\n",
       "\\end{bmatrix}$"
      ],
      "text/plain": [
       "<IPython.core.display.Math object>"
      ]
     },
     "metadata": {},
     "output_type": "display_data"
    },
    {
     "data": {
      "text/latex": [
       "$\\displaystyle \\text{Evaluamos el criterio corte: } \\frac{|| R^{(8)}||}{|| B ||} = 0.00298687727635315 > tol = 0.0001$"
      ],
      "text/plain": [
       "<IPython.core.display.Math object>"
      ]
     },
     "metadata": {},
     "output_type": "display_data"
    },
    {
     "data": {
      "text/latex": [
       "$\\displaystyle \\text{Vamos a realizar la 9ª iteración}$"
      ],
      "text/plain": [
       "<IPython.core.display.Math object>"
      ]
     },
     "metadata": {},
     "output_type": "display_data"
    },
    {
     "data": {
      "text/latex": [
       "$\\displaystyle A \\cdot R^{(8)} = \\begin{bmatrix}\n",
       "  0.24730444 & 0.12049762 & 0.05625311 & 1.26803552\\\\\n",
       "\\end{bmatrix}^T$"
      ],
      "text/plain": [
       "<IPython.core.display.Math object>"
      ]
     },
     "metadata": {},
     "output_type": "display_data"
    },
    {
     "data": {
      "text/latex": [
       "$\\displaystyle \\alpha_8 = \\dfrac{(R^{(8)})^T \\cdot R^{(8)}}{(R^{(8)})^T \\cdot A \\cdot R^{(8)}} =0.08271392487730063$"
      ],
      "text/plain": [
       "<IPython.core.display.Math object>"
      ]
     },
     "metadata": {},
     "output_type": "display_data"
    },
    {
     "data": {
      "text/latex": [
       "$\\displaystyle X^{(9)} = X^{(8)} + \\alpha_{8} \\cdot R^{(8)} = \\begin{bmatrix}\n",
       "  1.10629243 & 2.00848313 & -1.53275593 & 0.83342713\\\\\n",
       "\\end{bmatrix}$"
      ],
      "text/plain": [
       "<IPython.core.display.Math object>"
      ]
     },
     "metadata": {},
     "output_type": "display_data"
    },
    {
     "data": {
      "text/latex": [
       "$\\displaystyle R^{(9)} = R^{(8)} - \\alpha_{8} \\cdot A \\cdot R^{(8)} = \\begin{bmatrix}\n",
       "  0.01107071 & -0.02005929 & -0.04367806 & -0.03021226\\\\\n",
       "\\end{bmatrix}$"
      ],
      "text/plain": [
       "<IPython.core.display.Math object>"
      ]
     },
     "metadata": {},
     "output_type": "display_data"
    },
    {
     "data": {
      "text/latex": [
       "$\\displaystyle \\text{Evaluamos el criterio corte: } \\frac{|| R^{(9)}||}{|| B ||} = 0.0017471224821411307 > tol = 0.0001$"
      ],
      "text/plain": [
       "<IPython.core.display.Math object>"
      ]
     },
     "metadata": {},
     "output_type": "display_data"
    },
    {
     "data": {
      "text/latex": [
       "$\\displaystyle \\text{Vamos a realizar la 10ª iteración}$"
      ],
      "text/plain": [
       "<IPython.core.display.Math object>"
      ]
     },
     "metadata": {},
     "output_type": "display_data"
    },
    {
     "data": {
      "text/latex": [
       "$\\displaystyle A \\cdot R^{(9)} = \\begin{bmatrix}\n",
       "  0.04341023 & -0.27868167 & -0.54564123 & -0.88281345\\\\\n",
       "\\end{bmatrix}^T$"
      ],
      "text/plain": [
       "<IPython.core.display.Math object>"
      ]
     },
     "metadata": {},
     "output_type": "display_data"
    },
    {
     "data": {
      "text/latex": [
       "$\\displaystyle \\alpha_9 = \\dfrac{(R^{(9)})^T \\cdot R^{(9)}}{(R^{(9)})^T \\cdot A \\cdot R^{(9)}} =0.05913362525889863$"
      ],
      "text/plain": [
       "<IPython.core.display.Math object>"
      ]
     },
     "metadata": {},
     "output_type": "display_data"
    },
    {
     "data": {
      "text/latex": [
       "$\\displaystyle X^{(10)} = X^{(9)} + \\alpha_{9} \\cdot R^{(9)} = \\begin{bmatrix}\n",
       "  1.10694708 & 2.00729695 & -1.53533877 & 0.83164057\\\\\n",
       "\\end{bmatrix}$"
      ],
      "text/plain": [
       "<IPython.core.display.Math object>"
      ]
     },
     "metadata": {},
     "output_type": "display_data"
    },
    {
     "data": {
      "text/latex": [
       "$\\displaystyle R^{(10)} = R^{(9)} - \\alpha_{9} \\cdot A \\cdot R^{(9)} = \\begin{bmatrix}\n",
       "  0.0085037 & -0.00357984 & -0.01141232 & 0.0219917\\\\\n",
       "\\end{bmatrix}$"
      ],
      "text/plain": [
       "<IPython.core.display.Math object>"
      ]
     },
     "metadata": {},
     "output_type": "display_data"
    },
    {
     "data": {
      "text/latex": [
       "$\\displaystyle \\text{Evaluamos el criterio corte: } \\frac{|| R^{(10)}||}{|| B ||} = 0.0008796678742679032 > tol = 0.0001$"
      ],
      "text/plain": [
       "<IPython.core.display.Math object>"
      ]
     },
     "metadata": {},
     "output_type": "display_data"
    },
    {
     "data": {
      "text/latex": [
       "$\\displaystyle \\text{Vamos a realizar la 11ª iteración}$"
      ],
      "text/plain": [
       "<IPython.core.display.Math object>"
      ]
     },
     "metadata": {},
     "output_type": "display_data"
    },
    {
     "data": {
      "text/latex": [
       "$\\displaystyle A \\cdot R^{(10)} = \\begin{bmatrix}\n",
       "  0.06579222 & 0.0295055 & 0.01642254 & 0.37203284\\\\\n",
       "\\end{bmatrix}^T$"
      ],
      "text/plain": [
       "<IPython.core.display.Math object>"
      ]
     },
     "metadata": {},
     "output_type": "display_data"
    },
    {
     "data": {
      "text/latex": [
       "$\\displaystyle \\alpha_10 = \\dfrac{(R^{(10)})^T \\cdot R^{(10)}}{(R^{(10)})^T \\cdot A \\cdot R^{(10)}} =0.08274128823913458$"
      ],
      "text/plain": [
       "<IPython.core.display.Math object>"
      ]
     },
     "metadata": {},
     "output_type": "display_data"
    },
    {
     "data": {
      "text/latex": [
       "$\\displaystyle X^{(11)} = X^{(10)} + \\alpha_{10} \\cdot R^{(10)} = \\begin{bmatrix}\n",
       "  1.10765069 & 2.00700075 & -1.53628304 & 0.83346019\\\\\n",
       "\\end{bmatrix}$"
      ],
      "text/plain": [
       "<IPython.core.display.Math object>"
      ]
     },
     "metadata": {},
     "output_type": "display_data"
    },
    {
     "data": {
      "text/latex": [
       "$\\displaystyle R^{(11)} = R^{(10)} - \\alpha_{10} \\cdot A \\cdot R^{(10)} = \\begin{bmatrix}\n",
       "  0.00305997 & -0.00602116 & -0.01277114 & -0.00879078\\\\\n",
       "\\end{bmatrix}$"
      ],
      "text/plain": [
       "<IPython.core.display.Math object>"
      ]
     },
     "metadata": {},
     "output_type": "display_data"
    },
    {
     "data": {
      "text/latex": [
       "$\\displaystyle \\text{Evaluamos el criterio corte: } \\frac{|| R^{(11)}||}{|| B ||} = 0.0005108456210818923 > tol = 0.0001$"
      ],
      "text/plain": [
       "<IPython.core.display.Math object>"
      ]
     },
     "metadata": {},
     "output_type": "display_data"
    },
    {
     "data": {
      "text/latex": [
       "$\\displaystyle \\text{Vamos a realizar la 12ª iteración}$"
      ],
      "text/plain": [
       "<IPython.core.display.Math object>"
      ]
     },
     "metadata": {},
     "output_type": "display_data"
    },
    {
     "data": {
      "text/latex": [
       "$\\displaystyle A \\cdot R^{(11)} = \\begin{bmatrix}\n",
       "  0.01107857 & -0.08289393 & -0.1595242 & -0.25773477\\\\\n",
       "\\end{bmatrix}^T$"
      ],
      "text/plain": [
       "<IPython.core.display.Math object>"
      ]
     },
     "metadata": {},
     "output_type": "display_data"
    },
    {
     "data": {
      "text/latex": [
       "$\\displaystyle \\alpha_11 = \\dfrac{(R^{(11)})^T \\cdot R^{(11)}}{(R^{(11)})^T \\cdot A \\cdot R^{(11)}} =0.05913912961751413$"
      ],
      "text/plain": [
       "<IPython.core.display.Math object>"
      ]
     },
     "metadata": {},
     "output_type": "display_data"
    },
    {
     "data": {
      "text/latex": [
       "$\\displaystyle X^{(12)} = X^{(11)} + \\alpha_{11} \\cdot R^{(11)} = \\begin{bmatrix}\n",
       "  1.10783165 & 2.00664466 & -1.53703832 & 0.83294031\\\\\n",
       "\\end{bmatrix}$"
      ],
      "text/plain": [
       "<IPython.core.display.Math object>"
      ]
     },
     "metadata": {},
     "output_type": "display_data"
    },
    {
     "data": {
      "text/latex": [
       "$\\displaystyle R^{(12)} = R^{(11)} - \\alpha_{11} \\cdot A \\cdot R^{(11)} = \\begin{bmatrix}\n",
       "  0.00240479 & -0.00111889 & -0.00333702 & 0.00645143\\\\\n",
       "\\end{bmatrix}$"
      ],
      "text/plain": [
       "<IPython.core.display.Math object>"
      ]
     },
     "metadata": {},
     "output_type": "display_data"
    },
    {
     "data": {
      "text/latex": [
       "$\\displaystyle \\text{Evaluamos el criterio corte: } \\frac{|| R^{(12)}||}{|| B ||} = 0.00025805722362237714 > tol = 0.0001$"
      ],
      "text/plain": [
       "<IPython.core.display.Math object>"
      ]
     },
     "metadata": {},
     "output_type": "display_data"
    },
    {
     "data": {
      "text/latex": [
       "$\\displaystyle \\text{Vamos a realizar la 13ª iteración}$"
      ],
      "text/plain": [
       "<IPython.core.display.Math object>"
      ]
     },
     "metadata": {},
     "output_type": "display_data"
    },
    {
     "data": {
      "text/latex": [
       "$\\displaystyle A \\cdot R^{(12)} = \\begin{bmatrix}\n",
       "  0.01849277 & 0.00797878 & 0.00481544 & 0.10898687\\\\\n",
       "\\end{bmatrix}^T$"
      ],
      "text/plain": [
       "<IPython.core.display.Math object>"
      ]
     },
     "metadata": {},
     "output_type": "display_data"
    },
    {
     "data": {
      "text/latex": [
       "$\\displaystyle \\alpha_12 = \\dfrac{(R^{(12)})^T \\cdot R^{(12)}}{(R^{(12)})^T \\cdot A \\cdot R^{(12)}} =0.08274552086753847$"
      ],
      "text/plain": [
       "<IPython.core.display.Math object>"
      ]
     },
     "metadata": {},
     "output_type": "display_data"
    },
    {
     "data": {
      "text/latex": [
       "$\\displaystyle X^{(13)} = X^{(12)} + \\alpha_{12} \\cdot R^{(12)} = \\begin{bmatrix}\n",
       "  1.10803064 & 2.00655208 & -1.53731444 & 0.83347413\\\\\n",
       "\\end{bmatrix}$"
      ],
      "text/plain": [
       "<IPython.core.display.Math object>"
      ]
     },
     "metadata": {},
     "output_type": "display_data"
    },
    {
     "data": {
      "text/latex": [
       "$\\displaystyle R^{(13)} = R^{(12)} - \\alpha_{12} \\cdot A \\cdot R^{(12)} = \\begin{bmatrix}\n",
       "  0.0008746 & -0.00177909 & -0.00373547 & -0.00256674\\\\\n",
       "\\end{bmatrix}$"
      ],
      "text/plain": [
       "<IPython.core.display.Math object>"
      ]
     },
     "metadata": {},
     "output_type": "display_data"
    },
    {
     "data": {
      "text/latex": [
       "$\\displaystyle \\text{Evaluamos el criterio corte: } \\frac{|| R^{(13)}||}{|| B ||} = 0.00014941897128545258 > tol = 0.0001$"
      ],
      "text/plain": [
       "<IPython.core.display.Math object>"
      ]
     },
     "metadata": {},
     "output_type": "display_data"
    },
    {
     "data": {
      "text/latex": [
       "$\\displaystyle \\text{Vamos a realizar la 14ª iteración}$"
      ],
      "text/plain": [
       "<IPython.core.display.Math object>"
      ]
     },
     "metadata": {},
     "output_type": "display_data"
    },
    {
     "data": {
      "text/latex": [
       "$\\displaystyle A \\cdot R^{(13)} = \\begin{bmatrix}\n",
       "  0.00305413 & -0.02440939 & -0.04666017 & -0.07534954\\\\\n",
       "\\end{bmatrix}^T$"
      ],
      "text/plain": [
       "<IPython.core.display.Math object>"
      ]
     },
     "metadata": {},
     "output_type": "display_data"
    },
    {
     "data": {
      "text/latex": [
       "$\\displaystyle \\alpha_13 = \\dfrac{(R^{(13)})^T \\cdot R^{(13)}}{(R^{(13)})^T \\cdot A \\cdot R^{(13)}} =0.059139978447850655$"
      ],
      "text/plain": [
       "<IPython.core.display.Math object>"
      ]
     },
     "metadata": {},
     "output_type": "display_data"
    },
    {
     "data": {
      "text/latex": [
       "$\\displaystyle X^{(14)} = X^{(13)} + \\alpha_{13} \\cdot R^{(13)} = \\begin{bmatrix}\n",
       "  1.10808236 & 2.00644686 & -1.53753536 & 0.83332234\\\\\n",
       "\\end{bmatrix}$"
      ],
      "text/plain": [
       "<IPython.core.display.Math object>"
      ]
     },
     "metadata": {},
     "output_type": "display_data"
    },
    {
     "data": {
      "text/latex": [
       "$\\displaystyle R^{(14)} = R^{(13)} - \\alpha_{13} \\cdot A \\cdot R^{(13)} = \\begin{bmatrix}\n",
       "  0.00069398 & -0.00033552 & -0.00097599 & 0.00188943\\\\\n",
       "\\end{bmatrix}$"
      ],
      "text/plain": [
       "<IPython.core.display.Math object>"
      ]
     },
     "metadata": {},
     "output_type": "display_data"
    },
    {
     "data": {
      "text/latex": [
       "$\\displaystyle \\text{Evaluamos el criterio corte: } \\frac{|| R^{(14)}||}{|| B ||} = 7.557703104881144e-05 \\leq tol = 0.0001$"
      ],
      "text/plain": [
       "<IPython.core.display.Math object>"
      ]
     },
     "metadata": {},
     "output_type": "display_data"
    },
    {
     "data": {
      "text/latex": [
       "$\\displaystyle \\text{Y hemos encontrado nuestra solución aproximada: } X^{(14)} = \\begin{bmatrix}\n",
       "  1.10808236 & 2.00644686 & -1.53753536 & 0.83332234\\\\\n",
       "\\end{bmatrix}$"
      ],
      "text/plain": [
       "<IPython.core.display.Math object>"
      ]
     },
     "metadata": {},
     "output_type": "display_data"
    },
    {
     "data": {
      "text/plain": [
       "array([ 1.10808236,  2.00644686, -1.53753536,  0.83332234])"
      ]
     },
     "execution_count": 5,
     "metadata": {},
     "output_type": "execute_result"
    }
   ],
   "source": [
    "resolverDMR(A,B,10**-4,True)"
   ]
  },
  {
   "cell_type": "markdown",
   "metadata": {
    "hideCode": false,
    "hidePrompt": false,
    "slideshow": {
     "slide_type": "slide"
    }
   },
   "source": [
    "### Metodo de los Gradientes Conjugados:\n",
    "\n",
    "Puesto que la utilización de los residuos como direcciones de búsqueda de la solución termina repitiendo direcciones, este método propone avanzar utilizando direcciones ortogonales a éstos (que se denominarán $d^{(k)}$). \n",
    "Para hallar sucesivamente estas direcciones recurre al método de Gram-Schmidt calculando el $\\beta$ correspondiente. Este método converge si A es simétrica definida positiva, **lo hace en a lo sumo tantas iteaciones como autovalores distintos tiene $A$ (como mucho n)** y el algoritmo adopta la forma:"
   ]
  },
  {
   "cell_type": "markdown",
   "metadata": {
    "hideCode": false,
    "hidePrompt": false,
    "slideshow": {
     "slide_type": "fragment"
    }
   },
   "source": [
    "$$d^{(0)} = R^{(0)} = B - A \\cdot X^{(0)} \\hspace{5mm} \\text{solo en la primera iteración}$$\n",
    "\n",
    "$$ \\alpha_k = \\dfrac{(R^{(k)})^T \\cdot R^{(k)}}{(d^{(k)})^T \\cdot A \\cdot d^{(k)}} $$\n",
    "\n",
    "$$X^{(k+1)} = X^{(k)} + \\alpha_k \\cdot d^{(k)}$$\n",
    "\n",
    "$$R^{(k+1)} = R^{(k)} - \\alpha_k \\cdot A \\cdot d^{(k)}$$\n",
    "\n",
    "$$ \\beta_{k+1} = \\dfrac{(R^{(k+1)})^T \\cdot R^{(k+1)}}{(R^{(k)})^T \\cdot R^{(k)}} $$\n",
    "\n",
    "$$d^{(k+1)} = R^{(k+1)} + \\beta_{k+1} \\cdot d^{(k)}$$"
   ]
  },
  {
   "cell_type": "code",
   "execution_count": 6,
   "metadata": {
    "slideshow": {
     "slide_type": "slide"
    }
   },
   "outputs": [],
   "source": [
    "def resolverMGC(A, B, tol, pasos=True):\n",
    "    n = np.shape(A)[0]\n",
    "    X1 = np.zeros(n)\n",
    "    R1 = np.copy(B)\n",
    "    d1 = np.copy(B)\n",
    "    den = np.linalg.norm(B,np.inf)\n",
    "    if (den==0): den = 1    \n",
    "    iteracion = 0\n",
    "    dif = 2*tol\n",
    "    while (dif>tol):\n",
    "        if (pasos):\n",
    "            display(Math(\"\\\\text{Vamos a realizar la \"+str(iteracion+1)+\"ª iteración}\")) \n",
    "            if (iteracion==0):\n",
    "                display(Math(\"\\\\text{Adoptamos como vector inicial } X^{(0)} = \"+r\"\\begin{bmatrix} 0 \\\\ 0 \\\\ ... \\\\ 0 \\end{bmatrix}\"))            \n",
    "                display(Math(\"\\\\text{En consecuencia } d^{(0)} = R^{(0)} = B\"))    \n",
    "        X0 = np.copy(X1) \n",
    "        R0 = np.copy(R1).reshape(-1)\n",
    "        d0 = np.copy(d1).reshape(-1)\n",
    "        Ad0 = np.dot(A,d0)        \n",
    "        alfa = (np.inner(R0,R0) / np.inner(d0,Ad0)).item()\n",
    "        X1 = X0 + alfa*d0       \n",
    "        R1 = R0 - alfa*Ad0 \n",
    "        beta = (np.inner(R1,R1) / np.inner(R0,R0)).item()\n",
    "        d1 = R1 + beta*d0        \n",
    "        dif = np.linalg.norm(R1.transpose(),np.inf)/den        \n",
    "        if (pasos):\n",
    "            display(Math(\"A \\\\cdot d^{(\"+str(iteracion)+\")} = \"+bmatrix(Ad0)+\"^T\"))   \n",
    "            exp = r\"\\alpha_\"+str(iteracion)+\" = \\dfrac{(R^{(\"+str(iteracion)+\")})^T \\cdot R^{(\"+str(iteracion)+\")}}{(d^{(\"+str(iteracion)+\")})^T \\cdot A \\cdot d^{(\"+str(iteracion)+\")}} =\" +str(alfa)\n",
    "            display(Math(exp)) \n",
    "            exp = \"X^{(\"+str(iteracion+1)+\")} = X^{(\"+str(iteracion)+r\")} + \\alpha_{\"+str(iteracion)+\"} \\cdot d^{(\"+str(iteracion)+\")} = \"+bmatrix(X1)\n",
    "            display(Math(exp))\n",
    "            exp = \"R^{(\"+str(iteracion+1)+\")} = R^{(\"+str(iteracion)+r\")} - \\alpha_{\"+str(iteracion)+r\"} \\cdot A \\cdot d^{(\"+str(iteracion)+\")} = \"+bmatrix(R1)\n",
    "            display(Math(exp)) \n",
    "            exp = r\"\\beta_{\"+str(iteracion+1)+\"} = \\dfrac{(R^{(\"+str(iteracion+1)+\")})^T \\cdot R^{(\"+str(iteracion+1)+\")}}{(R^{(\"+str(iteracion)+\")})^T \\cdot R^{(\"+str(iteracion)+\")}} =\" +str(beta)\n",
    "            display(Math(exp))              \n",
    "            exp = \"d^{(\"+str(iteracion+1)+\")} = R^{(\"+str(iteracion+1)+r\")} + \\beta_{\"+str(iteracion+1)+\"} \\cdot d^{(\"+str(iteracion)+\")} = \"+bmatrix(X1)\n",
    "            display(Math(exp))            \n",
    "            exp = \"\\\\text{Evaluamos el criterio corte: } \\\\frac{|| R^{(\"+str(iteracion+1)+\")}||}{|| B ||} = \"+str(dif)            \n",
    "            if (dif>tol):\n",
    "                exp += \" > tol = \"+str(tol)\n",
    "                display(Math(exp)) \n",
    "            else:\n",
    "                exp +=  \" \\leq tol = \"+str(tol)\n",
    "                display(Math(exp)) \n",
    "                exp = \"\\\\text{Y hemos encontrado nuestra solución aproximada: } X^{(\"+str(iteracion+1)+\")} = \"+bmatrix(X1)\n",
    "                display(Math(exp))    \n",
    "        iteracion += 1                \n",
    "    return (X1)"
   ]
  },
  {
   "cell_type": "code",
   "execution_count": 7,
   "metadata": {
    "slideshow": {
     "slide_type": "slide"
    }
   },
   "outputs": [
    {
     "data": {
      "text/latex": [
       "$\\displaystyle \\text{Vamos a realizar la 1ª iteración}$"
      ],
      "text/plain": [
       "<IPython.core.display.Math object>"
      ]
     },
     "metadata": {},
     "output_type": "display_data"
    },
    {
     "data": {
      "text/latex": [
       "$\\displaystyle \\text{Adoptamos como vector inicial } X^{(0)} = \\begin{bmatrix} 0 \\\\ 0 \\\\ ... \\\\ 0 \\end{bmatrix}$"
      ],
      "text/plain": [
       "<IPython.core.display.Math object>"
      ]
     },
     "metadata": {},
     "output_type": "display_data"
    },
    {
     "data": {
      "text/latex": [
       "$\\displaystyle \\text{En consecuencia } d^{(0)} = R^{(0)} = B$"
      ],
      "text/plain": [
       "<IPython.core.display.Math object>"
      ]
     },
     "metadata": {},
     "output_type": "display_data"
    },
    {
     "data": {
      "text/latex": [
       "$\\displaystyle A \\cdot d^{(0)} = \\begin{bmatrix}\n",
       "  13 & 325 & -48 & 320\\\\\n",
       "\\end{bmatrix}^T$"
      ],
      "text/plain": [
       "<IPython.core.display.Math object>"
      ]
     },
     "metadata": {},
     "output_type": "display_data"
    },
    {
     "data": {
      "text/latex": [
       "$\\displaystyle \\alpha_0 = \\dfrac{(R^{(0)})^T \\cdot R^{(0)}}{(d^{(0)})^T \\cdot A \\cdot d^{(0)}} =0.07442169832237085$"
      ],
      "text/plain": [
       "<IPython.core.display.Math object>"
      ]
     },
     "metadata": {},
     "output_type": "display_data"
    },
    {
     "data": {
      "text/latex": [
       "$\\displaystyle X^{(1)} = X^{(0)} + \\alpha_{0} \\cdot d^{(0)} = \\begin{bmatrix}\n",
       "  0.44653019 & 1.86054246 & -0.81863868 & 1.11632547\\\\\n",
       "\\end{bmatrix}$"
      ],
      "text/plain": [
       "<IPython.core.display.Math object>"
      ]
     },
     "metadata": {},
     "output_type": "display_data"
    },
    {
     "data": {
      "text/latex": [
       "$\\displaystyle R^{(1)} = R^{(0)} - \\alpha_{0} \\cdot A \\cdot d^{(0)} = \\begin{bmatrix}\n",
       "  5.03251792 & 0.81294805 & -7.42775848 & -8.81494346\\\\\n",
       "\\end{bmatrix}$"
      ],
      "text/plain": [
       "<IPython.core.display.Math object>"
      ]
     },
     "metadata": {},
     "output_type": "display_data"
    },
    {
     "data": {
      "text/latex": [
       "$\\displaystyle \\beta_{1} = \\dfrac{(R^{(1)})^T \\cdot R^{(1)}}{(R^{(0)})^T \\cdot R^{(0)}} =0.15775764196751305$"
      ],
      "text/plain": [
       "<IPython.core.display.Math object>"
      ]
     },
     "metadata": {},
     "output_type": "display_data"
    },
    {
     "data": {
      "text/latex": [
       "$\\displaystyle d^{(1)} = R^{(1)} + \\beta_{1} \\cdot d^{(0)} = \\begin{bmatrix}\n",
       "  0.44653019 & 1.86054246 & -0.81863868 & 1.11632547\\\\\n",
       "\\end{bmatrix}$"
      ],
      "text/plain": [
       "<IPython.core.display.Math object>"
      ]
     },
     "metadata": {},
     "output_type": "display_data"
    },
    {
     "data": {
      "text/latex": [
       "$\\displaystyle \\text{Evaluamos el criterio corte: } \\frac{|| R^{(1)}||}{|| B ||} = 0.3525977385263468 > tol = 0.0001$"
      ],
      "text/plain": [
       "<IPython.core.display.Math object>"
      ]
     },
     "metadata": {},
     "output_type": "display_data"
    },
    {
     "data": {
      "text/latex": [
       "$\\displaystyle \\text{Vamos a realizar la 2ª iteración}$"
      ],
      "text/plain": [
       "<IPython.core.display.Math object>"
      ]
     },
     "metadata": {},
     "output_type": "display_data"
    },
    {
     "data": {
      "text/latex": [
       "$\\displaystyle A \\cdot d^{(1)} = \\begin{bmatrix}\n",
       "  36.70756356 & 36.16407231 & -116.67258114 & -160.5163721\\\\\n",
       "\\end{bmatrix}^T$"
      ],
      "text/plain": [
       "<IPython.core.display.Math object>"
      ]
     },
     "metadata": {},
     "output_type": "display_data"
    },
    {
     "data": {
      "text/latex": [
       "$\\displaystyle \\alpha_1 = \\dfrac{(R^{(1)})^T \\cdot R^{(1)}}{(d^{(1)})^T \\cdot A \\cdot d^{(1)}} =0.06365453177835223$"
      ],
      "text/plain": [
       "<IPython.core.display.Math object>"
      ]
     },
     "metadata": {},
     "output_type": "display_data"
    },
    {
     "data": {
      "text/latex": [
       "$\\displaystyle X^{(2)} = X^{(1)} + \\alpha_{1} \\cdot d^{(1)} = \\begin{bmatrix}\n",
       "  0.82712469 & 2.16334001 & -1.40191105 & 0.70584421\\\\\n",
       "\\end{bmatrix}$"
      ],
      "text/plain": [
       "<IPython.core.display.Math object>"
      ]
     },
     "metadata": {},
     "output_type": "display_data"
    },
    {
     "data": {
      "text/latex": [
       "$\\displaystyle R^{(2)} = R^{(1)} - \\alpha_{1} \\cdot A \\cdot d^{(1)} = \\begin{bmatrix}\n",
       "  2.69591515e+00 & -1.48905904e+00 & -1.01995687e-03 & 1.40265105e+00\\\\\n",
       "\\end{bmatrix}$"
      ],
      "text/plain": [
       "<IPython.core.display.Math object>"
      ]
     },
     "metadata": {},
     "output_type": "display_data"
    },
    {
     "data": {
      "text/latex": [
       "$\\displaystyle \\beta_{2} = \\dfrac{(R^{(2)})^T \\cdot R^{(2)}}{(R^{(1)})^T \\cdot R^{(1)}} =0.07209206900896557$"
      ],
      "text/plain": [
       "<IPython.core.display.Math object>"
      ]
     },
     "metadata": {},
     "output_type": "display_data"
    },
    {
     "data": {
      "text/latex": [
       "$\\displaystyle d^{(2)} = R^{(2)} + \\beta_{2} \\cdot d^{(1)} = \\begin{bmatrix}\n",
       "  0.82712469 & 2.16334001 & -1.40191105 & 0.70584421\\\\\n",
       "\\end{bmatrix}$"
      ],
      "text/plain": [
       "<IPython.core.display.Math object>"
      ]
     },
     "metadata": {},
     "output_type": "display_data"
    },
    {
     "data": {
      "text/latex": [
       "$\\displaystyle \\text{Evaluamos el criterio corte: } \\frac{|| R^{(2)}||}{|| B ||} = 0.10783660603358265 > tol = 0.0001$"
      ],
      "text/plain": [
       "<IPython.core.display.Math object>"
      ]
     },
     "metadata": {},
     "output_type": "display_data"
    },
    {
     "data": {
      "text/latex": [
       "$\\displaystyle \\text{Vamos a realizar la 3ª iteración}$"
      ],
      "text/plain": [
       "<IPython.core.display.Math object>"
      ]
     },
     "metadata": {},
     "output_type": "display_data"
    },
    {
     "data": {
      "text/latex": [
       "$\\displaystyle A \\cdot d^{(2)} = \\begin{bmatrix}\n",
       "  31.09249484 & -12.25944875 & 5.47277724 & 12.00878662\\\\\n",
       "\\end{bmatrix}^T$"
      ],
      "text/plain": [
       "<IPython.core.display.Math object>"
      ]
     },
     "metadata": {},
     "output_type": "display_data"
    },
    {
     "data": {
      "text/latex": [
       "$\\displaystyle \\alpha_2 = \\dfrac{(R^{(2)})^T \\cdot R^{(2)}}{(d^{(2)})^T \\cdot A \\cdot d^{(2)}} =0.09630878039976137$"
      ],
      "text/plain": [
       "<IPython.core.display.Math object>"
      ]
     },
     "metadata": {},
     "output_type": "display_data"
    },
    {
     "data": {
      "text/latex": [
       "$\\displaystyle X^{(3)} = X^{(2)} + \\alpha_{2} \\cdot d^{(2)} = \\begin{bmatrix}\n",
       "  1.12827823 & 2.0529581 & -1.46562954 & 0.7961587\\\\\n",
       "\\end{bmatrix}$"
      ],
      "text/plain": [
       "<IPython.core.display.Math object>"
      ]
     },
     "metadata": {},
     "output_type": "display_data"
    },
    {
     "data": {
      "text/latex": [
       "$\\displaystyle R^{(3)} = R^{(2)} - \\alpha_{2} \\cdot A \\cdot d^{(2)} = \\begin{bmatrix}\n",
       "  -0.29856511 & -0.30836649 & -0.52809646 & 0.24609945\\\\\n",
       "\\end{bmatrix}$"
      ],
      "text/plain": [
       "<IPython.core.display.Math object>"
      ]
     },
     "metadata": {},
     "output_type": "display_data"
    },
    {
     "data": {
      "text/latex": [
       "$\\displaystyle \\beta_{3} = \\dfrac{(R^{(3)})^T \\cdot R^{(3)}}{(R^{(2)})^T \\cdot R^{(2)}} =0.04572567581965404$"
      ],
      "text/plain": [
       "<IPython.core.display.Math object>"
      ]
     },
     "metadata": {},
     "output_type": "display_data"
    },
    {
     "data": {
      "text/latex": [
       "$\\displaystyle d^{(3)} = R^{(3)} + \\beta_{3} \\cdot d^{(2)} = \\begin{bmatrix}\n",
       "  1.12827823 & 2.0529581 & -1.46562954 & 0.7961587\\\\\n",
       "\\end{bmatrix}$"
      ],
      "text/plain": [
       "<IPython.core.display.Math object>"
      ]
     },
     "metadata": {},
     "output_type": "display_data"
    },
    {
     "data": {
      "text/latex": [
       "$\\displaystyle \\text{Evaluamos el criterio corte: } \\frac{|| R^{(3)}||}{|| B ||} = 0.021123858311304824 > tol = 0.0001$"
      ],
      "text/plain": [
       "<IPython.core.display.Math object>"
      ]
     },
     "metadata": {},
     "output_type": "display_data"
    },
    {
     "data": {
      "text/latex": [
       "$\\displaystyle \\text{Vamos a realizar la 4ª iteración}$"
      ],
      "text/plain": [
       "<IPython.core.display.Math object>"
      ]
     },
     "metadata": {},
     "output_type": "display_data"
    },
    {
     "data": {
      "text/latex": [
       "$\\displaystyle A \\cdot d^{(3)} = \\begin{bmatrix}\n",
       "  -2.31175216 & -2.38764301 & -4.08898461 & 1.90551718\\\\\n",
       "\\end{bmatrix}^T$"
      ],
      "text/plain": [
       "<IPython.core.display.Math object>"
      ]
     },
     "metadata": {},
     "output_type": "display_data"
    },
    {
     "data": {
      "text/latex": [
       "$\\displaystyle \\alpha_3 = \\dfrac{(R^{(3)})^T \\cdot R^{(3)}}{(d^{(3)})^T \\cdot A \\cdot d^{(3)}} =0.12915100167206103$"
      ],
      "text/plain": [
       "<IPython.core.display.Math object>"
      ]
     },
     "metadata": {},
     "output_type": "display_data"
    },
    {
     "data": {
      "text/latex": [
       "$\\displaystyle X^{(4)} = X^{(3)} + \\alpha_{3} \\cdot d^{(3)} = \\begin{bmatrix}\n",
       "  1.10818455 & 2.0063638 & -1.53774085 & 0.83348064\\\\\n",
       "\\end{bmatrix}$"
      ],
      "text/plain": [
       "<IPython.core.display.Math object>"
      ]
     },
     "metadata": {},
     "output_type": "display_data"
    },
    {
     "data": {
      "text/latex": [
       "$\\displaystyle R^{(4)} = R^{(3)} - \\alpha_{3} \\cdot A \\cdot d^{(3)} = \\begin{bmatrix}\n",
       "  -2.22044605e-16 & -1.11022302e-16 & -3.33066907e-16 & -1.66533454e-16\\\\\n",
       "\\end{bmatrix}$"
      ],
      "text/plain": [
       "<IPython.core.display.Math object>"
      ]
     },
     "metadata": {},
     "output_type": "display_data"
    },
    {
     "data": {
      "text/latex": [
       "$\\displaystyle \\beta_{4} = \\dfrac{(R^{(4)})^T \\cdot R^{(4)}}{(R^{(3)})^T \\cdot R^{(3)}} =3.8247788172818343e-31$"
      ],
      "text/plain": [
       "<IPython.core.display.Math object>"
      ]
     },
     "metadata": {},
     "output_type": "display_data"
    },
    {
     "data": {
      "text/latex": [
       "$\\displaystyle d^{(4)} = R^{(4)} + \\beta_{4} \\cdot d^{(3)} = \\begin{bmatrix}\n",
       "  1.10818455 & 2.0063638 & -1.53774085 & 0.83348064\\\\\n",
       "\\end{bmatrix}$"
      ],
      "text/plain": [
       "<IPython.core.display.Math object>"
      ]
     },
     "metadata": {},
     "output_type": "display_data"
    },
    {
     "data": {
      "text/latex": [
       "$\\displaystyle \\text{Evaluamos el criterio corte: } \\frac{|| R^{(4)}||}{|| B ||} = 1.3322676295501878e-17 \\leq tol = 0.0001$"
      ],
      "text/plain": [
       "<IPython.core.display.Math object>"
      ]
     },
     "metadata": {},
     "output_type": "display_data"
    },
    {
     "data": {
      "text/latex": [
       "$\\displaystyle \\text{Y hemos encontrado nuestra solución aproximada: } X^{(4)} = \\begin{bmatrix}\n",
       "  1.10818455 & 2.0063638 & -1.53774085 & 0.83348064\\\\\n",
       "\\end{bmatrix}$"
      ],
      "text/plain": [
       "<IPython.core.display.Math object>"
      ]
     },
     "metadata": {},
     "output_type": "display_data"
    },
    {
     "data": {
      "text/plain": [
       "array([ 1.10818455,  2.0063638 , -1.53774085,  0.83348064])"
      ]
     },
     "execution_count": 7,
     "metadata": {},
     "output_type": "execute_result"
    }
   ],
   "source": [
    "resolverMGC(A,B,10**-4,True)"
   ]
  }
 ],
 "metadata": {
  "celltoolbar": "Slideshow",
  "hide_code_all_hidden": true,
  "interpreter": {
   "hash": "916dbcbb3f70747c44a77c7bcd40155683ae19c65e1c03b4aa3499c5328201f1"
  },
  "kernelspec": {
   "display_name": "Python 3.10.4 64-bit",
   "language": "python",
   "name": "python3"
  },
  "language_info": {
   "codemirror_mode": {
    "name": "ipython",
    "version": 3
   },
   "file_extension": ".py",
   "mimetype": "text/x-python",
   "name": "python",
   "nbconvert_exporter": "python",
   "pygments_lexer": "ipython3",
   "version": "3.10.4"
  },
  "rise": {
   "scroll": true
  }
 },
 "nbformat": 4,
 "nbformat_minor": 4
}
