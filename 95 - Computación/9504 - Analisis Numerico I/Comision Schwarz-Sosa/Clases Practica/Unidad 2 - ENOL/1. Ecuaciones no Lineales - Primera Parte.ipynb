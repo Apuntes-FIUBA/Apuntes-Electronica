{
 "cells": [
  {
   "cell_type": "markdown",
   "metadata": {
    "slideshow": {
     "slide_type": "slide"
    }
   },
   "source": [
    "![Curso Schwarz-Sosa-Suriano](http://www.fi.uba.ar/sites/default/files/logo.png)\n",
    "\n",
    "# Ecuaciones no Lineales - Primera Parte\n",
    "\n",
    "***\n",
    "\n",
    "**Curso Schwarz - Sosa - Suriano**\n",
    "- Métodos Numéricos. *Curso 2*\n",
    "- Análisis Numérico I. *Curso 4*\n",
    "- Métodos Matemáticos y Numéricos. *Curso 6*"
   ]
  },
  {
   "cell_type": "markdown",
   "metadata": {
    "slideshow": {
     "slide_type": "slide"
    }
   },
   "source": [
    "### Búsqueda de raíces en ecuaciones no lineales\n",
    "___\n",
    "\n",
    "Problema a resolver: Hallar $p$ tal que $f(p)=0,$ $p  \\in [a,b].$\n",
    "\n",
    "¿Por qué necesitamos una solución numérica a este problema?\n",
    "- No siempre podemos despejar la incóginta.\n",
    "- Muchas veces resulta más cómodo plantear una solución numérica e iterativa.\n",
    "- Otras veces no existe solución algebraica al problema que queremos resolver."
   ]
  },
  {
   "cell_type": "markdown",
   "metadata": {
    "slideshow": {
     "slide_type": "slide"
    }
   },
   "source": [
    "### Método de la bisección\n",
    "___\n",
    "Supongamos una función cualquiera $f(x)$ y hallemos el valor de $\\hat{x}$, tal que $f(\\hat{x}) = 0$, siendo $\\hat{x} \\in [a,b]$.\n",
    "\n",
    "Calculemos nuestra primera aproximación de $\\hat{x}$ tomando el valor medio del intervalo, es decir:\n",
    "\n",
    "$$ x_1= \\frac{a+b}{2} $$\n",
    "1. Verificar si es la solución, es decir que $f(x_1) = 0$. \n",
    "2. Si no lo es, volver a definir el intervalo. Para ello, verifiquemos que $f(a) · f(x_1) < 0$. \n",
    "3. Si es cierto, entonces nuestro nuevo intervalo será $[a, x_1]$ y si no lo es, nuestro intervalo será $[x_1, b]$. \n",
    "4. Repetir el proceso y definir $x_2$ como el valor medio de mi nuevo intervalo.\n",
    "5. ¿Hasta cuándo? Tengo que definir una tolerancia y un criterio de corte"
   ]
  },
  {
   "cell_type": "markdown",
   "metadata": {
    "slideshow": {
     "slide_type": "slide"
    }
   },
   "source": [
    "### Criterio de corte y tolerancia\n",
    "___\n",
    "\n",
    "¿Hasta cuándo? Tengo que definir una tolerancia y un criterio de corte.\n",
    "\n",
    "Algunos _criterios de corte_:\n",
    " \n",
    "$$Error_{relativo}=\\frac{|x_{n+1}-x_{n}|}{|x_{n+1}|} \\leq Tolerancia $$\n",
    "\n",
    "$$Error_{absoluto}=|x_{n+1}-x_{n}| \\leq Tolerancia $$\n",
    "\n",
    "$$Error_{absolutodeF}=|f(x_{n+1})|\\leq Tolerancia$$\n",
    "\n",
    "En general preferimos el *error relativo* por ser más representativo.\n",
    "\n",
    "La _Tolerancia_ se elige en función a las características del problema que quiero resolver.\n",
    "\n",
    "\n",
    "\n",
    "\n",
    "\n",
    "\n"
   ]
  },
  {
   "cell_type": "code",
   "execution_count": 1,
   "metadata": {
    "hideCode": false,
    "hidePrompt": false,
    "slideshow": {
     "slide_type": "slide"
    }
   },
   "outputs": [],
   "source": [
    "import numpy as np #librería para operaciones algebraicas y numéricas\n",
    "import pandas as pd #librería para manejo de datos\n",
    "\n",
    "#programo el método bisección\n",
    "def biseccion(a, b , tol, itmax = 100): \n",
    "        df = pd.DataFrame(columns=('ai','bi','pi','cond'))\n",
    "        a = a \n",
    "        b = b\n",
    "        contador = 0  \n",
    "        x0, x1 = a, b \n",
    "        if(f(a) * f(b)>0):         #condicion de aplicabilidad del método\n",
    "            print( \"El método no resuelve este tipo de raíz\")\n",
    "            return\n",
    "        while (contador < itmax) and (abs((x1 - x0) / x1) > tol):\n",
    "            x0 = x1                                                 \n",
    "            x1 = (a + b)/2                      \n",
    "            if f(x1) * f(a) < 0:      \n",
    "                df.loc[contador] = [a,b,(a+b)/2,'<0']\n",
    "                b = x1\n",
    "            else:\n",
    "                df.loc[contador] = [a,b,(a+b)/2,'>0']\n",
    "                a = x1\n",
    "            contador += 1                      \n",
    "        error = abs((x1 - x0) / x1)\n",
    "        print('El método de bisección convergió en',contador,'iteraciones')\n",
    "        return df\n"
   ]
  },
  {
   "cell_type": "markdown",
   "metadata": {
    "slideshow": {
     "slide_type": "slide"
    }
   },
   "source": [
    "### Ejemplo usando bisección\n",
    "___\n",
    "\n",
    "Hallar $p$ tal que $f(p)=0,$ $p  \\in [0,4]$ siendo :\n",
    "$$f(x)=(x+e^\\frac{x}{2}).cos(x)+5$$\n"
   ]
  },
  {
   "cell_type": "code",
   "execution_count": 2,
   "metadata": {
    "slideshow": {
     "slide_type": "slide"
    }
   },
   "outputs": [
    {
     "name": "stdout",
     "output_type": "stream",
     "text": [
      "El método de bisección convergió en 51 iteraciones\n"
     ]
    }
   ],
   "source": [
    "#defino el intervalo de arranque y la tolerancia\n",
    "A=0 \n",
    "B=4\n",
    "tolerancia=10**(-15)\n",
    "\n",
    "def f(x):#definimos la función con la que vamos a trabajar\n",
    "    return (x+np.e**(x/2))*np.cos(x)+5   #Acá está el ejemplo de arriba, deben cambiar la función si quieren probar otra \n",
    "\n",
    "#A la hora de probar un ejemplo, recueden que para aplicar estos dos métodos se debe cumplir:\n",
    "# - que la función sea contínua en el intervalo\n",
    "# - que exista una raíz en el intervalo y que sea única y con multiplicidad impar (si 'rebota', no puedo aplicar el método)\n",
    "\n",
    "ejemplo=biseccion(A, B, tolerancia)\n"
   ]
  },
  {
   "cell_type": "code",
   "execution_count": 3,
   "metadata": {
    "hideCode": true,
    "hidePrompt": false,
    "slideshow": {
     "slide_type": "slide"
    }
   },
   "outputs": [
    {
     "name": "stdout",
     "output_type": "stream",
     "text": [
      "Analicemos las primeras iteraciones. \n",
      "\n",
      "Iteración 0: \n",
      "Tenemos como información que: \n",
      "\n"
     ]
    },
    {
     "data": {
      "text/latex": [
       "$\\displaystyle \\mathtt{\\text{a\\_0= 0.0;b\\_0= 4.0;x\\_0=\\textbackslashfrac\\{a\\_0+b\\_0\\}\\{2\\}=2.0}}$"
      ],
      "text/plain": [
       "<IPython.core.display.Math object>"
      ]
     },
     "metadata": {},
     "output_type": "display_data"
    },
    {
     "name": "stdout",
     "output_type": "stream",
     "text": [
      "Evalúo en que intervalo se encuentra la raíz:\n"
     ]
    },
    {
     "data": {
      "text/latex": [
       "$\\displaystyle \\mathtt{\\text{f(a\\_0)*f(x\\_0)= f(0.0)*f(2.0)>0}}$"
      ],
      "text/plain": [
       "<IPython.core.display.Math object>"
      ]
     },
     "metadata": {},
     "output_type": "display_data"
    },
    {
     "name": "stdout",
     "output_type": "stream",
     "text": [
      "Por lo tanto redefino los extremos del intervalo en la próxima iteración. \n",
      "\n",
      "Iteración 1: \n",
      "Tenemos como información que: \n",
      "\n"
     ]
    },
    {
     "data": {
      "text/latex": [
       "$\\displaystyle \\mathtt{\\text{a\\_1= 2.0;b\\_1= 4.0;x\\_1=\\textbackslashfrac\\{a\\_1+b\\_1\\}\\{2\\}=3.0}}$"
      ],
      "text/plain": [
       "<IPython.core.display.Math object>"
      ]
     },
     "metadata": {},
     "output_type": "display_data"
    },
    {
     "name": "stdout",
     "output_type": "stream",
     "text": [
      "Evalúo en que intervalo se encuentra la raíz:\n"
     ]
    },
    {
     "data": {
      "text/latex": [
       "$\\displaystyle \\mathtt{\\text{f(a\\_1)*f(x\\_1)= f(2.0)*f(3.0)<0}}$"
      ],
      "text/plain": [
       "<IPython.core.display.Math object>"
      ]
     },
     "metadata": {},
     "output_type": "display_data"
    },
    {
     "name": "stdout",
     "output_type": "stream",
     "text": [
      "Por lo tanto redefino los extremos del intervalo en la próxima iteración. \n",
      "\n",
      "Iteración 2: \n",
      "Tenemos como información que: \n",
      "\n"
     ]
    },
    {
     "data": {
      "text/latex": [
       "$\\displaystyle \\mathtt{\\text{a\\_2= 2.0;b\\_2= 3.0;x\\_2=\\textbackslashfrac\\{a\\_2+b\\_2\\}\\{2\\}=2.5}}$"
      ],
      "text/plain": [
       "<IPython.core.display.Math object>"
      ]
     },
     "metadata": {},
     "output_type": "display_data"
    },
    {
     "name": "stdout",
     "output_type": "stream",
     "text": [
      "Evalúo en que intervalo se encuentra la raíz:\n"
     ]
    },
    {
     "data": {
      "text/latex": [
       "$\\displaystyle \\mathtt{\\text{f(a\\_2)*f(x\\_2)= f(2.0)*f(2.5)>0}}$"
      ],
      "text/plain": [
       "<IPython.core.display.Math object>"
      ]
     },
     "metadata": {},
     "output_type": "display_data"
    },
    {
     "name": "stdout",
     "output_type": "stream",
     "text": [
      "Por lo tanto redefino los extremos del intervalo en la próxima iteración. \n",
      "\n",
      "Iteración 3: \n",
      "Tenemos como información que: \n",
      "\n"
     ]
    },
    {
     "data": {
      "text/latex": [
       "$\\displaystyle \\mathtt{\\text{a\\_3= 2.5;b\\_3= 3.0;x\\_3=\\textbackslashfrac\\{a\\_3+b\\_3\\}\\{2\\}=2.75}}$"
      ],
      "text/plain": [
       "<IPython.core.display.Math object>"
      ]
     },
     "metadata": {},
     "output_type": "display_data"
    },
    {
     "name": "stdout",
     "output_type": "stream",
     "text": [
      "Evalúo en que intervalo se encuentra la raíz:\n"
     ]
    },
    {
     "data": {
      "text/latex": [
       "$\\displaystyle \\mathtt{\\text{f(a\\_3)*f(x\\_3)= f(2.5)*f(2.75)<0}}$"
      ],
      "text/plain": [
       "<IPython.core.display.Math object>"
      ]
     },
     "metadata": {},
     "output_type": "display_data"
    },
    {
     "name": "stdout",
     "output_type": "stream",
     "text": [
      "Por lo tanto redefino los extremos del intervalo en la próxima iteración. \n",
      "\n",
      "Iteración 4: \n",
      "Tenemos como información que: \n",
      "\n"
     ]
    },
    {
     "data": {
      "text/latex": [
       "$\\displaystyle \\mathtt{\\text{a\\_4= 2.5;b\\_4= 2.75;x\\_4=\\textbackslashfrac\\{a\\_4+b\\_4\\}\\{2\\}=2.625}}$"
      ],
      "text/plain": [
       "<IPython.core.display.Math object>"
      ]
     },
     "metadata": {},
     "output_type": "display_data"
    },
    {
     "name": "stdout",
     "output_type": "stream",
     "text": [
      "Evalúo en que intervalo se encuentra la raíz:\n"
     ]
    },
    {
     "data": {
      "text/latex": [
       "$\\displaystyle \\mathtt{\\text{f(a\\_4)*f(x\\_4)= f(2.5)*f(2.625)<0}}$"
      ],
      "text/plain": [
       "<IPython.core.display.Math object>"
      ]
     },
     "metadata": {},
     "output_type": "display_data"
    },
    {
     "name": "stdout",
     "output_type": "stream",
     "text": [
      "Por lo tanto redefino los extremos del intervalo en la próxima iteración. \n",
      "\n"
     ]
    }
   ],
   "source": [
    "from IPython.display import display, Math\n",
    "import sympy.printing as printing\n",
    "\n",
    "a = ejemplo.ai\n",
    "b = ejemplo.bi\n",
    "x = ejemplo.pi\n",
    "cond= ejemplo.cond\n",
    "\n",
    "print (\"Analicemos las primeras iteraciones. \\n\")  \n",
    "\n",
    "for p in range (5):\n",
    "    print (\"Iteración \"+str(p)+\": \")\n",
    "    print (\"Tenemos como información que: \\n\")\n",
    "    ec = \"a_\"+str(p)+\"= \"+str(a[p])+\";b_\"+str(p)+\"= \"+str(b[p])+\";x_\"+str(p)+\"=\\\\frac{a_\"+str(p)+\"+b_\"+str(p)+\"}{2}\"+\"=\"+str(x[p])\n",
    "    display(Math(printing.latex(ec,mul_symbol='dot')))\n",
    "    \n",
    "    print (\"Evalúo en que intervalo se encuentra la raíz:\")\n",
    "        \n",
    "    ec = \"f(a_\"+str(p)+\")*f(x_\"+str(p)+\")\"+\"= \"+\"f(\"+str(a[p])+\")*f(\"+str(x[p])+\")\"+str(cond[p])\n",
    "    display(Math(printing.latex(ec,mul_symbol='dot')))\n",
    "    \n",
    "    print (\"Por lo tanto redefino los extremos del intervalo en la próxima iteración. \\n\") \n",
    "    \n",
    "    \n",
    "    \n",
    "    "
   ]
  },
  {
   "cell_type": "code",
   "execution_count": 4,
   "metadata": {
    "hideCode": true,
    "hidePrompt": false,
    "slideshow": {
     "slide_type": "slide"
    }
   },
   "outputs": [
    {
     "data": {
      "image/png": "[encoded data removed]",
      "text/plain": [
       "<Figure size 432x288 with 1 Axes>"
      ]
     },
     "metadata": {
      "needs_background": "light"
     },
     "output_type": "display_data"
    },
    {
     "data": {
      "image/png": "[encoded data removed]",
      "text/plain": [
       "<Figure size 432x288 with 1 Axes>"
      ]
     },
     "metadata": {
      "needs_background": "light"
     },
     "output_type": "display_data"
    },
    {
     "data": {
      "image/png": "[encoded data removed]",
      "text/plain": [
       "<Figure size 432x288 with 1 Axes>"
      ]
     },
     "metadata": {
      "needs_background": "light"
     },
     "output_type": "display_data"
    },
    {
     "data": {
      "image/png": "[encoded data removed]",
      "text/plain": [
       "<Figure size 432x288 with 1 Axes>"
      ]
     },
     "metadata": {
      "needs_background": "light"
     },
     "output_type": "display_data"
    },
    {
     "data": {
      "image/png": "[encoded data removed]",
      "text/plain": [
       "<Figure size 432x288 with 1 Axes>"
      ]
     },
     "metadata": {
      "needs_background": "light"
     },
     "output_type": "display_data"
    }
   ],
   "source": [
    "import matplotlib.pyplot as plt\n",
    "ejex = np.arange(-1, 5, 0.1);\n",
    "y = f(ejex)\n",
    "\n",
    "for p in range (5):\n",
    "    fig = plt.figure()\n",
    "    plt.plot(ejex, y)\n",
    "    plt.xlabel('x',fontsize=20)\n",
    "    plt.ylabel('f(x)',fontsize=20)\n",
    "    plt.legend(str(p),fontsize=20)\n",
    "    plt.axhline(y=0, color='k')   \n",
    "    plt.scatter(x=x[p], y=0, marker=\"o\", c='green', s=100)\n",
    "    plt.axvline(x=x[p], color='g',linestyle='dashed') \n",
    "    plt.axvline(x=a[p], color='m') \n",
    "    plt.axvline(x=b[p], color='m'); "
   ]
  },
  {
   "cell_type": "code",
   "execution_count": 5,
   "metadata": {
    "slideshow": {
     "slide_type": "slide"
    }
   },
   "outputs": [
    {
     "name": "stdout",
     "output_type": "stream",
     "text": [
      "Resumen de resultados para bisección:\n",
      "A continuación se muestran las primeras iteraciones:\n"
     ]
    },
    {
     "data": {
      "text/html": [
       "<div>\n",
       "<style scoped>\n",
       "    .dataframe tbody tr th:only-of-type {\n",
       "        vertical-align: middle;\n",
       "    }\n",
       "\n",
       "    .dataframe tbody tr th {\n",
       "        vertical-align: top;\n",
       "    }\n",
       "\n",
       "    .dataframe thead th {\n",
       "        text-align: right;\n",
       "    }\n",
       "</style>\n",
       "<table border=\"1\" class=\"dataframe\">\n",
       "  <thead>\n",
       "    <tr style=\"text-align: right;\">\n",
       "      <th></th>\n",
       "      <th>ai</th>\n",
       "      <th>bi</th>\n",
       "      <th>pi</th>\n",
       "      <th>cond</th>\n",
       "    </tr>\n",
       "  </thead>\n",
       "  <tbody>\n",
       "    <tr>\n",
       "      <th>0</th>\n",
       "      <td>0.00000</td>\n",
       "      <td>4.000000</td>\n",
       "      <td>2.000000</td>\n",
       "      <td>&gt;0</td>\n",
       "    </tr>\n",
       "    <tr>\n",
       "      <th>1</th>\n",
       "      <td>2.00000</td>\n",
       "      <td>4.000000</td>\n",
       "      <td>3.000000</td>\n",
       "      <td>&lt;0</td>\n",
       "    </tr>\n",
       "    <tr>\n",
       "      <th>2</th>\n",
       "      <td>2.00000</td>\n",
       "      <td>3.000000</td>\n",
       "      <td>2.500000</td>\n",
       "      <td>&gt;0</td>\n",
       "    </tr>\n",
       "    <tr>\n",
       "      <th>3</th>\n",
       "      <td>2.50000</td>\n",
       "      <td>3.000000</td>\n",
       "      <td>2.750000</td>\n",
       "      <td>&lt;0</td>\n",
       "    </tr>\n",
       "    <tr>\n",
       "      <th>4</th>\n",
       "      <td>2.50000</td>\n",
       "      <td>2.750000</td>\n",
       "      <td>2.625000</td>\n",
       "      <td>&lt;0</td>\n",
       "    </tr>\n",
       "    <tr>\n",
       "      <th>5</th>\n",
       "      <td>2.50000</td>\n",
       "      <td>2.625000</td>\n",
       "      <td>2.562500</td>\n",
       "      <td>&lt;0</td>\n",
       "    </tr>\n",
       "    <tr>\n",
       "      <th>6</th>\n",
       "      <td>2.50000</td>\n",
       "      <td>2.562500</td>\n",
       "      <td>2.531250</td>\n",
       "      <td>&gt;0</td>\n",
       "    </tr>\n",
       "    <tr>\n",
       "      <th>7</th>\n",
       "      <td>2.53125</td>\n",
       "      <td>2.562500</td>\n",
       "      <td>2.546875</td>\n",
       "      <td>&lt;0</td>\n",
       "    </tr>\n",
       "    <tr>\n",
       "      <th>8</th>\n",
       "      <td>2.53125</td>\n",
       "      <td>2.546875</td>\n",
       "      <td>2.539062</td>\n",
       "      <td>&lt;0</td>\n",
       "    </tr>\n",
       "    <tr>\n",
       "      <th>9</th>\n",
       "      <td>2.53125</td>\n",
       "      <td>2.539062</td>\n",
       "      <td>2.535156</td>\n",
       "      <td>&lt;0</td>\n",
       "    </tr>\n",
       "  </tbody>\n",
       "</table>\n",
       "</div>"
      ],
      "text/plain": [
       "        ai        bi        pi cond\n",
       "0  0.00000  4.000000  2.000000   >0\n",
       "1  2.00000  4.000000  3.000000   <0\n",
       "2  2.00000  3.000000  2.500000   >0\n",
       "3  2.50000  3.000000  2.750000   <0\n",
       "4  2.50000  2.750000  2.625000   <0\n",
       "5  2.50000  2.625000  2.562500   <0\n",
       "6  2.50000  2.562500  2.531250   >0\n",
       "7  2.53125  2.562500  2.546875   <0\n",
       "8  2.53125  2.546875  2.539062   <0\n",
       "9  2.53125  2.539062  2.535156   <0"
      ]
     },
     "execution_count": 5,
     "metadata": {},
     "output_type": "execute_result"
    }
   ],
   "source": [
    "print('Resumen de resultados para bisección:')\n",
    "print('A continuación se muestran las primeras iteraciones:')\n",
    "ejemplo.head(10)\n",
    "\n",
    "# en la tabla, 'cond' hace referencia al producto de f(ai)*f(xi),\n",
    "# la condición que estamos evaluando para redefinir el nuevo intervalo donde vamos a buscar la raíz."
   ]
  },
  {
   "cell_type": "markdown",
   "metadata": {
    "slideshow": {
     "slide_type": "slide"
    }
   },
   "source": [
    "### Método Regula falsi\n",
    "___\n",
    "Supongamos una función cualquiera $f(x)$ y hallemos el valor de $\\hat{x}$, tal que $f(\\hat{x}) = 0$, siendo $\\hat{x} \\in [a,b]$.\n",
    "\n",
    "Calculemos nuestra primera aproximación de $\\hat{x}$ utilizando la cuerda que une los extremos de la función, es decir:\n",
    "\n",
    "$x_1= a_1-f(a_1)*\\frac{b_1-a_1}{f(b_1)-f(a_1)}, $ ó $ x_1= b_1-f(b_1)*\\frac{b_1-a_1}{f(b_1)-f(a_1)}$\n",
    "1. Verificar si es la solución, es decir que $f(x_1) = 0$. \n",
    "2. Si no lo es, volver a definir el intervalo. Para ello, verifiquemos que $f(a) · f(x_1) < 0$. \n",
    "3. Si es cierto, entonces nuestro nuevo intervalo será $[a, x_1]$ y si no lo es, nuestro intervalo será $[x_1, b]$. \n",
    "4. Repetir el proceso y definir $x_2$ como el valor medio de mi nuevo intervalo.\n",
    "5. ¿Hasta cuándo? Tengo que definir una tolerancia y un criterio de corte"
   ]
  },
  {
   "cell_type": "code",
   "execution_count": 6,
   "metadata": {
    "slideshow": {
     "slide_type": "slide"
    }
   },
   "outputs": [],
   "source": [
    "def regulafalsi(a, b , tol, itmax = 100): \n",
    "        df = pd.DataFrame(columns=('ai','bi','pi','cond'))\n",
    "        a = a \n",
    "        b = b\n",
    "        contador = 0  \n",
    "        x0, x1 = a, b \n",
    "        if(f(a) * f(b)>0):         #condicion de aplicabilidad del método\n",
    "            print( \"El método no resuelve este tipo de raíz\")\n",
    "            return\n",
    "        while (contador < itmax) and (abs((x1 - x0) / x1) > tol):\n",
    "            x0 = x1                                                 \n",
    "            x1 = a-(f(a)*(b-a)/(f(b)-f(a)))                    \n",
    "            if f(x1) * f(a) < 0:      \n",
    "                df.loc[contador] = [a,b,a-(f(a)*(b-a)/(f(b)-f(a))) ,'<0']\n",
    "                b = x1\n",
    "            else:\n",
    "                df.loc[contador] = [a,b,a-(f(a)*(b-a)/(f(b)-f(a))) ,'>0']\n",
    "                a = x1\n",
    "            contador += 1                      \n",
    "        error = abs((x1 - x0) / x1)\n",
    "        print('El método de regula-falsi convergió en',contador,'iteraciones')\n",
    "        return df"
   ]
  },
  {
   "cell_type": "code",
   "execution_count": 7,
   "metadata": {
    "slideshow": {
     "slide_type": "slide"
    }
   },
   "outputs": [
    {
     "name": "stdout",
     "output_type": "stream",
     "text": [
      "El método de regula-falsi convergió en 10 iteraciones\n"
     ]
    }
   ],
   "source": [
    "#aplico el método Regula Falsi al mismo ejemplo anterior\n",
    "\n",
    "ejemploRF=regulafalsi(A, B, tolerancia)"
   ]
  },
  {
   "cell_type": "code",
   "execution_count": 8,
   "metadata": {
    "hideCode": true,
    "hidePrompt": false,
    "slideshow": {
     "slide_type": "slide"
    }
   },
   "outputs": [
    {
     "name": "stdout",
     "output_type": "stream",
     "text": [
      "Analicemos las primeras iteraciones. \n",
      "\n",
      "Iteración 0: \n",
      "Tenemos como información que: \n",
      "\n"
     ]
    },
    {
     "data": {
      "text/latex": [
       "$\\displaystyle \\mathtt{\\text{a\\_0= 0.0;b\\_0= 4.0;x\\_0=a\\_0-f(a\\_0)*\\textbackslashfrac\\{b\\_0-a\\_0\\}\\{f(b\\_0)-f(a\\_0)\\}=2.842125651650566}}$"
      ],
      "text/plain": [
       "<IPython.core.display.Math object>"
      ]
     },
     "metadata": {},
     "output_type": "display_data"
    },
    {
     "name": "stdout",
     "output_type": "stream",
     "text": [
      "Evalúo en que intervalo se encuentra la raíz:\n"
     ]
    },
    {
     "data": {
      "text/latex": [
       "$\\displaystyle \\mathtt{\\text{f(a\\_0)*f(x\\_0)= f(0.0)*f(2.842125651650566)<0}}$"
      ],
      "text/plain": [
       "<IPython.core.display.Math object>"
      ]
     },
     "metadata": {},
     "output_type": "display_data"
    },
    {
     "name": "stdout",
     "output_type": "stream",
     "text": [
      "Por lo tanto redefino los extremos del intervalo en la próxima iteración. \n",
      "\n",
      "Iteración 1: \n",
      "Tenemos como información que: \n",
      "\n"
     ]
    },
    {
     "data": {
      "text/latex": [
       "$\\displaystyle \\mathtt{\\text{a\\_1= 0.0;b\\_1= 2.842125651650566;x\\_1=a\\_1-f(a\\_1)*\\textbackslashfrac\\{b\\_1-a\\_1\\}\\{f(b\\_1)-f(a\\_1)\\}=2.2224854479343223}}$"
      ],
      "text/plain": [
       "<IPython.core.display.Math object>"
      ]
     },
     "metadata": {},
     "output_type": "display_data"
    },
    {
     "name": "stdout",
     "output_type": "stream",
     "text": [
      "Evalúo en que intervalo se encuentra la raíz:\n"
     ]
    },
    {
     "data": {
      "text/latex": [
       "$\\displaystyle \\mathtt{\\text{f(a\\_1)*f(x\\_1)= f(0.0)*f(2.2224854479343223)>0}}$"
      ],
      "text/plain": [
       "<IPython.core.display.Math object>"
      ]
     },
     "metadata": {},
     "output_type": "display_data"
    },
    {
     "name": "stdout",
     "output_type": "stream",
     "text": [
      "Por lo tanto redefino los extremos del intervalo en la próxima iteración. \n",
      "\n",
      "Iteración 2: \n",
      "Tenemos como información que: \n",
      "\n"
     ]
    },
    {
     "data": {
      "text/latex": [
       "$\\displaystyle \\mathtt{\\text{a\\_2= 2.2224854479343223;b\\_2= 2.842125651650566;x\\_2=a\\_2-f(a\\_2)*\\textbackslashfrac\\{b\\_2-a\\_2\\}\\{f(b\\_2)-f(a\\_2)\\}=2.5444458496058724}}$"
      ],
      "text/plain": [
       "<IPython.core.display.Math object>"
      ]
     },
     "metadata": {},
     "output_type": "display_data"
    },
    {
     "name": "stdout",
     "output_type": "stream",
     "text": [
      "Evalúo en que intervalo se encuentra la raíz:\n"
     ]
    },
    {
     "data": {
      "text/latex": [
       "$\\displaystyle \\mathtt{\\text{f(a\\_2)*f(x\\_2)= f(2.2224854479343223)*f(2.5444458496058724)<0}}$"
      ],
      "text/plain": [
       "<IPython.core.display.Math object>"
      ]
     },
     "metadata": {},
     "output_type": "display_data"
    },
    {
     "name": "stdout",
     "output_type": "stream",
     "text": [
      "Por lo tanto redefino los extremos del intervalo en la próxima iteración. \n",
      "\n",
      "Iteración 3: \n",
      "Tenemos como información que: \n",
      "\n"
     ]
    },
    {
     "data": {
      "text/latex": [
       "$\\displaystyle \\mathtt{\\text{a\\_3= 2.2224854479343223;b\\_3= 2.5444458496058724;x\\_3=a\\_3-f(a\\_3)*\\textbackslashfrac\\{b\\_3-a\\_3\\}\\{f(b\\_3)-f(a\\_3)\\}=2.534899007923581}}$"
      ],
      "text/plain": [
       "<IPython.core.display.Math object>"
      ]
     },
     "metadata": {},
     "output_type": "display_data"
    },
    {
     "name": "stdout",
     "output_type": "stream",
     "text": [
      "Evalúo en que intervalo se encuentra la raíz:\n"
     ]
    },
    {
     "data": {
      "text/latex": [
       "$\\displaystyle \\mathtt{\\text{f(a\\_3)*f(x\\_3)= f(2.2224854479343223)*f(2.534899007923581)<0}}$"
      ],
      "text/plain": [
       "<IPython.core.display.Math object>"
      ]
     },
     "metadata": {},
     "output_type": "display_data"
    },
    {
     "name": "stdout",
     "output_type": "stream",
     "text": [
      "Por lo tanto redefino los extremos del intervalo en la próxima iteración. \n",
      "\n",
      "Iteración 4: \n",
      "Tenemos como información que: \n",
      "\n"
     ]
    },
    {
     "data": {
      "text/latex": [
       "$\\displaystyle \\mathtt{\\text{a\\_4= 2.2224854479343223;b\\_4= 2.534899007923581;x\\_4=a\\_4-f(a\\_4)*\\textbackslashfrac\\{b\\_4-a\\_4\\}\\{f(b\\_4)-f(a\\_4)\\}=2.5348234485645547}}$"
      ],
      "text/plain": [
       "<IPython.core.display.Math object>"
      ]
     },
     "metadata": {},
     "output_type": "display_data"
    },
    {
     "name": "stdout",
     "output_type": "stream",
     "text": [
      "Evalúo en que intervalo se encuentra la raíz:\n"
     ]
    },
    {
     "data": {
      "text/latex": [
       "$\\displaystyle \\mathtt{\\text{f(a\\_4)*f(x\\_4)= f(2.2224854479343223)*f(2.5348234485645547)<0}}$"
      ],
      "text/plain": [
       "<IPython.core.display.Math object>"
      ]
     },
     "metadata": {},
     "output_type": "display_data"
    },
    {
     "name": "stdout",
     "output_type": "stream",
     "text": [
      "Por lo tanto redefino los extremos del intervalo en la próxima iteración. \n",
      "\n"
     ]
    }
   ],
   "source": [
    "aRF = ejemploRF.ai\n",
    "bRF = ejemploRF.bi\n",
    "xRF = ejemploRF.pi\n",
    "condRF= ejemploRF.cond\n",
    "\n",
    "print (\"Analicemos las primeras iteraciones. \\n\")  \n",
    "\n",
    "for p in range (5):\n",
    "    print (\"Iteración \"+str(p)+\": \")\n",
    "    print (\"Tenemos como información que: \\n\")\n",
    "    ec = \"a_\"+str(p)+\"= \"+str(aRF[p])+\";b_\"+str(p)+\"= \"+str(bRF[p])+\";x_\"+str(p)+\"=a_\"+str(p)+\"-f(a_\"+str(p)+\")*\\\\frac{b_\"+str(p)+\"-a_\"+str(p)+\"}{f(b_\"+str(p)+\")-f(a_\"+str(p)+\")}\"+\"=\"+str(xRF[p])\n",
    "    display(Math(printing.latex(ec,mul_symbol='dot')))\n",
    "    \n",
    "    print (\"Evalúo en que intervalo se encuentra la raíz:\")\n",
    "        \n",
    "    ec = \"f(a_\"+str(p)+\")*f(x_\"+str(p)+\")\"+\"= \"+\"f(\"+str(aRF[p])+\")*f(\"+str(xRF[p])+\")\"+str(condRF[p])\n",
    "    display(Math(printing.latex(ec,mul_symbol='dot')))\n",
    "    \n",
    "    print (\"Por lo tanto redefino los extremos del intervalo en la próxima iteración. \\n\") \n",
    "    \n"
   ]
  },
  {
   "cell_type": "code",
   "execution_count": 9,
   "metadata": {
    "hideCode": true,
    "slideshow": {
     "slide_type": "slide"
    }
   },
   "outputs": [
    {
     "data": {
      "image/png": "[encoded data removed]",
      "text/plain": [
       "<Figure size 432x288 with 1 Axes>"
      ]
     },
     "metadata": {
      "needs_background": "light"
     },
     "output_type": "display_data"
    },
    {
     "data": {
      "image/png": "[encoded data removed]",
      "text/plain": [
       "<Figure size 432x288 with 1 Axes>"
      ]
     },
     "metadata": {
      "needs_background": "light"
     },
     "output_type": "display_data"
    },
    {
     "data": {
      "image/png": "[encoded data removed]",
      "text/plain": [
       "<Figure size 432x288 with 1 Axes>"
      ]
     },
     "metadata": {
      "needs_background": "light"
     },
     "output_type": "display_data"
    },
    {
     "data": {
      "image/png": "[encoded data removed]",
      "text/plain": [
       "<Figure size 432x288 with 1 Axes>"
      ]
     },
     "metadata": {
      "needs_background": "light"
     },
     "output_type": "display_data"
    },
    {
     "data": {
      "image/png": "[encoded data removed]",
      "text/plain": [
       "<Figure size 432x288 with 1 Axes>"
      ]
     },
     "metadata": {
      "needs_background": "light"
     },
     "output_type": "display_data"
    }
   ],
   "source": [
    "ejex = np.arange(-1, 5, 0.1);\n",
    "y = f(ejex)\n",
    "\n",
    "for p in range (5):\n",
    "    fig = plt.figure()\n",
    "    plt.plot(ejex, y)\n",
    "    plt.xlabel('x',fontsize=20)\n",
    "    plt.ylabel('f(x)',fontsize=20)\n",
    "    plt.legend(str(p),fontsize=20)\n",
    "    plt.axhline(y=0, color='k')   \n",
    "    plt.scatter(x=xRF[p], y=0, marker=\"o\", c='green', s=100)\n",
    "    plt.plot([aRF[p],bRF[p]], [f(aRF[p]),f(bRF[p])], color='g',linestyle='dashed')\n",
    "    plt.axvline(x=aRF[p], color='m') \n",
    "    plt.axvline(x=bRF[p], color='m'); \n",
    "    "
   ]
  },
  {
   "cell_type": "code",
   "execution_count": 10,
   "metadata": {
    "slideshow": {
     "slide_type": "slide"
    }
   },
   "outputs": [
    {
     "name": "stdout",
     "output_type": "stream",
     "text": [
      "Resumen de resultados para Regula-Falsi:\n",
      "A continuación se muestran las primeras iteraciones:\n"
     ]
    },
    {
     "data": {
      "text/html": [
       "<div>\n",
       "<style scoped>\n",
       "    .dataframe tbody tr th:only-of-type {\n",
       "        vertical-align: middle;\n",
       "    }\n",
       "\n",
       "    .dataframe tbody tr th {\n",
       "        vertical-align: top;\n",
       "    }\n",
       "\n",
       "    .dataframe thead th {\n",
       "        text-align: right;\n",
       "    }\n",
       "</style>\n",
       "<table border=\"1\" class=\"dataframe\">\n",
       "  <thead>\n",
       "    <tr style=\"text-align: right;\">\n",
       "      <th></th>\n",
       "      <th>ai</th>\n",
       "      <th>bi</th>\n",
       "      <th>pi</th>\n",
       "      <th>cond</th>\n",
       "    </tr>\n",
       "  </thead>\n",
       "  <tbody>\n",
       "    <tr>\n",
       "      <th>0</th>\n",
       "      <td>0.000000</td>\n",
       "      <td>4.000000</td>\n",
       "      <td>2.842126</td>\n",
       "      <td>&lt;0</td>\n",
       "    </tr>\n",
       "    <tr>\n",
       "      <th>1</th>\n",
       "      <td>0.000000</td>\n",
       "      <td>2.842126</td>\n",
       "      <td>2.222485</td>\n",
       "      <td>&gt;0</td>\n",
       "    </tr>\n",
       "    <tr>\n",
       "      <th>2</th>\n",
       "      <td>2.222485</td>\n",
       "      <td>2.842126</td>\n",
       "      <td>2.544446</td>\n",
       "      <td>&lt;0</td>\n",
       "    </tr>\n",
       "    <tr>\n",
       "      <th>3</th>\n",
       "      <td>2.222485</td>\n",
       "      <td>2.544446</td>\n",
       "      <td>2.534899</td>\n",
       "      <td>&lt;0</td>\n",
       "    </tr>\n",
       "    <tr>\n",
       "      <th>4</th>\n",
       "      <td>2.222485</td>\n",
       "      <td>2.534899</td>\n",
       "      <td>2.534823</td>\n",
       "      <td>&lt;0</td>\n",
       "    </tr>\n",
       "    <tr>\n",
       "      <th>5</th>\n",
       "      <td>2.222485</td>\n",
       "      <td>2.534823</td>\n",
       "      <td>2.534823</td>\n",
       "      <td>&lt;0</td>\n",
       "    </tr>\n",
       "    <tr>\n",
       "      <th>6</th>\n",
       "      <td>2.222485</td>\n",
       "      <td>2.534823</td>\n",
       "      <td>2.534823</td>\n",
       "      <td>&lt;0</td>\n",
       "    </tr>\n",
       "    <tr>\n",
       "      <th>7</th>\n",
       "      <td>2.222485</td>\n",
       "      <td>2.534823</td>\n",
       "      <td>2.534823</td>\n",
       "      <td>&lt;0</td>\n",
       "    </tr>\n",
       "    <tr>\n",
       "      <th>8</th>\n",
       "      <td>2.222485</td>\n",
       "      <td>2.534823</td>\n",
       "      <td>2.534823</td>\n",
       "      <td>&lt;0</td>\n",
       "    </tr>\n",
       "    <tr>\n",
       "      <th>9</th>\n",
       "      <td>2.222485</td>\n",
       "      <td>2.534823</td>\n",
       "      <td>2.534823</td>\n",
       "      <td>&gt;0</td>\n",
       "    </tr>\n",
       "  </tbody>\n",
       "</table>\n",
       "</div>"
      ],
      "text/plain": [
       "         ai        bi        pi cond\n",
       "0  0.000000  4.000000  2.842126   <0\n",
       "1  0.000000  2.842126  2.222485   >0\n",
       "2  2.222485  2.842126  2.544446   <0\n",
       "3  2.222485  2.544446  2.534899   <0\n",
       "4  2.222485  2.534899  2.534823   <0\n",
       "5  2.222485  2.534823  2.534823   <0\n",
       "6  2.222485  2.534823  2.534823   <0\n",
       "7  2.222485  2.534823  2.534823   <0\n",
       "8  2.222485  2.534823  2.534823   <0\n",
       "9  2.222485  2.534823  2.534823   >0"
      ]
     },
     "execution_count": 10,
     "metadata": {},
     "output_type": "execute_result"
    }
   ],
   "source": [
    "print('Resumen de resultados para Regula-Falsi:')\n",
    "print('A continuación se muestran las primeras iteraciones:')\n",
    "ejemploRF.head(10)"
   ]
  },
  {
   "cell_type": "markdown",
   "metadata": {
    "slideshow": {
     "slide_type": "slide"
    }
   },
   "source": [
    "### Algunas conclusiones\n",
    "___\n",
    "\n",
    "Tanto el método _Bisección_ como el método _Regula Falsi_ decimos que son __Métodos de arranque.__\n",
    "Estos convergen siempre, pero lo hacen muy lentamente.\n",
    "El método _Regula Falsi_ converge más rápido que _Bisección_ debido a que usa información de la función para aproximar la raíz."
   ]
  },
  {
   "cell_type": "markdown",
   "metadata": {
    "slideshow": {
     "slide_type": "slide"
    }
   },
   "source": [
    "![Curso Schwarz-Sosa-Suriano](http://www.fi.uba.ar/sites/default/files/logo.png)\n",
    "\n",
    "\n",
    "\n",
    "# GRACIAS POR SU ATENCIÓN\n",
    "\n",
    "\n",
    "\n",
    "### Ecuaciones no Lineales - Primera Parte\n",
    "\n",
    "***\n",
    "\n",
    "**Curso Schwarz - Sosa - Suriano**\n",
    "- Métodos Numéricos. *Curso 2*\n",
    "- Análisis Numérico I. *Curso 4*\n",
    "- Métodos Matemáticos y Numéricos. *Curso 6*"
   ]
  }
 ],
 "metadata": {
  "interpreter": {
   "hash": "916dbcbb3f70747c44a77c7bcd40155683ae19c65e1c03b4aa3499c5328201f1"
  },
  "kernelspec": {
   "display_name": "Python 3.10.4 64-bit",
   "name": "python3"
  },
  "language_info": {
   "codemirror_mode": {
    "name": "ipython",
    "version": 3
   },
   "file_extension": ".py",
   "mimetype": "text/x-python",
   "name": "python",
   "nbconvert_exporter": "python",
   "pygments_lexer": "ipython3",
   "version": "3.10.4"
  }
 },
 "nbformat": 4,
 "nbformat_minor": 2
}
