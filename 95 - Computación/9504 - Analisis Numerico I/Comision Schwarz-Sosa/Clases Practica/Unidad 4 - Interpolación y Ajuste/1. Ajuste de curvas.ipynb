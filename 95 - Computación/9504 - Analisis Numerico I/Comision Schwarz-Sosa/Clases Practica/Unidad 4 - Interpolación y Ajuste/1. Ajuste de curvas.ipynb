{
 "cells": [
  {
   "cell_type": "markdown",
   "metadata": {
    "hideCode": false,
    "hidePrompt": false,
    "slideshow": {
     "slide_type": "slide"
    }
   },
   "source": [
    "![Curso Schwarz-Sosa-Suriano](http://www.fi.uba.ar/sites/default/files/logo.png)\n",
    "\n",
    "# Ajuste de curvas\n",
    "\n",
    "***\n",
    "\n",
    "**Curso Schwarz - Sosa - Suriano**\n",
    "- Métodos Numéricos. *Curso 2*\n",
    "- Análisis Numérico I. *Curso 4*\n",
    "- Métodos Matemáticos y Numéricos. *Curso 6*"
   ]
  },
  {
   "cell_type": "markdown",
   "metadata": {
    "hideCode": false,
    "hidePrompt": false,
    "slideshow": {
     "slide_type": "slide"
    }
   },
   "source": [
    "### Ajuste por cuadrados mínimos\n",
    "___\n",
    "\n",
    "Uno de los problemas que suele tener que resolver una ingeniera o ingeniero es el de armar una función que ajuste datos obtenidos experimentalmente.nEn todos los casos ya vistos, una de las condiciones fundamentales es que los puntos $x_i$ sean distintos. **¿Qué hacemos cuando esto no es así, cuando la cantidad de puntos exceden la capacidad de armar polinomios interpolantes o cuando los puntos que usaremos son aproximaciones de los valores reales?**\n",
    "\n",
    "Supongamos que tenemos una serie de datos empíricos obtenidos en laboratorio, tales que el conjunto de datos no cumple estrictamente que los $x_i$ sean distintos, con lo cual para un mismo $x_i$ tenemos varios valores de $f(x_i)$. (En realidad suele suceder que aunque los $x_i$ sean distintos, varios $x_j$ sean suficientemente cercanos como para considerarlos iguales.) \n",
    "\n",
    "Lo que necesitamos, entonces, es una curva que ajuste lo mejor posible los datos que disponemos, o sea, que el error entre los puntos y esa función de ajuste o aproximación sea el menor posible, sin que la curva pase por los puntos dato.\n",
    "\n",
    "\n"
   ]
  },
  {
   "cell_type": "markdown",
   "metadata": {
    "hideCode": false,
    "hidePrompt": false,
    "slideshow": {
     "slide_type": "slide"
    }
   },
   "source": [
    "### Ajuste por cuadrados mínimos\n",
    "___\n",
    "\n",
    "Dado que hemos que la función elegida no debe pasar por lo puntos tomados como dato, buscaremos que el error entre los datos $f(x_i)$ y los $g(x_i)$ de la función de ajuste sea el menor posible, plantearemos que $r_i = f(x_i) - g(x_i)$ para $0 ≤ i  ≤ n$, es decir, que el residuo, sea mínimo. Como se trata de un vector, una forma de analizar este caso es mediante la norma de vectores (y matrices) y en este caso la norma al cuadrado, de ahí el nombre de método de los cuadrados mínimos, pues lo que se minimiza es el cuadrado del residuo.\n",
    "\n",
    "Supongamos que proponemos polinomios como funcióna a aproximar, vemos que el método consiste en resolver un sistema de ecuaciones lineales para obtener los coeficientes del polinimio:\n",
    "\n",
    "\\begin{equation}\n",
    "y(x)=\\sum^m_{k=0}c_k\\:x^k=c_0+c_1x+c_2x^2+\\ldots+c_m x^m.\n",
    "\\end{equation}\n",
    "\n",
    "Supongamos que proponemos polinomios como funcióna a aproximar, vemos que el método consiste en resolver un sistema de ecuaciones lineales."
   ]
  },
  {
   "cell_type": "markdown",
   "metadata": {
    "hideCode": false,
    "hidePrompt": false,
    "slideshow": {
     "slide_type": "slide"
    }
   },
   "source": [
    "### Ajuste por cuadrados mínimos\n",
    "___\n",
    "\n",
    "Supongamos que proponemos polinomios como funcióna a aproximar, vemos que el método consiste en resolver un sistema de ecuaciones lineales.\n",
    "\n",
    "\\begin{equation}\n",
    "\\begin{bmatrix}\n",
    "n+1 & \\displaystyle \\sum^n_{i=0}x_i& \\ldots& \\displaystyle \\sum^n_{i=0}x^{m-1}_i & \\displaystyle \\sum^n_{i=0}x^{m}_i\\\\\n",
    "\\displaystyle \\sum^n_{i=0}x_i &\\displaystyle \\sum^n_{i=0}x_i^2&\\ldots&\\displaystyle \\sum^n_{i=0}x_i^m  & \\displaystyle \\sum^n_{i=0}x^{m+1}_i\\\\\n",
    "\\vdots & \\vdots &\\ddots &\\vdots &\\vdots \\\\\n",
    "\\displaystyle \\sum^n_{i=0}x^{m-1}_i &\\displaystyle \\sum^n_{i=0}x^{m}_i&\\ldots &\\displaystyle \\sum^n_{i=0}x^{2(m-1)}_i  & \\displaystyle \\sum^n_{i=0}x^{2m-1}_i\\\\\n",
    "\\displaystyle \\sum^n_{i=0}x^m_i &\\displaystyle \\sum^n_{i=0}x^{m+1}_i&\\ldots &\\displaystyle \\sum^n_{i=0}x^{2m-1}_i  & \\displaystyle \\sum^n_{i=0}x^{2m}_i\n",
    "\\end{bmatrix}\n",
    "\\begin{bmatrix}\n",
    "c_0 \\\\\n",
    "c_1 \\\\\n",
    "\\vdots\\\\\n",
    "c_{m-1} \\\\\n",
    "c_m\n",
    "\\end{bmatrix}=\n",
    "\\begin{bmatrix}\n",
    "\\displaystyle \\sum^n_{i=0}f(x_i) \\\\\n",
    "\\displaystyle \\sum^n_{i=0}(f(x_i)\\cdot x_i) \\\\\n",
    "\\vdots \\\\\n",
    "\\displaystyle \\sum^n_{i=0}(f(x_i)\\cdot x_i^{m-1}) \\\\\n",
    "\\displaystyle \\sum^n_{i=0}(f(x_i)\\cdot x^m_i)\n",
    "\\end{bmatrix}.\n",
    "\\end{equation}\n",
    "\n",
    "La matriz de coeficientes es similar a una matriz de VanderMonde, matriz que obtuvimos para interpolar una serie de puntos, de ahí que cualquier ajuste de curvas hecho con polinomios resulta ser un problema mal condicionado. Por supuesto, la mala condición de la matriz se hace cada vez más evidente a medida que m sea más grande. Conviene que recordemos que el ajuste polinomial, al igual que la interpolación polinomial son problemas con tendencia a ser mal condicionados."
   ]
  },
  {
   "cell_type": "code",
   "execution_count": 1,
   "metadata": {
    "hideCode": true,
    "hideOutput": false,
    "hidePrompt": true,
    "slideshow": {
     "slide_type": "slide"
    }
   },
   "outputs": [
    {
     "data": {
      "image/png": "[encoded data removed]",
      "text/plain": [
       "<Figure size 432x288 with 1 Axes>"
      ]
     },
     "metadata": {
      "needs_background": "light"
     },
     "output_type": "display_data"
    }
   ],
   "source": [
    "import numpy as np #librería para operaciones algebraicas y numéricas\n",
    "import pandas as pd #librería para manejo de datos\n",
    "import matplotlib.pyplot as plt #librería para graficar\n",
    "\n",
    "#Cargo los datos\n",
    "\n",
    "datan=pd.read_table('DatosAjuste.csv', sep=',', header=0)\n",
    "dfn = pd.DataFrame(datan)\n",
    "\n",
    "plt.scatter(dfn[\"x\"],dfn[\"y\"])\n",
    "plt.ylabel('Q [m³/s]')\n",
    "plt.suptitle('Aforo en la estación Corrientes, río Paraná. ')\n",
    "plt.title('Período 1980-2020')\n",
    "plt.xlabel('h [m]');"
   ]
  },
  {
   "cell_type": "markdown",
   "metadata": {
    "hideCode": false,
    "hidePrompt": false,
    "slideshow": {
     "slide_type": "slide"
    }
   },
   "source": [
    "### Ejemplo\n",
    "___\n",
    "\n",
    "Propongamos un ajuste de grado $m=3$\n",
    "\n",
    "Veamos que ocurre cuando evaluamos en un punto y luego como queda la curva de ajuste en comparación a los puntos dato.\n",
    "\n",
    "\n"
   ]
  },
  {
   "cell_type": "code",
   "execution_count": 33,
   "metadata": {
    "slideshow": {
     "slide_type": "slide"
    }
   },
   "outputs": [],
   "source": [
    "def CM(m,df,x):\n",
    "        A = np.zeros([m+1,m+1])\n",
    "        B = np.zeros(m+1)  \n",
    "        n=len(df)\n",
    "        X=df['x']\n",
    "        Y=df['y']\n",
    "        for i in range(0,n):        \n",
    "            for f in range(0,m+1):\n",
    "                B[f] += Y[i]*(X[i]**f)            \n",
    "                for c in range(0,m+1):\n",
    "                    A[f,c] += X[i]**(f+c)\n",
    "        # Coeficientes ci\n",
    "        c = np.linalg.solve(A, B)\n",
    "        ajuste = 0\n",
    "        for j in range(0,m+1):\n",
    "            ajuste += c[j]*(x**j)\n",
    "        return ajuste,A,B,c "
   ]
  },
  {
   "cell_type": "code",
   "execution_count": 41,
   "metadata": {
    "hideCode": true,
    "hidePrompt": true,
    "slideshow": {
     "slide_type": "slide"
    }
   },
   "outputs": [
    {
     "name": "stdout",
     "output_type": "stream",
     "text": [
      "Por el método de Cuadrados mínimos obtenemos P(x= 4 )= 18645.02598 con ajuste de grado m= 3\n",
      "La matriz queda: \n",
      "           0            1             2             3\n",
      "0    556.000    2608.0000  1.404234e+04  8.443169e+04\n",
      "1   2608.000   14042.3400  8.443169e+04  5.504656e+05\n",
      "2  14042.340   84431.6860  5.504656e+05  3.799603e+06\n",
      "3  84431.686  550465.6038  3.799603e+06  2.730609e+07\n",
      "El vector B: \n",
      "              0\n",
      "0  1.267570e+07\n",
      "1  6.848706e+07\n",
      "2  4.161842e+08\n",
      "3  2.751279e+09\n",
      "Resolviendo el SEL obtenemos los coeficientes: \n",
      "             0\n",
      "0 -1159.905599\n",
      "1  8944.400961\n",
      "2 -1566.110195\n",
      "3   141.954545\n"
     ]
    }
   ],
   "source": [
    "xp=4   \n",
    "m=3\n",
    "ejemplo=CM(m,dfn,xp)\n",
    "print('Por el método de Cuadrados mínimos obtenemos P(x=',xp,')=',round(ejemplo[0],5),'con ajuste de grado m=',m)\n",
    "print('La matriz queda: ')\n",
    "ACM=pd.DataFrame(ejemplo[1])\n",
    "print(ACM)\n",
    "print('El vector B: ')\n",
    "BCM=pd.DataFrame(ejemplo[2])\n",
    "print(BCM)\n",
    "print('Resolviendo el SEL obtenemos los coeficientes: ')\n",
    "cCM=pd.DataFrame(ejemplo[3])\n",
    "print(cCM);\n"
   ]
  },
  {
   "cell_type": "code",
   "execution_count": 32,
   "metadata": {
    "hideCode": true,
    "hidePrompt": true,
    "slideshow": {
     "slide_type": "slide"
    }
   },
   "outputs": [
    {
     "data": {
      "image/png": "[encoded data removed]",
      "text/plain": [
       "<Figure size 432x288 with 1 Axes>"
      ]
     },
     "metadata": {
      "needs_background": "light"
     },
     "output_type": "display_data"
    }
   ],
   "source": [
    "import matplotlib.pyplot as plt\n",
    "\n",
    "ejex = np.linspace(min(dfn['x']), max(dfn['x']),num=1000)\n",
    "Nx=len(ejex)\n",
    "c=ejemplo[3]\n",
    "y_cm3=np.zeros(Nx,dtype='object')\n",
    "\n",
    "def ajuste(x):\n",
    "    return c[0]+c[1]*x+c[2]*(x**2)+c[3]*(x**3)\n",
    "\n",
    "for i in range(0,Nx):\n",
    "    y_cm[i] = ajuste(ejex[i])\n",
    "\n",
    "plt.xlabel('h [m]');\n",
    "plt.ylabel('Q [m³/s]')\n",
    "plt.plot(ejex, y_cm, linewidth=2, color = 'red')\n",
    "plt.scatter(dfn['x'], dfn['y'])\n",
    "plt.legend(['CM con m=3','Datos'],fontsize=10)\n",
    "plt.suptitle('Aforo en la estación Corrientes, río Paraná. ')\n",
    "plt.title('Período 1980-2020');"
   ]
  },
  {
   "cell_type": "markdown",
   "metadata": {
    "hideCode": false,
    "hidePrompt": false,
    "slideshow": {
     "slide_type": "slide"
    }
   },
   "source": [
    "![Curso Schwarz-Sosa-Suriano](http://www.fi.uba.ar/sites/default/files/logo.png)\n",
    "\n",
    "# Gracias por su atención\n",
    "***\n",
    "\n",
    "**Curso Schwarz - Sosa - Suriano**\n",
    "- Métodos Numéricos. *Curso 2*\n",
    "- Análisis Numérico I. *Curso 4*\n",
    "- Métodos Matemáticos y Numéricos. *Curso 6*"
   ]
  }
 ],
 "metadata": {
  "celltoolbar": "Slideshow",
  "hide_code_all_hidden": true,
  "kernelspec": {
   "display_name": "Python 3",
   "language": "python",
   "name": "python3"
  },
  "language_info": {
   "codemirror_mode": {
    "name": "ipython",
    "version": 3
   },
   "file_extension": ".py",
   "mimetype": "text/x-python",
   "name": "python",
   "nbconvert_exporter": "python",
   "pygments_lexer": "ipython3",
   "version": "3.7.6"
  }
 },
 "nbformat": 4,
 "nbformat_minor": 2
}
