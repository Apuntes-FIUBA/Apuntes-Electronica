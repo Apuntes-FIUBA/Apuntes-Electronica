{
 "cells": [
  {
   "cell_type": "markdown",
   "metadata": {
    "hideCode": false,
    "hidePrompt": false,
    "slideshow": {
     "slide_type": "slide"
    }
   },
   "source": [
    "![Curso Schwarz-Sosa-Suriano](http://www.fi.uba.ar/sites/default/files/logo.png)\n",
    "\n",
    "# Interpolación - Primera Parte\n",
    "\n",
    "***\n",
    "\n",
    "**Curso Schwarz - Sosa - Suriano**\n",
    "- Métodos Numéricos. *Curso 2*\n",
    "- Análisis Numérico I. *Curso 4*\n",
    "- Métodos Matemáticos y Numéricos. *Curso 6*"
   ]
  },
  {
   "cell_type": "markdown",
   "metadata": {
    "hideCode": false,
    "hidePrompt": false,
    "slideshow": {
     "slide_type": "slide"
    }
   },
   "source": [
    "### Interpolación de curvas\n",
    "___\n",
    "Es usual que las ingenieras y los ingenieros trabajen con datos extraídos de mediciones, relevamientos,\n",
    "ensayos de laboratorio, etc., los cuales no siempre entregan el valor necesario para el problema\n",
    "que se está tratando de resolver. Un ejemplo típico de interpolación sencilla utilizado por cualquier\n",
    "profesional de la ingeniería es la interpolación lineal en una tabla de datos para obtener un valor entre dos puntos dados.\n",
    "\n",
    "Supongamos que tenemos una lista con datos ordenados en pares y que queremos conocer el valor de $y(x_A)$ para un $x_A$ entre $x_1$ y $x_2$.\n",
    "\n",
    "\n",
    "| $x$ | $y$\n",
    "| --- | ---\n",
    "|$x_0$  | $y_0$\n",
    "| $x_1$  | $y_1$\n",
    "| $x_2$  | $y_2$\n",
    "|$x_3$| $y_3$\n",
    "\n",
    "¿Cómo lo resolvemos?"
   ]
  },
  {
   "cell_type": "markdown",
   "metadata": {
    "hideCode": true,
    "hidePrompt": true,
    "slideshow": {
     "slide_type": "slide"
    }
   },
   "source": [
    "### Interpolación de Lagrange\n",
    "___\n",
    "\n",
    "El polinomio interpolante se obtiene siguiendo los siguientes pasos:\n",
    "\n",
    "1.Calculamos los $n+1$ polinomios $L_{n,i}(x)$ relacionados cada uno con cada dato $x_i$, donde $n$ es el grado del polinomio e $i$ indica el punto considerado, mediante:\n",
    "\n",
    "$$ L_{n,i}(x)=\\frac{\\displaystyle \\prod^n_{\\substack{j=0 \\\\ j\\neq i}}(x-x_j) }{\\displaystyle \\prod^n_{\\substack{j=0 \\\\ j\\neq i}}(x_i-x_j)}=\\prod^n_{\\substack{j=0 \\\\ j\\neq i}}\\frac{x-x_j}{x_i-x_j}.$$ \n",
    "\n",
    "con $i=0;1; \\ldots; n$, $j=0;1; \\ldots; n$, y $x_i$ y $x_j$ refieren a los datos disponibles. Estos polinomios cumplen con la particularidad de que:\n",
    "\n",
    "$$L_{n,i}(x)=\n",
    "\\begin{cases}\n",
    "1& \\text{  si   }x=x_i \\\\\n",
    "0& \\text{  si   }x = x_j \\text{ con } j\\neq i.\n",
    "\\end{cases}$$\n",
    "\n",
    "2.El polinomio interpolante lo obtenemos mediante la expresión:\n",
    "$$ P_n(x)=\\sum^n_{i=0}y_i\\ L_{n,i}(x)$$\n"
   ]
  },
  {
   "cell_type": "markdown",
   "metadata": {
    "hideCode": true,
    "hidePrompt": true,
    "slideshow": {
     "slide_type": "slide"
    }
   },
   "source": [
    "### Ejemplo con Interpolación de Lagrange de grado 3\n",
    "___\n",
    "\n",
    "Para la tabla propuesta al inicio: \n",
    "\n",
    "| $x$ | $y$\n",
    "| --- | ---\n",
    "|$x_0$  | $y_0$\n",
    "| $x_1$  | $y_1$\n",
    "| $x_2$  | $y_2$\n",
    "|$x_3$| $y_3$\n",
    "\n",
    "Primero calculamos los $L_{3,i}$\n",
    "\\begin{equation}\\begin{split}\n",
    "L_{3,0}(x)=&\\frac{(x-x_1)(x-x_2)(x-x_3)}{(x_0-x_1)(x_0-x_2)(x_0-x_3)} \\\\\n",
    "L_{3,1}(x)=&\\frac{(x-x_0)(x-x_2)(x-x_3)}{(x_1-x_0)(x_1-x_2)(x_1-x_3)} \\\\\n",
    "L_{3,2}(x)=&\\frac{(x-x_0)(x-x_1)(x-x_3)}{(x_2-x_0)(x_2-x_1)(x_2-x_3)} \\\\\n",
    "L_{3,3}(x)=&\\frac{(x-x_0)(x-x_1)(x-x_2)}{(x_3-x_0)(x_3-x_1)(x_3-x_2)} \\\\\n",
    "\\end{split}\\end{equation}\n",
    "\n",
    "Y finalmente el polinomio resulta:\n",
    "\n",
    "$$ P_3(x)= y_0L_{3,0}(x)+y_1L_{3,1}(x)+y_2L_{3,3}(x)+y_3L_{3,3}(x) $$\n"
   ]
  },
  {
   "cell_type": "code",
   "execution_count": 1,
   "metadata": {
    "hideCode": false,
    "hidePrompt": false,
    "slideshow": {
     "slide_type": "slide"
    }
   },
   "outputs": [],
   "source": [
    "def Lagrange (df,x):\n",
    "    N=len(df)\n",
    "    L=np.zeros(N)\n",
    "    P=0\n",
    "    for i in range (0,N):\n",
    "        if x==df['x'][i]:         #Para que no divida por cero .\n",
    "            return df['y'][i]\n",
    "        num=1\n",
    "        den=1\n",
    "        for j in range (0,N):\n",
    "            if j != i:\n",
    "                num*=x-df['x'][j]\n",
    "                den*=df['x'][i]-df['x'][j]\n",
    "        L[i]=num/den\n",
    "        P+=L[i]*df['y'][i]\n",
    "    return P,L, print('Por el método de Lagrange obtenemos P(x=',x,')=',round(P,5))"
   ]
  },
  {
   "cell_type": "markdown",
   "metadata": {
    "hideCode": false,
    "hidePrompt": false,
    "slideshow": {
     "slide_type": "slide"
    }
   },
   "source": [
    "### Resolvamos un ejemplo numérico\n",
    "___\n",
    "\n",
    "Supongamos que tenemos la siguiente tabla y queremos calcular $P(4.5)=?$\n",
    "\n",
    "|$i$| $x$ | $y$\n",
    "| ---| --- | ---\n",
    "|$0$ |2 | 7\n",
    "|$1$| 4 | 6\n",
    "|$2$| 5  | 9\n",
    "|$3$|7| 12"
   ]
  },
  {
   "cell_type": "code",
   "execution_count": 2,
   "metadata": {
    "hideCode": false,
    "hidePrompt": false,
    "slideshow": {
     "slide_type": "slide"
    }
   },
   "outputs": [
    {
     "name": "stdout",
     "output_type": "stream",
     "text": [
      "Por el método de Lagrange obtenemos P(x= 4.5 )= 7.41667\n"
     ]
    }
   ],
   "source": [
    "import numpy as np #librería para operaciones algebraicas y numéricas\n",
    "import pandas as pd #librería para manejo de datos\n",
    "import matplotlib.pyplot as plt #librería para graficar\n",
    "\n",
    "#Cargo los datos\n",
    "\n",
    "data = [[2, 7], [4, 6], [5, 9], [7, 12]]\n",
    "df = pd.DataFrame(data, columns = ['x', 'y'])\n",
    "\n",
    "xp=4.5\n",
    "\n",
    "ejemplo=Lagrange (df,xp)"
   ]
  },
  {
   "cell_type": "code",
   "execution_count": 3,
   "metadata": {
    "hideCode": true,
    "hidePrompt": true,
    "slideshow": {
     "slide_type": "slide"
    }
   },
   "outputs": [
    {
     "name": "stdout",
     "output_type": "stream",
     "text": [
      "Calculamos primero los coeficientes L: \n",
      "\n"
     ]
    },
    {
     "data": {
      "text/latex": [
       "$\\displaystyle L_{3,0}= \\frac{(x-x_1)(x-x_2)(x-x_3)}{(x_0-x_1)(x_0-x_2)(x_0-x_3)}=\\frac{(4.5-4)(4.5-5)(4.5-7)}{(2-4)(2-5)(2-7)}=-0.0208$"
      ],
      "text/plain": [
       "<IPython.core.display.Math object>"
      ]
     },
     "metadata": {},
     "output_type": "display_data"
    },
    {
     "data": {
      "text/latex": [
       "$\\displaystyle L_{3,1}= \\frac{(x-x_0)(x-x_2)(x-x_3)}{(x_1-x_0)(x_1-x_2)(x_1-x_3)}=\\frac{(4.5-2)(4.5-5)(4.5-7)}{(4-2)(4-5)(4-7)}=0.5208$"
      ],
      "text/plain": [
       "<IPython.core.display.Math object>"
      ]
     },
     "metadata": {},
     "output_type": "display_data"
    },
    {
     "data": {
      "text/latex": [
       "$\\displaystyle L_{3,2}= \\frac{(x-x_0)(x-x_1)(x-x_3)}{(x_2-x_0)(x_2-x_1)(x_2-x_3)}=\\frac{(4.5-2)(4.5-4)(4.5-7)}{(5-2)(5-4)(5-7)}=0.5208$"
      ],
      "text/plain": [
       "<IPython.core.display.Math object>"
      ]
     },
     "metadata": {},
     "output_type": "display_data"
    },
    {
     "data": {
      "text/latex": [
       "$\\displaystyle L_{3,3}= \\frac{(x-x_0)(x-x_1)(x-x_2)}{(x_3-x_0)(x_3-x_1)(x_3-x_2)}=\\frac{(4.5-2)(4.5-4)(4.5-5)}{(7-2)(7-4)(7-5)}=-0.0208$"
      ],
      "text/plain": [
       "<IPython.core.display.Math object>"
      ]
     },
     "metadata": {},
     "output_type": "display_data"
    },
    {
     "name": "stdout",
     "output_type": "stream",
     "text": [
      "\n",
      " Armando el polinomio obtenemos: \n",
      "\n"
     ]
    },
    {
     "data": {
      "text/latex": [
       "$\\displaystyle P_{3}(x)= y_0L_{3,0}+y_1L_{3,1}+y_2L_{3,2}+y_3L_{3,3}$"
      ],
      "text/plain": [
       "<IPython.core.display.Math object>"
      ]
     },
     "metadata": {},
     "output_type": "display_data"
    },
    {
     "name": "stdout",
     "output_type": "stream",
     "text": [
      "\n",
      " Reemplazando por los valores obtenemos: \n",
      "\n"
     ]
    },
    {
     "data": {
      "text/latex": [
       "$\\displaystyle P_{3}(x=4.5)= (7)(-0.0208)+(6)(0.5208)+(9)(0.5208)+(12)(-0.0208)=7.4167$"
      ],
      "text/plain": [
       "<IPython.core.display.Math object>"
      ]
     },
     "metadata": {},
     "output_type": "display_data"
    }
   ],
   "source": [
    "from IPython.display import display, Math\n",
    "\n",
    "N=len(df)\n",
    "x = df['x']\n",
    "y = df['y']\n",
    "PL=np.round(ejemplo[0],4)\n",
    "L=np.round(ejemplo[1],4)\n",
    "\n",
    "print (\"Calculamos primero los coeficientes L: \\n\")  \n",
    "\n",
    "for p in range (0,N):\n",
    "    ec = \"L_{\"+str(N-1)+\",\"+str(p)+\"}= \"\n",
    "    k=[]\n",
    "    for j in range (0,N):\n",
    "        if j != p:\n",
    "            k.append(j)\n",
    "    num=\"\"\n",
    "    den=\"\"\n",
    "    numnu=\"\"\n",
    "    dennu=\"\"\n",
    "    for m in range (0,N-1):\n",
    "        num+=\"(x-x_\"+str(k[m])+\")\"\n",
    "        den+=\"(x_\"+str(p)+\"-x_\"+str(k[m])+\")\"\n",
    "        numnu+=\"(\"+str(xp)+\"-\"+str(x[k[m]])+\")\"\n",
    "        dennu+=\"(\"+str(x[p])+\"-\"+str(x[k[m]])+\")\"\n",
    "    ecu=\"\\\\frac{\"+str(num)+\"}{\"+str(den)+\"}=\"\n",
    "    ecunu=\"\\\\frac{\"+str(numnu)+\"}{\"+str(dennu)+\"}=\"\n",
    "    resul=str(round(L[p],5))\n",
    "    display(Math((ec+ecu+ecunu+resul)))\n",
    "\n",
    "print (\"\\n Armando el polinomio obtenemos: \\n\")\n",
    "\n",
    "pol = \"P_{\"+str(N-1)+\"}(x)= \"\n",
    "\n",
    "termp=\"\"\n",
    "for p in range (0,N-1):\n",
    "    termp += \"y_\"+str(p)+\"L_{\"+str(N-1)+\",\"+str(p)+\"}+\"\n",
    "\n",
    "termf=\"y_\"+str(N-1)+\"L_{\"+str(N-1)+\",\"+str(N-1)+\"}\"\n",
    "display(Math((pol+termp+termf)))\n",
    "\n",
    "print (\"\\n Reemplazando por los valores obtenemos: \\n\")\n",
    "\n",
    "polnu = \"P_{\"+str(N-1)+\"}(x=\"+str(xp)+\")= \"\n",
    "\n",
    "termpnu=\"\"\n",
    "for p in range (0,N-1):\n",
    "    termpnu += \"(\"+str(y[p])+\")(\"+str(L[p])+\")+\"\n",
    "\n",
    "termfnu= \"(\"+str(y[N-1])+\")(\"+str(L[N-1])+\")=\"\n",
    "\n",
    "display(Math((polnu+termpnu+termfnu+str(round(PL,5)))))"
   ]
  },
  {
   "cell_type": "markdown",
   "metadata": {
    "hideCode": false,
    "hidePrompt": false,
    "slideshow": {
     "slide_type": "slide"
    }
   },
   "source": [
    "### Interpolación de Lagrange Baricéntrico\n",
    "___\n",
    "\n",
    "A partir del método de **Lagrange**, reordenando los términos:\n",
    "\n",
    "1. Definimos el coeficiente $L(x)$ como:\n",
    "\n",
    "$$ L(x)=(x-x_0)(x-x_1)\\ldots(x-x_n)$$ \n",
    "\n",
    "2. Definamos además los pesos baricéntricos como\n",
    "$$ w_i=\\prod^n_{\\substack{k=0 \\\\k\\neq i}}\\frac{1}{x_i-x_k}, \\text{  para todo  }i=0;1;\\ldots;n. $$ \n",
    "\n",
    "3. Entonces podemos escribir el polinomio interpolante:\n",
    "\n",
    "$$ P_n(x)=\\sum^n_{i=0}f(x_i)\\frac{L(x)w_i}{x-x_i}=L(x)\\sum^n_{i=0}f(x_i)\\frac{w_i}{x-x_i},$$\n",
    "\n",
    "pues $L(x)$ es constante para todos los términos de la sumatoria.\n",
    "\n",
    "Esto es una gran ventaja ya que si agregamos un par de datos $x_{n+1}, f(x_{n+1})$, sólo debemos hacer lo siguiente:\n",
    "- Dividir cada $w_i$ por $x_i-x_{n+1}$.\n",
    "- Calcular un nuevo $w_{i+1}$."
   ]
  },
  {
   "cell_type": "code",
   "execution_count": 9,
   "metadata": {
    "hideCode": false,
    "hidePrompt": false,
    "slideshow": {
     "slide_type": "slide"
    }
   },
   "outputs": [],
   "source": [
    "def LagrangeBaricentrico (df,x):\n",
    "    N=len(df)\n",
    "    W=np.zeros(N)\n",
    "    P=0\n",
    "    L=1\n",
    "    PB=0\n",
    "    for i in range (0,N):\n",
    "        if x==df['x'][i]:         #Para que no divida por cero .\n",
    "            return df['y'][i]\n",
    "        L*=x-df['x'][i]\n",
    "        w=1\n",
    "        for j in range (0,N):\n",
    "            if j != i:\n",
    "                 w*=1/(df['x'][i]-df['x'][j])\n",
    "        W[i]=w\n",
    "        P+=(w*df['y'][i])/(x-df['x'][i])\n",
    "    PB=L*P\n",
    "    return PB,L,W, print('Por el método de Lagrange Baricéntrico obtenemos P(x=',x,')=',round(PB,5))"
   ]
  },
  {
   "cell_type": "code",
   "execution_count": 10,
   "metadata": {
    "hideCode": false,
    "hidePrompt": false,
    "slideshow": {
     "slide_type": "slide"
    }
   },
   "outputs": [
    {
     "name": "stdout",
     "output_type": "stream",
     "text": [
      "Por el método de Lagrange Baricéntrico obtenemos P(x= 4.5 )= 7.41667\n"
     ]
    }
   ],
   "source": [
    "#Rehago el mismo ejemplo que anteriormente:\n",
    "ejemplodos=LagrangeBaricentrico (df,xp)  "
   ]
  },
  {
   "cell_type": "code",
   "execution_count": 11,
   "metadata": {
    "hideCode": true,
    "hidePrompt": true,
    "slideshow": {
     "slide_type": "slide"
    }
   },
   "outputs": [
    {
     "name": "stdout",
     "output_type": "stream",
     "text": [
      "Calculamos primero el coeficiente L: \n"
     ]
    },
    {
     "data": {
      "text/latex": [
       "$\\displaystyle L(x)= (x-x_0)(x-x_1)(x-x_2)(x-x_3)$"
      ],
      "text/plain": [
       "<IPython.core.display.Math object>"
      ]
     },
     "metadata": {},
     "output_type": "display_data"
    },
    {
     "data": {
      "text/latex": [
       "$\\displaystyle L(x={4.5})= (4.5-2)(4.5-4)(4.5-5)(4.5-7)=1.5625$"
      ],
      "text/plain": [
       "<IPython.core.display.Math object>"
      ]
     },
     "metadata": {},
     "output_type": "display_data"
    },
    {
     "name": "stdout",
     "output_type": "stream",
     "text": [
      "\n",
      " Luego calculamos los coeficientes de peso: \n"
     ]
    },
    {
     "data": {
      "text/latex": [
       "$\\displaystyle W_{3,0}= \\frac{1}{(x_0-x_1)(x_0-x_2)(x_0-x_3)}=\\frac{1}{(2-4)(2-5)(2-7)}=-0.0333$"
      ],
      "text/plain": [
       "<IPython.core.display.Math object>"
      ]
     },
     "metadata": {},
     "output_type": "display_data"
    },
    {
     "data": {
      "text/latex": [
       "$\\displaystyle W_{3,1}= \\frac{1}{(x_1-x_0)(x_1-x_2)(x_1-x_3)}=\\frac{1}{(4-2)(4-5)(4-7)}=0.1667$"
      ],
      "text/plain": [
       "<IPython.core.display.Math object>"
      ]
     },
     "metadata": {},
     "output_type": "display_data"
    },
    {
     "data": {
      "text/latex": [
       "$\\displaystyle W_{3,2}= \\frac{1}{(x_2-x_0)(x_2-x_1)(x_2-x_3)}=\\frac{1}{(5-2)(5-4)(5-7)}=-0.1667$"
      ],
      "text/plain": [
       "<IPython.core.display.Math object>"
      ]
     },
     "metadata": {},
     "output_type": "display_data"
    },
    {
     "data": {
      "text/latex": [
       "$\\displaystyle W_{3,3}= \\frac{1}{(x_3-x_0)(x_3-x_1)(x_3-x_2)}=\\frac{1}{(7-2)(7-4)(7-5)}=0.0333$"
      ],
      "text/plain": [
       "<IPython.core.display.Math object>"
      ]
     },
     "metadata": {},
     "output_type": "display_data"
    },
    {
     "name": "stdout",
     "output_type": "stream",
     "text": [
      "\n",
      " Armando el polinomio obtenemos: \n"
     ]
    },
    {
     "data": {
      "text/latex": [
       "$\\displaystyle P_3(x) = L(x)\\sum^3_{i=0}f(x_i)\\frac{w_i}{x-x_i}=L(x)[f(x_0)\\frac{w_0}{x-x_0}+f(x_1)\\frac{w_1}{x-x_1}+f(x_2)\\frac{w_2}{x-x_2}+f(x_3)\\frac{w_3}{x-x_3}$"
      ],
      "text/plain": [
       "<IPython.core.display.Math object>"
      ]
     },
     "metadata": {},
     "output_type": "display_data"
    },
    {
     "name": "stdout",
     "output_type": "stream",
     "text": [
      "\n",
      " Reemplazando por los valores obtenemos: \n"
     ]
    },
    {
     "data": {
      "text/latex": [
       "$\\displaystyle P_3(x=4.5) = (1.5625)[(7)\\frac{(-0.0333)}{4.5-2}+(6)\\frac{(0.1667)}{4.5-4}+(9)\\frac{(-0.1667)}{4.5-5}+(12)\\frac{(0.0333)}{4.5-7}=7.4167$"
      ],
      "text/plain": [
       "<IPython.core.display.Math object>"
      ]
     },
     "metadata": {},
     "output_type": "display_data"
    }
   ],
   "source": [
    "from IPython.display import display, Math\n",
    "\n",
    "N=len(df)\n",
    "x = df['x']\n",
    "y = df['y']\n",
    "PLB=np.round(ejemplodos[0],4)\n",
    "L=np.round(ejemplodos[1],4)\n",
    "W=np.round(ejemplodos[2],4)\n",
    "\n",
    "print (\"Calculamos primero el coeficiente L: \")  \n",
    "\n",
    "coefL = \"L(x)= \"\n",
    "\n",
    "termL=\"\"\n",
    "for p in range (0,N):\n",
    "    termL += \"(x-x_\"+str(p)+\")\"\n",
    "\n",
    "display(Math((coefL+termL)))\n",
    "\n",
    "coefLnu = \"L(x={\"+str(xp)+\"})= \"\n",
    "termLnu=\"\"\n",
    "for p in range (0,N):\n",
    "    termLnu += \"(\"+str(xp)+\"-\"+str(x[p])+\")\"\n",
    "resulL=\"=\"+str(L)\n",
    "\n",
    "display(Math((coefLnu+termLnu+resulL)))\n",
    "\n",
    "print (\"\\n Luego calculamos los coeficientes de peso: \")  \n",
    "\n",
    "for p in range (0,N):\n",
    "    ecW = \"W_{\"+str(N-1)+\",\"+str(p)+\"}= \"\n",
    "    k=[]\n",
    "    for j in range (0,N):\n",
    "        if j != p:\n",
    "            k.append(j)\n",
    "    den=\"\"\n",
    "    dennu=\"\"\n",
    "    for m in range (0,N-1):\n",
    "        den+=\"(x_\"+str(p)+\"-x_\"+str(k[m])+\")\"\n",
    "        dennu+=\"(\"+str(x[p])+\"-\"+str(x[k[m]])+\")\"\n",
    "    ecuW=\"\\\\frac{1}{\"+str(den)+\"}=\"\n",
    "    ecunuW=\"\\\\frac{1}{\"+str(dennu)+\"}=\"\n",
    "    resulW=str(round(W[p],5))\n",
    "    display(Math((ecW+ecuW+ecunuW+resulW)))\n",
    "\n",
    "print (\"\\n Armando el polinomio obtenemos: \")\n",
    "pol2=\"P_\"+str(N-1)+\"(x) = L(x)\\\\sum^\"+str(N-1)+\"_{i=0}f(x_i)\\\\frac{w_i}{x-x_i}=L(x)[\"\n",
    "\n",
    "polLBt = \"\"\n",
    "for p in range (0,N-1):\n",
    "    polLBt += \"f(x_\"+str(p)+\")\\\\frac{w_\"+str(p)+\"}{x-x_\"+str(p)+\"}+\"\n",
    "polLBf= \"f(x_\"+str(N-1)+\")\\\\frac{w_\"+str(N-1)+\"}{x-x_\"+str(N-1)+\"}\"\n",
    "\n",
    "display(Math((pol2+polLBt+polLBf)))\n",
    "\n",
    "print (\"\\n Reemplazando por los valores obtenemos: \")\n",
    "pol2nu=\"P_\"+str(N-1)+\"(x=\"+str(xp)+\") = (\"+str(L)+\")[\"\n",
    "\n",
    "polLBtnu = \"\"\n",
    "for p in range (0,N-1):\n",
    "    polLBtnu += \"(\"+str(y[p])+\")\\\\frac{(\"+str(W[p])+\")}{\"+str(xp)+\"-\"+str(x[p])+\"}+\"\n",
    "polLBfnu= \"(\"+str(y[N-1])+\")\\\\frac{(\"+str(W[N-1])+\")}{\"+str(xp)+\"-\"+str(x[N-1])+\"}=\"\n",
    "\n",
    "display(Math((pol2nu+polLBtnu+polLBfnu+str(PLB))))"
   ]
  },
  {
   "cell_type": "code",
   "execution_count": 12,
   "metadata": {
    "hideCode": true,
    "hidePrompt": true
   },
   "outputs": [],
   "source": [
    "def LagrangePlot (df,x):\n",
    "    N=len(df)\n",
    "    L=np.zeros(N)\n",
    "    P=0\n",
    "    for i in range (0,N):\n",
    "        if x==df['y'][i]:         #Para que no divida por cero .\n",
    "            return df['y'][i]\n",
    "        num=1\n",
    "        den=1\n",
    "        for j in range (0,N):\n",
    "            if j != i:\n",
    "                num*=x-df['x'][j]\n",
    "                den*=df['x'][i]-df['x'][j]\n",
    "        L[i]=num/den\n",
    "        P+=L[i]*df['y'][i]\n",
    "    return P\n",
    "\n",
    "def LagrangeBaricentricoPlot (df,x):\n",
    "    N=len(df)\n",
    "    W=np.zeros(N)\n",
    "    P=0\n",
    "    L=1\n",
    "    PB=0\n",
    "    for i in range (0,N):\n",
    "        if x==df['y'][i]:         #Para que no divida por cero .\n",
    "            return df['y'][i]\n",
    "        L*=x-df['x'][i]\n",
    "        w=1\n",
    "        for j in range (0,N):\n",
    "            if j != i:\n",
    "                 w*=1/(df['x'][i]-df['x'][j])\n",
    "        W[i]=w\n",
    "        P+=(w*df['y'][i])/(x-df['x'][i])\n",
    "    PB=L*P\n",
    "    return PB"
   ]
  },
  {
   "cell_type": "code",
   "execution_count": 13,
   "metadata": {
    "hideCode": true,
    "hidePrompt": true,
    "scrolled": true,
    "slideshow": {
     "slide_type": "slide"
    }
   },
   "outputs": [
    {
     "data": {
      "image/png": "[encoded data removed]",
      "text/plain": [
       "<Figure size 432x288 with 1 Axes>"
      ]
     },
     "metadata": {
      "needs_background": "light"
     },
     "output_type": "display_data"
    }
   ],
   "source": [
    "import matplotlib.pyplot as plt\n",
    "\n",
    "plt.xlabel('x')\n",
    "plt.ylabel('f(x)')\n",
    "\n",
    "ejex = np.linspace(min(df['x'])*0.9, max(df['x'])*1.1,num=1000)\n",
    "Nx=len(ejex)\n",
    "y_pl=np.zeros(Nx)\n",
    "y_plb=np.zeros(Nx)\n",
    "\n",
    "for i in range(0,Nx):\n",
    "    y_pl[i] = LagrangePlot(df,ejex[i]);\n",
    "    \n",
    "for i in range(0,Nx):\n",
    "    y_plb[i] = LagrangeBaricentricoPlot(df,ejex[i]);\n",
    "    \n",
    "plt.plot(ejex, y_pl, linewidth=2, color = 'green')\n",
    "plt.plot(ejex, y_plb, linewidth=2, color = 'red',linestyle=(0, (8, 10)))\n",
    "plt.scatter(df['x'], df['y'], color = 'blue')\n",
    "plt.legend(['Lagrange','Lagrange Baricéntrico','Datos','limite','dato'],fontsize=10)\n",
    "plt.axvline(min(df['x']), linewidth=2, color='blue',linestyle='dashed')\n",
    "plt.axvline(max(df['x']), linewidth=2, color='blue',linestyle='dashed')\n",
    "plt.title('Comparación de polinomios interpolantes');"
   ]
  },
  {
   "cell_type": "markdown",
   "metadata": {
    "hideCode": false,
    "hidePrompt": false,
    "slideshow": {
     "slide_type": "slide"
    }
   },
   "source": [
    "![Curso Schwarz-Sosa-Suriano](http://www.fi.uba.ar/sites/default/files/logo.png)\n",
    "\n",
    "# Gracias por su atención\n",
    "***\n",
    "\n",
    "**Curso Schwarz - Sosa - Suriano**\n",
    "- Métodos Numéricos. *Curso 2*\n",
    "- Análisis Numérico I. *Curso 4*\n",
    "- Métodos Matemáticos y Numéricos. *Curso 6*"
   ]
  }
 ],
 "metadata": {
  "celltoolbar": "Slideshow",
  "hide_code_all_hidden": true,
  "kernelspec": {
   "display_name": "Python 3",
   "language": "python",
   "name": "python3"
  },
  "language_info": {
   "codemirror_mode": {
    "name": "ipython",
    "version": 3
   },
   "file_extension": ".py",
   "mimetype": "text/x-python",
   "name": "python",
   "nbconvert_exporter": "python",
   "pygments_lexer": "ipython3",
   "version": "3.7.6"
  }
 },
 "nbformat": 4,
 "nbformat_minor": 2
}
