{
 "cells": [
  {
   "cell_type": "markdown",
   "metadata": {
    "hideCode": false,
    "hidePrompt": false,
    "slideshow": {
     "slide_type": "slide"
    }
   },
   "source": [
    "![Curso Schwarz-Sosa-Suriano](http://www.fi.uba.ar/sites/default/files/logo.png)\n",
    "\n",
    "# Interpolación - Segunda Parte\n",
    "\n",
    "***\n",
    "\n",
    "**Curso Schwarz - Sosa - Suriano**\n",
    "- Métodos Numéricos. *Curso 2*\n",
    "- Análisis Numérico I. *Curso 4*\n",
    "- Métodos Matemáticos y Numéricos. *Curso 6*"
   ]
  },
  {
   "cell_type": "markdown",
   "metadata": {
    "hideCode": true,
    "hidePrompt": true,
    "slideshow": {
     "slide_type": "slide"
    }
   },
   "source": [
    "### Interpolación de Newton\n",
    "___\n",
    "\n",
    "Esta forma de armar el polinomio se denomina Método de las Diferencias Divididas de\n",
    "Newton, y podemos sistematizarla para que sea muy sencillo de aplicar. Analicemos un ejemplo para obtener un polinomio interpolante a partir de los puntos $x_0$, $x_1$, $x_2$, y $x_3$. En la siguiente tabla se puede ver como generar las diferencias divididas:\n",
    "\n",
    "|   $x$  | $f(x)$  | $f(x_i, x_{i+1})$   | $f(x_i, x_{i+1}, x_{i+2})$ | $f(x_i, x_{i+1}, x_{i+2}, x_{i+3})$ |\n",
    "|:----:|--------|--------------------|---------------------------|------------------------------------|\n",
    "| $x_0$  | $f(x_0)=y_0$ | $f(x_0, x_1)=\\frac{y_1-y_0}{x_1-x_0}$       | $f(x_0, x_1, x_2)=\\frac{f(x_1 ,x_2)-f(x_0, x_1)}{x_2-x_0}$          | $f(x_0, x_1, x_2, x_3)=\\frac{f(x_1, x_2, x_3)-f(x_0, x_1, x_2)}{x_3-x_0}$              |\n",
    "| $x_1$  | $f(x_1)=y_1$ | $f(x_1 ,x_2)=\\frac{y_2-y_1}{x_2-x_1}$       | $f(x_1, x_2, x_3)=\\frac{f(x_2, x_3)-f(x_1 ,x_2)}{x_3-x_1}$          |                                    |\n",
    "| $x_2$  | $f(x_2)=y_2$ | $f(x_2, x_3)=\\frac{y_3-y_2}{x_3-x_2}$        |                           |                                    |\n",
    "| $x_3$  | $f(x_3)=y_3$ |                    |                           |                                    |\n",
    "\n",
    "\n"
   ]
  },
  {
   "cell_type": "markdown",
   "metadata": {
    "slideshow": {
     "slide_type": "slide"
    }
   },
   "source": [
    "Vamos a hacer un pequeño cambio de nomenclatura para que resulte más sencillo de escribir:\n",
    "\n",
    "|   $x$  | $y$  | $F_{i,i+1}$   | $F_{i,i+1,i+2}$ | $F_{i,i+1,i+2,i+3}$ |\n",
    "|:----:|--------|--------------------|---------------------------|------------------------------------|\n",
    "| $x_0$  | $y_0$ | $F_{0,1}=\\frac{y_1-y_0}{x_1-x_0}$        |$F_{0,1,2}=\\frac{F_{1,2}-F_{0,1}}{x_2-x_0}$          | $F_{0,1,2,3}=\\frac{F_{1,2,3}-F_{0,1,2}}{x_3-x_0}$              |\n",
    "| $x_1$  | $y_1$ | $F_{1,2}=\\frac{y_2-y_1}{x_2-x_1}$        |$F_{1,2,3}=\\frac{F_{2,3}-F_{1,2}}{x_3-x_1}$          |                                    |\n",
    "| $x_2$  | $y_2$ | $F_{2,3}=\\frac{y_3-y_2}{x_3-x_2}$        |                           |                                    |\n",
    "| $x_3$  | $y_3$ |\n",
    "\n",
    "\n",
    "Observemos que podemos armar dos polinomios con todos los puntos aplicando la Interpolación o Método de Newton. \n",
    "Si lo planteamos partiendo de $x_0$ obtenemos el polinomio de forma **Progresiva**:\n",
    "\n",
    "$$P(x)=y_0 + F_{0,1}(x - x_0) + F_{0,1,2}(x - x_0)(x - x_1)+ F_{0,1,2,3}(x - x_0)(x - x_1)(x - x_2)$$\n",
    "\n",
    "\n",
    "Si partimos de $x_3$ obtenemos el polinomio de manera **Regresiva** : \n",
    "\n",
    "$$ P(x) = y_3 + F_{2,3}(x - x_3) + F_{1,2,3}(x - x_3)(x - x_2)+ F_{0,1,2,3}(x - x_3)(x - x_2)(x - x_1)$$"
   ]
  },
  {
   "cell_type": "code",
   "execution_count": 9,
   "metadata": {
    "slideshow": {
     "slide_type": "slide"
    }
   },
   "outputs": [],
   "source": [
    "import numpy as np #librería para operaciones algebraicas y numéricas\n",
    "import pandas as pd #librería para manejo de datos\n",
    "import matplotlib.pyplot as plt #librería para graficar\n",
    "\n",
    "def NewtonProgresivo(df,x):\n",
    "        n = len(df)\n",
    "        A = np.zeros([n,n+1])\n",
    "        for f in range(0,n):\n",
    "            A[f,0] = df['x'][f]\n",
    "            A[f,1] = df['y'][f]   \n",
    "            contador=1\n",
    "            for j in range(2,n+1):\n",
    "                for i in range(0,n-contador):\n",
    "                    A[i,j] = (A[i+1,j-1]-A[i,j-1])/(A[i+contador,0]-A[i,0])\n",
    "                contador+=1\n",
    "        suma=0\n",
    "        prod =1\n",
    "        for k in range (0,n):\n",
    "            suma+=A[0,k+1]*prod\n",
    "            prod*=x-A[k,0]\n",
    "            \n",
    "        return print('Por el método de Newton Progresivo obtenemos P(x=',x,')=',round(suma,5)), A, suma  \n"
   ]
  },
  {
   "cell_type": "markdown",
   "metadata": {
    "hideCode": false,
    "hidePrompt": false,
    "slideshow": {
     "slide_type": "slide"
    }
   },
   "source": [
    "### Resolvamos un ejemplo numérico\n",
    "___\n",
    "\n",
    "Supongamos que tenemos la siguiente tabla y queremos calcular $P(4.5)=?$\n",
    "\n",
    "|$i$| $x$ | $y$\n",
    "| ---| --- | ---\n",
    "|$0$ |2 | 7\n",
    "|$1$| 4 | 6\n",
    "|$2$| 5  | 9\n",
    "|$3$|7| 12"
   ]
  },
  {
   "cell_type": "code",
   "execution_count": 123,
   "metadata": {
    "slideshow": {
     "slide_type": "slide"
    }
   },
   "outputs": [
    {
     "name": "stdout",
     "output_type": "stream",
     "text": [
      "Por el método de Newton Progresivo obtenemos P(x= 4.5 )= 7.41667\n"
     ]
    },
    {
     "name": "stderr",
     "output_type": "stream",
     "text": [
      "C:\\Users\\micae\\anaconda3\\lib\\site-packages\\ipykernel_launcher.py:14: RuntimeWarning: invalid value encountered in double_scalars\n",
      "  \n"
     ]
    },
    {
     "data": {
      "text/html": [
       "<div>\n",
       "<style scoped>\n",
       "    .dataframe tbody tr th:only-of-type {\n",
       "        vertical-align: middle;\n",
       "    }\n",
       "\n",
       "    .dataframe tbody tr th {\n",
       "        vertical-align: top;\n",
       "    }\n",
       "\n",
       "    .dataframe thead th {\n",
       "        text-align: right;\n",
       "    }\n",
       "</style>\n",
       "<table border=\"1\" class=\"dataframe\">\n",
       "  <thead>\n",
       "    <tr style=\"text-align: right;\">\n",
       "      <th></th>\n",
       "      <th>0</th>\n",
       "      <th>1</th>\n",
       "      <th>2</th>\n",
       "      <th>3</th>\n",
       "      <th>4</th>\n",
       "    </tr>\n",
       "  </thead>\n",
       "  <tbody>\n",
       "    <tr>\n",
       "      <th>0</th>\n",
       "      <td>2.0</td>\n",
       "      <td>7.0</td>\n",
       "      <td>-0.5</td>\n",
       "      <td>1.166667</td>\n",
       "      <td>-0.333333</td>\n",
       "    </tr>\n",
       "    <tr>\n",
       "      <th>1</th>\n",
       "      <td>4.0</td>\n",
       "      <td>6.0</td>\n",
       "      <td>3.0</td>\n",
       "      <td>-0.500000</td>\n",
       "      <td>0.000000</td>\n",
       "    </tr>\n",
       "    <tr>\n",
       "      <th>2</th>\n",
       "      <td>5.0</td>\n",
       "      <td>9.0</td>\n",
       "      <td>1.5</td>\n",
       "      <td>0.000000</td>\n",
       "      <td>0.000000</td>\n",
       "    </tr>\n",
       "    <tr>\n",
       "      <th>3</th>\n",
       "      <td>7.0</td>\n",
       "      <td>12.0</td>\n",
       "      <td>0.0</td>\n",
       "      <td>0.000000</td>\n",
       "      <td>0.000000</td>\n",
       "    </tr>\n",
       "  </tbody>\n",
       "</table>\n",
       "</div>"
      ],
      "text/plain": [
       "     0     1    2         3         4\n",
       "0  2.0   7.0 -0.5  1.166667 -0.333333\n",
       "1  4.0   6.0  3.0 -0.500000  0.000000\n",
       "2  5.0   9.0  1.5  0.000000  0.000000\n",
       "3  7.0  12.0  0.0  0.000000  0.000000"
      ]
     },
     "execution_count": 123,
     "metadata": {},
     "output_type": "execute_result"
    }
   ],
   "source": [
    "#Cargo los datos\n",
    "\n",
    "data = [[2, 7], [4, 6], [5, 9], [7, 12]]\n",
    "df = pd.DataFrame(data, columns = ['x', 'y'])\n",
    "\n",
    "xp=4.5\n",
    "\n",
    "#Resuelvo y muestro los coeficientes en una tabla\n",
    "\n",
    "ejemplo=NewtonProgresivo(df,xp)\n",
    "DiferenciasDividasProg=pd.DataFrame(ejemplo[1])\n",
    "DiferenciasDividasProg"
   ]
  },
  {
   "cell_type": "code",
   "execution_count": 205,
   "metadata": {
    "hideCode": true,
    "hidePrompt": true,
    "slideshow": {
     "slide_type": "slide"
    }
   },
   "outputs": [
    {
     "name": "stdout",
     "output_type": "stream",
     "text": [
      "Analicemos el ejemplo con 4 datos: \n",
      "\n",
      "Calculamos las diferencias divididas L: \n",
      "\n"
     ]
    },
    {
     "data": {
      "text/latex": [
       "$\\displaystyle F01=\\frac{y_1- y_0}{x_1-x_0}=\\frac{6- 7}{4-2}=-0.5$"
      ],
      "text/plain": [
       "<IPython.core.display.Math object>"
      ]
     },
     "metadata": {},
     "output_type": "display_data"
    },
    {
     "data": {
      "text/latex": [
       "$\\displaystyle F12=\\frac{y_2- y_1}{x_2-x_1}=\\frac{9- 6}{5-4}=3.0$"
      ],
      "text/plain": [
       "<IPython.core.display.Math object>"
      ]
     },
     "metadata": {},
     "output_type": "display_data"
    },
    {
     "data": {
      "text/latex": [
       "$\\displaystyle F23=\\frac{y_3- y_2}{x_3-x_2}=\\frac{12- 9}{7-5}=1.5$"
      ],
      "text/plain": [
       "<IPython.core.display.Math object>"
      ]
     },
     "metadata": {},
     "output_type": "display_data"
    },
    {
     "data": {
      "text/latex": [
       "$\\displaystyle F012=\\frac{F12- F01}{x_2-x_0}==\\frac{3.0- -0.5}{5-2}=1.1667$"
      ],
      "text/plain": [
       "<IPython.core.display.Math object>"
      ]
     },
     "metadata": {},
     "output_type": "display_data"
    },
    {
     "data": {
      "text/latex": [
       "$\\displaystyle F123=\\frac{F23- F12}{x_3-x_1}==\\frac{1.5- 3.0}{7-4}=-0.5$"
      ],
      "text/plain": [
       "<IPython.core.display.Math object>"
      ]
     },
     "metadata": {},
     "output_type": "display_data"
    },
    {
     "data": {
      "text/latex": [
       "$\\displaystyle F0123=\\frac{F123- F012}{x_3-x_0}==\\frac{-0.5- 1.1667}{7-2}=-0.3333$"
      ],
      "text/plain": [
       "<IPython.core.display.Math object>"
      ]
     },
     "metadata": {},
     "output_type": "display_data"
    },
    {
     "name": "stdout",
     "output_type": "stream",
     "text": [
      "Luego armamos el polinomio de Newton Progresivo : \n",
      "\n"
     ]
    },
    {
     "data": {
      "text/latex": [
       "$\\displaystyle P_3(x)=y_0 + F01(x - x_0) + F012(x - x_0)(x - x_1)+ F0123(x - x_0)(x - x_1)(x - x_2)$"
      ],
      "text/plain": [
       "<IPython.core.display.Math object>"
      ]
     },
     "metadata": {},
     "output_type": "display_data"
    },
    {
     "name": "stdout",
     "output_type": "stream",
     "text": [
      "Reemplazando por los valores : \n",
      "\n"
     ]
    },
    {
     "data": {
      "text/latex": [
       "$\\displaystyle P_3(x=4.5)=7.0 + -0.5(4.5 - 2.0) + 1.1667(4.5 - 2.0)(4.5 - 4.0)+ -0.3333(4.5 - 2.0)(4.5 -4.0)(4.5 - 5.0)=7.4167$"
      ],
      "text/plain": [
       "<IPython.core.display.Math object>"
      ]
     },
     "metadata": {},
     "output_type": "display_data"
    }
   ],
   "source": [
    "## from IPython.display import display, Math\n",
    "\n",
    "N=len(df)\n",
    "x = df['x']\n",
    "y = df['y']\n",
    "PNP=np.round(ejemplo[2],4)\n",
    "F=np.round(DiferenciasDividasProg,4)\n",
    "\n",
    "print (\"Analicemos el ejemplo con 4 datos: \\n\") \n",
    "print (\"Calculamos las diferencias divididas L: \\n\") \n",
    "\n",
    "n=N-1\n",
    "for j in range(0,n):\n",
    "      dif = str(j) + str(j+1) \n",
    "      diff=\"F\"+dif\n",
    "      difx = \"=\\\\frac{y_\"+ str(j+1) + \"- y_\"+str(j)+\"}{x_\"+ str(j+1) + \"-x_\"+str(j)+\"}\"\n",
    "      difxnum = \"=\\\\frac{\"+ str(y[j+1]) + \"- \"+str(y[j])+\"}{\"+ str(x[j+1]) + \"-\"+str(x[j])+\"}=\"\n",
    "      display(Math((diff+difx+difxnum+str(F[2][j]))))\n",
    "        \n",
    "for j in range(0,n-1):\n",
    "      dif = str(j) + str(j+1)+ str(j+2) \n",
    "      diff=\"F\"+dif\n",
    "      difx = \"=\\\\frac{F\" + str(j+1)+ str(j+2) +\"- F\" + str(j)+ str(j+1)+\"}{x_\"+ str(j+2) + \"-x_\"+str(j)+\"}=\"\n",
    "      difxnum = \"=\\\\frac{\"+ str(F[2][j+1]) + \"- \"+str(F[2][j])+\"}{\"+ str(x[j+2]) + \"-\"+str(x[j])+\"}=\"\n",
    "      display(Math((diff+difx+difxnum+str(F[3][j]))))\n",
    "\n",
    "for j in range(0,n-2):\n",
    "      dif = str(j) + str(j+1)+ str(j+2) + str(j+3)\n",
    "      diff=\"F\"+dif\n",
    "      difx = \"=\\\\frac{F\" + str(j+1)+ str(j+2)+str(j+3) +\"- F\" + str(j)+ str(j+1)+ str(j+2)+\"}{x_\"+ str(j+3) + \"-x_\"+str(j)+\"}=\"\n",
    "      difxnum = \"=\\\\frac{\"+ str(F[3][j+1]) + \"- \"+str(F[3][j])+\"}{\"+ str(x[j+3]) + \"-\"+str(x[j])+\"}=\"\n",
    "      display(Math((diff+difx+difxnum+str(F[4][j]))))\n",
    "        \n",
    "print (\"Luego armamos el polinomio de Newton Progresivo : \\n\") \n",
    "pol=\"P_\"+str(n)+\"(x)=y_0 + F01(x - x_0) + F012(x - x_0)(x - x_1)+ F0123(x - x_0)(x - x_1)(x - x_2)\"\n",
    "display(Math((pol)))\n",
    "\n",
    "print (\"Reemplazando por los valores : \\n\") \n",
    "polnu=\"P_\"+str(n)+\"(x=\"+str(xp)+\")=\"+str(F[1][0])+\" + \"+str(F[2][0])+\"(\"+str(xp)+\" - \"+str(F[0][0])+\") + \"+str(F[3][0])+\"(\"+str(xp)+\" - \"+str(F[0][0])+\")(\"+str(xp)+\" - \"+str(F[0][1])+\")+ \"+str(F[4][0])+\"(\"+str(xp)+\" - \"+str(F[0][0])+\")(\"+str(xp)+\" -\"+str(F[0][1])+\")(\"+str(xp)+\" - \"+str(F[0][2])+\")=\"\n",
    "display(Math((polnu+str(PNP))))"
   ]
  },
  {
   "cell_type": "code",
   "execution_count": 7,
   "metadata": {
    "hideCode": true,
    "hidePrompt": true
   },
   "outputs": [],
   "source": [
    "def NewtonProgresivoPlot(df,x):\n",
    "        n = len(df)\n",
    "        A = np.zeros([n,n+1])\n",
    "        for f in range(0,n):\n",
    "            A[f,0] = df['x'][f]\n",
    "            A[f,1] = df['y'][f]   \n",
    "            contador=1\n",
    "            for j in range(2,n+1):\n",
    "                for i in range(0,n-contador):\n",
    "                    A[i,j] = (A[i+1,j-1]-A[i,j-1])/(A[i+contador,0]-A[i,0])\n",
    "                contador+=1\n",
    "        suma=0\n",
    "        prod =1\n",
    "        for k in range (0,n):\n",
    "            suma+=A[0,k+1]*prod\n",
    "            prod*=x-A[k,0]\n",
    "            \n",
    "        return suma  "
   ]
  },
  {
   "cell_type": "code",
   "execution_count": 207,
   "metadata": {
    "hideCode": true,
    "hidePrompt": true,
    "scrolled": true,
    "slideshow": {
     "slide_type": "slide"
    }
   },
   "outputs": [
    {
     "name": "stderr",
     "output_type": "stream",
     "text": [
      "C:\\Users\\micae\\anaconda3\\lib\\site-packages\\ipykernel_launcher.py:10: RuntimeWarning: invalid value encountered in double_scalars\n",
      "  # Remove the CWD from sys.path while we load stuff.\n"
     ]
    },
    {
     "data": {
      "image/png": "[encoded data removed]",
      "text/plain": [
       "<Figure size 432x288 with 1 Axes>"
      ]
     },
     "metadata": {
      "needs_background": "light"
     },
     "output_type": "display_data"
    }
   ],
   "source": [
    "import matplotlib.pyplot as plt\n",
    "\n",
    "plt.xlabel('x')\n",
    "plt.ylabel('f(x)')\n",
    "\n",
    "ejex = np.linspace(min(df['x'])*0.9, max(df['x'])*1.1,num=1000)\n",
    "Nx=len(ejex)\n",
    "y_np=np.zeros(Nx)\n",
    "\n",
    "\n",
    "for i in range(0,Nx):\n",
    "    y_np[i] = NewtonProgresivoPlot(df,ejex[i]);\n",
    "    \n",
    "plt.plot(ejex, y_np, linewidth=2, color = 'green')\n",
    "plt.scatter(df['x'], df['y'], color = 'blue')\n",
    "plt.legend(['Newton Progresivo','Datos','limite','dato'],fontsize=10)\n",
    "plt.axvline(min(df['x']), linewidth=2, color='blue',linestyle='dashed')\n",
    "plt.axvline(max(df['x']), linewidth=2, color='blue',linestyle='dashed')\n",
    "plt.title('Polinomio Interpolante');"
   ]
  },
  {
   "cell_type": "markdown",
   "metadata": {
    "slideshow": {
     "slide_type": "slide"
    }
   },
   "source": [
    "### ¿Qué pasa si quiero agregar un punto?\n",
    "\n",
    "Supongamos que tenemos la siguiente tabla y queremos calcular $P(4.5)=?$\n",
    "\n",
    "|$i$| $x$ | $y$\n",
    "| ---| --- | ---\n",
    "|$0$ |2 | 7\n",
    "|$1$| 4 | 6\n",
    "|$2$| 5  | 9\n",
    "|$3$|7| 12\n",
    "|$4$|8| 10\n",
    "\n",
    "Con $n+1$ puntos tengo un polinomio de grado $n$, por ende con 5 puntos tengo un polinomio de grado 4.\n",
    "¿Puedo utilizar los cálculos que ya hice?"
   ]
  },
  {
   "cell_type": "markdown",
   "metadata": {
    "slideshow": {
     "slide_type": "slide"
    }
   },
   "source": [
    "Recordamos el Polinimio Progresivo de grado 3 :\n",
    "$$P_3(x)=y_0 + F_{0,1}(x - x_0) + F_{0,1,2}(x - x_0)(x - x_1)+ F_{0,1,2,3}(x - x_0)(x - x_1)(x - x_2)$$\n",
    "\n",
    "Escribiendo el Polinimio Progresivo de grado 4 :\n",
    "$$P_4(x)=y_0 + F_{0,1}(x - x_0) + F_{0,1,2}(x - x_0)(x - x_1)+ F_{0,1,2,3}(x - x_0)(x - x_1)(x - x_2)+ F_{0,1,2,3,4}(x - x_0)(x - x_1)(x - x_2)(x - x_3)$$ \n",
    "\n",
    "Por lo tanto podemos observar que:\n",
    "$$ P_4(x)=P_3(x)+F_{0,1,2,3,4}(x - x_0)(x - x_1)(x - x_2)(x - x_3)$$ \n"
   ]
  },
  {
   "cell_type": "markdown",
   "metadata": {
    "slideshow": {
     "slide_type": "slide"
    }
   },
   "source": [
    "### Propuesta de ejercicio\n",
    "\n",
    "Resolver agregando ese nuevo punto.\n",
    "- ¿Cuántos cálculos nuevos debo hacer?\n",
    "- ¿Qué pasa si el punto que agrego está al principio?\n",
    "- ¿Qué pasa si el punto que agrego está en el medio de la grilla?"
   ]
  },
  {
   "cell_type": "markdown",
   "metadata": {
    "hideCode": false,
    "hidePrompt": false,
    "slideshow": {
     "slide_type": "slide"
    }
   },
   "source": [
    "![Curso Schwarz-Sosa-Suriano](http://www.fi.uba.ar/sites/default/files/logo.png)\n",
    "\n",
    "# Gracias por su atención\n",
    "***\n",
    "\n",
    "**Curso Schwarz - Sosa - Suriano**\n",
    "- Métodos Numéricos. *Curso 2*\n",
    "- Análisis Numérico I. *Curso 4*\n",
    "- Métodos Matemáticos y Numéricos. *Curso 6*"
   ]
  }
 ],
 "metadata": {
  "celltoolbar": "Slideshow",
  "hide_code_all_hidden": true,
  "kernelspec": {
   "display_name": "Python 3",
   "language": "python",
   "name": "python3"
  },
  "language_info": {
   "codemirror_mode": {
    "name": "ipython",
    "version": 3
   },
   "file_extension": ".py",
   "mimetype": "text/x-python",
   "name": "python",
   "nbconvert_exporter": "python",
   "pygments_lexer": "ipython3",
   "version": "3.7.6"
  }
 },
 "nbformat": 4,
 "nbformat_minor": 2
}
