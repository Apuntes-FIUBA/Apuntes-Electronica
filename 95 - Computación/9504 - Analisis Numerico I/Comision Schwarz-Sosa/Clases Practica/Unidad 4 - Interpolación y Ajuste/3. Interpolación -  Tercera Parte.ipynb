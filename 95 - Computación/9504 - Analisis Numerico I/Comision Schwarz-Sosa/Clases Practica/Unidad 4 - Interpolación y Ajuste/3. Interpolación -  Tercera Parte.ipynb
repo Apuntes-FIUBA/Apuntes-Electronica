{
 "cells": [
  {
   "cell_type": "markdown",
   "metadata": {
    "hideCode": false,
    "hidePrompt": false,
    "slideshow": {
     "slide_type": "slide"
    }
   },
   "source": [
    "![Curso Schwarz-Sosa-Suriano](http://www.fi.uba.ar/sites/default/files/logo.png)\n",
    "\n",
    "# Interpolación - Tercera Parte\n",
    "\n",
    "***\n",
    "\n",
    "**Curso Schwarz - Sosa - Suriano**\n",
    "- Métodos Numéricos. *Curso 2*\n",
    "- Análisis Numérico I. *Curso 4*\n",
    "- Métodos Matemáticos y Numéricos. *Curso 6*"
   ]
  },
  {
   "cell_type": "code",
   "execution_count": 1,
   "metadata": {
    "hideCode": true,
    "hideOutput": true,
    "hidePrompt": true,
    "slideshow": {
     "slide_type": "skip"
    }
   },
   "outputs": [
    {
     "data": {
      "text/html": [
       "<div>\n",
       "<style scoped>\n",
       "    .dataframe tbody tr th:only-of-type {\n",
       "        vertical-align: middle;\n",
       "    }\n",
       "\n",
       "    .dataframe tbody tr th {\n",
       "        vertical-align: top;\n",
       "    }\n",
       "\n",
       "    .dataframe thead th {\n",
       "        text-align: right;\n",
       "    }\n",
       "</style>\n",
       "<table border=\"1\" class=\"dataframe\">\n",
       "  <thead>\n",
       "    <tr style=\"text-align: right;\">\n",
       "      <th></th>\n",
       "      <th>x</th>\n",
       "      <th>y</th>\n",
       "    </tr>\n",
       "  </thead>\n",
       "  <tbody>\n",
       "    <tr>\n",
       "      <th>0</th>\n",
       "      <td>0</td>\n",
       "      <td>0.500</td>\n",
       "    </tr>\n",
       "    <tr>\n",
       "      <th>1</th>\n",
       "      <td>1</td>\n",
       "      <td>0.933</td>\n",
       "    </tr>\n",
       "    <tr>\n",
       "      <th>2</th>\n",
       "      <td>2</td>\n",
       "      <td>0.067</td>\n",
       "    </tr>\n",
       "    <tr>\n",
       "      <th>3</th>\n",
       "      <td>3</td>\n",
       "      <td>0.500</td>\n",
       "    </tr>\n",
       "    <tr>\n",
       "      <th>4</th>\n",
       "      <td>4</td>\n",
       "      <td>0.933</td>\n",
       "    </tr>\n",
       "    <tr>\n",
       "      <th>5</th>\n",
       "      <td>5</td>\n",
       "      <td>0.067</td>\n",
       "    </tr>\n",
       "    <tr>\n",
       "      <th>6</th>\n",
       "      <td>6</td>\n",
       "      <td>0.500</td>\n",
       "    </tr>\n",
       "    <tr>\n",
       "      <th>7</th>\n",
       "      <td>7</td>\n",
       "      <td>0.933</td>\n",
       "    </tr>\n",
       "    <tr>\n",
       "      <th>8</th>\n",
       "      <td>8</td>\n",
       "      <td>0.067</td>\n",
       "    </tr>\n",
       "    <tr>\n",
       "      <th>9</th>\n",
       "      <td>9</td>\n",
       "      <td>0.500</td>\n",
       "    </tr>\n",
       "    <tr>\n",
       "      <th>10</th>\n",
       "      <td>10</td>\n",
       "      <td>0.933</td>\n",
       "    </tr>\n",
       "  </tbody>\n",
       "</table>\n",
       "</div>"
      ],
      "text/plain": [
       "     x      y\n",
       "0    0  0.500\n",
       "1    1  0.933\n",
       "2    2  0.067\n",
       "3    3  0.500\n",
       "4    4  0.933\n",
       "5    5  0.067\n",
       "6    6  0.500\n",
       "7    7  0.933\n",
       "8    8  0.067\n",
       "9    9  0.500\n",
       "10  10  0.933"
      ]
     },
     "execution_count": 1,
     "metadata": {},
     "output_type": "execute_result"
    }
   ],
   "source": [
    "import numpy as np #librería para operaciones algebraicas y numéricas\n",
    "import pandas as pd #librería para manejo de datos\n",
    "import matplotlib.pyplot as plt #librería para graficar\n",
    "\n",
    "#Cargo los datos\n",
    "\n",
    "datan=pd.read_table('data.csv', sep=',', header=0)\n",
    "dfn = pd.DataFrame(datan)\n",
    "dfn"
   ]
  },
  {
   "cell_type": "code",
   "execution_count": 2,
   "metadata": {
    "hideCode": true,
    "hidePrompt": true,
    "slideshow": {
     "slide_type": "slide"
    }
   },
   "outputs": [
    {
     "name": "stderr",
     "output_type": "stream",
     "text": [
      "C:\\Users\\micae\\anaconda3\\lib\\site-packages\\ipykernel_launcher.py:16: RuntimeWarning: divide by zero encountered in double_scalars\n",
      "  app.launch_new_instance()\n",
      "C:\\Users\\micae\\anaconda3\\lib\\site-packages\\ipykernel_launcher.py:17: RuntimeWarning: invalid value encountered in double_scalars\n"
     ]
    },
    {
     "data": {
      "image/png": "[encoded data removed]",
      "text/plain": [
       "<Figure size 432x288 with 1 Axes>"
      ]
     },
     "metadata": {
      "needs_background": "light"
     },
     "output_type": "display_data"
    }
   ],
   "source": [
    "def LagrangeBaricentricoPlot (df,x):\n",
    "    N=len(df)\n",
    "    W=np.zeros(N)\n",
    "    P=0\n",
    "    L=1\n",
    "    PB=0\n",
    "    for i in range (0,N):\n",
    "        if x==df['y'][i]:         #Para que no divida por cero .\n",
    "            return df['y'][i]\n",
    "        L*=x-df['x'][i]\n",
    "        w=1\n",
    "        for j in range (0,N):\n",
    "            if j != i:\n",
    "                 w*=1/(df['x'][i]-df['x'][j])\n",
    "        W[i]=w\n",
    "        P+=(w*df['y'][i])/(x-df['x'][i])\n",
    "    PB=L*P\n",
    "    return PB\n",
    "\n",
    "import matplotlib.pyplot as plt\n",
    "\n",
    "plt.xlabel('x')\n",
    "plt.ylabel('f(x)')\n",
    "\n",
    "ejex = np.linspace(min(dfn['x'])*0.9, max(dfn['x'])*1,num=1000)\n",
    "Nx=len(ejex)\n",
    "y_pl=np.zeros(Nx)\n",
    "y_plb=np.zeros(Nx)\n",
    "\n",
    "for i in range(0,Nx):\n",
    "    y_plb[i] = LagrangeBaricentricoPlot(dfn,ejex[i]);\n",
    "    \n",
    "plt.plot(ejex, y_plb, linewidth=2, color = 'red')\n",
    "plt.scatter(dfn['x'], dfn['y'], color = 'blue')\n",
    "plt.legend(['Lagrange Baricéntrico','Datos','limite','dato'],fontsize=10)\n",
    "plt.axvline(min(dfn['x']), linewidth=2, color='blue',linestyle='dashed')\n",
    "plt.axvline(max(dfn['x']), linewidth=2, color='blue',linestyle='dashed')\n",
    "plt.title('Ejemplo de Fenómeno de Runge');"
   ]
  },
  {
   "cell_type": "markdown",
   "metadata": {
    "hideCode": false,
    "hidePrompt": false,
    "slideshow": {
     "slide_type": "subslide"
    }
   },
   "source": [
    "### Fenómeno de Runge\n",
    "___\n",
    "\n",
    "Podemos decir que la interpolación polinómica no resulta muy confiable para estimar o aproximar valores en los extremos, con lo cual pierde efectividad. Estas oscilaciones que aparecen en los\n",
    "polinomios de mayor grado cuando los datos están distribuidos uniformemente se conoce como\n",
    "Fenómeno de Runge. Veamos una forma de utilizar polinomios pero que evitarlo.\n",
    "\n",
    "\n"
   ]
  },
  {
   "cell_type": "markdown",
   "metadata": {
    "slideshow": {
     "slide_type": "slide"
    }
   },
   "source": [
    "### Interpolación por Trazadores cúbicos o splines\n",
    "___\n",
    "Supongamos que en lugar de proponer interpolar los datos  mediante un solo polinomio que pase por todos los puntos, lo hagamos mediante segmentos de curvas, en este caso con polinomios de tercer grado, denominados *Trazadores cúbicos*. Denominamos las curvas de la siguiente forma:\n",
    "\n",
    "$$ S_i(x)=a_i+b_i(x-x_i)+c_i(x-x_i)^2+d_i(x-x_i)^3, $$\n",
    "\n",
    "con $i = 0, 1, . . .  , n - 1$. Observemos que tenemos cuatro constantes para cada polinomio pero disponemos solamente dos datos en el tramo considerado. Debemos agregar condiciones para poder armar nuestra curva interpolante. Al no disponemos de más datos, vamos a imponer que las curvas cumplan con estas condiciones:\n",
    "\n",
    "1. $S_i(x_i)=f(x_i)$ para cada $i=0;1;\\ldots;n$;\n",
    "2. $S_{i+1}(x_{i+1})=S_i(x_{i+1})$ para cada $i=0;1;\\ldots;n-2$;\n",
    "3. $S'_{i+1}(x_{i+1})=S'_i(x_{i+1})$ para cada $i=0;1;\\ldots;n-2$;\n",
    "4. $S''_{i+1}(x_{i+1})=S''_i(x_{i+1})$ para cada $i=0;1;\\ldots;n-2$;\n",
    "\n",
    "Alguna de las siguiente condiciones de borde:\n",
    "1.  $S''_0(x_0)=S''_{n-1}(x_n)=S''_n(x_n)=0$ (**frontera libre**);\n",
    "2. $S'_0(x_0)=f'(x_0)=\\alpha$ y $S'_{n-1}(x_n)=S'_n(x_n)=f'(x_n)=\\beta$ (**frontera sujeta**).\n"
   ]
  },
  {
   "cell_type": "markdown",
   "metadata": {
    "slideshow": {
     "slide_type": "slide"
    }
   },
   "source": [
    "### Interpolación por Trazadores cúbicos o splines\n",
    "___\n",
    "Analizando el caso de **Frontera Libre**, hay que resolver un sistema de ecuaciones de la forma $Ax=B$ con $A$ :\n",
    "\n",
    "\\begin{bmatrix}\n",
    "1&0&0&\\ldots&\\ldots&0 \\\\\n",
    "h_0&2(h_0+h_1)&h_1&\\ddots&\\ddots&\\vdots \\\\\n",
    "0&h_1&2(h_1+h_2)&h_2&\\ddots&\\vdots \\\\\n",
    "\\vdots&\\ddots&\\ddots&\\ddots&\\ddots&0 \\\\\n",
    "\\vdots&\\ddots&\\ddots&h_{n-2}&2(h_{n-2}+h_{n-1})&h_{n-1}\\\\\n",
    "0&\\ldots&\\ldots&0&0&1\n",
    "\\end{bmatrix}\n",
    "\n",
    "y el vector $B$ : \n",
    "\\begin{bmatrix}\n",
    "0 \\\\\n",
    "\\frac{3}{h_1}(a_2-a_1)-\\frac{3}{h_0}(a_1-a_0) \\\\\n",
    "\\vdots \\\\\n",
    "\\vdots \\\\\n",
    "\\frac{3}{h_{n-1}}(a_n-a_{n-1})-\\frac{3}{h_{n-2}}(a_{n-1}-a_{n-2})\\\\\n",
    "0\n",
    "\\end{bmatrix}\n",
    "\n",
    "Resolviendo ese sistema de Ecuaciones Lineales obtenemos los coeficientes $c_i$ de los trazadores:\n",
    "\\begin{bmatrix}\n",
    "c_0 \\\\\n",
    "c_1 \\\\\n",
    "\\vdots \\\\\n",
    "\\vdots \\\\\n",
    "c_n\n",
    "\\end{bmatrix}"
   ]
  },
  {
   "cell_type": "markdown",
   "metadata": {
    "slideshow": {
     "slide_type": "slide"
    }
   },
   "source": [
    "De la primera condición, recordemos que como $S_i(x_i)=a_i=f(x_i)$\n",
    "\n",
    "El sistema de ecuaciones lineales tiene solución única, lo que nos asegura que existe un sólo conjunto de valores $c_i$ y, en consecuencia, un solo conjunto de curvas $S_i(x)$.\n",
    "\n",
    "Una vez obtenidos los valores de los $c_i$, podemos hallar los restantes coeficiente, $b_i$ y $d_i$ con las expresiones ya vistas:\n",
    "\n",
    "\\begin{align*}\n",
    "d_i&=\\frac{c_{i+1}-c_i}{3h_i}, \\\\\n",
    "b_i&=\\frac{a_{i+1}-a_i}{h_i}-\\frac{h_i}{3}(2c_i+c_{i+1}),\n",
    "\\end{align*}\n",
    "\n",
    "con lo que obtenemos las $S_i(x)$ curvas o polinomios que interpolan los datos.\n"
   ]
  },
  {
   "cell_type": "markdown",
   "metadata": {
    "hideCode": false,
    "hidePrompt": false,
    "slideshow": {
     "slide_type": "slide"
    }
   },
   "source": [
    "### Resolvamos un ejemplo numérico\n",
    "___\n",
    "\n",
    "Supongamos que tenemos la siguiente tabla y queremos calcular $P(4.5)=?$\n",
    "\n",
    "Utilicemos el método de *Spline de Frontera Libre*.\n",
    "\n",
    "|$i$| $x$ | $y$\n",
    "| ---| --- | ---\n",
    "|$0$ |2 | 7\n",
    "|$1$| 4 | 6\n",
    "|$2$| 5  | 9\n",
    "|$3$|7| 12"
   ]
  },
  {
   "cell_type": "code",
   "execution_count": 3,
   "metadata": {
    "slideshow": {
     "slide_type": "slide"
    }
   },
   "outputs": [],
   "source": [
    "#Metodo de Spline con frontera libre\n",
    "def Splinelibre(df,x):\n",
    "    # Genero la matriz A de Spline\n",
    "    n = len(df)\n",
    "    A = np.zeros((n,n))\n",
    "    Y = df['y']\n",
    "    X = df['x']\n",
    "    A[0][0] = 1\n",
    "    A[n-1][n-1] = 1\n",
    "    h = np.zeros(n-1)\n",
    "    for i in range(0,n-1):\n",
    "        h[i]=X[i+1]-X[i]\n",
    "    for i in range(1,n-1):\n",
    "        A[i][i-1] = h[i-1]\n",
    "        A[i][i] = 2*(h[i-1]+h[i])\n",
    "        A[i][i+1] = h[i]\n",
    "    # Genero el vector B del sistema Ax=B\n",
    "    B = []\n",
    "    for k in range(0,n):\n",
    "        if (k == 0 or k == n-1):\n",
    "                B.append(0)\n",
    "        else:\n",
    "                auxB = (3/h[k])*(Y[k+1] - Y[k]) - (3/h[k-1])*(Y[k] - Y[k-1]) \n",
    "                B.append(auxB)\n",
    "        \n",
    "   #Obtengo los coeficientes para armar los trazadores\n",
    "    # Coeficientes ci\n",
    "    c = np.linalg.solve(A, B) \n",
    "    \n",
    "    # Coeficientes ai = yi\n",
    "    a=Y \n",
    "    \n",
    "    # Coeficientes bi y di.\n",
    "    b,d = [],[]\n",
    "    for i in range(0,n-1):\n",
    "        aux_b = (a[i+1]-a[i])/h[i] - h[i]*(2*c[i]+c[i+1])/3 \n",
    "        b.append(aux_b)\n",
    "        aux_d = (c[i+1] - c[i])/(3*h[i])\n",
    "        d.append(aux_d)\n",
    "   \n",
    "    # Evalúo x en el segmento que corresponde\n",
    "    si =[]\n",
    "    for k in range(0,n-1):\n",
    "        if (X[k] == x):\n",
    "            si = Y[k]\n",
    "        elif (x >= X[k] and x < X[k+1]):\n",
    "            si = a[k] + b[k]*(x - X[k]) + c[k]*(x - X[k])**2 + d[k]*(x - X[k])**3\n",
    "            \n",
    "    return si,b,c,d,A,h,B\n"
   ]
  },
  {
   "cell_type": "code",
   "execution_count": 11,
   "metadata": {
    "slideshow": {
     "slide_type": "slide"
    }
   },
   "outputs": [
    {
     "name": "stdout",
     "output_type": "stream",
     "text": [
      "Por el método de Spline obtenemos P(x= 4.5 )= 7.39286\n"
     ]
    }
   ],
   "source": [
    "#Cargo los datos\n",
    "\n",
    "data = [[2, 7], [4, 6], [5, 9], [7, 12]]\n",
    "df = pd.DataFrame(data, columns = ['x', 'y'])\n",
    "\n",
    "xp=4.5\n",
    "\n",
    "ejemploSP=Splinelibre(df,xp)\n",
    "print('Por el método de Spline obtenemos P(x=',xp,')=',round(ejemploSP[0],5))"
   ]
  },
  {
   "cell_type": "code",
   "execution_count": 14,
   "metadata": {
    "hideCode": true,
    "hidePrompt": true,
    "scrolled": true,
    "slideshow": {
     "slide_type": "slide"
    }
   },
   "outputs": [
    {
     "name": "stdout",
     "output_type": "stream",
     "text": [
      "Primero debo armar la matriz de Spline: \n",
      "\n",
      "Para eso debo calcular los distintos valores de h: \n",
      "\n"
     ]
    },
    {
     "data": {
      "text/latex": [
       "$\\displaystyle h_0= x_1- x_0=4-2= 2.0$"
      ],
      "text/plain": [
       "<IPython.core.display.Math object>"
      ]
     },
     "metadata": {},
     "output_type": "display_data"
    },
    {
     "data": {
      "text/latex": [
       "$\\displaystyle h_1= x_2- x_1=5-4= 1.0$"
      ],
      "text/plain": [
       "<IPython.core.display.Math object>"
      ]
     },
     "metadata": {},
     "output_type": "display_data"
    },
    {
     "data": {
      "text/latex": [
       "$\\displaystyle h_2= x_3- x_2=7-5= 2.0$"
      ],
      "text/plain": [
       "<IPython.core.display.Math object>"
      ]
     },
     "metadata": {},
     "output_type": "display_data"
    },
    {
     "name": "stdout",
     "output_type": "stream",
     "text": [
      "Luego la Matriz A queda: \n",
      "\n",
      "     0    1    2    3\n",
      "0  1.0  0.0  0.0  0.0\n",
      "1  2.0  6.0  1.0  0.0\n",
      "2  0.0  1.0  6.0  2.0\n",
      "3  0.0  0.0  0.0  1.0\n",
      "\n",
      " Armamos el vector B para resolver el sistema Ax=B: \n"
     ]
    },
    {
     "data": {
      "text/latex": [
       "$\\displaystyle B_0=0.0$"
      ],
      "text/plain": [
       "<IPython.core.display.Math object>"
      ]
     },
     "metadata": {},
     "output_type": "display_data"
    },
    {
     "data": {
      "text/latex": [
       "$\\displaystyle B_1= \\frac{3}{h_1}(a_2-a_1)- \\frac{3}{h_0}(a_1-a_0)\\frac{3}{h_1}(y_2-y_1)- \\frac{3}{h_0}(y_1-y_0)= \\frac{3}{1.0}(9-6)- \\frac{3}{2.0}(6-7)=10.5$"
      ],
      "text/plain": [
       "<IPython.core.display.Math object>"
      ]
     },
     "metadata": {},
     "output_type": "display_data"
    },
    {
     "data": {
      "text/latex": [
       "$\\displaystyle B_2= \\frac{3}{h_2}(a_3-a_2)- \\frac{3}{h_1}(a_2-a_1)\\frac{3}{h_2}(y_3-y_2)- \\frac{3}{h_1}(y_2-y_1)= \\frac{3}{2.0}(12-9)- \\frac{3}{1.0}(9-6)=-4.5$"
      ],
      "text/plain": [
       "<IPython.core.display.Math object>"
      ]
     },
     "metadata": {},
     "output_type": "display_data"
    },
    {
     "data": {
      "text/latex": [
       "$\\displaystyle B_3=0.0$"
      ],
      "text/plain": [
       "<IPython.core.display.Math object>"
      ]
     },
     "metadata": {},
     "output_type": "display_data"
    },
    {
     "name": "stdout",
     "output_type": "stream",
     "text": [
      "\n",
      " De la resolución del sistema Ax=B, obtenemos en el vector x los coeficientes c: \n"
     ]
    },
    {
     "data": {
      "text/latex": [
       "$\\displaystyle C_0=-0.0$"
      ],
      "text/plain": [
       "<IPython.core.display.Math object>"
      ]
     },
     "metadata": {},
     "output_type": "display_data"
    },
    {
     "data": {
      "text/latex": [
       "$\\displaystyle C_1=1.9286$"
      ],
      "text/plain": [
       "<IPython.core.display.Math object>"
      ]
     },
     "metadata": {},
     "output_type": "display_data"
    },
    {
     "data": {
      "text/latex": [
       "$\\displaystyle C_2=-1.0714$"
      ],
      "text/plain": [
       "<IPython.core.display.Math object>"
      ]
     },
     "metadata": {},
     "output_type": "display_data"
    },
    {
     "data": {
      "text/latex": [
       "$\\displaystyle C_3=0.0$"
      ],
      "text/plain": [
       "<IPython.core.display.Math object>"
      ]
     },
     "metadata": {},
     "output_type": "display_data"
    }
   ],
   "source": [
    "from IPython.display import display, Math\n",
    "\n",
    "N=len(df)\n",
    "x = df['x']\n",
    "y = df['y']\n",
    "PSP=np.round(ejemploSP[0],4)\n",
    "b=np.round(ejemploSP[1],4)\n",
    "c=np.round(ejemploSP[2],4)\n",
    "d=np.round(ejemploSP[3],4)\n",
    "A=np.round(ejemploSP[4],4)\n",
    "h=np.round(ejemploSP[5],4)\n",
    "B=np.round(ejemploSP[6],4)\n",
    "print (\"Primero debo armar la matriz de Spline: \\n\") \n",
    "print (\"Para eso debo calcular los distintos valores de h: \\n\") \n",
    "\n",
    "n=N-1\n",
    "for p in range(0,n):\n",
    "      hi=\"h_\"+str(p)+\"= x_\"+str(p+1)+\"- x_\"+str(p)+\"=\" +str(x[p+1])+\"-\"+str(x[p])+\"= \"+str(h[p])\n",
    "      display(Math((hi)))\n",
    "    \n",
    "print (\"Luego la Matriz A queda: \\n\")   \n",
    "\n",
    "Adf=pd.DataFrame(A)\n",
    "print (Adf);\n",
    "\n",
    "print (\"\\n Armamos el vector B para resolver el sistema Ax=B: \") \n",
    "\n",
    "B0=\"B_\"+str(0)+\"=\"\n",
    "display(Math(B0+str(B[0])))\n",
    "\n",
    "for p in range(1,n):\n",
    "      Bi=\"B_\"+str(p)+\"= \\\\frac{3}{h_\"+str(p)+\"}(a_\"+str(p+1)+\"-a_\"+str(p)+\")- \\\\frac{3}{h_\"+str(p-1)+\"}(a_\"+str(p)+\"-a_\"+str(p-1)+\")\"\n",
    "      Bih=\"\\\\frac{3}{h_\"+str(p)+\"}(y_\"+str(p+1)+\"-y_\"+str(p)+\")- \\\\frac{3}{h_\"+str(p-1)+\"}(y_\"+str(p)+\"-y_\"+str(p-1)+\")\"\n",
    "      Bnum=\"= \\\\frac{3}{\"+str(h[p])+\"}(\"+str(y[p+1])+\"-\"+str(y[p])+\")- \\\\frac{3}{\"+str(h[p-1])+\"}(\"+str(y[p])+\"-\"+str(y[p-1])+\")=\"\n",
    "      display(Math((Bi+Bih+Bnum)+str(B[p])))\n",
    "\n",
    "Bn=\"B_\"+str(n)+\"=\"\n",
    "display(Math(Bn+str(B[n])))\n",
    "\n",
    "print (\"\\n De la resolución del sistema Ax=B, obtenemos en el vector x los coeficientes c: \") \n",
    "\n",
    "for p in range(0,N):\n",
    "    Ci=\"C_\"+str(p)+\"=\"\n",
    "    display(Math(Ci+str(c[p])))"
   ]
  },
  {
   "cell_type": "code",
   "execution_count": 6,
   "metadata": {
    "hideCode": true,
    "hidePrompt": true,
    "slideshow": {
     "slide_type": "slide"
    }
   },
   "outputs": [
    {
     "name": "stdout",
     "output_type": "stream",
     "text": [
      "\n",
      " Una vez obtenidos los coeficientes c, calculamos los otros coeficientes: \n",
      "\n",
      " Los coeficientes bi se obtienen: \n"
     ]
    },
    {
     "data": {
      "text/latex": [
       "$\\displaystyle b_0= \\frac{a_1-a_0}{h_0}-\\frac{h_0}{3}(2c_0+c_1)= \\frac{y_1-y_0}{h_0}-\\frac{h_0}{3}(2c_0+c_1)= \\frac{6-7}{2.0}-\\frac{2.0}{3}(2-0.0+1.9286)=-1.7857$"
      ],
      "text/plain": [
       "<IPython.core.display.Math object>"
      ]
     },
     "metadata": {},
     "output_type": "display_data"
    },
    {
     "data": {
      "text/latex": [
       "$\\displaystyle b_1= \\frac{a_2-a_1}{h_1}-\\frac{h_1}{3}(2c_1+c_2)= \\frac{y_2-y_1}{h_1}-\\frac{h_1}{3}(2c_1+c_2)= \\frac{9-6}{1.0}-\\frac{1.0}{3}(21.9286+-1.0714)=2.0714$"
      ],
      "text/plain": [
       "<IPython.core.display.Math object>"
      ]
     },
     "metadata": {},
     "output_type": "display_data"
    },
    {
     "data": {
      "text/latex": [
       "$\\displaystyle b_2= \\frac{a_3-a_2}{h_2}-\\frac{h_2}{3}(2c_2+c_3)= \\frac{y_3-y_2}{h_2}-\\frac{h_2}{3}(2c_2+c_3)= \\frac{12-9}{2.0}-\\frac{2.0}{3}(2-1.0714+0.0)=2.9286$"
      ],
      "text/plain": [
       "<IPython.core.display.Math object>"
      ]
     },
     "metadata": {},
     "output_type": "display_data"
    },
    {
     "name": "stdout",
     "output_type": "stream",
     "text": [
      "\n",
      " Los coeficientes di se obtienen: \n"
     ]
    },
    {
     "data": {
      "text/latex": [
       "$\\displaystyle d_0= \\frac{c_1-c_0}{3h_0}=\\frac{1.9286--0.0}{3(2.0)}=0.3214$"
      ],
      "text/plain": [
       "<IPython.core.display.Math object>"
      ]
     },
     "metadata": {},
     "output_type": "display_data"
    },
    {
     "data": {
      "text/latex": [
       "$\\displaystyle d_1= \\frac{c_2-c_1}{3h_1}=\\frac{-1.0714-1.9286}{3(1.0)}=-1.0$"
      ],
      "text/plain": [
       "<IPython.core.display.Math object>"
      ]
     },
     "metadata": {},
     "output_type": "display_data"
    },
    {
     "data": {
      "text/latex": [
       "$\\displaystyle d_2= \\frac{c_3-c_2}{3h_2}=\\frac{0.0--1.0714}{3(2.0)}=0.1786$"
      ],
      "text/plain": [
       "<IPython.core.display.Math object>"
      ]
     },
     "metadata": {},
     "output_type": "display_data"
    }
   ],
   "source": [
    "print (\"\\n Una vez obtenidos los coeficientes c, calculamos los otros coeficientes: \") \n",
    "\n",
    "print (\"\\n Los coeficientes bi se obtienen: \")\n",
    "\n",
    "for p in range(0,n):\n",
    "      bi=\"b_\"+str(p)+\"= \\\\frac{a_\"+str(p+1)+\"-a_\"+str(p)+\"}{h_\"+str(p)+\"}-\\\\frac{h_\"+str(p)+\"}{3}(2c_\"+str(p)+\"+c_\"+str(p+1)+\")=\"\n",
    "      biy=\" \\\\frac{y_\"+str(p+1)+\"-y_\"+str(p)+\"}{h_\"+str(p)+\"}-\\\\frac{h_\"+str(p)+\"}{3}(2c_\"+str(p)+\"+c_\"+str(p+1)+\")=\"\n",
    "      bin=\" \\\\frac{\"+str(y[p+1])+\"-\"+str(y[p])+\"}{\"+str(h[p])+\"}-\\\\frac{\"+str(h[p])+\"}{3}(2\"+str(c[p])+\"+\"+str(c[p+1])+\")=\"\n",
    "      display(Math((bi+biy+bin)+str(b[p])))\n",
    "\n",
    "print (\"\\n Los coeficientes di se obtienen: \")\n",
    "\n",
    "for p in range(0,n):\n",
    "    di=\"d_\"+str(p)+\"= \\\\frac{c_\"+str(p+1)+\"-c_\"+str(p)+\"}{3h_\"+str(p)+\"}=\"\n",
    "    din=\"\\\\frac{\"+str(c[p+1])+\"-\"+str(c[p])+\"}{3(\"+str(h[p])+\")}=\"\n",
    "    display(Math((di+din)+str(d[p])))"
   ]
  },
  {
   "cell_type": "code",
   "execution_count": 7,
   "metadata": {
    "hideCode": true,
    "hidePrompt": true,
    "slideshow": {
     "slide_type": "slide"
    }
   },
   "outputs": [
    {
     "name": "stdout",
     "output_type": "stream",
     "text": [
      "\n",
      " Evalúo x en el segmento correspondiente: \n",
      "\n",
      " Como x=  4.5 evaluo en el segmento entre: \n"
     ]
    },
    {
     "data": {
      "text/latex": [
       "$\\displaystyle x_1=4$"
      ],
      "text/plain": [
       "<IPython.core.display.Math object>"
      ]
     },
     "metadata": {},
     "output_type": "display_data"
    },
    {
     "data": {
      "text/latex": [
       "$\\displaystyle x_2=5$"
      ],
      "text/plain": [
       "<IPython.core.display.Math object>"
      ]
     },
     "metadata": {},
     "output_type": "display_data"
    },
    {
     "data": {
      "text/latex": [
       "$\\displaystyle s_1(x)=a_1+b_1(x-x_1)+c_1(x-x_1)^2+d_1(x-x_1)^3 = $"
      ],
      "text/plain": [
       "<IPython.core.display.Math object>"
      ]
     },
     "metadata": {},
     "output_type": "display_data"
    },
    {
     "data": {
      "text/latex": [
       "$\\displaystyle s_1(x=4.5)=6+2.0714(4.5-4)+1.9286(4.5-4)^2+-1.0(4.5-4)^3 = 7.3929$"
      ],
      "text/plain": [
       "<IPython.core.display.Math object>"
      ]
     },
     "metadata": {},
     "output_type": "display_data"
    }
   ],
   "source": [
    "#Este bloque es solo válido para el ejemplo\n",
    "print (\"\\n Evalúo x en el segmento correspondiente: \")\n",
    "\n",
    "print (\"\\n Como x= \",xp,\"evaluo en el segmento entre: \")\n",
    "\n",
    "x1=\"x_1=\"\n",
    "display(Math(x1+str(x[1])))\n",
    "x2=\"x_2=\"\n",
    "display(Math(x2+str(x[2])))\n",
    "\n",
    "s1=\"s_1(x)=a_1+b_1(x-x_1)+c_1(x-x_1)^2+d_1(x-x_1)^3 = \"\n",
    "display(Math(s1))\n",
    "\n",
    "s1num=\"s_1(x=\"+str(xp)+\")=\"+str(y[1])+\"+\"+str(b[1])+\"(\"+str(xp)+\"-\"+str(x[1])+\")+\"+str(c[1])+\"(\"+str(xp)+\"-\"+str(x[1])+\")^2+\"+str(d[1])+\"(\"+str(xp)+\"-\"+str(x[1])+\")^3 = \"\n",
    "display(Math(s1num+str(PSP)))"
   ]
  },
  {
   "cell_type": "code",
   "execution_count": 8,
   "metadata": {
    "hideCode": true,
    "hidePrompt": true
   },
   "outputs": [],
   "source": [
    "def SplinelibrePlot(df,x):\n",
    "    # Genero la matriz A de Spline\n",
    "    n = len(df)\n",
    "    A = np.zeros((n,n))\n",
    "    Y = df['y']\n",
    "    X = df['x']\n",
    "    A[0][0] = 1\n",
    "    A[n-1][n-1] = 1\n",
    "    h = np.zeros(n-1)\n",
    "    for i in range(0,n-1):\n",
    "        h[i]=X[i+1]-X[i]\n",
    "    for i in range(1,n-1):\n",
    "        A[i][i-1] = h[i-1]\n",
    "        A[i][i] = 2*(h[i-1]+h[i])\n",
    "        A[i][i+1] = h[i]\n",
    "    # Genero el vector B del sistema Ax=B\n",
    "    B = []\n",
    "    for k in range(0,n):\n",
    "        if (k == 0 or k == n-1):\n",
    "                B.append(0)\n",
    "        else:\n",
    "                auxB = (3/h[k])*(Y[k+1] - Y[k]) - (3/h[k-1])*(Y[k] - Y[k-1]) \n",
    "                B.append(auxB)\n",
    "        \n",
    "   #Obtengo los coeficientes para armar los trazadores\n",
    "    # Coeficientes ci\n",
    "    c = np.linalg.solve(A, B) \n",
    "    \n",
    "   # Coeficientes ai = yi\n",
    "    a=Y  \n",
    "    \n",
    "   # Coeficientes bi y di.\n",
    "    b,d = [],[]\n",
    "    for i in range(0,n-1):\n",
    "        aux_b = (a[i+1]-a[i])/h[i] - h[i]*(2*c[i]+c[i+1])/3 \n",
    "        b.append(aux_b)\n",
    "        aux_d = (c[i+1] - c[i])/(3*h[i])\n",
    "        d.append(aux_d)\n",
    "    \n",
    "    \n",
    "    # Evalúo x en el segmento que corresponde\n",
    "    si =[]\n",
    "    for k in range(0,n-1):\n",
    "        if (X[k] == x):\n",
    "            si = Y[k]\n",
    "        elif (x > X[k] and x < X[k+1]):\n",
    "            si = a[k] + b[k]*(x - X[k]) + c[k]*(x - X[k])**2 + d[k]*(x - X[k])**3\n",
    "            \n",
    "    return si"
   ]
  },
  {
   "cell_type": "code",
   "execution_count": 9,
   "metadata": {
    "hideCode": true,
    "hidePrompt": true,
    "scrolled": true,
    "slideshow": {
     "slide_type": "slide"
    }
   },
   "outputs": [
    {
     "data": {
      "image/png": "[encoded data removed]",
      "text/plain": [
       "<Figure size 432x288 with 1 Axes>"
      ]
     },
     "metadata": {
      "needs_background": "light"
     },
     "output_type": "display_data"
    }
   ],
   "source": [
    "import matplotlib.pyplot as plt\n",
    "\n",
    "ejex = np.linspace(min(df['x']), max(df['x']),num=1000)\n",
    "Nx=len(ejex)\n",
    "y_sp=np.zeros(Nx,dtype='object')\n",
    "\n",
    "for i in range(0,Nx):\n",
    "    y_sp[i] = SplinelibrePlot(df,ejex[i])\n",
    "    \n",
    "y_spline=pd.to_numeric(y_sp,errors='coerce')\n",
    "plt.xlabel('x')\n",
    "plt.ylabel('f(x)')\n",
    "plt.plot(ejex, y_spline, linewidth=2, color = 'green')\n",
    "plt.scatter(df['x'], df['y'], color = 'blue')\n",
    "plt.legend(['Spline','Datos','limite','dato'],fontsize=10)\n",
    "plt.axvline(min(df['x']), linewidth=2, color='blue',linestyle='dashed')\n",
    "plt.axvline(max(df['x']), linewidth=2, color='blue',linestyle='dashed')\n",
    "plt.title('Polinomio Interpolante');"
   ]
  },
  {
   "cell_type": "code",
   "execution_count": 10,
   "metadata": {
    "hideCode": true,
    "hidePrompt": true,
    "slideshow": {
     "slide_type": "slide"
    }
   },
   "outputs": [
    {
     "name": "stderr",
     "output_type": "stream",
     "text": [
      "C:\\Users\\micae\\anaconda3\\lib\\site-packages\\ipykernel_launcher.py:16: RuntimeWarning: divide by zero encountered in double_scalars\n",
      "  app.launch_new_instance()\n",
      "C:\\Users\\micae\\anaconda3\\lib\\site-packages\\ipykernel_launcher.py:17: RuntimeWarning: invalid value encountered in double_scalars\n"
     ]
    },
    {
     "data": {
      "image/png": "[encoded data removed]",
      "text/plain": [
       "<Figure size 432x288 with 1 Axes>"
      ]
     },
     "metadata": {
      "needs_background": "light"
     },
     "output_type": "display_data"
    }
   ],
   "source": [
    "plt.xlabel('x')\n",
    "plt.ylabel('f(x)')\n",
    "\n",
    "ejex = np.linspace(min(dfn['x'])*0.9, max(dfn['x'])*1,num=1000)\n",
    "Nx=len(ejex)\n",
    "y_spln=np.zeros(Nx,dtype='object')\n",
    "y_plb=np.zeros(Nx)\n",
    "\n",
    "for i in range(0,Nx):\n",
    "    y_plb[i] = LagrangeBaricentricoPlot(dfn,ejex[i]);\n",
    "for i in range(0,Nx):\n",
    "    y_spln[i] = SplinelibrePlot(dfn,ejex[i]);\n",
    "\n",
    "y_splineN=pd.to_numeric(y_spln,errors='coerce')   \n",
    "\n",
    "plt.plot(ejex, y_plb, linewidth=2, color = 'red',linestyle='dashed')\n",
    "plt.plot(ejex, y_splineN, linewidth=2, color = 'green')\n",
    "plt.scatter(dfn['x'], dfn['y'], color = 'blue')\n",
    "plt.legend(['Lagrange Baricéntrico','Spline','Datos'],fontsize=10)\n",
    "plt.axvline(min(dfn['x']), linewidth=2, color='blue',linestyle='dashed')\n",
    "plt.axvline(max(dfn['x']), linewidth=2, color='blue',linestyle='dashed')\n",
    "plt.title('Ejemplo de Fenómeno de Runge');"
   ]
  },
  {
   "cell_type": "markdown",
   "metadata": {
    "hideCode": false,
    "hidePrompt": false,
    "slideshow": {
     "slide_type": "slide"
    }
   },
   "source": [
    "![Curso Schwarz-Sosa-Suriano](http://www.fi.uba.ar/sites/default/files/logo.png)\n",
    "\n",
    "# Gracias por su atención\n",
    "***\n",
    "\n",
    "**Curso Schwarz - Sosa - Suriano**\n",
    "- Métodos Numéricos. *Curso 2*\n",
    "- Análisis Numérico I. *Curso 4*\n",
    "- Métodos Matemáticos y Numéricos. *Curso 6*"
   ]
  }
 ],
 "metadata": {
  "celltoolbar": "Hide code",
  "hide_code_all_hidden": true,
  "kernelspec": {
   "display_name": "Python 3",
   "language": "python",
   "name": "python3"
  },
  "language_info": {
   "codemirror_mode": {
    "name": "ipython",
    "version": 3
   },
   "file_extension": ".py",
   "mimetype": "text/x-python",
   "name": "python",
   "nbconvert_exporter": "python",
   "pygments_lexer": "ipython3",
   "version": "3.7.6"
  }
 },
 "nbformat": 4,
 "nbformat_minor": 2
}
