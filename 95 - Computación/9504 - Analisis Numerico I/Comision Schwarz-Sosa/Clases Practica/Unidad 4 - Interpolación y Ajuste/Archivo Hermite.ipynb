{
 "cells": [
  {
   "cell_type": "markdown",
   "metadata": {
    "hideCode": false,
    "hidePrompt": false,
    "slideshow": {
     "slide_type": "slide"
    }
   },
   "source": [
    "![Curso Schwarz-Sosa-Suriano](http://www.fi.uba.ar/sites/default/files/logo.png)\n",
    "\n",
    "# Interpolación - Cuarta Parte\n",
    "\n",
    "***\n",
    "\n",
    "**Curso Schwarz - Sosa - Suriano**\n",
    "- Métodos Numéricos. *Curso 2*\n",
    "- Análisis Numérico I. *Curso 4*\n",
    "- Métodos Matemáticos y Numéricos. *Curso 6*"
   ]
  },
  {
   "cell_type": "markdown",
   "metadata": {
    "hideCode": true,
    "hidePrompt": true,
    "slideshow": {
     "slide_type": "slide"
    }
   },
   "source": [
    "### Interpolación de Hermite\n",
    "___\n",
    "\n",
    "Hay casos en los que disponemos de más datos para interpolar o generar una función que represente esos datos. Por ejemplo, supongamos que para una partícula que se desplaza conocemos los siguientes datos: el instante $t_i$, la coordenada de la trayectoria $y_i$ y la velocidad $v_i$, para $i = 0, 1,. . . , n$. En este caso además de los valores de $f(t_i)$ conocemos también los de $f'(t_i)$ pues $v_i = f'(t_i)$.\n",
    "\n",
    "| $t$ | $y$ | $v$\n",
    "| --- | --- | ---\n",
    "|$t_0$  | $y_0$ | $v_0$\n",
    "| $t_1$  | $y_1$ | $v_1$\n",
    "| $t_2$  | $y_2$ | $v_2$\n",
    "|$t_3$| $y_3$ | $v_3$\n",
    "\n",
    "Es evidente que **contamos con más información** para construir nuestro polinomio interpolante.\n",
    "En efecto, de disponer de sólo cuatro valores asociados a nuestros puntos , pasamos a tener ocho valores.\n"
   ]
  },
  {
   "cell_type": "markdown",
   "metadata": {
    "hideCode": true,
    "hidePrompt": true,
    "slideshow": {
     "slide_type": "slide"
    }
   },
   "source": [
    "### Interpolación de Hermite a partir de las diferencias divididas\n",
    "___\n",
    "\n",
    "Se puede armar el polinomio de Hermite a partir del método ya visto de las diferencias divididas de Newton. Analicemos un ejemplo para obtener un polinomio interpolante a partir de los puntos $x_0$, $x_1$, $x_2$, y $x_3$, para los cuales contamos con información de la función y la derivada. En la siguiente tabla se puede ver como generar las diferencias divididas:\n",
    "\n",
    "|   $x$  | $f(x)$  | $f(x_i, x_{i+1})$   | $f(x_i, x_{i+1}, x_{i+2})$ | $f(x_i, x_{i+1}, x_{i+2}, x_{i+3})$ |...|\n",
    "|:----:|--------|--------------------|---------------------------|------------------------------------|----|\n",
    "| $x_0$  | $f(x_0)=y_0$ |  $f(x_0, x_0)=f'(x_0)$       | $f(x_0, x_0, x_1)=\\frac{f(x_1 ,x_0)-f(x_0, x_0)}{x_1-x_0}$ | $f(x_0, x_0, x_1, x_1)=\\frac{f(x_0, x_1, x_1)-f(x_0, x_0, x_1)}{x_1-x_0}$ |...|\n",
    "| $x_0$  | $f(x_0)=y_0$ |  $f(x_0, x_1)=\\frac{y_1-y_0}{x_1-x_0}$      | $f(x_0, x_1, x_1)=\\frac{f(x_1, x_1)-f(x_1 ,x_0)}{x_1-x_0}$          |$f(x_0, x_1, x_1, x_2)=\\frac{f(x_1, x_1, x_2)-f(x_0, x_1, x_1)}{x_2-x_0}$ |...|\n",
    "| $x_1$  | $f(x_1)=y_1$ | $f(x_1, x_1)=f'(x_1)$   |   $f(x_1, x_1, x_2)=\\frac{f(x_2, x_1)-f(x_1 ,x_1)}{x_2-x_1}$ |  $f(x_1, x_1, x_2, x_2)=\\frac{f(x_1, x_2, x_2)-f(x_1, x_1, x_2)}{x_1-x_0}$|...|\n",
    "| $x_1$  | $f(x_1)=y_1$ | $f(x_1 ,x_2)=\\frac{y_2-y_1}{x_2-x_1}$  |$f(x_1, x_2, x_2)=\\frac{f(x_2, x_2)-f(x_2 ,x_1)}{x_2-x_1}$ |  $f(x_1, x_2, x_2, x_3)=\\frac{f(x_2, x_2, x_3)-f(x_1, x_2, x_2)}{x_3-x_1}$ |...|\n",
    "| $x_2$  | $f(x_2)=y_2$ |  $f(x_2, x_2)=f'(x_2)$  |  $f(x_2, x_2, x_3)=\\frac{f(x_3, x_2)-f(x_2 ,x_2)}{x_3-x_2}$ | $f(x_2, x_2, x_3, x_3)=\\frac{f(x_2, x_3, x_3)-f(x_2, x_2, x_3)}{x_3-x_2}$    |...|\n",
    "| $x_2$  | $f(x_2)=y_2$ | $f(x_2, x_3)=\\frac{y_3-y_2}{x_3-x_2}$ | $f(x_2, x_3, x_3)=\\frac{f(x_3, x_3)-f(x_3 ,x_2)}{x_3-x_2}$                          |                                    |...|\n",
    "| $x_3$  | $f(x_3)=y_3$ |  $f(x_3, x_3)=f'(x_3)$                  |                           |                                    |...|\n",
    "| $x_3$  | $f(x_3)=y_3$ |                    |                           |                                    |...|\n"
   ]
  },
  {
   "cell_type": "markdown",
   "metadata": {
    "slideshow": {
     "slide_type": "slide"
    }
   },
   "source": []
  },
  {
   "cell_type": "markdown",
   "metadata": {},
   "source": [
    "### Interpolación de Hermite a partir de las diferencias divididas\n",
    "___\n",
    "Vamos a hacer un pequeño cambio de nomenclatura para que resulte más sencillo de escribir:\n",
    "\n",
    "|   $x$  | $y$  | $F_{i,i+1}$   | $F_{i,i+1,i+2}$ | $F_{i,i+1,i+2,i+3}$ | $F_{i,i+1,i+2,i+3,i+4}$ |$F_{i,i+1,i+2,i+3,i+4,i+5}$ |$F_{i,i+1,i+2,i+3,i+4,i+5,i+6}$ |$F_{i,i+1,i+2,i+3,i+4,i+5,i+6,i+7}$ |\n",
    "|:----:|--------|--------------------|---------------------------|------------------------------------|------------------------------------|------------------------------------|------------------------------------|-----------------------------------|\n",
    "| $x_0$  | $y_0$ | $F_{0,0}=f'(x_0)$        |$F_{0,0,1}=\\frac{F_{1,0}-F_{0,0}}{x_1-x_0}$          | $F_{0,0,1,1}=\\frac{F_{0,0,1}-F_{0,1,1}}{x_1-x_0}$ |$F_{0,0,1,1,2}=\\frac{F_{0,1,1,2}-F_{0,0,1,1}}{x_2-x_0}$ |$F_{0,0,1,1,2,2}=\\frac{F_{0,1,1,2,2}-F_{0,0,1,1,2}}{x_2-x_0}$ | $F_{0,0,1,1,2,2,3}=\\frac{F_{0,1,1,2,2,3}-F_{0,0,1,1,2,2}}{x_3-x_0}$ | $F_{0,0,1,1,2,2,3,3}=\\frac{F_{0,1,1,2,2,3,3}-F_{0,0,1,1,2,2,3}}{x_3-x_0}$ |\n",
    "| $x_0$  | $y_0$ | $F_{0,1}=\\frac{y_1-y_0}{x_1-x_0}$        |$F_{0,1,1}=\\frac{F_{1,1}-F_{0,1}}{x_1-x_0}$          | $F_{0,1,1,2}=\\frac{F_{0,1,1}-F_{1,1,2}}{x_2-x_0}$ | $F_{0,1,1,2,2}=\\frac{F_{1,1,2,2}-F_{0,1,1,2}}{x_2-x_0}$ |$F_{0,1,1,2,2,3}=\\frac{F_{1,1,2,2,3}-F_{0,1,1,2,2}}{x_3-x_0}$ |$F_{0,1,1,2,2,3,3}=\\frac{F_{1,1,2,2,3,3}-F_{0,1,1,2,2,3}}{x_3-x_0}$ | \n",
    "| $x_1$  | $y_1$ | $F_{1,2}=\\frac{y_2-y_1}{x_2-x_1}$        |$F_{1,2,2}=\\frac{F_{2,2}-F_{1,2}}{x_2-x_1}$          | $F_{1,1,2,2}=\\frac{F_{1,2,2}-F_{1,1,2}}{x_2-x_1}$ | $F_{1,1,2,2,3}=\\frac{F_{1,2,2,3}-F_{1,1,2,2}}{x_3-x_1}$ | $F_{1,1,2,2,3,3}=\\frac{F_{1,2,2,3,3}-F_{1,1,2,2,3}}{x_3-x_0}$ |                  |\n",
    "| $x_1$  | $y_1$ | $F_{1,2}=\\frac{y_2-y_1}{x_2-x_1}$  |$F_{1,2,2}=\\frac{F_{2,2}-F_{1,2}}{x_2-x_1}$   | $F_{1,2,2,3}=\\frac{F_{2,2,3}-F_{1,2,2}}{x_3-x_1}$  | $F_{1,2,2,3,3}=\\frac{F_{2,2,3,3}-F_{1,2,2,3}}{x_3-x_1}$ |           | \n",
    "| $x_2$  | $y_2$ |$F_{2,2}=f'(x_2)$ | $F_{1,2,3}=\\frac{F_{2,3}-F_{1,2}}{x_3-x_1}$ |  $F_{2,2,3,3}=\\frac{F_{2,3,3}-F_{2,2,3}}{x_3-x_2}$                   |\n",
    "| $x_2$  | $y_2$ |$F_{2,3}=\\frac{y_3-y_2}{x_3-x_2}$|   $F_{2,3,3}=\\frac{F_{3,3}-F_{2,3}}{x_3-x_2}$                         |   |\n",
    "| $x_3$  | $y_3$ |$F_{3,3}=f'(x_3)$        |\n",
    "| $x_3$  | $y_3$ |\n",
    "\n",
    "\n",
    "Observemos que podemos armar dos polinomios con todos los puntos aplicando de forma equivalente a la Interpolación por el Método de Newton. Si lo planteamos partiendo de $x_0$ obtenemos el polinomio de forma **Progresiva**:\n",
    "\n",
    "$$P(x)=y_0 + y'_0(x - x_0) + F_{0,0,1}(x - x_0)(x - x_0)+ F_{0,0,1,1}(x - x_0)(x - x_0)(x - x_1) + F_{0,0,1,1,2}(x - x_0)(x - x_0)(x - x_1)(x - x_1)+F_{0,0,1,1,2,2}(x - x_0)(x - x_0)(x - x_1)(x - x_1)(x - x_2)+F_{0,0,1,1,2,2,3}(x - x_0)(x - x_0)(x - x_1)(x - x_1)(x - x_2)(x - x_2)+F_{0,0,1,1,2,2,3,3}(x - x_0)(x - x_0)(x - x_1)(x - x_1)(x - x_2)(x - x_2)(x - x_3)$$\n",
    "\n",
    "\n",
    "Si partimos de $x_3$ obtenemos el polinomio de manera **Regresiva** : \n",
    "\n",
    "$$ P(x) = y_3 + y'_3 (x - x_3) + F_{2,3,3}(x - x_3)(x - x_3)+ F_{2,2,3,3}(x - x_3)(x - x_3)(x - x_2)+ F_{1,2,2,3,3}(x - x_3)(x - x_3)(x - x_2)(x - x_2)+ F_{1,1,2,2,3,3}(x - x_3)(x - x_3)(x - x_2)(x - x_2)(x - x_1)+F_{0,1,1,2,2,3,3}(x - x_3)(x - x_3)(x - x_2)(x - x_2)(x - x_1)(x - x_1)+F_{0,0,1,1,2,2,3,3}(x - x_3)(x - x_3)(x - x_2)(x - x_2)(x - x_1)(x - x_1)(x - x_0)$$"
   ]
  },
  {
   "cell_type": "code",
   "execution_count": 1,
   "metadata": {
    "scrolled": true,
    "slideshow": {
     "slide_type": "slide"
    }
   },
   "outputs": [],
   "source": [
    "import numpy as np #librería para operaciones algebraicas y numéricas\n",
    "import pandas as pd #librería para manejo de datos\n",
    "import matplotlib.pyplot as plt #librería para graficar\n",
    "\n",
    "def Hermite(df,x):\n",
    "        n = len(df)\n",
    "        A = np.zeros([2*n,2*n+1])\n",
    "        for f in range(0,2*n,2):\n",
    "            A[f,0] = df['x'][f/2]\n",
    "            A[f+1,0] = df['x'][f/2]\n",
    "            A[f,1] = df['y'][f/2]\n",
    "            A[f+1,1] = df['y'][f/2]  \n",
    "            A[f,2] = df['dy'][f/2]\n",
    "        for i in range(0,2*n-2,2):   \n",
    "            A[i+1,2] = (A[i+2,1]-A[i+1,1])/(A[i+2,0]-A[i+1,0])\n",
    "        contador=1\n",
    "        for j in range(3,2*n+1):\n",
    "                for i in range(0,2*n-contador-1):\n",
    "                    A[i,j] = (A[i+1,j-1]-A[i,j-1])/(A[i+contador+1,0]-A[i,0])\n",
    "                contador+=1\n",
    "        suma=0\n",
    "        prod =1\n",
    "        for k in range (0,n):\n",
    "            suma+=A[0,k+1]*prod\n",
    "            prod*=x-A[k,0]\n",
    "            \n",
    "        return print('Por el método de Hermite obtenemos P(x=',x,')=',round(suma,5)), A, suma \n"
   ]
  },
  {
   "cell_type": "markdown",
   "metadata": {
    "hideCode": false,
    "hidePrompt": false,
    "slideshow": {
     "slide_type": "slide"
    }
   },
   "source": [
    "### Resolvamos un ejemplo numérico\n",
    "___\n",
    "\n",
    "Supongamos que tenemos la siguiente tabla y queremos calcular $P(1.45)=?$\n",
    "\n",
    "|$i$| $x$ | $y$| $dy$\n",
    "| ---| --- | ---| ---\n",
    "|$0$ |1.3 | 0.6200860 | -0.5220232\n",
    "|$1$| 1.6 | 0.4554022 | -0.5698959\n",
    "|$2$| 1.9  | 0.2818186 | -0.5811571\n"
   ]
  },
  {
   "cell_type": "code",
   "execution_count": 2,
   "metadata": {
    "slideshow": {
     "slide_type": "slide"
    }
   },
   "outputs": [
    {
     "name": "stdout",
     "output_type": "stream",
     "text": [
      "Por el método de Hermite obtenemos P(x= 1.45 )= 0.53976\n"
     ]
    },
    {
     "data": {
      "text/html": [
       "<div>\n",
       "<style scoped>\n",
       "    .dataframe tbody tr th:only-of-type {\n",
       "        vertical-align: middle;\n",
       "    }\n",
       "\n",
       "    .dataframe tbody tr th {\n",
       "        vertical-align: top;\n",
       "    }\n",
       "\n",
       "    .dataframe thead th {\n",
       "        text-align: right;\n",
       "    }\n",
       "</style>\n",
       "<table border=\"1\" class=\"dataframe\">\n",
       "  <thead>\n",
       "    <tr style=\"text-align: right;\">\n",
       "      <th></th>\n",
       "      <th>0</th>\n",
       "      <th>1</th>\n",
       "      <th>2</th>\n",
       "      <th>3</th>\n",
       "      <th>4</th>\n",
       "      <th>5</th>\n",
       "      <th>6</th>\n",
       "    </tr>\n",
       "  </thead>\n",
       "  <tbody>\n",
       "    <tr>\n",
       "      <th>0</th>\n",
       "      <td>1.3</td>\n",
       "      <td>0.620086</td>\n",
       "      <td>-0.522023</td>\n",
       "      <td>-0.089743</td>\n",
       "      <td>0.066366</td>\n",
       "      <td>0.002667</td>\n",
       "      <td>-0.002775</td>\n",
       "    </tr>\n",
       "    <tr>\n",
       "      <th>1</th>\n",
       "      <td>1.3</td>\n",
       "      <td>0.620086</td>\n",
       "      <td>-0.548946</td>\n",
       "      <td>-0.069833</td>\n",
       "      <td>0.067966</td>\n",
       "      <td>0.001002</td>\n",
       "      <td>0.000000</td>\n",
       "    </tr>\n",
       "    <tr>\n",
       "      <th>2</th>\n",
       "      <td>1.6</td>\n",
       "      <td>0.455402</td>\n",
       "      <td>-0.569896</td>\n",
       "      <td>-0.029054</td>\n",
       "      <td>0.068567</td>\n",
       "      <td>0.000000</td>\n",
       "      <td>0.000000</td>\n",
       "    </tr>\n",
       "    <tr>\n",
       "      <th>3</th>\n",
       "      <td>1.6</td>\n",
       "      <td>0.455402</td>\n",
       "      <td>-0.578612</td>\n",
       "      <td>-0.008484</td>\n",
       "      <td>0.000000</td>\n",
       "      <td>0.000000</td>\n",
       "      <td>0.000000</td>\n",
       "    </tr>\n",
       "    <tr>\n",
       "      <th>4</th>\n",
       "      <td>1.9</td>\n",
       "      <td>0.281819</td>\n",
       "      <td>-0.581157</td>\n",
       "      <td>0.000000</td>\n",
       "      <td>0.000000</td>\n",
       "      <td>0.000000</td>\n",
       "      <td>0.000000</td>\n",
       "    </tr>\n",
       "    <tr>\n",
       "      <th>5</th>\n",
       "      <td>1.9</td>\n",
       "      <td>0.281819</td>\n",
       "      <td>0.000000</td>\n",
       "      <td>0.000000</td>\n",
       "      <td>0.000000</td>\n",
       "      <td>0.000000</td>\n",
       "      <td>0.000000</td>\n",
       "    </tr>\n",
       "  </tbody>\n",
       "</table>\n",
       "</div>"
      ],
      "text/plain": [
       "     0         1         2         3         4         5         6\n",
       "0  1.3  0.620086 -0.522023 -0.089743  0.066366  0.002667 -0.002775\n",
       "1  1.3  0.620086 -0.548946 -0.069833  0.067966  0.001002  0.000000\n",
       "2  1.6  0.455402 -0.569896 -0.029054  0.068567  0.000000  0.000000\n",
       "3  1.6  0.455402 -0.578612 -0.008484  0.000000  0.000000  0.000000\n",
       "4  1.9  0.281819 -0.581157  0.000000  0.000000  0.000000  0.000000\n",
       "5  1.9  0.281819  0.000000  0.000000  0.000000  0.000000  0.000000"
      ]
     },
     "execution_count": 2,
     "metadata": {},
     "output_type": "execute_result"
    }
   ],
   "source": [
    "#Cargo los datos\n",
    "\n",
    "ejemploBurden = [[1.3, 0.6200860, -0.5220232], [1.6, 0.4554022, -0.5698959],[1.9, 0.2818186, -0.5811571]]\n",
    "df = pd.DataFrame(ejemploBurden, columns = ['x', 'y', 'dy'])\n",
    "\n",
    "xp=1.45\n",
    "ejemplo=Hermite(df,xp)\n",
    "DiferenciasDividasProg=pd.DataFrame(ejemplo[1])\n",
    "DiferenciasDividasProg"
   ]
  },
  {
   "cell_type": "markdown",
   "metadata": {
    "slideshow": {
     "slide_type": "slide"
    }
   },
   "source": [
    "### Interpolación con Hermite Segmentado\n",
    "___\n",
    "Vamos a armar segmentos de grado 3 cada dos puntos, ya que dos puntos significa que tenemos cuatro datos. Veamos un ejemplo de como armar la tabla para el primer segmente entre $x_0$ y $x_1$:\n",
    "\n",
    "|   $x$  | $y$  | $F_{i,i+1}$   | $F_{i,i+1,i+2}$ | $F_{i,i+1,i+2,i+3}$ | \n",
    "|:----:|--------|--------------------|---------------------------|------------------------------------|\n",
    "| $x_0$  | $y_0$ | $F_{0,0}=f'(x_0)$        |$F_{0,0,1}=\\frac{F_{1,0}-F_{0,0}}{x_1-x_0}$          | $F_{0,0,1,1}=\\frac{F_{0,0,1}-F_{0,1,1}}{x_1-x_0}$ |\n",
    "| $x_0$  | $y_0$ | $F_{0,1}=\\frac{y_1-y_0}{x_1-x_0}$        |$F_{0,1,1}=\\frac{F_{1,1}-F_{0,1}}{x_1-x_0}$          | \n",
    "| $x_1$  | $y_1$ | $F_{1,1}=f'(x_1)$   \n",
    "| $x_1$  | $y_1$ | \n",
    "\n",
    "De manera análoga se construye la tabla de las diferencias divididas para todos los pares de puntos y cada segmento se puede armar de la siguinte forma. Supongamos un esquema **progresivo**, el segmento $P_i(x)$ que va del punto $x_i$ hasta $x_{i+1}$ queda de la siguiente manera:\n",
    "\n",
    "$$P_i(x)=y_i + y'_i(x - x_i) + F_{i,i,i+1}(x - x_i)(x - x_i)+ F_{i,i,i+1,i+1}(x - x_i)(x - x_i)(x - x_{i+1})$$\n"
   ]
  },
  {
   "cell_type": "code",
   "execution_count": 3,
   "metadata": {
    "slideshow": {
     "slide_type": "slide"
    }
   },
   "outputs": [],
   "source": [
    "#Hermite Segmentado\n",
    "def HermiteSegmentado(df,x):\n",
    "    n = len(df)\n",
    "    A = np.zeros([2*n,5])\n",
    "    for f in range(0,2*n,2):\n",
    "        A[f,0] = df['x'][f/2]\n",
    "        A[f+1,0] = df['x'][f/2]\n",
    "        A[f,1] = df['y'][f/2]\n",
    "        A[f+1,1] = df['y'][f/2]  \n",
    "        A[f,2] = df['dy'][f/2]\n",
    "    for i in range(0,2*n-2,2):   \n",
    "        A[i+1,2] = (A[i+2,1]-A[i+1,1])/(A[i+2,0]-A[i+1,0])\n",
    "    contador=1\n",
    "    for j in range(3,5):\n",
    "                for i in range(0,2*n-contador-1):\n",
    "                    A[i,j] = (A[i+1,j-1]-A[i,j-1])/(A[i+contador+1,0]-A[i,0])\n",
    "                contador+=1  \n",
    "    a,b,c,d = [],[],[],[]\n",
    "    for i in range(0,2*n-2,2):\n",
    "        aux_a = A[i,1] \n",
    "        a.append(aux_a)\n",
    "        aux_b = A[i,2] \n",
    "        b.append(aux_b)\n",
    "        aux_c = A[i,3] \n",
    "        c.append(aux_c)\n",
    "        aux_d = A[i,4] \n",
    "        d.append(aux_d)\n",
    "        \n",
    "    # Evalúo x en el segmento que corresponde\n",
    "    hi =[]\n",
    "    for k in range(0,n-1):\n",
    "        if (df['x'][k] == x):\n",
    "            hi = df['y'][k]\n",
    "        elif (x >= df['x'][k] and x < df['x'][k+1]):\n",
    "             hi = a[k] + b[k]*(x - df['x'][k]) + c[k]*(x - df['x'][k])**2 + d[k]*(x - df['x'][k+1])*(x - df['x'][k])**2\n",
    "            \n",
    "    return print('Por el método de Hermite Segmentado obtenemos P(x=',x,')=',np.round(hi,5)),A,a,b,c,d"
   ]
  },
  {
   "cell_type": "code",
   "execution_count": 4,
   "metadata": {
    "slideshow": {
     "slide_type": "slide"
    }
   },
   "outputs": [
    {
     "name": "stdout",
     "output_type": "stream",
     "text": [
      "Por el método de Hermite Segmentado obtenemos P(x= 1.45 )= 0.53954\n"
     ]
    },
    {
     "data": {
      "text/html": [
       "<div>\n",
       "<style scoped>\n",
       "    .dataframe tbody tr th:only-of-type {\n",
       "        vertical-align: middle;\n",
       "    }\n",
       "\n",
       "    .dataframe tbody tr th {\n",
       "        vertical-align: top;\n",
       "    }\n",
       "\n",
       "    .dataframe thead th {\n",
       "        text-align: right;\n",
       "    }\n",
       "</style>\n",
       "<table border=\"1\" class=\"dataframe\">\n",
       "  <thead>\n",
       "    <tr style=\"text-align: right;\">\n",
       "      <th></th>\n",
       "      <th>0</th>\n",
       "      <th>1</th>\n",
       "      <th>2</th>\n",
       "      <th>3</th>\n",
       "      <th>4</th>\n",
       "    </tr>\n",
       "  </thead>\n",
       "  <tbody>\n",
       "    <tr>\n",
       "      <th>0</th>\n",
       "      <td>1.3</td>\n",
       "      <td>0.620086</td>\n",
       "      <td>-0.522023</td>\n",
       "      <td>-0.089743</td>\n",
       "      <td>0.066366</td>\n",
       "    </tr>\n",
       "    <tr>\n",
       "      <th>1</th>\n",
       "      <td>1.3</td>\n",
       "      <td>0.620086</td>\n",
       "      <td>-0.548946</td>\n",
       "      <td>-0.069833</td>\n",
       "      <td>0.067966</td>\n",
       "    </tr>\n",
       "    <tr>\n",
       "      <th>2</th>\n",
       "      <td>1.6</td>\n",
       "      <td>0.455402</td>\n",
       "      <td>-0.569896</td>\n",
       "      <td>-0.029054</td>\n",
       "      <td>0.068567</td>\n",
       "    </tr>\n",
       "    <tr>\n",
       "      <th>3</th>\n",
       "      <td>1.6</td>\n",
       "      <td>0.455402</td>\n",
       "      <td>-0.578612</td>\n",
       "      <td>-0.008484</td>\n",
       "      <td>0.000000</td>\n",
       "    </tr>\n",
       "    <tr>\n",
       "      <th>4</th>\n",
       "      <td>1.9</td>\n",
       "      <td>0.281819</td>\n",
       "      <td>-0.581157</td>\n",
       "      <td>0.000000</td>\n",
       "      <td>0.000000</td>\n",
       "    </tr>\n",
       "    <tr>\n",
       "      <th>5</th>\n",
       "      <td>1.9</td>\n",
       "      <td>0.281819</td>\n",
       "      <td>0.000000</td>\n",
       "      <td>0.000000</td>\n",
       "      <td>0.000000</td>\n",
       "    </tr>\n",
       "  </tbody>\n",
       "</table>\n",
       "</div>"
      ],
      "text/plain": [
       "     0         1         2         3         4\n",
       "0  1.3  0.620086 -0.522023 -0.089743  0.066366\n",
       "1  1.3  0.620086 -0.548946 -0.069833  0.067966\n",
       "2  1.6  0.455402 -0.569896 -0.029054  0.068567\n",
       "3  1.6  0.455402 -0.578612 -0.008484  0.000000\n",
       "4  1.9  0.281819 -0.581157  0.000000  0.000000\n",
       "5  1.9  0.281819  0.000000  0.000000  0.000000"
      ]
     },
     "execution_count": 4,
     "metadata": {},
     "output_type": "execute_result"
    }
   ],
   "source": [
    "ejemplo2=HermiteSegmentado(df,xp)\n",
    "DiferenciasDividasProgSegmentado=pd.DataFrame(ejemplo2[1])\n",
    "DiferenciasDividasProgSegmentado"
   ]
  },
  {
   "cell_type": "code",
   "execution_count": 5,
   "metadata": {
    "hideCode": true,
    "hidePrompt": true
   },
   "outputs": [],
   "source": [
    "def HermitePlot(df,x):\n",
    "        n = len(df)\n",
    "        A = np.zeros([2*n,2*n+1])\n",
    "        for f in range(0,2*n,2):\n",
    "            A[f,0] = df['x'][f/2]\n",
    "            A[f+1,0] = df['x'][f/2]\n",
    "            A[f,1] = df['y'][f/2]\n",
    "            A[f+1,1] = df['y'][f/2]  \n",
    "            A[f,2] = df['dy'][f/2]\n",
    "        for i in range(0,2*n-2,2):   \n",
    "            A[i+1,2] = (A[i+2,1]-A[i+1,1])/(A[i+2,0]-A[i+1,0])\n",
    "        contador=1\n",
    "        for j in range(3,2*n+1):\n",
    "                for i in range(0,2*n-contador-1):\n",
    "                    A[i,j] = (A[i+1,j-1]-A[i,j-1])/(A[i+contador+1,0]-A[i,0])\n",
    "                contador+=1\n",
    "        suma=0\n",
    "        prod =1\n",
    "        for k in range (0,n):\n",
    "            suma+=A[0,k+1]*prod\n",
    "            prod*=x-A[k,0]\n",
    "         \n",
    "        return suma  \n",
    "\n",
    "def HermiteSegmentadoPlot(df,x):\n",
    "    n = len(df)\n",
    "    A = np.zeros([2*n,5])\n",
    "    for f in range(0,2*n,2):\n",
    "        A[f,0] = df['x'][f/2]\n",
    "        A[f+1,0] = df['x'][f/2]\n",
    "        A[f,1] = df['y'][f/2]\n",
    "        A[f+1,1] = df['y'][f/2]  \n",
    "        A[f,2] = df['dy'][f/2]\n",
    "    for i in range(0,2*n-2,2):   \n",
    "        A[i+1,2] = (A[i+2,1]-A[i+1,1])/(A[i+2,0]-A[i+1,0])\n",
    "    contador=1\n",
    "    for j in range(3,5):\n",
    "                for i in range(0,2*n-contador-1):\n",
    "                    A[i,j] = (A[i+1,j-1]-A[i,j-1])/(A[i+contador+1,0]-A[i,0])\n",
    "                contador+=1  \n",
    "    a,b,c,d = [],[],[],[]\n",
    "    for i in range(0,2*n-2,2):\n",
    "        aux_a = A[i,1] \n",
    "        a.append(aux_a)\n",
    "        aux_b = A[i,2] \n",
    "        b.append(aux_b)\n",
    "        aux_c = A[i,3] \n",
    "        c.append(aux_c)\n",
    "        aux_d = A[i,4] \n",
    "        d.append(aux_d)\n",
    "        \n",
    "    # Evalúo x en el segmento que corresponde\n",
    "    hi =[]\n",
    "    for k in range(0,n-1):\n",
    "        if (df['x'][k] == x):\n",
    "            hi = df['y'][k]\n",
    "        elif (x >= df['x'][k] and x < df['x'][k+1]):\n",
    "            hi = a[k] + b[k]*(x - df['x'][k]) + c[k]*(x - df['x'][k])**2 + d[k]*(x - df['x'][k+1])*(x - df['x'][k])**2\n",
    "            \n",
    "    return hi"
   ]
  },
  {
   "cell_type": "code",
   "execution_count": 6,
   "metadata": {
    "hideCode": true,
    "hidePrompt": true,
    "scrolled": true,
    "slideshow": {
     "slide_type": "slide"
    }
   },
   "outputs": [
    {
     "data": {
      "image/png": "[encoded data removed]",
      "text/plain": [
       "<Figure size 432x288 with 1 Axes>"
      ]
     },
     "metadata": {
      "needs_background": "light"
     },
     "output_type": "display_data"
    }
   ],
   "source": [
    "import matplotlib.pyplot as plt\n",
    "\n",
    "plt.xlabel('x')\n",
    "plt.ylabel('f(x)')\n",
    "\n",
    "ejex = np.linspace(min(df['x']), max(df['x']),num=1000)\n",
    "Nx=len(ejex)\n",
    "y_np=np.zeros(Nx)\n",
    "y_hs=np.zeros(Nx,dtype='object')\n",
    "\n",
    "for i in range(0,Nx):\n",
    "    y_hs[i] = HermiteSegmentadoPlot(df,ejex[i]);\n",
    "\n",
    "y_hs=pd.to_numeric(y_hs,errors='coerce') \n",
    "\n",
    "for i in range(0,Nx):\n",
    "    y_np[i] = HermitePlot(df,ejex[i]);\n",
    "    \n",
    "plt.plot(ejex, y_np, linewidth=2, color = 'green')\n",
    "plt.plot(ejex, y_hs, linewidth=2, color = 'red',linestyle='dashed')\n",
    "plt.scatter(df['x'], df['y'], color = 'blue')\n",
    "plt.legend(['Hermite','Hermite Segmentado','Datos'],fontsize=10)\n",
    "plt.axvline(min(df['x']), linewidth=2, color='blue',linestyle='dashed')\n",
    "plt.axvline(max(df['x']), linewidth=2, color='blue',linestyle='dashed')\n",
    "plt.title('Polinomio Interpolante');"
   ]
  },
  {
   "cell_type": "markdown",
   "metadata": {
    "hideCode": false,
    "hidePrompt": true,
    "slideshow": {
     "slide_type": "slide"
    }
   },
   "source": [
    "![Curso Schwarz-Sosa-Suriano](http://www.fi.uba.ar/sites/default/files/logo.png)\n",
    "\n",
    "# Gracias por su atención\n",
    "***\n",
    "\n",
    "**Curso Schwarz - Sosa - Suriano**\n",
    "- Métodos Numéricos. *Curso 2*\n",
    "- Análisis Numérico I. *Curso 4*\n",
    "- Métodos Matemáticos y Numéricos. *Curso 6*"
   ]
  }
 ],
 "metadata": {
  "celltoolbar": "Slideshow",
  "hide_code_all_hidden": true,
  "interpreter": {
   "hash": "916dbcbb3f70747c44a77c7bcd40155683ae19c65e1c03b4aa3499c5328201f1"
  },
  "kernelspec": {
   "display_name": "Python 3.10.4 64-bit",
   "language": "python",
   "name": "python3"
  },
  "language_info": {
   "codemirror_mode": {
    "name": "ipython",
    "version": 3
   },
   "file_extension": ".py",
   "mimetype": "text/x-python",
   "name": "python",
   "nbconvert_exporter": "python",
   "pygments_lexer": "ipython3",
   "version": "3.10.4"
  }
 },
 "nbformat": 4,
 "nbformat_minor": 2
}
