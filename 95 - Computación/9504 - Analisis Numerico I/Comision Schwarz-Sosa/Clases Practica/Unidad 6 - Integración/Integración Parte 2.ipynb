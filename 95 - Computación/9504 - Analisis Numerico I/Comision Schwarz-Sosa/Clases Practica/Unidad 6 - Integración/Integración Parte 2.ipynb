{
 "cells": [
  {
   "cell_type": "markdown",
   "metadata": {
    "slideshow": {
     "slide_type": "slide"
    }
   },
   "source": [
    "![Curso Schwarz-Sosa-Suriano](http://www.fi.uba.ar/sites/default/files/logo.png)\n",
    "# Integración Numérica - Segunda parte\n",
    "**Curso Schwarz - Sosa - Suriano**\n",
    "- Métodos Numéricos. *Curso 2*\n",
    "- Análisis Numérico I. *Curso 4*\n",
    "- Métodos Matemáticos y Numéricos. *Curso 6*"
   ]
  },
  {
   "cell_type": "markdown",
   "metadata": {
    "hideCode": true,
    "slideshow": {
     "slide_type": "slide"
    }
   },
   "source": [
    "## Fórmulas Compuestas\n",
    "\n",
    "$$ \\int_a^b f(x) \\approx Q_n = \\sum_0^n c_i . f(x_i)$$\n",
    "\n",
    "Puesto que el orden de convergencia de los métodos que hemos visto - $O(h^{orden})$- se mide en términos de potencias del paso $h = \\frac{b-a}{n}$, a medida que vamos eligiendo un método con más puntos, tenemos dos efectos a nuestro favor."
   ]
  },
  {
   "cell_type": "markdown",
   "metadata": {
    "slideshow": {
     "slide_type": "fragment"
    }
   },
   "source": [
    "En primer lugar, al ser fijo el intervalo $[a,b]$ al aumentar n se reduce el valor de h. Y al mismo tiempo, al aumentar el grado del polinomio interpolante, aumenta el orden de convergencia del método."
   ]
  },
  {
   "cell_type": "markdown",
   "metadata": {
    "slideshow": {
     "slide_type": "fragment"
    }
   },
   "source": [
    "Ahora bien, para que el término $O(h^{orden})$ sea cada vez más se necesita que $h$ sea lo suficientemente pequeño, y en este sentido no basta con tomar más puntos de integración, ya que generaríamos fórmulas que dependerían de polinomios de grado alto."
   ]
  },
  {
   "cell_type": "markdown",
   "metadata": {
    "slideshow": {
     "slide_type": "fragment"
    }
   },
   "source": [
    "Es por eso que a la hora de intentar obtener mejores aproximaciónes se utilizan las denominadas Fórmulas Compuestas, que dividen el intervalo $[a,b]$ en intervalos más pequeños y luego aplican reiteradas veces las fórmulas vistas en cada uno de esos intervalos. "
   ]
  },
  {
   "cell_type": "code",
   "execution_count": null,
   "metadata": {
    "slideshow": {
     "slide_type": "slide"
    }
   },
   "outputs": [],
   "source": [
    "import numpy as np\n",
    "import pandas as pd\n",
    "import sympy as sm\n",
    "import matplotlib.pyplot as plt\n",
    "from matplotlib.patches import Polygon\n",
    "from ipywidgets import interact, interactive, fixed, interact_manual\n",
    "import ipywidgets as widgets\n",
    "from IPython.display import display, clear_output\n",
    "\n",
    "\n",
    "def f(x):\n",
    "    return x*np.sin(x)+x\n",
    "\n",
    "a, b = 1,10\n",
    "\n",
    "x = sm.symbols('x')\n",
    "primitiva = sm.integrate(x * sm.sin(x) + x,x)\n",
    "primitivaN = sm.lambdify(x,primitiva)\n",
    "integralExacta = primitivaN(b)-primitivaN(a)\n",
    "print ('Integral exacta ',integralExacta)\n",
    "\n",
    "def ErrorRel(aprox):\n",
    "    e=100*abs((aprox-integralExacta)/aprox)\n",
    "    return e"
   ]
  },
  {
   "cell_type": "code",
   "execution_count": null,
   "metadata": {
    "slideshow": {
     "slide_type": "slide"
    }
   },
   "outputs": [],
   "source": [
    "def graficoActualizar(a,b,f,q,k):\n",
    "    ax.clear()\n",
    "    \n",
    "    gap = 0.2 * (b-a)\n",
    "    \n",
    "    fig.set_figheight(10)\n",
    "    fig.set_figwidth(15)\n",
    "    \n",
    "    x = np.linspace(a-gap, b+gap)\n",
    "    y = f(x)\n",
    "    ax.plot(x, y, 'r', linewidth=1)  \n",
    "    \n",
    "    ax.set_ylim(bottom=0)\n",
    "\n",
    "    fig.text(0.9, 0.1, '$x$')\n",
    "    fig.text(0.12, 0.9, '$y$')\n",
    "\n",
    "    ax.spines['right'].set_visible(False)\n",
    "    ax.spines['top'].set_visible(False)\n",
    "    ax.xaxis.set_ticks_position('bottom')\n",
    "\n",
    "    ax.set_xticks((a, b))\n",
    "    ax.set_xticklabels(('$a$', '$b$'))\n",
    "    ax.set_yticks([])\n",
    "\n",
    "    h = (b-a) / k\n",
    "    \n",
    "    for i in range(0, k):\n",
    "        x0 = a + i*h\n",
    "        x1 = x0 + h\n",
    "        \n",
    "         # Cuadratura\n",
    "        xq = np.linspace(x0, x1)\n",
    "        iq = q(xq,x0,x1)\n",
    "        ax.plot(xq, iq, 'k', linewidth=1)\n",
    "\n",
    "        # Función\n",
    "        iy = f(xq)\n",
    "        ax.fill_between(xq, 0, iq, facecolor='#0099cc', edgecolor ='k')\n",
    "        ax.fill_between(xq, iq, iy, hatch = '//', alpha='0.1')    "
   ]
  },
  {
   "cell_type": "markdown",
   "metadata": {
    "slideshow": {
     "slide_type": "slide"
    }
   },
   "source": [
    "### Fórmulas Compuestas de Newton-Cotes\n",
    "\n",
    "Aplicar en forma compuesta las fórmulas abiertas no reviste ninguna particularidad especial, ya que los puntos interiores de un intervalo nunca coinciden con los del intervalo siguiente. Es decir que la resolución solamente exige repetir para cada intervalo el método visto, por ejemplo, en el Punto Medio:"
   ]
  },
  {
   "cell_type": "code",
   "execution_count": null,
   "metadata": {
    "slideshow": {
     "slide_type": "fragment"
    }
   },
   "outputs": [],
   "source": [
    "def PuntoMedioC(a,b,k):\n",
    "    h = (b-a) / k  \n",
    "    Q = 0\n",
    "    for i in range (0,k):\n",
    "        Q += h * f(a+i*h+h/2) \n",
    "    return Q\n",
    "    \n",
    "def q(x,a,b):\n",
    "    h = b-a\n",
    "    return f(a+h/2)*x/x\n",
    "\n",
    "slider = widgets.IntSlider(value=1, min=1, max=20, step=1, description=('Intervalos'));\n",
    "\n",
    "def on_slider_change(change):\n",
    "    clear_output(wait=True)\n",
    "    k = change['new']\n",
    "    graficoActualizar(a,b,f,q,k)\n",
    "    display (fig)\n",
    "    display (slider)\n",
    "    print ('Aproximación', PuntoMedioC(a,b,k))\n",
    "    print ('Error', ErrorRel(PuntoMedioC(a,b,k)))\n",
    "    print ('Paso', (b-a)/k)    \n",
    "slider.observe(on_slider_change, names='value')\n",
    "fig, ax = plt.subplots()\n",
    "plt.close(fig)  "
   ]
  },
  {
   "cell_type": "code",
   "execution_count": null,
   "metadata": {
    "scrolled": false,
    "slideshow": {
     "slide_type": "slide"
    }
   },
   "outputs": [],
   "source": [
    "on_slider_change({'new':1})"
   ]
  },
  {
   "cell_type": "markdown",
   "metadata": {
    "slideshow": {
     "slide_type": "slide"
    }
   },
   "source": [
    "Desde el mismo punto de vista, por ejemplo, el método de los rectángulos compuesto, tampoco presenta ninguna particularidad como fórmula compuesta, más allá de volverse un proceso reiterativo respecto del visto para el Rectángulo."
   ]
  },
  {
   "cell_type": "code",
   "execution_count": null,
   "metadata": {
    "slideshow": {
     "slide_type": "fragment"
    }
   },
   "outputs": [],
   "source": [
    "def RectAC(a,b,k): #lo hacemos solamente para la versión en exceso\n",
    "    h = (b-a) / k  \n",
    "    Q = 0\n",
    "    for i in range (0,k):\n",
    "        Q += h * f(a+i*h) \n",
    "    return Q\n",
    "    \n",
    "def q(x,a,b):\n",
    "    h = b-a\n",
    "    return f(a)*x/x\n",
    "\n",
    "slider = widgets.IntSlider(value=1, min=1, max=20, step=1, description=('Intervalos'));\n",
    "\n",
    "def on_slider_change(change):\n",
    "    clear_output(wait=True)\n",
    "    k = change['new']\n",
    "    graficoActualizar(a,b,f,q,k)\n",
    "    display (fig)\n",
    "    display (slider)\n",
    "    print ('Aproximación', RectAC(a,b,k))\n",
    "    print ('Error', ErrorRel(RectAC(a,b,k)))\n",
    "    print ('Paso', (b-a)/k)\n",
    "    \n",
    "slider.observe(on_slider_change, names='value')\n",
    "\n",
    "fig, ax = plt.subplots()\n",
    "plt.close(fig)  "
   ]
  },
  {
   "cell_type": "code",
   "execution_count": null,
   "metadata": {
    "slideshow": {
     "slide_type": "slide"
    }
   },
   "outputs": [],
   "source": [
    "on_slider_change({'new':1})"
   ]
  },
  {
   "cell_type": "markdown",
   "metadata": {
    "slideshow": {
     "slide_type": "slide"
    }
   },
   "source": [
    "En el caso de las fórmulas cerradas de 2 o más puntos, en cambio, siempre tendremos la particularidad que el extremo derecho de un intervalo coincide con el izquierdo del siguiente. Eso lleva a que en la bibliografía aparezcan para los métodos de Trapecio y Simpson, expresiones compuestas que no implican solamente repetir la fórmula simple de cada uno de esos métodos."
   ]
  },
  {
   "cell_type": "markdown",
   "metadata": {
    "slideshow": {
     "slide_type": "fragment"
    }
   },
   "source": [
    "### Método del Trapecio Compuesto"
   ]
  },
  {
   "cell_type": "markdown",
   "metadata": {
    "slideshow": {
     "slide_type": "fragment"
    }
   },
   "source": [
    "En el caso del Trapecio compuesto se divide al intervalo $[a,b]$ en $k$ intervalos más pequeños. Al aplicar la fórmula simple en cada intervalo se descubre que para cualquier extremo de esos intervalos menores (salvo para $a$ y $b$), se suma 2 veces el término $c_i.f(x_i)$. De modo que la expresión queda:"
   ]
  },
  {
   "cell_type": "markdown",
   "metadata": {
    "slideshow": {
     "slide_type": "fragment"
    }
   },
   "source": [
    "$$TC(k) = \\frac{1}{2} . h . f(x_0) + \\sum_{i=1}^{k-1} h . f(x_i) + \\frac{1}{2} . h . f(x_k)$$ \n",
    "\n",
    "donde\n",
    "\n",
    "$$ h = \\frac{b-a}{k} \\text{, }  x_0 = a \\text{, } x_k = b$$"
   ]
  },
  {
   "cell_type": "code",
   "execution_count": null,
   "metadata": {
    "slideshow": {
     "slide_type": "slide"
    }
   },
   "outputs": [],
   "source": [
    "def TrapecioC(a,b,k):\n",
    "    h = (b-a) / k\n",
    "    Q = (h/2) * f(a)     \n",
    "    for i in range (1,k):\n",
    "        Q += h * f(a+i*h) \n",
    "    Q += (h/2) * f(b)\n",
    "    return Q\n",
    "    \n",
    "def q(x,a,b):\n",
    "    h = b-a\n",
    "    F01 = (f(b) - f(a)) / h \n",
    "    return f(a) + F01 * (x-a)\n",
    "\n",
    "slider = widgets.IntSlider(value=1, min=1, max=20, step=1, description=('Intervalos'));\n",
    "\n",
    "def on_slider_change(change):\n",
    "    clear_output(wait=True)\n",
    "    k = change['new']\n",
    "    graficoActualizar(a,b,f,q,k)\n",
    "    display (fig)\n",
    "    display (slider)\n",
    "    print ('Aproximación', TrapecioC(a,b,k))\n",
    "    print ('Error', ErrorRel(TrapecioC(a,b,k)))\n",
    "    print ('Paso', (b-a)/k)\n",
    "    \n",
    "slider.observe(on_slider_change, names='value')\n",
    "\n",
    "fig, ax = plt.subplots()\n",
    "plt.close(fig)  "
   ]
  },
  {
   "cell_type": "code",
   "execution_count": null,
   "metadata": {
    "scrolled": false,
    "slideshow": {
     "slide_type": "slide"
    }
   },
   "outputs": [],
   "source": [
    "on_slider_change({'new':1})"
   ]
  },
  {
   "cell_type": "markdown",
   "metadata": {
    "slideshow": {
     "slide_type": "slide"
    }
   },
   "source": [
    "### Método de Simpson Compuesto\n",
    "\n",
    "En este caso, vamos a considerar la cantidad de intervalos $k$ como la cantidad de espacios en los que aplicaríamos Simpson, por lo que $h=\\frac{b-a}{2.k}$\n",
    "\n",
    "En algunas bibliografías se adopta directamente una cantidad de intervalos $j$ par, siendo $h=\\frac{b-a}{j}$, por lo que pueden encontrar que el algoritmo difiere levemente del que proponemos aquí:"
   ]
  },
  {
   "cell_type": "markdown",
   "metadata": {
    "slideshow": {
     "slide_type": "fragment"
    }
   },
   "source": [
    "$$SC(k) = \\frac{1}{3} . h . f(x_0) + \\sum_{i=1 (impares)}^{2.k-1} \\frac{4}{3} .h . f(x_i) + \\sum_{i=1 (pares)}^{2.k-1}\\frac{2}{3} . h . f(x_i)  + \\frac{1}{3} . h . f(x_{2k})$$ \n",
    "\n",
    "donde\n",
    "\n",
    "$$ h = \\frac{b-a}{2.k} \\text{, }  x_0 = a \\text{, } x_{2k} = b$$"
   ]
  },
  {
   "cell_type": "code",
   "execution_count": null,
   "metadata": {
    "slideshow": {
     "slide_type": "slide"
    }
   },
   "outputs": [],
   "source": [
    "def SimpsonC(a,b,k):\n",
    "    h = (b-a) / (2*k)\n",
    "    Q = (1/3) * h * f(a)     \n",
    "    for i in range (1,2*k):\n",
    "        if (i % 2 == 0): #par\n",
    "            Q += (2/3) * h * f(a+i*h) \n",
    "        else: #impar\n",
    "            Q += (4/3) * h * f(a+i*h)             \n",
    "    Q += (1/3) * h * f(b)\n",
    "    return Q\n",
    "    \n",
    "def q(x,a,b):\n",
    "    h = (b-a)/2\n",
    "    F01 = (f(a+h) - f(a)) / h \n",
    "    F12 = (f(b) - f(a+h)) / h\n",
    "    F012 = (F12 - F01) / (2*h)\n",
    "    return f(a) + F01 * (x-a) + F012 * (x-a) * (x-(a+h))\n",
    "\n",
    "slider = widgets.IntSlider(value=1, min=1, max=64, step=1, description=('Intervalos'));\n",
    "\n",
    "def on_slider_change(change):\n",
    "    clear_output(wait=True)\n",
    "    k = change['new']\n",
    "    graficoActualizar(a,b,f,q,k)\n",
    "    display (fig)\n",
    "    display (slider)\n",
    "    print ('Aproximación', SimpsonC(a,b,k))\n",
    "    print ('Error %', ErrorRel(SimpsonC(a,b,k)))\n",
    "    print ('Paso', (b-a)/(2*k))\n",
    "    \n",
    "slider.observe(on_slider_change, names='value')\n",
    "\n",
    "fig, ax = plt.subplots()\n",
    "plt.close(fig)  "
   ]
  },
  {
   "cell_type": "code",
   "execution_count": null,
   "metadata": {
    "slideshow": {
     "slide_type": "slide"
    }
   },
   "outputs": [],
   "source": [
    "on_slider_change({'new':1})"
   ]
  },
  {
   "cell_type": "markdown",
   "metadata": {
    "hideCode": true,
    "slideshow": {
     "slide_type": "slide"
    }
   },
   "source": [
    "## Extrapolación de Richardson\n",
    "\n",
    "Análogamente a lo que vió para Diferenciación Numérica, aquí también la Extrapolación de Richardson permite aprovechar la reducción del paso $h$ en forma sistemática no solo para reducir $O(h^{orden})$ sino también para reducir el $orden$ de nuestra aproximación."
   ]
  },
  {
   "cell_type": "markdown",
   "metadata": {
    "slideshow": {
     "slide_type": "fragment"
    }
   },
   "source": [
    "Esta estrategia resulta particularmente popular combinada con el método de los Trapecios, cuyo error de truncamiento es de orden $O(h^2)$, se denomina Método de Romberg."
   ]
  },
  {
   "cell_type": "markdown",
   "metadata": {
    "slideshow": {
     "slide_type": "fragment"
    }
   },
   "source": [
    "### Método de Romberg:\n",
    "\n",
    "$$ R_{1,1} = \\frac{b-a}{2} . [f(a)+f(b)] $$\n",
    "\n",
    "$$ R_{k,1} = \\frac{1}{2} \\left \\{ R_{k-1,1} + h_{k-1} . \\sum_{i=1}^{2^{k-2}} f[a+(2.i-1).h_k])  \\right \\} \\hspace{10mm} \\text{ con } h_k = \\frac{b-a}{2^{k-1}}$$\n",
    "\n",
    "$$ R_{k,j} = R_{k,j-1} + \\frac{R_{k,j-1}-R_{k-1,j-1}}{4^{j-1}-1}$$"
   ]
  },
  {
   "cell_type": "code",
   "execution_count": null,
   "metadata": {
    "slideshow": {
     "slide_type": "slide"
    }
   },
   "outputs": [],
   "source": [
    "R = np.zeros((1,1))\n",
    "R[0,0] = ((b-a)/2)*(f(a)+f(b))\n",
    "print (R)\n",
    "def Romberg(R):\n",
    "    k = R.shape[0]\n",
    "    R = np.vstack((R,np.zeros((1,k))))\n",
    "    R = np.hstack((R,np.zeros((k+1,1)))) \n",
    "    hk = (b-a) / (2**k)\n",
    "    for i in range (0,2**(k-1)):\n",
    "        R[k,0] += hk * f(a+(2*i+1)*hk)\n",
    "    R[k,0] += R[k-1,0] / 2    \n",
    "    for j in range (1,k+1):\n",
    "        R[k,j] = R[k,j-1] + (R[k,j-1]-R[k-1,j-1])/(4**j-1)\n",
    "    return R"
   ]
  },
  {
   "cell_type": "code",
   "execution_count": null,
   "metadata": {
    "slideshow": {
     "slide_type": "fragment"
    }
   },
   "outputs": [],
   "source": [
    "R = Romberg(R)\n",
    "k = R.shape[0]-1\n",
    "print (R)\n",
    "print ('Aproximación',R[k,k])\n",
    "print ('Error %', ErrorRel(R[k,k]))"
   ]
  },
  {
   "cell_type": "code",
   "execution_count": null,
   "metadata": {
    "slideshow": {
     "slide_type": "slide"
    }
   },
   "outputs": [],
   "source": [
    "R = Romberg(R)\n",
    "k = R.shape[0]-1\n",
    "print (R)\n",
    "print ('Aproximación',R[k,k])\n",
    "print ('Error %', ErrorRel(R[k,k]))"
   ]
  },
  {
   "cell_type": "code",
   "execution_count": null,
   "metadata": {
    "slideshow": {
     "slide_type": "fragment"
    }
   },
   "outputs": [],
   "source": [
    "R = Romberg(R)\n",
    "k = R.shape[0]-1\n",
    "print (R)\n",
    "print ('Aproximación',R[k,k])\n",
    "print ('Error %', ErrorRel(R[k,k]))"
   ]
  },
  {
   "cell_type": "code",
   "execution_count": null,
   "metadata": {
    "slideshow": {
     "slide_type": "slide"
    }
   },
   "outputs": [],
   "source": [
    "R = Romberg(R)\n",
    "k = R.shape[0]-1\n",
    "print (R)\n",
    "print ('Aproximación',R[k,k])\n",
    "print ('Error %', ErrorRel(R[k,k]))"
   ]
  },
  {
   "cell_type": "code",
   "execution_count": null,
   "metadata": {
    "slideshow": {
     "slide_type": "fragment"
    }
   },
   "outputs": [],
   "source": [
    "R = Romberg(R)\n",
    "print(R)\n",
    "k = R.shape[0]-1\n",
    "print ('Aproximación',R[k,k])\n",
    "print ('Error %', ErrorRel(R[k,k]))"
   ]
  },
  {
   "cell_type": "code",
   "execution_count": null,
   "metadata": {
    "slideshow": {
     "slide_type": "slide"
    }
   },
   "outputs": [],
   "source": [
    "R = Romberg(R)\n",
    "print(R)\n",
    "k = R.shape[0]-1\n",
    "print ('Aproximación',R[k,k])\n",
    "print ('Error %', ErrorRel(R[k,k]))"
   ]
  }
 ],
 "metadata": {
  "celltoolbar": "Slideshow",
  "kernelspec": {
   "display_name": "Python 3",
   "language": "python",
   "name": "python3"
  },
  "language_info": {
   "codemirror_mode": {
    "name": "ipython",
    "version": 3
   },
   "file_extension": ".py",
   "mimetype": "text/x-python",
   "name": "python",
   "nbconvert_exporter": "python",
   "pygments_lexer": "ipython3",
   "version": "3.7.6"
  }
 },
 "nbformat": 4,
 "nbformat_minor": 4
}
