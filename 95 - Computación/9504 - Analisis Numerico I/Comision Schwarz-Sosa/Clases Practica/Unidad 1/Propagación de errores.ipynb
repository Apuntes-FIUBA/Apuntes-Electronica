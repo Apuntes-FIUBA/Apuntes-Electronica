{
 "cells": [
  {
   "cell_type": "markdown",
   "metadata": {
    "slideshow": {
     "slide_type": "slide"
    }
   },
   "source": [
    "![Curso Schwarz-Sosa-Suriano](http://www.fi.uba.ar/sites/default/files/logo.png)\n",
    "# Propagación de errores\n",
    "***\n",
    "**Curso Schwarz - Sosa - Suriano**\n",
    "- Métodos Numéricos. *Curso 2*\n",
    "- Análisis Numérico I. *Curso 4*\n",
    "- Métodos Matemáticos y Numéricos. *Curso 6*"
   ]
  },
  {
   "cell_type": "markdown",
   "metadata": {
    "slideshow": {
     "slide_type": "slide"
    }
   },
   "source": [
    "## 1. Propagación del error inherente\n",
    "\n",
    "Tal como vimos en el video *Definición de Análisis Numérico* sabemos que el modelo numérico hereda del modelo matemático las variables de entrada y sus errores inherentes.\n",
    "\n",
    "Habíamos adelantado además que íbamos a mostrar que la forma en que ese error se propaga no cambia al analizar el problema matemático teórico o el algoritmo con el que resolvemos el mismo.\n",
    "\n",
    "Vamos a ver, en primer lugar, cómo podemos estudiar la propogación del error inherente en un problema matemático."
   ]
  },
  {
   "cell_type": "markdown",
   "metadata": {
    "slideshow": {
     "slide_type": "slide"
    }
   },
   "source": [
    "### 1.1. Problema matemático en una variable\n",
    "\n",
    "Vamos a analizar un problema matemático sencillo, con una variable de entrada, que puede ser fácilmente escalado a múltiples variables de entrada como veremos luego:"
   ]
  },
  {
   "cell_type": "markdown",
   "metadata": {
    "slideshow": {
     "slide_type": "fragment"
    }
   },
   "source": [
    "$$ y = f(x) $$"
   ]
  },
  {
   "cell_type": "markdown",
   "metadata": {
    "slideshow": {
     "slide_type": "fragment"
    }
   },
   "source": [
    "Para estudiar la influencia del error inherente, vamos a asumir que nuestra variable de entrada `x` viene en verdad con un error inherente:"
   ]
  },
  {
   "cell_type": "markdown",
   "metadata": {
    "slideshow": {
     "slide_type": "fragment"
    }
   },
   "source": [
    "$$ \\hat x  = x + \\Delta x = x.(1 + i_x) \\hspace{10mm} \\Delta x = x.i_x$$"
   ]
  },
  {
   "cell_type": "markdown",
   "metadata": {
    "slideshow": {
     "slide_type": "fragment"
    }
   },
   "source": [
    "Cuando evaluamos la función en nuestra variable con eror:"
   ]
  },
  {
   "cell_type": "markdown",
   "metadata": {
    "slideshow": {
     "slide_type": "fragment"
    }
   },
   "source": [
    "$$ \\hat y  =  f (\\hat x) = f (x + \\Delta x)$$"
   ]
  },
  {
   "cell_type": "markdown",
   "metadata": {
    "slideshow": {
     "slide_type": "slide"
    }
   },
   "source": [
    "Si planteamos el desarrollor de Taylor alrededor de x:"
   ]
  },
  {
   "cell_type": "markdown",
   "metadata": {
    "slideshow": {
     "slide_type": "fragment"
    }
   },
   "source": [
    "$$ f(\\hat x) = f (x + \\Delta x) = f(x) + f ' (x).\\Delta x + f '' (x). \\frac{\\Delta x ^2}{2!} + f ''' (x). \\frac{\\Delta x ^3}{3} + ...$$"
   ]
  },
  {
   "cell_type": "markdown",
   "metadata": {
    "slideshow": {
     "slide_type": "fragment"
    }
   },
   "source": [
    "Si truncamos el desarrollo en el segundo término:"
   ]
  },
  {
   "cell_type": "markdown",
   "metadata": {
    "slideshow": {
     "slide_type": "fragment"
    }
   },
   "source": [
    "$$ f(\\hat x) = f (x + \\Delta x) \\approx f(x) + f ' (x).\\Delta x = f(x) + f'(x).x.i_x$$"
   ]
  },
  {
   "cell_type": "markdown",
   "metadata": {
    "slideshow": {
     "slide_type": "fragment"
    }
   },
   "source": [
    "Obviamente, para analizar la propagación deberías poner la mirada sobre el error relativo a la salida de nuestro problema. O sea:"
   ]
  },
  {
   "cell_type": "markdown",
   "metadata": {
    "slideshow": {
     "slide_type": "fragment"
    }
   },
   "source": [
    "$$ e_y = \\frac{f(\\hat x) - f(x)}{f(x)} \\approx \\frac{[f(x) + f'(x).x.i_x] - f(x)}{f(x)}  $$"
   ]
  },
  {
   "cell_type": "markdown",
   "metadata": {
    "slideshow": {
     "slide_type": "fragment"
    }
   },
   "source": [
    "$$ e_y \\approx \\frac{f(x) - f(x) + f'(x).x.i_x}{f(x)} = \\frac{f'(x).x}{f(x)}.i_x$$"
   ]
  },
  {
   "cell_type": "markdown",
   "metadata": {
    "slideshow": {
     "slide_type": "slide"
    }
   },
   "source": [
    "Vemos que el error inherente de la variable `x` a la salida de un problema matemático se amplifica siguiendo un factor al que vamos a denominar **factor de amplificación** cuya expresión es:\n",
    "$$ F^{amp}_x = \\frac{f'(x).x}{f(x)} $$"
   ]
  },
  {
   "cell_type": "markdown",
   "metadata": {
    "slideshow": {
     "slide_type": "fragment"
    }
   },
   "source": [
    "Ahora, vamos a avanzar un paso más. Si quisiéramos encontrar una cota para el error de salida, debemos plantear primero una cota `r` (positiva) para el error inherente:\n",
    "$$ |i_x| \\leq r \\hspace{5mm} \\Rightarrow \\hspace{5mm} |e_y| \\leq \\left|\\frac{f'(x).x}{f(x)}\\right|.r$$"
   ]
  },
  {
   "cell_type": "markdown",
   "metadata": {
    "slideshow": {
     "slide_type": "fragment"
    }
   },
   "source": [
    "A esta magnitud que representa cuánto puede incrementarse -como máximo- el error inherente a la entrada de un problema matemático, se la denomina **condición del problema**."
   ]
  },
  {
   "cell_type": "markdown",
   "metadata": {
    "slideshow": {
     "slide_type": "fragment"
    }
   },
   "source": [
    "$$ Cp = \\left|\\frac{f'(x).x}{f(x)}\\right| \\hspace{5mm} \\text{y es deseable que} \\hspace{5mm} Cp \\not\\gg 1$$"
   ]
  },
  {
   "cell_type": "markdown",
   "metadata": {
    "slideshow": {
     "slide_type": "fragment"
    }
   },
   "source": [
    "ya que en esa circunstancia la amplificación del error inherente estará bajo control."
   ]
  },
  {
   "cell_type": "markdown",
   "metadata": {
    "slideshow": {
     "slide_type": "slide"
    }
   },
   "source": [
    "### 1.2. Problema matemático en múltiples variables\n",
    "\n",
    "Esta vez analizaremos este problema en el que tenemos un vector de variables de entrada:\n",
    "\n",
    "$$ y = f(x_0, x_1, x_2,...x_{n-1}, x_n) = f(x_0...x_n) $$\n"
   ]
  },
  {
   "cell_type": "markdown",
   "metadata": {
    "slideshow": {
     "slide_type": "fragment"
    }
   },
   "source": [
    "Obviamente, tendremos un vector de errores inherentes, por lo que el desarrollo en serie de Taylor debería hacerse esta vez en términos de derivadas parciales, trabajando con una componente del vector de errores inherentes por vez. Esto sería:"
   ]
  },
  {
   "cell_type": "markdown",
   "metadata": {
    "slideshow": {
     "slide_type": "fragment"
    }
   },
   "source": [
    "$$ e_y \\approx \n",
    "\\frac{\\frac{\\partial f(x_0...x_n)}{\\partial x_0}.x_0}{f(x_0...x_n)}.i_{x_0} + \n",
    "\\frac{\\frac{\\partial f(x_0...x_n)}{\\partial x_1}.x_1}{f(x_0...x_n)}.i_{x_1} + \n",
    "\\frac{\\frac{\\partial f(x_0...x_n)}{\\partial x_2}.x_2}{f(x_0...x_n)}.i_{x_2} + \n",
    "...+\n",
    "\\frac{\\frac{\\partial f(x_0...x_n)}{\\partial x_n}.x_n}{f(x_0...x_n)}.i_{x_n}\n",
    "$$"
   ]
  },
  {
   "cell_type": "markdown",
   "metadata": {
    "slideshow": {
     "slide_type": "fragment"
    }
   },
   "source": [
    "Cada uno de estos términos que acompañan a los errores inherentes sería el factor de amplificación de la variable correspondiente, esto es:"
   ]
  },
  {
   "cell_type": "markdown",
   "metadata": {
    "slideshow": {
     "slide_type": "fragment"
    }
   },
   "source": [
    "\n",
    "$$ F^{amp}_{x_j} = \\frac{\\frac{\\partial f(x_0...x_n)}{\\partial x_j}.x_j}{f(x_0...x_n)} $$"
   ]
  },
  {
   "cell_type": "markdown",
   "metadata": {
    "slideshow": {
     "slide_type": "slide"
    }
   },
   "source": [
    "Y obviamente, si queremos buscar una cota para el error de salida esta vez debemos acotar todos los inherentes:"
   ]
  },
  {
   "cell_type": "markdown",
   "metadata": {
    "slideshow": {
     "slide_type": "fragment"
    }
   },
   "source": [
    "$$ |i_{x_j}| \\leq r \\hspace{5mm} \\forall \\hspace{5mm} x_j \\hspace{5mm} con \\hspace{5mm} j = 0, 1, 2, ... , n$$"
   ]
  },
  {
   "cell_type": "markdown",
   "metadata": {
    "slideshow": {
     "slide_type": "fragment"
    }
   },
   "source": [
    "Entonces la  expresión adopta la forma:"
   ]
  },
  {
   "cell_type": "markdown",
   "metadata": {
    "slideshow": {
     "slide_type": "fragment"
    }
   },
   "source": [
    "\n",
    "$$\n",
    "|e_y| \\leq \n",
    "\\left|\\frac{\\frac{\\partial f(x_0...x_n)}{\\partial x_0}.x_0}{f(x_0...x_n)}\\right|.r + \n",
    "\\left|\\frac{\\frac{\\partial f(x_0...x_n)}{\\partial x_1}.x_1}{f(x_0...x_n)}\\right|.r + \n",
    "\\left|\\frac{\\frac{\\partial f(x_0...x_n)}{\\partial x_2}.x_2}{f(x_0...x_n)}\\right|.r + \n",
    "... +\n",
    "\\left|\\frac{\\frac{\\partial f(x_0...x_n)}{\\partial x_n}.x_n}{f(x_0...x_n)}\\right|.r\n",
    "$$"
   ]
  },
  {
   "cell_type": "markdown",
   "metadata": {
    "slideshow": {
     "slide_type": "fragment"
    }
   },
   "source": [
    "$$\n",
    "|e_y| \\leq \n",
    "\\left(\n",
    "\\left|\\frac{\\frac{\\partial f(x_0...x_n)}{\\partial x_0}.x_0}{f(x_0...x_n)}\\right| + \n",
    "\\left|\\frac{\\frac{\\partial f(x_0...x_n)}{\\partial x_1}.x_1}{f(x_0...x_n)}\\right| + \n",
    "\\left|\\frac{\\frac{\\partial f(x_0...x_n)}{\\partial x_2}.x_2}{f(x_0...x_n)}\\right| + \n",
    "... +\n",
    "\\left|\\frac{\\frac{\\partial f(x_0...x_n)}{\\partial x_n}.x_n}{f(x_0...x_n)}\\right|\n",
    "\\right) .r\n",
    "$$"
   ]
  },
  {
   "cell_type": "markdown",
   "metadata": {
    "slideshow": {
     "slide_type": "slide"
    }
   },
   "source": [
    "Con lo cual en este problema de varias variables la **condición del problema** adopta la forma:\n",
    "\n",
    "\n",
    "\n",
    "\n"
   ]
  },
  {
   "cell_type": "markdown",
   "metadata": {
    "slideshow": {
     "slide_type": "fragment"
    }
   },
   "source": [
    "$$\n",
    "Cp = \n",
    "\\left|\\frac{\\frac{\\partial f(x_0...x_n)}{\\partial x_0}.x_0}{f(x_0...x_n)}\\right| + \n",
    "\\left|\\frac{\\frac{\\partial f(x_0...x_n)}{\\partial x_1}.x_1}{f(x_0...x_n)}\\right| + \n",
    "\\left|\\frac{\\frac{\\partial f(x_0...x_n)}{\\partial x_2}.x_2}{f(x_0...x_n)}\\right| + \n",
    "... +\n",
    "\\left|\\frac{\\frac{\\partial f(x_0...x_n)}{\\partial x_n}.x_n}{f(x_0...x_n)}\\right|\n",
    "$$ "
   ]
  },
  {
   "cell_type": "markdown",
   "metadata": {
    "slideshow": {
     "slide_type": "fragment"
    }
   },
   "source": [
    "Y representándola de manera compacta:"
   ]
  },
  {
   "cell_type": "markdown",
   "metadata": {
    "slideshow": {
     "slide_type": "fragment"
    }
   },
   "source": [
    "$$\n",
    "Cp = \\sum_{j=0}^{n}\n",
    "\\left|\\frac{\\frac{\\partial f(x_0...x_n)}{\\partial x_j}.x_j}{f(x_0...x_n)}\\right| \n",
    "$$ "
   ]
  },
  {
   "cell_type": "markdown",
   "metadata": {
    "slideshow": {
     "slide_type": "slide"
    }
   },
   "source": [
    "## 2. Propagación del error de redondeo\n",
    "\n",
    "De acuerdo a lo visto en el video *Definición de Análisis Numérico* sabemos que el error de redondeo es una consecuencia de la capacidad limitada para almacenar dígitos numéricos de un sistema de representación. En consecuencia, es un error que sólo existe en el contexto del modelo numérico, y cuya propagación estará condicionada por las características del algoritmo."
   ]
  },
  {
   "cell_type": "markdown",
   "metadata": {
    "slideshow": {
     "slide_type": "fragment"
    }
   },
   "source": [
    "Para poder desarrollar una formulación matemática que nos permita explicar cómo se propaga el error de redondeo vamos a recurrir al uso de las Gráficas de Proceso, sobre las que hemos hablado ya en el video *Introducción a la Programación*."
   ]
  },
  {
   "cell_type": "markdown",
   "metadata": {
    "slideshow": {
     "slide_type": "fragment"
    }
   },
   "source": [
    "Para continuar con la ejecución de este archivo deben asegurarse de contar con el archivo `graficasdeproceso.py` en la misma carpeta que este archivo. Si este requisito se cumple, la siguiente celda se debería ejecutar sin errores."
   ]
  },
  {
   "cell_type": "code",
   "execution_count": 1,
   "metadata": {
    "slideshow": {
     "slide_type": "fragment"
    }
   },
   "outputs": [],
   "source": [
    "%matplotlib inline\n",
    "from graficasdeproceso import *\n",
    "import sympy as sm"
   ]
  },
  {
   "cell_type": "markdown",
   "metadata": {
    "slideshow": {
     "slide_type": "slide"
    }
   },
   "source": [
    "Para poder analizar la propagación tenemos que recordar que el error de redondeo aparece cada vez que terminamos de realizar una operación, ya que en ese momento se genera un resultado nuevo que debe ser almacenado por el Ordenador."
   ]
  },
  {
   "cell_type": "markdown",
   "metadata": {
    "hideCode": false,
    "slideshow": {
     "slide_type": "fragment"
    }
   },
   "source": [
    "En consecuencia, a la salida de cada operación, al error inherente propagado -tal como acabamos de ver- se debe sumar un un error de redondeo al que representaremos con la letra griega $\\mu$ y un subíndice asociado al número de operación dentro del contexto del algoritmo. "
   ]
  },
  {
   "cell_type": "markdown",
   "metadata": {
    "hideCode": false,
    "slideshow": {
     "slide_type": "fragment"
    }
   },
   "source": [
    "Antes de avanzar con las gráficas de proceso de algoritmos complejos vamos a repasar los factores de amplificación de las operaciones básicas, pero incorporando al final del proceso el error de redondeo del sistema representación."
   ]
  },
  {
   "cell_type": "markdown",
   "metadata": {
    "hideCode": false,
    "slideshow": {
     "slide_type": "slide"
    }
   },
   "source": [
    "### 2.1. Suma"
   ]
  },
  {
   "cell_type": "code",
   "execution_count": 2,
   "metadata": {
    "scrolled": true,
    "slideshow": {
     "slide_type": "fragment"
    }
   },
   "outputs": [
    {
     "data": {
      "text/latex": [
       "$\\displaystyle \\text{Errores Inherentes: }[ix, iy]$"
      ],
      "text/plain": [
       "<IPython.core.display.Math object>"
      ]
     },
     "metadata": {},
     "output_type": "display_data"
    },
    {
     "data": {
      "text/latex": [
       "$\\displaystyle \\text{Operaciones: }\\left[ x + y\\right]$"
      ],
      "text/plain": [
       "<IPython.core.display.Math object>"
      ]
     },
     "metadata": {},
     "output_type": "display_data"
    }
   ],
   "source": [
    "suma = GraficaDeProceso( ['x','y'] , ['x + y'])"
   ]
  },
  {
   "cell_type": "code",
   "execution_count": 3,
   "metadata": {
    "slideshow": {
     "slide_type": "fragment"
    }
   },
   "outputs": [
    {
     "data": {
      "application/vnd.jupyter.widget-view+json": {
       "model_id": "96bfcb6f0000458f8f074df0630e0120",
       "version_major": 2,
       "version_minor": 0
      },
      "text/plain": [
       "interactive(children=(IntSlider(value=8, description='width', max=24, min=-8), IntSlider(value=8, description=…"
      ]
     },
     "metadata": {},
     "output_type": "display_data"
    },
    {
     "data": {
      "text/latex": [
       "$\\displaystyle e_{total} = \\frac{ix \\cdot x}{x + y} + \\frac{iy \\cdot y}{x + y} + \\mu_{0}$"
      ],
      "text/plain": [
       "<IPython.core.display.Math object>"
      ]
     },
     "metadata": {},
     "output_type": "display_data"
    }
   ],
   "source": [
    "suma.mostrar(8)\n",
    "suma.ErrorTotal()"
   ]
  },
  {
   "cell_type": "markdown",
   "metadata": {
    "hideCode": false,
    "slideshow": {
     "slide_type": "slide"
    }
   },
   "source": [
    "### 2.2. Resta"
   ]
  },
  {
   "cell_type": "code",
   "execution_count": 5,
   "metadata": {
    "scrolled": true,
    "slideshow": {
     "slide_type": "fragment"
    }
   },
   "outputs": [
    {
     "data": {
      "text/latex": [
       "$\\displaystyle \\text{Errores Inherentes: }[ix, iy]$"
      ],
      "text/plain": [
       "<IPython.core.display.Math object>"
      ]
     },
     "metadata": {},
     "output_type": "display_data"
    },
    {
     "data": {
      "text/latex": [
       "$\\displaystyle \\text{Operaciones: }\\left[ x - y\\right]$"
      ],
      "text/plain": [
       "<IPython.core.display.Math object>"
      ]
     },
     "metadata": {},
     "output_type": "display_data"
    }
   ],
   "source": [
    "resta = GraficaDeProceso( ['x','y'] , ['x - y'])"
   ]
  },
  {
   "cell_type": "code",
   "execution_count": 6,
   "metadata": {
    "slideshow": {
     "slide_type": "fragment"
    }
   },
   "outputs": [
    {
     "data": {
      "application/vnd.jupyter.widget-view+json": {
       "model_id": "066107baf9854df3adb0bb27789d8647",
       "version_major": 2,
       "version_minor": 0
      },
      "text/plain": [
       "interactive(children=(IntSlider(value=8, description='width', max=24, min=-8), IntSlider(value=8, description=…"
      ]
     },
     "metadata": {},
     "output_type": "display_data"
    },
    {
     "data": {
      "text/latex": [
       "$\\displaystyle e_{total} = \\frac{ix \\cdot x}{x - y} - \\frac{iy \\cdot y}{x - y} + \\mu_{0}$"
      ],
      "text/plain": [
       "<IPython.core.display.Math object>"
      ]
     },
     "metadata": {},
     "output_type": "display_data"
    }
   ],
   "source": [
    "resta.mostrar(8)\n",
    "resta.ErrorTotal()"
   ]
  },
  {
   "cell_type": "markdown",
   "metadata": {
    "hideCode": false,
    "slideshow": {
     "slide_type": "slide"
    }
   },
   "source": [
    "### 2.3. Producto"
   ]
  },
  {
   "cell_type": "code",
   "execution_count": 7,
   "metadata": {
    "scrolled": true,
    "slideshow": {
     "slide_type": "fragment"
    }
   },
   "outputs": [
    {
     "data": {
      "text/latex": [
       "$\\displaystyle \\text{Errores Inherentes: }[ix, iy]$"
      ],
      "text/plain": [
       "<IPython.core.display.Math object>"
      ]
     },
     "metadata": {},
     "output_type": "display_data"
    },
    {
     "data": {
      "text/latex": [
       "$\\displaystyle \\text{Operaciones: }\\left[ x \\cdot y\\right]$"
      ],
      "text/plain": [
       "<IPython.core.display.Math object>"
      ]
     },
     "metadata": {},
     "output_type": "display_data"
    }
   ],
   "source": [
    "producto =  GraficaDeProceso(['x','y'],['x*y'])"
   ]
  },
  {
   "cell_type": "code",
   "execution_count": 8,
   "metadata": {
    "slideshow": {
     "slide_type": "fragment"
    }
   },
   "outputs": [
    {
     "data": {
      "application/vnd.jupyter.widget-view+json": {
       "model_id": "8c549de8755a4dec80bfe89e1cba79e3",
       "version_major": 2,
       "version_minor": 0
      },
      "text/plain": [
       "interactive(children=(IntSlider(value=8, description='width', max=24, min=-8), IntSlider(value=8, description=…"
      ]
     },
     "metadata": {},
     "output_type": "display_data"
    },
    {
     "data": {
      "text/latex": [
       "$\\displaystyle e_{total} = ix + iy + \\mu_{0}$"
      ],
      "text/plain": [
       "<IPython.core.display.Math object>"
      ]
     },
     "metadata": {},
     "output_type": "display_data"
    }
   ],
   "source": [
    "producto.mostrar(8)\n",
    "producto.ErrorTotal()"
   ]
  },
  {
   "cell_type": "markdown",
   "metadata": {
    "hideCode": false,
    "slideshow": {
     "slide_type": "slide"
    }
   },
   "source": [
    "### 2.4. División"
   ]
  },
  {
   "cell_type": "code",
   "execution_count": 9,
   "metadata": {
    "scrolled": true,
    "slideshow": {
     "slide_type": "fragment"
    }
   },
   "outputs": [
    {
     "data": {
      "text/latex": [
       "$\\displaystyle \\text{Errores Inherentes: }[ix, iy]$"
      ],
      "text/plain": [
       "<IPython.core.display.Math object>"
      ]
     },
     "metadata": {},
     "output_type": "display_data"
    },
    {
     "data": {
      "text/latex": [
       "$\\displaystyle \\text{Operaciones: }\\left[ \\frac{x}{y}\\right]$"
      ],
      "text/plain": [
       "<IPython.core.display.Math object>"
      ]
     },
     "metadata": {},
     "output_type": "display_data"
    }
   ],
   "source": [
    "division =  GraficaDeProceso(['x','y'],['x/y'])"
   ]
  },
  {
   "cell_type": "code",
   "execution_count": 10,
   "metadata": {
    "slideshow": {
     "slide_type": "fragment"
    }
   },
   "outputs": [
    {
     "data": {
      "application/vnd.jupyter.widget-view+json": {
       "model_id": "cf118c510d1f4554ad3717d3c0c20904",
       "version_major": 2,
       "version_minor": 0
      },
      "text/plain": [
       "interactive(children=(IntSlider(value=8, description='width', max=24, min=-8), IntSlider(value=8, description=…"
      ]
     },
     "metadata": {},
     "output_type": "display_data"
    },
    {
     "data": {
      "text/latex": [
       "$\\displaystyle e_{total} = ix - iy + \\mu_{0}$"
      ],
      "text/plain": [
       "<IPython.core.display.Math object>"
      ]
     },
     "metadata": {},
     "output_type": "display_data"
    }
   ],
   "source": [
    "division.mostrar(8)\n",
    "division.ErrorTotal()"
   ]
  },
  {
   "cell_type": "markdown",
   "metadata": {
    "slideshow": {
     "slide_type": "slide"
    }
   },
   "source": [
    "## 2.5. Propagación en un algoritmo\n",
    "¿Cuál fue la clave de repasar la propagación de las operaciones básicas incorporando el error de redondeo al final?"
   ]
  },
  {
   "cell_type": "markdown",
   "metadata": {
    "slideshow": {
     "slide_type": "fragment"
    }
   },
   "source": [
    "Imaginemos que alguna de nuestras variables de salida de las gráficas simples que acabamos de analizar, se vuelva una variable de entrada para una segunda operación. ¿Cuál sería el error de inherente de la misma?"
   ]
  },
  {
   "cell_type": "markdown",
   "metadata": {
    "slideshow": {
     "slide_type": "fragment"
    }
   },
   "source": [
    "\n",
    "La respuesta es simple: **el error total a la salida**, es decir la suma entre el error inherente propagado y el error de redondeo que ocurre al almacenar el valor."
   ]
  },
  {
   "cell_type": "markdown",
   "metadata": {
    "hideCode": false,
    "slideshow": {
     "slide_type": "fragment"
    }
   },
   "source": [
    "Vamos a proponer un ejemplo simple:\n",
    "\n",
    "$$ op_0: x.y \\hspace{5mm} op_1: x+(x.y) = x+op_0$$"
   ]
  },
  {
   "cell_type": "code",
   "execution_count": 12,
   "metadata": {
    "slideshow": {
     "slide_type": "slide"
    }
   },
   "outputs": [
    {
     "data": {
      "text/latex": [
       "$\\displaystyle \\text{Errores Inherentes: }[ix, iy]$"
      ],
      "text/plain": [
       "<IPython.core.display.Math object>"
      ]
     },
     "metadata": {},
     "output_type": "display_data"
    },
    {
     "data": {
      "text/latex": [
       "$\\displaystyle \\text{Operaciones: }\\left[ x \\cdot y, \\  x \\cdot y + x\\right]$"
      ],
      "text/plain": [
       "<IPython.core.display.Math object>"
      ]
     },
     "metadata": {},
     "output_type": "display_data"
    }
   ],
   "source": [
    "operaciones = ['x*y','x+op0']\n",
    "algoritmo = GraficaDeProceso(['x','y'], operaciones)"
   ]
  },
  {
   "cell_type": "code",
   "execution_count": 54,
   "metadata": {
    "slideshow": {
     "slide_type": "fragment"
    }
   },
   "outputs": [
    {
     "data": {
      "application/vnd.jupyter.widget-view+json": {
       "model_id": "9498f5c4e1644a9fbf5f37253092ca61",
       "version_major": 2,
       "version_minor": 0
      },
      "text/plain": [
       "interactive(children=(IntSlider(value=9, description='width', max=27, min=-9), IntSlider(value=9, description=…"
      ]
     },
     "metadata": {},
     "output_type": "display_data"
    },
    {
     "data": {
      "text/latex": [
       "$\\displaystyle e_{total} = ix \\cdot \\left(\\frac{x \\cdot y}{x \\cdot y + x} + \\frac{x}{x \\cdot y + x}\\right) + \\frac{iy \\cdot x \\cdot y}{x \\cdot y + x} + \\frac{\\mu_{0} \\cdot x \\cdot y}{x \\cdot y + x} + \\mu_{1}$"
      ],
      "text/plain": [
       "<IPython.core.display.Math object>"
      ]
     },
     "metadata": {},
     "output_type": "display_data"
    }
   ],
   "source": [
    "algoritmo.mostrar(9)\n",
    "algoritmo.ErrorTotal()"
   ]
  },
  {
   "cell_type": "markdown",
   "metadata": {
    "slideshow": {
     "slide_type": "slide"
    }
   },
   "source": [
    "Vamos a separar los términos que corresponden al error inherente:"
   ]
  },
  {
   "cell_type": "code",
   "execution_count": 14,
   "metadata": {
    "scrolled": true,
    "slideshow": {
     "slide_type": "fragment"
    }
   },
   "outputs": [
    {
     "data": {
      "text/latex": [
       "$\\displaystyle ix \\cdot \\left(\\frac{x \\cdot y}{x \\cdot y + x} + \\frac{x}{x \\cdot y + x}\\right) + \\frac{iy \\cdot x \\cdot y}{x \\cdot y + x}$"
      ],
      "text/plain": [
       "<IPython.core.display.Math object>"
      ]
     },
     "metadata": {},
     "output_type": "display_data"
    }
   ],
   "source": [
    "algoritmo.ErrorInherente()"
   ]
  },
  {
   "cell_type": "markdown",
   "metadata": {
    "slideshow": {
     "slide_type": "fragment"
    }
   },
   "source": [
    "Vamos a buscar una cota para este término, ya que nos interesará saber qué tan grande puede ser el error total. Asumiremos una cota `r` positiva, mayor en módulo cada uno de los errores inherentes, por la que los reemplazaremos."
   ]
  },
  {
   "cell_type": "markdown",
   "metadata": {
    "slideshow": {
     "slide_type": "fragment"
    }
   },
   "source": [
    "Como no tenemos forma de saber de antemano qué signo tienen los errores inherentes, vamos a asumir que en caso de que un término fuera positivo, el error inherente también lo sería.\n",
    "\n",
    "Y de igual manera, si uno de estos terminos fuera negativo, el error inherente también lo sería. De esta manera, aseguraríamos que la nueva expresión fuera con seguridad una cota de la primera. "
   ]
  },
  {
   "cell_type": "markdown",
   "metadata": {
    "slideshow": {
     "slide_type": "fragment"
    }
   },
   "source": [
    "Esto equivale a agregar módulo a cada término que acompañaba a un error inherente **por separado**:"
   ]
  },
  {
   "cell_type": "code",
   "execution_count": 15,
   "metadata": {
    "slideshow": {
     "slide_type": "fragment"
    }
   },
   "outputs": [
    {
     "data": {
      "text/latex": [
       "$\\displaystyle r \\cdot \\left|{\\frac{x \\cdot y}{x \\cdot y + x}}\\right| + r \\cdot \\left|{\\frac{x \\cdot y}{x \\cdot y + x} + \\frac{x}{x \\cdot y + x}}\\right|$"
      ],
      "text/plain": [
       "<IPython.core.display.Math object>"
      ]
     },
     "metadata": {},
     "output_type": "display_data"
    }
   ],
   "source": [
    "algoritmo.ErrorInherente(r=True)"
   ]
  },
  {
   "cell_type": "markdown",
   "metadata": {
    "slideshow": {
     "slide_type": "slide"
    }
   },
   "source": [
    "Vamos a separar ahora los términos que corresponden al error de redondeo:"
   ]
  },
  {
   "cell_type": "code",
   "execution_count": 17,
   "metadata": {
    "scrolled": true,
    "slideshow": {
     "slide_type": "fragment"
    }
   },
   "outputs": [
    {
     "data": {
      "text/latex": [
       "$\\displaystyle \\frac{\\mu_{0} \\cdot x \\cdot y}{x \\cdot y + x} + \\mu_{1}$"
      ],
      "text/plain": [
       "<IPython.core.display.Math object>"
      ]
     },
     "metadata": {},
     "output_type": "display_data"
    }
   ],
   "source": [
    "algoritmo.ErrorRedondeo()"
   ]
  },
  {
   "cell_type": "markdown",
   "metadata": {
    "slideshow": {
     "slide_type": "fragment"
    }
   },
   "source": [
    "Como antes, vamos a buscar también una cota para este término. Asumiremos una cota $\\mu$ positiva, mayor en módulo cada uno de los errores de redeondeo, por la que los reemplazaremos. Esta cota corresponderá con la de nuestro sistema de representación."
   ]
  },
  {
   "cell_type": "markdown",
   "metadata": {
    "slideshow": {
     "slide_type": "fragment"
    }
   },
   "source": [
    "Como no tenemos forma de saber de antemano qué signo tienen los errores inherentes, vamos a asumir que en caso de que un término fuera positivo, el error inherente también lo sería. Y de igual manera, si uno de estos terminos fuera negativo, el error inherente también lo sería. De esta manera, aseguraríamos que la nueva expresión fuera con seguridad una cota de la primera. "
   ]
  },
  {
   "cell_type": "markdown",
   "metadata": {
    "slideshow": {
     "slide_type": "fragment"
    }
   },
   "source": [
    "Esto equivale a agregar módulo a cada término que acompañaba a un error de redondeo **por separado**:"
   ]
  },
  {
   "cell_type": "code",
   "execution_count": 18,
   "metadata": {
    "slideshow": {
     "slide_type": "fragment"
    }
   },
   "outputs": [
    {
     "data": {
      "text/latex": [
       "$\\displaystyle \\mu \\cdot \\left|{\\frac{x \\cdot y}{x \\cdot y + x}}\\right| + \\mu$"
      ],
      "text/plain": [
       "<IPython.core.display.Math object>"
      ]
     },
     "metadata": {},
     "output_type": "display_data"
    }
   ],
   "source": [
    "algoritmo.ErrorRedondeo(mu=True)"
   ]
  },
  {
   "cell_type": "markdown",
   "metadata": {
    "slideshow": {
     "slide_type": "slide"
    }
   },
   "source": [
    "Teníamos que el error total era:"
   ]
  },
  {
   "cell_type": "code",
   "execution_count": 20,
   "metadata": {
    "slideshow": {
     "slide_type": "fragment"
    }
   },
   "outputs": [
    {
     "data": {
      "text/latex": [
       "$\\displaystyle e_{total} = ix \\cdot \\left(\\frac{x \\cdot y}{x \\cdot y + x} + \\frac{x}{x \\cdot y + x}\\right) + \\frac{iy \\cdot x \\cdot y}{x \\cdot y + x} + \\frac{\\mu_{0} \\cdot x \\cdot y}{x \\cdot y + x} + \\mu_{1}$"
      ],
      "text/plain": [
       "<IPython.core.display.Math object>"
      ]
     },
     "metadata": {},
     "output_type": "display_data"
    }
   ],
   "source": [
    "algoritmo.ErrorTotal()"
   ]
  },
  {
   "cell_type": "markdown",
   "metadata": {
    "slideshow": {
     "slide_type": "fragment"
    }
   },
   "source": [
    "Y en base a realizar ciertas suposiciones sobre los errores inherentes y de redondeo, hemos llegado a la siguiente conclusión:"
   ]
  },
  {
   "cell_type": "code",
   "execution_count": 21,
   "metadata": {
    "slideshow": {
     "slide_type": "fragment"
    }
   },
   "outputs": [
    {
     "data": {
      "text/latex": [
       "$\\displaystyle e_{total} \\leq\\mu \\cdot \\left(\\left|{\\frac{x \\cdot y}{x \\cdot y + x}}\\right| + 1\\right) + r \\cdot \\left(\\left|{\\frac{x \\cdot y}{x \\cdot y + x}}\\right| + \\left|{\\frac{x \\cdot y}{x \\cdot y + x} + \\frac{x}{x \\cdot y + x}}\\right|\\right)$"
      ],
      "text/plain": [
       "<IPython.core.display.Math object>"
      ]
     },
     "metadata": {},
     "output_type": "display_data"
    }
   ],
   "source": [
    "algoritmo.CotaErrorTotal()"
   ]
  },
  {
   "cell_type": "markdown",
   "metadata": {
    "slideshow": {
     "slide_type": "fragment"
    }
   },
   "source": [
    "El término que acompaña a la cota **r** representa una mágnitud que nos dice qué tanto pueden amplificarse los errores inherentes en el error total. Es un viejo conocido, al que hemos visto con el nombre **condición del problema**:"
   ]
  },
  {
   "cell_type": "code",
   "execution_count": 23,
   "metadata": {
    "slideshow": {
     "slide_type": "fragment"
    }
   },
   "outputs": [
    {
     "data": {
      "text/latex": [
       "$\\displaystyle \\left|{\\frac{y}{y + 1}}\\right| + 1$"
      ],
      "text/plain": [
       "<IPython.core.display.Math object>"
      ]
     },
     "metadata": {},
     "output_type": "display_data"
    }
   ],
   "source": [
    "algoritmo.Cp(1)"
   ]
  },
  {
   "cell_type": "markdown",
   "metadata": {
    "slideshow": {
     "slide_type": "slide"
    }
   },
   "source": [
    "En base a la expresión teórica vista hemos desarrollado un algoritmo que permite calcularlo usando SymPy:\n",
    "\n",
    "$$\n",
    "Cp = \\sum_{j=0}^{n}\n",
    "\\left|\\frac{\\frac{\\partial f(x_0...x_n)}{\\partial x_j}.x_j}{f(x_0...x_n)}\\right| \n",
    "$$ "
   ]
  },
  {
   "cell_type": "code",
   "execution_count": 55,
   "metadata": {
    "slideshow": {
     "slide_type": "fragment"
    }
   },
   "outputs": [
    {
     "data": {
      "text/latex": [
       "$\\displaystyle \\left|{\\frac{x \\cdot y}{x \\cdot y + x}}\\right| + \\left|{\\frac{x \\cdot \\left(y + 1\\right)}{x \\cdot y + x}}\\right|$"
      ],
      "text/plain": [
       "<IPython.core.display.Math object>"
      ]
     },
     "metadata": {},
     "output_type": "display_data"
    }
   ],
   "source": [
    "algoritmo.CpTeorico(1)"
   ]
  },
  {
   "cell_type": "markdown",
   "metadata": {
    "slideshow": {
     "slide_type": "fragment"
    }
   },
   "source": [
    "Y si lo comparamos con el obtenido a través de la gráfica:"
   ]
  },
  {
   "cell_type": "code",
   "execution_count": 57,
   "metadata": {
    "slideshow": {
     "slide_type": "fragment"
    }
   },
   "outputs": [
    {
     "data": {
      "text/latex": [
       "$\\displaystyle 0$"
      ],
      "text/plain": [
       "0"
      ]
     },
     "execution_count": 57,
     "metadata": {},
     "output_type": "execute_result"
    }
   ],
   "source": [
    "sm.simplify(algoritmo.cpTeorico-algoritmo.cp)"
   ]
  },
  {
   "cell_type": "markdown",
   "metadata": {
    "slideshow": {
     "slide_type": "fragment"
    }
   },
   "source": [
    "Tal como hemos dicho, la propagación de errores inherentes es igual en el Problema Matemático que en cualquier algoritmo que lo intente resolver."
   ]
  },
  {
   "cell_type": "code",
   "execution_count": 35,
   "metadata": {
    "slideshow": {
     "slide_type": "slide"
    }
   },
   "outputs": [
    {
     "data": {
      "text/latex": [
       "$\\displaystyle e_{total} \\leq\\mu \\cdot \\left(\\left|{\\frac{x \\cdot y}{x \\cdot y + x}}\\right| + 1\\right) + r \\cdot \\left(\\left|{\\frac{x \\cdot y}{x \\cdot y + x}}\\right| + \\left|{\\frac{x \\cdot y}{x \\cdot y + x} + \\frac{x}{x \\cdot y + x}}\\right|\\right)$"
      ],
      "text/plain": [
       "<IPython.core.display.Math object>"
      ]
     },
     "metadata": {},
     "output_type": "display_data"
    }
   ],
   "source": [
    "algoritmo.CotaErrorTotal()"
   ]
  },
  {
   "cell_type": "markdown",
   "metadata": {
    "slideshow": {
     "slide_type": "fragment"
    }
   },
   "source": [
    "La novedad viene respecto a la propagación de los errores de redondeo:"
   ]
  },
  {
   "cell_type": "markdown",
   "metadata": {
    "slideshow": {
     "slide_type": "fragment"
    }
   },
   "source": [
    "El término que acompaña a la cota $\\mu$ representa una magnitud que nos dice qué tanto pueden amplificarse los errores de redondeo en el error total, y se lo denomina **término de estabilidad** del algoritmo:"
   ]
  },
  {
   "cell_type": "code",
   "execution_count": 59,
   "metadata": {
    "slideshow": {
     "slide_type": "fragment"
    }
   },
   "outputs": [
    {
     "data": {
      "text/latex": [
       "$\\displaystyle \\left|{\\frac{x \\cdot y}{x \\cdot y + x}}\\right| + 1$"
      ],
      "text/plain": [
       "<IPython.core.display.Math object>"
      ]
     },
     "metadata": {},
     "output_type": "display_data"
    }
   ],
   "source": [
    "algoritmo.Te()"
   ]
  },
  {
   "cell_type": "markdown",
   "metadata": {
    "slideshow": {
     "slide_type": "fragment"
    }
   },
   "source": [
    "Si bien, al igual que para Cp, buscaremos que no sea mucho mayor a la unidad, tendremos en consideración que si un Cp es grande, un Te similar no será una gran preocupación ya que en general $\\mu \\leq r$. Por lo tanto, pediremos:\n",
    "\n",
    "$$ \\frac{Te}{Cp} \\not\\gg 1$$"
   ]
  },
  {
   "cell_type": "markdown",
   "metadata": {
    "slideshow": {
     "slide_type": "slide"
    }
   },
   "source": [
    "Vamos a retomar el problema del Area que hemos ya hemos visto en otro video:"
   ]
  },
  {
   "cell_type": "code",
   "execution_count": 37,
   "metadata": {
    "slideshow": {
     "slide_type": "fragment"
    }
   },
   "outputs": [
    {
     "data": {
      "text/latex": [
       "$\\displaystyle \\text{Errores Inherentes: }[iR, ir, ip]$"
      ],
      "text/plain": [
       "<IPython.core.display.Math object>"
      ]
     },
     "metadata": {},
     "output_type": "display_data"
    },
    {
     "data": {
      "text/latex": [
       "$\\displaystyle \\text{Operaciones: }\\left[ R^{2}, \\  r^{2}, \\  R^{2} - r^{2}, \\  p \\cdot \\left(R^{2} - r^{2}\\right)\\right]$"
      ],
      "text/plain": [
       "<IPython.core.display.Math object>"
      ]
     },
     "metadata": {},
     "output_type": "display_data"
    }
   ],
   "source": [
    "alg1 = GraficaDeProceso(['R','r','p'],['R**2','r**2','op0-op1','op2*p'])\n",
    "alg1.ErrorInherente(0)\n",
    "alg1.ErrorRedondeo(0)"
   ]
  },
  {
   "cell_type": "code",
   "execution_count": 38,
   "metadata": {
    "slideshow": {
     "slide_type": "fragment"
    }
   },
   "outputs": [
    {
     "data": {
      "text/latex": [
       "$\\displaystyle \\text{Errores Inherentes: }[iR, ir, ip]$"
      ],
      "text/plain": [
       "<IPython.core.display.Math object>"
      ]
     },
     "metadata": {},
     "output_type": "display_data"
    },
    {
     "data": {
      "text/latex": [
       "$\\displaystyle \\text{Operaciones: }\\left[ R + r, \\  R - r, \\  \\left(R - r\\right) \\cdot \\left(R + r\\right), \\  p \\cdot \\left(R - r\\right) \\cdot \\left(R + r\\right)\\right]$"
      ],
      "text/plain": [
       "<IPython.core.display.Math object>"
      ]
     },
     "metadata": {},
     "output_type": "display_data"
    }
   ],
   "source": [
    "alg2 = GraficaDeProceso(['R','r','p'],['R+r','R-r','op0*op1','op2*p'])\n",
    "alg2.ErrorInherente(0)\n",
    "alg2.ErrorRedondeo(0)"
   ]
  },
  {
   "cell_type": "code",
   "execution_count": 39,
   "metadata": {
    "slideshow": {
     "slide_type": "slide"
    }
   },
   "outputs": [
    {
     "data": {
      "application/vnd.jupyter.widget-view+json": {
       "model_id": "8fb950b5a6484ea780830cba8d5ac920",
       "version_major": 2,
       "version_minor": 0
      },
      "text/plain": [
       "interactive(children=(IntSlider(value=15, description='width', max=45, min=-15), IntSlider(value=15, descripti…"
      ]
     },
     "metadata": {},
     "output_type": "display_data"
    }
   ],
   "source": [
    "alg1.mostrar(15)"
   ]
  },
  {
   "cell_type": "code",
   "execution_count": 40,
   "metadata": {
    "slideshow": {
     "slide_type": "slide"
    }
   },
   "outputs": [
    {
     "data": {
      "application/vnd.jupyter.widget-view+json": {
       "model_id": "41399fd7dc7a4305990bd9402b747cf4",
       "version_major": 2,
       "version_minor": 0
      },
      "text/plain": [
       "interactive(children=(IntSlider(value=15, description='width', max=45, min=-15), IntSlider(value=15, descripti…"
      ]
     },
     "metadata": {},
     "output_type": "display_data"
    }
   ],
   "source": [
    "alg2.mostrar(15)"
   ]
  },
  {
   "cell_type": "markdown",
   "metadata": {
    "slideshow": {
     "slide_type": "slide"
    }
   },
   "source": [
    "Vamos a comparar los resultados de ambos respecto al error inherente:"
   ]
  },
  {
   "cell_type": "code",
   "execution_count": 44,
   "metadata": {
    "slideshow": {
     "slide_type": "fragment"
    }
   },
   "outputs": [
    {
     "data": {
      "text/latex": [
       "$\\displaystyle 2 \\cdot \\left|{\\frac{R^{2}}{R^{2} - r^{2}}}\\right| + 2 \\cdot \\left|{\\frac{r^{2}}{R^{2} - r^{2}}}\\right| + 1$"
      ],
      "text/plain": [
       "<IPython.core.display.Math object>"
      ]
     },
     "metadata": {},
     "output_type": "display_data"
    },
    {
     "data": {
      "text/latex": [
       "$\\displaystyle \\left|{\\frac{R}{R + r} + \\frac{R}{R - r}}\\right| + \\left|{\\frac{r}{R + r} - \\frac{r}{R - r}}\\right| + 1$"
      ],
      "text/plain": [
       "<IPython.core.display.Math object>"
      ]
     },
     "metadata": {},
     "output_type": "display_data"
    }
   ],
   "source": [
    "alg1.Cp()\n",
    "alg2.Cp()"
   ]
  },
  {
   "cell_type": "code",
   "execution_count": 45,
   "metadata": {
    "slideshow": {
     "slide_type": "fragment"
    }
   },
   "outputs": [
    {
     "data": {
      "text/latex": [
       "$\\displaystyle 0$"
      ],
      "text/plain": [
       "0"
      ]
     },
     "execution_count": 45,
     "metadata": {},
     "output_type": "execute_result"
    }
   ],
   "source": [
    "sm.simplify(alg1.cp - alg2.cp)"
   ]
  },
  {
   "cell_type": "code",
   "execution_count": 46,
   "metadata": {
    "slideshow": {
     "slide_type": "fragment"
    }
   },
   "outputs": [
    {
     "data": {
      "text/latex": [
       "$\\displaystyle 2 \\cdot \\left|{\\frac{R^{2}}{R^{2} - r^{2}}}\\right| + 2 \\cdot \\left|{\\frac{r^{2}}{R^{2} - r^{2}}}\\right| + 1$"
      ],
      "text/plain": [
       "<IPython.core.display.Math object>"
      ]
     },
     "metadata": {},
     "output_type": "display_data"
    },
    {
     "data": {
      "text/latex": [
       "$\\displaystyle \\left|{\\frac{R \\cdot \\left(p \\cdot \\left(R - r\\right) + p \\cdot \\left(R + r\\right)\\right)}{p \\cdot \\left(R - r\\right) \\cdot \\left(R + r\\right)}}\\right| + \\left|{\\frac{r \\cdot \\left(p \\cdot \\left(R - r\\right) - p \\cdot \\left(R + r\\right)\\right)}{p \\cdot \\left(R - r\\right) \\cdot \\left(R + r\\right)}}\\right| + 1$"
      ],
      "text/plain": [
       "<IPython.core.display.Math object>"
      ]
     },
     "metadata": {},
     "output_type": "display_data"
    }
   ],
   "source": [
    "alg1.CpTeorico()\n",
    "alg2.CpTeorico()"
   ]
  },
  {
   "cell_type": "code",
   "execution_count": 61,
   "metadata": {
    "slideshow": {
     "slide_type": "fragment"
    }
   },
   "outputs": [
    {
     "data": {
      "text/latex": [
       "$\\displaystyle 0$"
      ],
      "text/plain": [
       "0"
      ]
     },
     "execution_count": 61,
     "metadata": {},
     "output_type": "execute_result"
    }
   ],
   "source": [
    "sm.simplify(alg1.cp - alg1.cpTeorico)"
   ]
  },
  {
   "cell_type": "markdown",
   "metadata": {
    "slideshow": {
     "slide_type": "slide"
    }
   },
   "source": [
    "En términos del error de redondeo:"
   ]
  },
  {
   "cell_type": "code",
   "execution_count": 49,
   "metadata": {
    "slideshow": {
     "slide_type": "fragment"
    }
   },
   "outputs": [
    {
     "data": {
      "text/latex": [
       "$\\displaystyle \\left|{\\frac{R^{2}}{R^{2} - r^{2}}}\\right| + \\left|{\\frac{r^{2}}{R^{2} - r^{2}}}\\right| + 2$"
      ],
      "text/plain": [
       "<IPython.core.display.Math object>"
      ]
     },
     "metadata": {},
     "output_type": "display_data"
    },
    {
     "data": {
      "text/latex": [
       "$\\displaystyle 4$"
      ],
      "text/plain": [
       "<IPython.core.display.Math object>"
      ]
     },
     "metadata": {},
     "output_type": "display_data"
    }
   ],
   "source": [
    "alg1.Te()\n",
    "alg2.Te()"
   ]
  },
  {
   "cell_type": "markdown",
   "metadata": {
    "slideshow": {
     "slide_type": "fragment"
    }
   },
   "source": [
    "Claramente, vemos que un Te es mucho mayor que otro. Sin embargo:"
   ]
  },
  {
   "cell_type": "code",
   "execution_count": 62,
   "metadata": {
    "slideshow": {
     "slide_type": "fragment"
    }
   },
   "outputs": [
    {
     "data": {
      "text/latex": [
       "$\\displaystyle \\frac{1}{2} + \\frac{3}{4 \\left|{\\frac{R^{2}}{R^{2} - r^{2}}}\\right| + 4 \\left|{\\frac{r^{2}}{R^{2} - r^{2}}}\\right| + 2}$"
      ],
      "text/plain": [
       "1/2 + 3/(4*Abs(R**2/(R**2 - r**2)) + 4*Abs(r**2/(R**2 - r**2)) + 2)"
      ]
     },
     "execution_count": 62,
     "metadata": {},
     "output_type": "execute_result"
    }
   ],
   "source": [
    "sm.ratsimp(alg1.te / alg1.cp)"
   ]
  },
  {
   "cell_type": "code",
   "execution_count": 63,
   "metadata": {
    "slideshow": {
     "slide_type": "fragment"
    }
   },
   "outputs": [
    {
     "data": {
      "text/latex": [
       "$\\displaystyle \\frac{4}{\\left|{\\frac{R}{R + r} + \\frac{R}{R - r}}\\right| + \\left|{\\frac{r}{R + r} - \\frac{r}{R - r}}\\right| + 1}$"
      ],
      "text/plain": [
       "4/(Abs(R/(R + r) + R/(R - r)) + Abs(r/(R + r) - r/(R - r)) + 1)"
      ]
     },
     "execution_count": 63,
     "metadata": {},
     "output_type": "execute_result"
    }
   ],
   "source": [
    "sm.ratsimp(alg2.te / alg2.cp)"
   ]
  },
  {
   "cell_type": "markdown",
   "metadata": {
    "slideshow": {
     "slide_type": "fragment"
    }
   },
   "source": [
    "Vemos que de acuerdo a lo visto, ambos algoritmos serían estables, dada la relación entre Te y Cp. Cuando R y r sean similares, estaremos frente a una amplificación en la propagación de los errores inherenes, que en el primero de los algoritmos también implicará una propagación en los errores de redondeo."
   ]
  },
  {
   "cell_type": "markdown",
   "metadata": {
    "slideshow": {
     "slide_type": "fragment"
    }
   },
   "source": [
    "La resta, operación que introduce el riesgo de aparación de la **Cancelación** cuando sus dos variables de entrada son próximos entre sí, se encuentra mejor ubicada en el segundo algoritmo, ya que se ubica al comienzo. En ese contexto, amplifica menos los errores de redondeo."
   ]
  }
 ],
 "metadata": {
  "celltoolbar": "Slideshow",
  "kernelspec": {
   "display_name": "Python 3",
   "language": "python",
   "name": "python3"
  },
  "language_info": {
   "codemirror_mode": {
    "name": "ipython",
    "version": 3
   },
   "file_extension": ".py",
   "mimetype": "text/x-python",
   "name": "python",
   "nbconvert_exporter": "python",
   "pygments_lexer": "ipython3",
   "version": "3.7.6"
  }
 },
 "nbformat": 4,
 "nbformat_minor": 4
}
