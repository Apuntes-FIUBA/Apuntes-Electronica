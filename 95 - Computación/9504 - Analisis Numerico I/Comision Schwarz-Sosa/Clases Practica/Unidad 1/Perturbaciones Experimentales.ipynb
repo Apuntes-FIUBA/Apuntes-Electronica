{
 "cells": [
  {
   "cell_type": "markdown",
   "metadata": {},
   "source": [
    "![Curso Schwarz-Sosa-Suriano](http://www.fi.uba.ar/sites/default/files/logo.png)\n",
    "# Perturbaciones Experimentales\n",
    "***\n",
    "**Curso Schwarz - Sosa - Suriano**\n",
    "- Métodos Numéricos. *Curso 2*\n",
    "- Análisis Numérico I. *Curso 4*\n",
    "- Métodos Matemáticos y Numéricos. *Curso 6*"
   ]
  },
  {
   "cell_type": "markdown",
   "metadata": {
    "slideshow": {
     "slide_type": "slide"
    }
   },
   "source": [
    "Luego de analizar los procedimientos de propagación de errores inherentes y de redondeo, vimos que la Gráfica de Proceso nos permitía llegar a la siguientes expresión:\n",
    "\n",
    "$$ e_{total} \\leq Cp.r + Te.\\mu$$"
   ]
  },
  {
   "cell_type": "markdown",
   "metadata": {
    "slideshow": {
     "slide_type": "fragment"
    }
   },
   "source": [
    "A pesar de haber contado con una librería que nos permitía despejar Cp y Te a partir de plantear el orden de las las operaciones del algoritmo, debemos tener en cuenta que en el ejercicio de la profesión será muy habitual encontrarnos con alguna de las siguientes situaciones:"
   ]
  },
  {
   "cell_type": "markdown",
   "metadata": {
    "slideshow": {
     "slide_type": "fragment"
    }
   },
   "source": [
    "- El algoritmo tiene una cantidad de operaciones dificil de volcar a una Gráfica de Proceso.\n",
    "- No conocemos la expresión matemática ni las instrucciones de un algoritmo."
   ]
  },
  {
   "cell_type": "markdown",
   "metadata": {
    "slideshow": {
     "slide_type": "fragment"
    }
   },
   "source": [
    "En estos casos puede resultar interesante estimar los valores de Cp y Te en lugar de buscar sus expresiones exactas"
   ]
  },
  {
   "cell_type": "markdown",
   "metadata": {
    "slideshow": {
     "slide_type": "fragment"
    }
   },
   "source": [
    "En los desarrollos matemáticos que veremos a continuación consideraremos un algoritmo cuya expresión resumiremos como $f(x)$ -o $f(x_0...x_n)$ con varias variables- del que podemos calcular su resultado numérico aunque no conozcamos su expresión matemática o no podamos desarrollar su gráfica de proceso."
   ]
  },
  {
   "cell_type": "markdown",
   "metadata": {
    "slideshow": {
     "slide_type": "slide"
    }
   },
   "source": [
    "## 1. Estimación de Cp"
   ]
  },
  {
   "cell_type": "markdown",
   "metadata": {
    "slideshow": {
     "slide_type": "-"
    }
   },
   "source": [
    "En un video aclaratorio sobre el requisito $ \\frac{Te}{Cp} \\not \\gg 1 $ (que debe cumplirse para que un algoritmo sea estable) que en la mayor parte de las aplicaciones de Ingeniería nos encontraremos con que la cota $r$ será en general mucho mayor a la cota $\\mu$."
   ]
  },
  {
   "cell_type": "markdown",
   "metadata": {
    "slideshow": {
     "slide_type": "fragment"
    }
   },
   "source": [
    "\n",
    "En ese contexto, y con el objetivo de estimar el valor de $Cp$, vamos a considerar despreciable el término relacionado con el error de redondeo en la expresión de la cota del error total. La validez de esta simplificación la mediremos en términos del éxito que tengamos a la hora de estimar el valor de $Cp$:"
   ]
  },
  {
   "cell_type": "markdown",
   "metadata": {
    "slideshow": {
     "slide_type": "fragment"
    }
   },
   "source": [
    "$$ e_{total} \\leq Cp.r$$"
   ]
  },
  {
   "cell_type": "markdown",
   "metadata": {
    "slideshow": {
     "slide_type": "fragment"
    }
   },
   "source": [
    "La propuesta para estimar $Cp$ surge de introducir una leve modificación a esta desigualdad:"
   ]
  },
  {
   "cell_type": "markdown",
   "metadata": {
    "slideshow": {
     "slide_type": "fragment"
    }
   },
   "source": [
    "$$ \\frac{e_{total}}{r} \\leq Cp$$ "
   ]
  },
  {
   "cell_type": "markdown",
   "metadata": {
    "slideshow": {
     "slide_type": "slide"
    }
   },
   "source": [
    "Recordemos que:\n",
    "$$ e_{total} = \\left | \\frac{f(\\hat x)-f(x)}{f(x)} \\right | \\hspace{5mm} con \\hspace{5mm}\\hat x = x . (1+i_x)$$"
   ]
  },
  {
   "cell_type": "markdown",
   "metadata": {
    "slideshow": {
     "slide_type": "fragment"
    }
   },
   "source": [
    "Esta vez, en lugar de pensar en un $i_x$ desconocido acotado por un valor $r$, vamos directamente a proponer una **perturbación experimental** $r$ que nos permitirá decir que:"
   ]
  },
  {
   "cell_type": "markdown",
   "metadata": {
    "slideshow": {
     "slide_type": "fragment"
    }
   },
   "source": [
    "$$ \\hat x = x . (1\\pm r) \\hspace{5mm} \\Rightarrow \\hspace{5mm} e_{total} =  \\left | \\frac{f [x . (1 \\pm r)]-f(x)}{f(x)} \\right | $$ "
   ]
  },
  {
   "cell_type": "markdown",
   "metadata": {
    "slideshow": {
     "slide_type": "fragment"
    }
   },
   "source": [
    "Y como en verdad ya no pretendemos buscar el valor exacto de una cota del error sino una estimación para $Cp$:"
   ]
  },
  {
   "cell_type": "markdown",
   "metadata": {
    "slideshow": {
     "slide_type": "fragment"
    }
   },
   "source": [
    "$$ \\frac{e_{total}}{r} \\leq Cp \\hspace{5mm} \\Rightarrow \\hspace{5mm}  Cp \\geq  \\frac{e_{total}}{r}  \\hspace{5mm} \\Rightarrow \\hspace{5mm} Cp \\approx e_{total}.\\frac{1}{r}$$"
   ]
  },
  {
   "cell_type": "markdown",
   "metadata": {
    "slideshow": {
     "slide_type": "fragment"
    }
   },
   "source": [
    "De lo que resulta:\n",
    "$$ Cp \\approx \\left |\\frac{f[x.(1 \\pm r)]-f(x)}{f(x)} \\right |. \\frac{1}{r} $$"
   ]
  },
  {
   "cell_type": "markdown",
   "metadata": {
    "slideshow": {
     "slide_type": "slide"
    }
   },
   "source": [
    "En consecuencia, lo que haremos para estimar el valor de Cp será:"
   ]
  },
  {
   "cell_type": "markdown",
   "metadata": {
    "slideshow": {
     "slide_type": "fragment"
    }
   },
   "source": [
    "1. Definir un valor de $x$ y una *perturbación experimental* $r$"
   ]
  },
  {
   "cell_type": "markdown",
   "metadata": {
    "slideshow": {
     "slide_type": "fragment"
    }
   },
   "source": [
    "2. Calcular con nuestro algoritmo $f(x)$, $f[x.(1 + r)]$ y $f[x.(1-r)]$"
   ]
  },
  {
   "cell_type": "markdown",
   "metadata": {
    "slideshow": {
     "slide_type": "fragment"
    }
   },
   "source": [
    "3. Obtener:\n",
    "\n",
    "    $$Cp^{(+)} = \\left |\\frac{f[x.(1 + r)]-f(x)}{f(x)} \\right |. \\frac{1}{r}$$\n",
    "    \n",
    "    $$Cp^{(-)} = \\left |\\frac{f[x.(1 - r)]-f(x)}{f(x)} \\right |. \\frac{1}{r}$$"
   ]
  },
  {
   "cell_type": "markdown",
   "metadata": {
    "slideshow": {
     "slide_type": "fragment"
    }
   },
   "source": [
    "4. Adoptar como estimación de $Cp$:\n",
    "    $$Cp \\approx máx  \\begin{Bmatrix} Cp^{(+)} \\\\ Cp^{(-)}  \\end{Bmatrix} $$"
   ]
  },
  {
   "cell_type": "markdown",
   "metadata": {
    "slideshow": {
     "slide_type": "slide"
    }
   },
   "source": [
    "Cuando tengamos un algoritmo con varias variables de entrada $f(x_0,x_1,...,x_n)$ utilizaremos un único valor de *perturbación experimental* $r$ para todas ellas, y perturbando de a una variable por vez hallaremos:"
   ]
  },
  {
   "cell_type": "markdown",
   "metadata": {
    "slideshow": {
     "slide_type": "fragment"
    }
   },
   "source": [
    "$$Cp_{x_j} = máx  \\begin{Bmatrix} Cp^{(+)}_{x_j} \\\\ Cp^{(-)}_{x_j}  \\end{Bmatrix} \\hspace{5mm} con \\hspace{5mm} j = 0, 1, ..., n$$"
   ]
  },
  {
   "cell_type": "markdown",
   "metadata": {
    "slideshow": {
     "slide_type": "fragment"
    }
   },
   "source": [
    "Y una vez que hayamos estimado *esa especie de* $Cp$ para cada variable, haremos:"
   ]
  },
  {
   "cell_type": "markdown",
   "metadata": {
    "slideshow": {
     "slide_type": "fragment"
    }
   },
   "source": [
    "$$Cp \\approx  \\sum_{j=0}^{n} Cp_{x_j} $$ "
   ]
  },
  {
   "cell_type": "markdown",
   "metadata": {
    "slideshow": {
     "slide_type": "fragment"
    }
   },
   "source": [
    "Análogamente a lo que hacíamos con la expresión teórica de $Cp$ para varias variables:\n",
    "\n",
    "$$\n",
    "Cp = \\sum_{j=0}^{n}\n",
    "\\left|\\frac{\\frac{\\partial f(x_0...x_n)}{\\partial x_j}.x_j}{f(x_0...x_n)}\\right| \n",
    "$$ "
   ]
  },
  {
   "cell_type": "markdown",
   "metadata": {
    "slideshow": {
     "slide_type": "slide"
    }
   },
   "source": [
    "## 1. Estimación de Te"
   ]
  },
  {
   "cell_type": "markdown",
   "metadata": {
    "slideshow": {
     "slide_type": "fragment"
    }
   },
   "source": [
    "Volvamos a nuestra expresión del error total:\n",
    "$$ e_{total} \\leq Cp.r + Te.\\mu$$"
   ]
  },
  {
   "cell_type": "markdown",
   "metadata": {
    "slideshow": {
     "slide_type": "fragment"
    }
   },
   "source": [
    "Imaginemos que tenemos a nuestra disposición un mismo algoritmo, que puede correrse en dos ordenadores distintos, cada uno de los cuales tiene una cantidad distinta de dígitos en su sistema de representación:"
   ]
  },
  {
   "cell_type": "markdown",
   "metadata": {
    "slideshow": {
     "slide_type": "fragment"
    }
   },
   "source": [
    "**Ordenador 1:**\n",
    "- Sistema de representación con $t$ dígitos\n",
    "- Cota del error de redondeo: $\\mu_t = 0,5 . 10^{1-t}$\n",
    "- $ e_t \\leq Cp.r + Te.\\mu_t$"
   ]
  },
  {
   "cell_type": "markdown",
   "metadata": {
    "slideshow": {
     "slide_type": "fragment"
    }
   },
   "source": [
    "**Ordenador 2:**\n",
    "- Sistema de representación con $s$ dígitos\n",
    "- Cota del error de redondeo: $\\mu_s = 0,5 . 10^{1-s}$    \n",
    "- $ e_s \\leq Cp.r + Te.\\mu_s$"
   ]
  },
  {
   "cell_type": "markdown",
   "metadata": {
    "slideshow": {
     "slide_type": "slide"
    }
   },
   "source": [
    "Si restamos las dos expresiones de error total:"
   ]
  },
  {
   "cell_type": "markdown",
   "metadata": {
    "slideshow": {
     "slide_type": "fragment"
    }
   },
   "source": [
    "$$ e_t - e_s \\leq (Cp.r + Te.\\mu_t) - (Cp.r + Te.\\mu_s) $$"
   ]
  },
  {
   "cell_type": "markdown",
   "metadata": {
    "slideshow": {
     "slide_type": "fragment"
    }
   },
   "source": [
    "$$ e_t - e_s \\leq Cp.r - Cp.r + Te.\\mu_t - Te.\\mu_s $$"
   ]
  },
  {
   "cell_type": "markdown",
   "metadata": {
    "slideshow": {
     "slide_type": "fragment"
    }
   },
   "source": [
    "$$ e_t - e_s \\leq Te.\\mu_t - Te.\\mu_s$$"
   ]
  },
  {
   "cell_type": "markdown",
   "metadata": {
    "slideshow": {
     "slide_type": "fragment"
    }
   },
   "source": [
    "$$ e_t - e_s \\leq Te.(\\mu_t - \\mu_s)$$"
   ]
  },
  {
   "cell_type": "markdown",
   "metadata": {
    "slideshow": {
     "slide_type": "fragment"
    }
   },
   "source": [
    "$$ Te  \\geq (e_t - e_s).\\frac{1}{\\mu_t - \\mu_s}$$"
   ]
  },
  {
   "cell_type": "markdown",
   "metadata": {
    "slideshow": {
     "slide_type": "slide"
    }
   },
   "source": [
    "Nuevamente, como lo que buscamos es encontrar una estimación de $Te$ vamos a transformar la desigualdad en una aproximación:"
   ]
  },
  {
   "cell_type": "markdown",
   "metadata": {
    "slideshow": {
     "slide_type": "fragment"
    }
   },
   "source": [
    "$$ Te  \\approx (e_t - e_s).\\frac{1}{\\mu_t - \\mu_s}$$"
   ]
  },
  {
   "cell_type": "markdown",
   "metadata": {
    "slideshow": {
     "slide_type": "fragment"
    }
   },
   "source": [
    "Sabemos además que:"
   ]
  },
  {
   "cell_type": "markdown",
   "metadata": {
    "slideshow": {
     "slide_type": "fragment"
    }
   },
   "source": [
    "$$ e_t = \\frac{f(x_0...x_n)_t -  f(x_0...x_n)}{ f(x_0...x_n)}$$"
   ]
  },
  {
   "cell_type": "markdown",
   "metadata": {
    "slideshow": {
     "slide_type": "fragment"
    }
   },
   "source": [
    "$$ e_s = \\frac{f(x_0...x_n)_s -  f(x_0...x_n)}{ f(x_0...x_n)}$$"
   ]
  },
  {
   "cell_type": "markdown",
   "metadata": {
    "slideshow": {
     "slide_type": "fragment"
    }
   },
   "source": [
    "Con lo cual:"
   ]
  },
  {
   "cell_type": "markdown",
   "metadata": {
    "slideshow": {
     "slide_type": "fragment"
    }
   },
   "source": [
    "$$ Te  \\approx (\\frac{f(x_0...x_n)_t -  f(x_0...x_n)}{ f(x_0...x_n)} - \\frac{f(x_0...x_n)_s -  f(x_0...x_n)}{ f(x_0...x_n)}).\\frac{1}{\\mu_t - \\mu_s}$$"
   ]
  },
  {
   "cell_type": "markdown",
   "metadata": {
    "slideshow": {
     "slide_type": "slide"
    }
   },
   "source": [
    "$$ Te  \\approx (\\frac{f(x_0...x_n)_t -  f(x_0...x_n)}{ f(x_0...x_n)} - \\frac{f(x_0...x_n)_s -  f(x_0...x_n)}{ f(x_0...x_n)}).\\frac{1}{\\mu_t - \\mu_s}$$"
   ]
  },
  {
   "cell_type": "markdown",
   "metadata": {
    "slideshow": {
     "slide_type": "fragment"
    }
   },
   "source": [
    "$$ Te  \\approx \\frac{f(x_0...x_n)_t - f(x_0...x_n)_s}{ f(x_0...x_n)}.\\frac{1}{\\mu_t - \\mu_s}$$"
   ]
  },
  {
   "cell_type": "markdown",
   "metadata": {
    "slideshow": {
     "slide_type": "fragment"
    }
   },
   "source": [
    "De esta última expresión conocemos $\\mu_t$ y $\\mu_s$ y con tan solo correr nuestro algoritmo en cada ordenador podríamos hallar $f(x_0...x_n)_t$ y $f(x_0...x_n)_s$"
   ]
  },
  {
   "cell_type": "markdown",
   "metadata": {
    "slideshow": {
     "slide_type": "fragment"
    }
   },
   "source": [
    "Para poder estimar $Te$ lo único que nos estaría faltando conocer $f(x_0...x_n)$, pero en tren de buscar una estimación y no un valor exacto, bien podemos asumir:"
   ]
  },
  {
   "cell_type": "markdown",
   "metadata": {
    "slideshow": {
     "slide_type": "fragment"
    }
   },
   "source": [
    "$$Asumiendo \\hspace{5mm} t>s \\hspace{5mm} \\Rightarrow \\hspace{5mm} f(x_0...x_n) \\approx f(x_0...x_n)_t$$"
   ]
  },
  {
   "cell_type": "markdown",
   "metadata": {
    "slideshow": {
     "slide_type": "fragment"
    }
   },
   "source": [
    "$$ Te  \\approx \\frac{f(x_0...x_n)_t - f(x_0...x_n)_s}{ f(x_0...x_n)_t}.\\frac{1}{\\mu_t - \\mu_s}$$"
   ]
  },
  {
   "cell_type": "markdown",
   "metadata": {
    "slideshow": {
     "slide_type": "slide"
    }
   },
   "source": [
    "$$ Te  \\approx \\frac{f(x_0...x_n)_t - f(x_0...x_n)_s}{ f(x_0...x_n)_t}.\\frac{1}{\\mu_t - \\mu_s}$$"
   ]
  },
  {
   "cell_type": "markdown",
   "metadata": {
    "slideshow": {
     "slide_type": "fragment"
    }
   },
   "source": [
    "Con esta última expresión, para poder estimar $Te$ deberíamos:"
   ]
  },
  {
   "cell_type": "markdown",
   "metadata": {
    "slideshow": {
     "slide_type": "fragment"
    }
   },
   "source": [
    "1. Definir un valor para $x_0, x_1,..., x_n$"
   ]
  },
  {
   "cell_type": "markdown",
   "metadata": {
    "slideshow": {
     "slide_type": "fragment"
    }
   },
   "source": [
    "2. Hacer correr el algoritmo con $t$ dígitos y con $s$ dígitos **en cada operación intermedia** y hallar:\n",
    "    - $ f(x_0...x_n)_t $\n",
    "    - $ f(x_0...x_n)_s $"
   ]
  },
  {
   "cell_type": "markdown",
   "metadata": {
    "slideshow": {
     "slide_type": "fragment"
    }
   },
   "source": [
    "3. Estimar $Te$"
   ]
  },
  {
   "cell_type": "code",
   "execution_count": 1,
   "metadata": {
    "slideshow": {
     "slide_type": "skip"
    }
   },
   "outputs": [],
   "source": [
    "%matplotlib inline\n",
    "from graficasdeproceso import *\n",
    "import sympy as sm\n",
    "import numpy as np"
   ]
  },
  {
   "cell_type": "markdown",
   "metadata": {
    "slideshow": {
     "slide_type": "slide"
    }
   },
   "source": [
    "## 3. Ejemplo de estimación de Cp\n",
    "\n",
    "Vamos a a plantear el problema $f(x_0,x_1,x_2) = x_0.x_1-x_2$:"
   ]
  },
  {
   "cell_type": "code",
   "execution_count": 2,
   "metadata": {
    "slideshow": {
     "slide_type": "fragment"
    }
   },
   "outputs": [
    {
     "data": {
      "text/latex": [
       "$\\displaystyle \\text{Errores Inherentes: }[ix0, ix1, ix2]$"
      ],
      "text/plain": [
       "<IPython.core.display.Math object>"
      ]
     },
     "metadata": {},
     "output_type": "display_data"
    },
    {
     "data": {
      "text/latex": [
       "$\\displaystyle \\text{Operaciones: }\\left[ x_{0} \\cdot x_{1}, \\  x_{0} \\cdot x_{1} - x_{2}\\right]$"
      ],
      "text/plain": [
       "<IPython.core.display.Math object>"
      ]
     },
     "metadata": {},
     "output_type": "display_data"
    }
   ],
   "source": [
    "operaciones = ['x0*x1','op0-x2']\n",
    "algoritmo = GraficaDeProceso(['x0','x1','x2'], operaciones)\n",
    "algoritmo.ErrorRedondeo(0)\n",
    "algoritmo.ErrorInherente(0)"
   ]
  },
  {
   "cell_type": "code",
   "execution_count": 3,
   "metadata": {
    "slideshow": {
     "slide_type": "skip"
    }
   },
   "outputs": [
    {
     "data": {
      "application/vnd.jupyter.widget-view+json": {
       "model_id": "076c0cad116547768181d44f1feb906f",
       "version_major": 2,
       "version_minor": 0
      },
      "text/plain": [
       "interactive(children=(IntSlider(value=10, description='width', max=30, min=-10), IntSlider(value=10, descripti…"
      ]
     },
     "metadata": {},
     "output_type": "display_data"
    }
   ],
   "source": [
    "algoritmo.mostrar(10)"
   ]
  },
  {
   "cell_type": "code",
   "execution_count": 4,
   "metadata": {
    "slideshow": {
     "slide_type": "fragment"
    }
   },
   "outputs": [
    {
     "data": {
      "text/latex": [
       "$\\displaystyle e_{total} \\leq\\mu \\cdot \\left(\\left|{\\frac{x_{0} \\cdot x_{1}}{x_{0} \\cdot x_{1} - x_{2}}}\\right| + 1\\right) + r \\cdot \\left(\\left|{\\frac{x_{2}}{x_{0} \\cdot x_{1} - x_{2}}}\\right| + 2 \\cdot \\left|{\\frac{x_{0} \\cdot x_{1}}{x_{0} \\cdot x_{1} - x_{2}}}\\right|\\right)$"
      ],
      "text/plain": [
       "<IPython.core.display.Math object>"
      ]
     },
     "metadata": {},
     "output_type": "display_data"
    }
   ],
   "source": [
    "algoritmo.CotaErrorTotal()"
   ]
  },
  {
   "cell_type": "code",
   "execution_count": 5,
   "metadata": {
    "slideshow": {
     "slide_type": "fragment"
    }
   },
   "outputs": [
    {
     "data": {
      "text/latex": [
       "$\\displaystyle \\left|{\\frac{x_{2}}{x_{0} \\cdot x_{1} - x_{2}}}\\right| + 2 \\cdot \\left|{\\frac{x_{0} \\cdot x_{1}}{x_{0} \\cdot x_{1} - x_{2}}}\\right|$"
      ],
      "text/plain": [
       "<IPython.core.display.Math object>"
      ]
     },
     "metadata": {},
     "output_type": "display_data"
    }
   ],
   "source": [
    "algoritmo.Cp(1)"
   ]
  },
  {
   "cell_type": "code",
   "execution_count": 6,
   "metadata": {
    "slideshow": {
     "slide_type": "fragment"
    }
   },
   "outputs": [
    {
     "data": {
      "text/plain": [
       "200003.0000016504"
      ]
     },
     "execution_count": 6,
     "metadata": {},
     "output_type": "execute_result"
    }
   ],
   "source": [
    "# Asumimos valores de x,y,z para calcular el Cp exacto con esa fórmula\n",
    "X = np.array([2,2.00002,4.0001])\n",
    "cpTeorico = algoritmo.funcionCp(X[0],X[1],X[2])\n",
    "cpTeorico"
   ]
  },
  {
   "cell_type": "markdown",
   "metadata": {
    "slideshow": {
     "slide_type": "slide"
    }
   },
   "source": [
    "Ahora vamos a estimar Cp siguiendo el proceso visto al comienzo de este video:"
   ]
  },
  {
   "cell_type": "code",
   "execution_count": 7,
   "metadata": {},
   "outputs": [
    {
     "data": {
      "text/plain": [
       "-5.9999999999504894e-05"
      ]
     },
     "execution_count": 7,
     "metadata": {},
     "output_type": "execute_result"
    }
   ],
   "source": [
    "def Funcion(x,y,z):\n",
    "    return x*y-z\n",
    "r = 0.05\n",
    "f = Funcion (X[0],X[1],X[2])\n",
    "f"
   ]
  },
  {
   "cell_type": "markdown",
   "metadata": {},
   "source": [
    "Vamos a estimar $Cp_{x_j}^{(+)}$ y $Cp_{x_j}^{(-)}$ para cada variable:"
   ]
  },
  {
   "cell_type": "code",
   "execution_count": 8,
   "metadata": {
    "slideshow": {
     "slide_type": "fragment"
    }
   },
   "outputs": [],
   "source": [
    "cpPos = np.zeros(3)\n",
    "cpNeg = np.zeros(3)"
   ]
  },
  {
   "cell_type": "code",
   "execution_count": 19,
   "metadata": {
    "slideshow": {
     "slide_type": "fragment"
    }
   },
   "outputs": [],
   "source": [
    "cpPos[0] = np.abs(((Funcion(X[0]*(1+r),X[1],X[2]) - f) / f) * (1/r))\n",
    "cpNeg[0] = np.abs(((Funcion(X[0]*(1-r),X[1],X[2]) - f) / f) * (1/r))"
   ]
  },
  {
   "cell_type": "code",
   "execution_count": 10,
   "metadata": {
    "slideshow": {
     "slide_type": "fragment"
    }
   },
   "outputs": [],
   "source": [
    "cpPos[1] = np.abs(((Funcion(X[0],X[1]*(1+r),X[2]) - f) / f) * (1/r))\n",
    "cpNeg[1] = np.abs(((Funcion(X[0],X[1]*(1-r),X[2]) - f) / f) * (1/r))"
   ]
  },
  {
   "cell_type": "code",
   "execution_count": 11,
   "metadata": {
    "slideshow": {
     "slide_type": "fragment"
    }
   },
   "outputs": [],
   "source": [
    "cpPos[2] = np.abs(((Funcion(X[0],X[1],X[2]*(1+r)) - f) / f) * (1/r))\n",
    "cpNeg[2] = np.abs(((Funcion(X[0],X[1],X[2]*(1-r)) - f) / f) * (1/r))"
   ]
  },
  {
   "cell_type": "code",
   "execution_count": 12,
   "metadata": {
    "slideshow": {
     "slide_type": "fragment"
    }
   },
   "outputs": [
    {
     "data": {
      "text/plain": [
       "array([66667.33333388, 66667.33333388, 66668.33333388])"
      ]
     },
     "execution_count": 12,
     "metadata": {},
     "output_type": "execute_result"
    }
   ],
   "source": [
    "cpPos "
   ]
  },
  {
   "cell_type": "code",
   "execution_count": 13,
   "metadata": {
    "slideshow": {
     "slide_type": "fragment"
    }
   },
   "outputs": [
    {
     "data": {
      "text/plain": [
       "array([66667.33333388, 66667.33333388, 66668.33333388])"
      ]
     },
     "execution_count": 13,
     "metadata": {},
     "output_type": "execute_result"
    }
   ],
   "source": [
    "cpNeg"
   ]
  },
  {
   "cell_type": "markdown",
   "metadata": {
    "slideshow": {
     "slide_type": "slide"
    }
   },
   "source": [
    "Ahora vamos a buscar el máximo entre $Cp_{x_j}^{(+)}$ y $Cp_{x_j}^{(-)}$ para cada variable:"
   ]
  },
  {
   "cell_type": "code",
   "execution_count": 14,
   "metadata": {
    "slideshow": {
     "slide_type": "fragment"
    }
   },
   "outputs": [
    {
     "data": {
      "text/plain": [
       "array([66667.33333388, 66667.33333388, 66668.33333388])"
      ]
     },
     "execution_count": 14,
     "metadata": {},
     "output_type": "execute_result"
    }
   ],
   "source": [
    "cpMax = np.zeros(3)\n",
    "for i in range(3):\n",
    "    cpMax[i] = np.amax([cpPos[i],cpNeg[i]])\n",
    "cpMax "
   ]
  },
  {
   "cell_type": "markdown",
   "metadata": {
    "slideshow": {
     "slide_type": "fragment"
    }
   },
   "source": [
    "Y por último, debemos sumar los $Cp_{x_j}$ para hallar el $Cp$:"
   ]
  },
  {
   "cell_type": "code",
   "execution_count": 20,
   "metadata": {
    "slideshow": {
     "slide_type": "fragment"
    }
   },
   "outputs": [],
   "source": [
    "cpEstimado = 0\n",
    "for i in range(3):\n",
    "    cpEstimado += cpMax[i]"
   ]
  },
  {
   "cell_type": "code",
   "execution_count": 16,
   "metadata": {
    "slideshow": {
     "slide_type": "fragment"
    }
   },
   "outputs": [
    {
     "data": {
      "text/plain": [
       "200003.00000165068"
      ]
     },
     "execution_count": 16,
     "metadata": {},
     "output_type": "execute_result"
    }
   ],
   "source": [
    "cpEstimado"
   ]
  },
  {
   "cell_type": "code",
   "execution_count": 17,
   "metadata": {
    "slideshow": {
     "slide_type": "fragment"
    }
   },
   "outputs": [
    {
     "data": {
      "text/plain": [
       "200003.0000016504"
      ]
     },
     "execution_count": 17,
     "metadata": {},
     "output_type": "execute_result"
    }
   ],
   "source": [
    "cpTeorico"
   ]
  },
  {
   "cell_type": "markdown",
   "metadata": {
    "slideshow": {
     "slide_type": "fragment"
    }
   },
   "source": [
    "Como vemos, la estimación es bastante cercana al cálculo teórico."
   ]
  }
 ],
 "metadata": {
  "celltoolbar": "Slideshow",
  "kernelspec": {
   "display_name": "Python 3",
   "language": "python",
   "name": "python3"
  },
  "language_info": {
   "codemirror_mode": {
    "name": "ipython",
    "version": 3
   },
   "file_extension": ".py",
   "mimetype": "text/x-python",
   "name": "python",
   "nbconvert_exporter": "python",
   "pygments_lexer": "ipython3",
   "version": "3.7.6"
  }
 },
 "nbformat": 4,
 "nbformat_minor": 4
}
