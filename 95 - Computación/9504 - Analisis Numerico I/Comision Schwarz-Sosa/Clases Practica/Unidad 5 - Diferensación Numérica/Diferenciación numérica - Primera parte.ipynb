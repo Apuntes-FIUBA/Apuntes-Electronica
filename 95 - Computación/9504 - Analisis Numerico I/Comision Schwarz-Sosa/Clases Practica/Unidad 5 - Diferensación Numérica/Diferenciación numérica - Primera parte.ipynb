{
 "cells": [
  {
   "cell_type": "markdown",
   "metadata": {
    "slideshow": {
     "slide_type": "slide"
    }
   },
   "source": [
    "![Curso Schwarz-Sosa-Suriano](https://cms.fi.uba.ar/uploads/logo_FIUBA_color_2_eb5b4d0124.png)\n",
    "# Diferenciación Numérica - Primera parte\n",
    "**Curso Schwarz - Sosa - Suriano**\n",
    "- Métodos Numéricos. *Curso 2*\n",
    "- Análisis Numérico I. *Curso 4*\n",
    "- Métodos Matemáticos y Numéricos. *Curso 6*"
   ]
  },
  {
   "cell_type": "markdown",
   "metadata": {
    "slideshow": {
     "slide_type": "slide"
    }
   },
   "source": [
    "**¿Por qué necesitamos una solución numérica?**\n",
    "* No conocemos la función, solamente contamos con datos obtenidos de mediciones.\n",
    "* La función no es derivable."
   ]
  },
  {
   "cell_type": "markdown",
   "metadata": {
    "slideshow": {
     "slide_type": "slide"
    }
   },
   "source": [
    "### Diferencias progresivas\n",
    "A partir de la definición matemática de la derivada de una función, un método propuesto para su aproximación es el siguiente:\n",
    "\n",
    "$$ D(x_0)= \\frac{f(x_0+h)-f(x_0)}{h}$$\n",
    "\n",
    "Para ser coherentes el paso h debería tomar valores pequeños.\n",
    "<br>Siendo el error:\n",
    "$$ e= \\frac{f''(\\xi).h}{2}$$\n",
    "Decimos que tiene un orden de convergencia lineal **O(h)** y es proporcional a la derivada segunda de la función. "
   ]
  },
  {
   "cell_type": "markdown",
   "metadata": {
    "slideshow": {
     "slide_type": "subslide"
    }
   },
   "source": [
    "**Definición de derivada**\n",
    "$$f'(x) = \\lim_{h \\to 0} \\frac{f(x+h) - f(x)}{h}$$"
   ]
  },
  {
   "cell_type": "markdown",
   "metadata": {
    "slideshow": {
     "slide_type": "slide"
    }
   },
   "source": [
    "**EJEMPLO:**\n",
    "Para determinar que tan buena es la aproximación propuesta, se va a realizar un ejemplo con la siguiente función:<br>\n",
    "$$ f(x) = x^2 + 3x - e^x$$\n",
    "$$f'(x0)$$\n",
    "$$x_0=4$$"
   ]
  },
  {
   "cell_type": "code",
   "execution_count": 1,
   "metadata": {
    "slideshow": {
     "slide_type": "skip"
    }
   },
   "outputs": [],
   "source": [
    "import numpy as np #librería para operaciones algebraicas y numéricas\n",
    "import pandas as pd #librería para manejo de datos\n",
    "import sympy as sp #librería para manejo simbólico de ecuaciones\n",
    "import matplotlib.pyplot as plt"
   ]
  },
  {
   "cell_type": "code",
   "execution_count": 2,
   "metadata": {
    "slideshow": {
     "slide_type": "slide"
    }
   },
   "outputs": [],
   "source": [
    "#Primero trabajamos con la función simbólicamente para que calcule la derivada\n",
    "x = sp.symbols('x')\n",
    "y = x*x+3*x-sp.exp(x) #Acá hay que escribor la función a analizar\n",
    "\n",
    "#Evalúar numéricamente la función\n",
    "f=sp.lambdify(x,y)"
   ]
  },
  {
   "cell_type": "code",
   "execution_count": 3,
   "metadata": {
    "slideshow": {
     "slide_type": "-"
    }
   },
   "outputs": [
    {
     "name": "stdout",
     "output_type": "stream",
     "text": [
      "Derivada analítica en x = 4 es -43.598150033144236\n"
     ]
    }
   ],
   "source": [
    "#Derivada analítica\n",
    "x0=4\n",
    "yd = sp.diff(y,x) #Calcula la derivada simbólica\n",
    "fd=sp.lambdify(x,yd)\n",
    "derivada=fd(x0)\n",
    "print('Derivada analítica en x =',x0, 'es',derivada)"
   ]
  },
  {
   "cell_type": "markdown",
   "metadata": {
    "slideshow": {
     "slide_type": "slide"
    }
   },
   "source": [
    "Para poder calcular la aproximación con el método de las diferencias progresivas, además de definir el punto en el cual se quiere calcular la derivada, se debe definir el paso (h)."
   ]
  },
  {
   "cell_type": "code",
   "execution_count": 4,
   "metadata": {},
   "outputs": [],
   "source": [
    "#Método de diferencias progresivas\n",
    "def DifProgresivas(x0,h):\n",
    "    df=(f(x0+h)-f(x0))/h\n",
    "    return df"
   ]
  },
  {
   "cell_type": "code",
   "execution_count": 5,
   "metadata": {},
   "outputs": [],
   "source": [
    "x0=4 #Punto en el que queremos evaluar la derivada de la función.\n",
    "h=0.5 #Paso (distancia al punto x0)\n",
    "ResDP=DifProgresivas(x0,h)"
   ]
  },
  {
   "cell_type": "code",
   "execution_count": 6,
   "metadata": {
    "slideshow": {
     "slide_type": "slide"
    }
   },
   "outputs": [
    {
     "data": {
      "image/png": "[encoded data removed]",
      "text/plain": [
       "<Figure size 432x288 with 1 Axes>"
      ]
     },
     "metadata": {
      "needs_background": "light"
     },
     "output_type": "display_data"
    }
   ],
   "source": [
    "ejex = np.arange(0, 6, 0.1);\n",
    "y = f(ejex)\n",
    "rectatang=((f(x0+h)-f(x0))/h)*(ejex-(x0+h))+f(x0+h) #Definimos la recta que pasa por los puntos x0 y x0+h\n",
    "plt.plot(ejex, y, label = 'f(x)')\n",
    "plt.plot(ejex,rectatang, linestyle=\"--\")\n",
    "plt.scatter(x0,f(x0), marker=\"o\", c='blue', s=30, label='X0')\n",
    "plt.scatter(x0+h,f(x0+h),marker=\"o\", c='green', s=30, label='X0+h')\n",
    "plt.legend();"
   ]
  },
  {
   "cell_type": "markdown",
   "metadata": {
    "slideshow": {
     "slide_type": "slide"
    }
   },
   "source": [
    "**Comparación de resultados**"
   ]
  },
  {
   "cell_type": "code",
   "execution_count": 7,
   "metadata": {},
   "outputs": [],
   "source": [
    "#Definimos el error relativo\n",
    "def ErrorRel(real,aprox):\n",
    "    e=100*abs((aprox-real)/aprox)\n",
    "    return e"
   ]
  },
  {
   "cell_type": "code",
   "execution_count": 8,
   "metadata": {},
   "outputs": [
    {
     "name": "stdout",
     "output_type": "stream",
     "text": [
      "Derivada analítica:  -43.598150033144236\n",
      "El resultado por diferencias progresivas tomando un paso de  0.5 es:  -59.33796253475515\n",
      "El error relativo porcentual es:  26.525704337070664\n"
     ]
    }
   ],
   "source": [
    "print('Derivada analítica: ', derivada)\n",
    "print('El resultado por diferencias progresivas tomando un paso de ',h, 'es: ',ResDP)\n",
    "ErrorDP=ErrorRel(derivada,ResDP)\n",
    "print('El error relativo porcentual es: ',ErrorDP)"
   ]
  },
  {
   "cell_type": "markdown",
   "metadata": {
    "slideshow": {
     "slide_type": "slide"
    }
   },
   "source": [
    "### Diferencias regresivas\n",
    "$$ D(x_0)= \\frac{f(x_0)-f(x_0-h)}{h}$$\n",
    "Para obtener una aproximación por este método se procede de la misma forma que para el método de diferencias progresivas.\n",
    "<br>También tiene un orden de convergencia lineal **O(h)**."
   ]
  },
  {
   "cell_type": "code",
   "execution_count": 9,
   "metadata": {},
   "outputs": [],
   "source": [
    "#Método de diferencias regresivas\n",
    "def DifRegresivas(x0,h):\n",
    "    df=(f(x0)-f(x0-h))/h\n",
    "    return df"
   ]
  },
  {
   "cell_type": "code",
   "execution_count": 10,
   "metadata": {
    "slideshow": {
     "slide_type": "slide"
    }
   },
   "outputs": [
    {
     "data": {
      "image/png": "[encoded data removed]",
      "text/plain": [
       "<Figure size 432x288 with 1 Axes>"
      ]
     },
     "metadata": {
      "needs_background": "light"
     },
     "output_type": "display_data"
    }
   ],
   "source": [
    "ejex = np.arange(0, 6, 0.1);\n",
    "y = f(ejex)\n",
    "rectatang=((f(x0)-f(x0-h))/h)*(ejex-x0)+f(x0) #Definimos la recta que pasa por los puntos x0 y x0-h\n",
    "plt.plot(ejex, y, label = 'f(x)')\n",
    "plt.plot(ejex,rectatang, linestyle=\"--\")\n",
    "plt.scatter(x0,f(x0), marker=\"o\", c='blue', s=30, label='X0')\n",
    "plt.scatter(x0-h,f(x0-h),marker=\"o\", c='green', s=30, label='X0-h')\n",
    "plt.legend();"
   ]
  },
  {
   "cell_type": "code",
   "execution_count": 11,
   "metadata": {
    "slideshow": {
     "slide_type": "slide"
    }
   },
   "outputs": [
    {
     "name": "stdout",
     "output_type": "stream",
     "text": [
      "El resultado por diferencias regresivas tomando un paso de  0.5 es:  -32.46539614890385\n"
     ]
    }
   ],
   "source": [
    "x0=4 #Punto en el que queremos evaluar la derivada de la función.\n",
    "h=0.5 #Paso (distancia al punto x0)\n",
    "ResDR=DifRegresivas(x0,h)\n",
    "print('El resultado por diferencias regresivas tomando un paso de ',h, 'es: ',ResDR)"
   ]
  },
  {
   "cell_type": "markdown",
   "metadata": {
    "slideshow": {
     "slide_type": "-"
    }
   },
   "source": [
    "**Comparación de resultados**"
   ]
  },
  {
   "cell_type": "code",
   "execution_count": 12,
   "metadata": {},
   "outputs": [
    {
     "name": "stdout",
     "output_type": "stream",
     "text": [
      "Derivada analítica:  -43.598150033144236\n",
      "El resultado por diferencias regresivas tomando un paso de  0.5 es:  -32.46539614890385\n",
      "El error relativo porcentual es:  34.29113827282305\n"
     ]
    }
   ],
   "source": [
    "print('Derivada analítica: ', derivada)\n",
    "print('El resultado por diferencias regresivas tomando un paso de ',h, 'es: ',ResDR)\n",
    "ErrorDR=ErrorRel(derivada,ResDR)\n",
    "print('El error relativo porcentual es: ',ErrorDR)"
   ]
  },
  {
   "cell_type": "code",
   "execution_count": 13,
   "metadata": {
    "slideshow": {
     "slide_type": "slide"
    }
   },
   "outputs": [
    {
     "data": {
      "image/png": "[encoded data removed]",
      "text/plain": [
       "<Figure size 432x288 with 1 Axes>"
      ]
     },
     "metadata": {
      "needs_background": "light"
     },
     "output_type": "display_data"
    }
   ],
   "source": [
    "ejex = np.arange(0, 6, 0.1);\n",
    "y = f(ejex)\n",
    "rectaP=((f(x0+h)-f(x0))/h)*(ejex-(x0+h))+f(x0+h) #Definimos la recta que pasa por los puntos x0 y x0+h\n",
    "rectaR=((f(x0)-f(x0-h))/h)*(ejex-x0)+f(x0) #Definimos la recta que pasa por los puntos x0 y x0-h\n",
    "rectatang=derivada*(ejex-x0)+f(x0)\n",
    "plt.plot(ejex, y, label = 'f(x)')\n",
    "plt.plot(ejex,rectaP, linestyle=\"--\", label='Dif Prog')\n",
    "plt.plot(ejex,rectaR, linestyle=\"--\", label='Dif Reg')\n",
    "plt.plot(ejex,rectatang,linestyle=\"--\", c='blue')\n",
    "plt.scatter(x0,f(x0), marker=\"o\", c='blue', s=30, label='X0')\n",
    "plt.scatter(x0+h,f(x0+h),marker=\"o\", c='orange', s=30, label='X0+h')\n",
    "plt.scatter(x0-h,f(x0-h),marker=\"o\", c='green', s=30, label='X0-h')\n",
    "plt.legend();"
   ]
  },
  {
   "cell_type": "markdown",
   "metadata": {
    "slideshow": {
     "slide_type": "slide"
    }
   },
   "source": [
    "### ¿Como podemos mejorar el resultado?\n",
    "**1- Disminuir el paso h**\n",
    "\n",
    "Como el error de truncamiento es proporcional a **h**, al disminuir el paso deberíamos obtener mejores resultados. "
   ]
  },
  {
   "cell_type": "markdown",
   "metadata": {},
   "source": [
    "Para el ejemplo dado, utilizando el método de diferencias progresivas, vamos a ir achicando el valor del paso (h)"
   ]
  },
  {
   "cell_type": "code",
   "execution_count": 14,
   "metadata": {
    "slideshow": {
     "slide_type": "skip"
    }
   },
   "outputs": [],
   "source": [
    "x0=4 #Punto en el que queremos evaluar la derivada de la función.\n",
    "h0=0.5\n",
    "n=5\n",
    "h = np.zeros(n)\n",
    "RDP=np.zeros(n)\n",
    "EDP=np.zeros(n)"
   ]
  },
  {
   "cell_type": "code",
   "execution_count": 15,
   "metadata": {
    "scrolled": true,
    "slideshow": {
     "slide_type": "slide"
    }
   },
   "outputs": [],
   "source": [
    "for i in range(0,n):\n",
    "    h[i]=h0/(i+1)\n",
    "    RDP[i]=DifProgresivas(x0,h[i])\n",
    "    EDP[i]=ErrorRel(derivada,RDP[i])"
   ]
  },
  {
   "cell_type": "code",
   "execution_count": 16,
   "metadata": {},
   "outputs": [
    {
     "data": {
      "text/html": [
       "<div>\n",
       "<style scoped>\n",
       "    .dataframe tbody tr th:only-of-type {\n",
       "        vertical-align: middle;\n",
       "    }\n",
       "\n",
       "    .dataframe tbody tr th {\n",
       "        vertical-align: top;\n",
       "    }\n",
       "\n",
       "    .dataframe thead th {\n",
       "        text-align: right;\n",
       "    }\n",
       "</style>\n",
       "<table border=\"1\" class=\"dataframe\">\n",
       "  <thead>\n",
       "    <tr style=\"text-align: right;\">\n",
       "      <th></th>\n",
       "      <th>(1) h</th>\n",
       "      <th>(2) Dif Progesivas</th>\n",
       "      <th>(3) Error</th>\n",
       "    </tr>\n",
       "  </thead>\n",
       "  <tbody>\n",
       "    <tr>\n",
       "      <th>0</th>\n",
       "      <td>0.500000</td>\n",
       "      <td>-59.337963</td>\n",
       "      <td>26.525704</td>\n",
       "    </tr>\n",
       "    <tr>\n",
       "      <th>1</th>\n",
       "      <td>0.250000</td>\n",
       "      <td>-50.779049</td>\n",
       "      <td>14.141461</td>\n",
       "    </tr>\n",
       "    <tr>\n",
       "      <th>2</th>\n",
       "      <td>0.166667</td>\n",
       "      <td>-48.244992</td>\n",
       "      <td>9.631759</td>\n",
       "    </tr>\n",
       "    <tr>\n",
       "      <th>3</th>\n",
       "      <td>0.125000</td>\n",
       "      <td>-47.032274</td>\n",
       "      <td>7.301632</td>\n",
       "    </tr>\n",
       "    <tr>\n",
       "      <th>4</th>\n",
       "      <td>0.100000</td>\n",
       "      <td>-46.321376</td>\n",
       "      <td>5.878983</td>\n",
       "    </tr>\n",
       "  </tbody>\n",
       "</table>\n",
       "</div>"
      ],
      "text/plain": [
       "      (1) h  (2) Dif Progesivas  (3) Error\n",
       "0  0.500000          -59.337963  26.525704\n",
       "1  0.250000          -50.779049  14.141461\n",
       "2  0.166667          -48.244992   9.631759\n",
       "3  0.125000          -47.032274   7.301632\n",
       "4  0.100000          -46.321376   5.878983"
      ]
     },
     "execution_count": 16,
     "metadata": {},
     "output_type": "execute_result"
    }
   ],
   "source": [
    "df=pd.DataFrame({\"(1) h\": h, \"(2) Dif Progesivas\": RDP, \"(3) Error\": EDP})\n",
    "df.head()"
   ]
  },
  {
   "cell_type": "code",
   "execution_count": 17,
   "metadata": {
    "slideshow": {
     "slide_type": "slide"
    }
   },
   "outputs": [
    {
     "data": {
      "image/png": "[encoded data removed]",
      "text/plain": [
       "<Figure size 432x288 with 1 Axes>"
      ]
     },
     "metadata": {
      "needs_background": "light"
     },
     "output_type": "display_data"
    }
   ],
   "source": [
    "plt.scatter(h,RDP, marker=\"o\", c='blue', s=30)\n",
    "plt.scatter(0,derivada,marker='o',c='green',s=30, label='Derivada en x=4')\n",
    "plt.xlabel('h',fontsize=20)\n",
    "plt.legend();"
   ]
  },
  {
   "cell_type": "markdown",
   "metadata": {
    "slideshow": {
     "slide_type": "-"
    }
   },
   "source": [
    "Podemos ver que al disminuir el paso se obtiene una mejor aproximación. También podemos notar que para obtener un resultado similar al exacto va a ser necesario disminuir el h considerablemente. \n",
    "Como se vió, hacer esto no es recomendable ya que tomar valores de h muy pequeños puede resultar en un aumento del error de redondeo. "
   ]
  },
  {
   "cell_type": "markdown",
   "metadata": {
    "slideshow": {
     "slide_type": "slide"
    }
   },
   "source": [
    "### ¿Como podemos mejorar el resultado?\n",
    "**2 - Aumentar el orden de convergencia**\n",
    "\n",
    "Como el error es proporcional a h **<sup>n</sup>**, siendo **n** el orden de convergencia, al aumentar el orden de convergencia vamos a obtener una mejor aproximación. "
   ]
  },
  {
   "cell_type": "markdown",
   "metadata": {
    "slideshow": {
     "slide_type": "slide"
    }
   },
   "source": [
    "### Diferencias centradas\n",
    "$$ D(x_0)= \\frac{f(x_0+h)-f(x_0-h)}{2h}$$\n",
    "\n",
    "En este método se utilizan 3 puntos para aproximar la derivada: $f(x_0-h)$, $f(x_0)$ y $f(x_0+h)$.\n",
    "\n",
    "<br>Error de truncamiento\n",
    "$$ e= \\frac{f'''(\\xi).h^2}{6}$$\n",
    "<br>El orden de convergencia es **O(h<sup>2</sup>)**"
   ]
  },
  {
   "cell_type": "code",
   "execution_count": 18,
   "metadata": {
    "slideshow": {
     "slide_type": "slide"
    }
   },
   "outputs": [],
   "source": [
    "#Método de diferencias centradas\n",
    "def DifCentradas(x0,h):\n",
    "    df=(f(x0+h)-f(x0-h))/(2*h) \n",
    "    return df"
   ]
  },
  {
   "cell_type": "code",
   "execution_count": 19,
   "metadata": {
    "slideshow": {
     "slide_type": "-"
    }
   },
   "outputs": [
    {
     "data": {
      "image/png": "[encoded data removed]",
      "text/plain": [
       "<Figure size 432x288 with 1 Axes>"
      ]
     },
     "metadata": {
      "needs_background": "light"
     },
     "output_type": "display_data"
    }
   ],
   "source": [
    "x0=4 #Punto en el que queremos evaluar la derivada de la función.\n",
    "h=0.5 #Paso \n",
    "ejex = np.arange(0, 6, 0.1);\n",
    "y = f(ejex)\n",
    "plt.plot(ejex, y, label = 'f(x)')\n",
    "plt.scatter(x0,f(x0), marker=\"o\", c='blue', s=30, label='X0')\n",
    "plt.scatter(x0+h,f(x0+h),marker=\"o\", c='green', s=30, label='X0+h')\n",
    "plt.scatter(x0-h,f(x0-h),marker=\"o\", c='green', s=30, label='X0-h')\n",
    "plt.legend();"
   ]
  },
  {
   "cell_type": "code",
   "execution_count": 20,
   "metadata": {
    "slideshow": {
     "slide_type": "slide"
    }
   },
   "outputs": [
    {
     "name": "stdout",
     "output_type": "stream",
     "text": [
      "El resultado por diferencias centradas tomando un paso de  0.5 es:  -45.9016793418295\n",
      "El error relativo porcentual es:  5.018398763868519\n"
     ]
    }
   ],
   "source": [
    "ResDC=DifCentradas(x0,h)\n",
    "print('El resultado por diferencias centradas tomando un paso de ',h, 'es: ',ResDC)\n",
    "ErrorDC=ErrorRel(derivada,ResDC)\n",
    "print('El error relativo porcentual es: ',ErrorDC)"
   ]
  },
  {
   "cell_type": "markdown",
   "metadata": {
    "slideshow": {
     "slide_type": "slide"
    }
   },
   "source": [
    "**Comparación de los 3 métodos**"
   ]
  },
  {
   "cell_type": "code",
   "execution_count": 21,
   "metadata": {
    "slideshow": {
     "slide_type": "-"
    }
   },
   "outputs": [
    {
     "data": {
      "text/html": [
       "<div>\n",
       "<style scoped>\n",
       "    .dataframe tbody tr th:only-of-type {\n",
       "        vertical-align: middle;\n",
       "    }\n",
       "\n",
       "    .dataframe tbody tr th {\n",
       "        vertical-align: top;\n",
       "    }\n",
       "\n",
       "    .dataframe thead th {\n",
       "        text-align: right;\n",
       "    }\n",
       "</style>\n",
       "<table border=\"1\" class=\"dataframe\">\n",
       "  <thead>\n",
       "    <tr style=\"text-align: right;\">\n",
       "      <th></th>\n",
       "      <th>h</th>\n",
       "      <th>Dif Progesivas</th>\n",
       "      <th>Dif Regresivas</th>\n",
       "      <th>Dif Centradas</th>\n",
       "      <th>Derivada</th>\n",
       "    </tr>\n",
       "  </thead>\n",
       "  <tbody>\n",
       "    <tr>\n",
       "      <th>0</th>\n",
       "      <td>0.5</td>\n",
       "      <td>-59.337963</td>\n",
       "      <td>-32.465396</td>\n",
       "      <td>-45.901679</td>\n",
       "      <td>-43.59815</td>\n",
       "    </tr>\n",
       "  </tbody>\n",
       "</table>\n",
       "</div>"
      ],
      "text/plain": [
       "     h  Dif Progesivas  Dif Regresivas  Dif Centradas  Derivada\n",
       "0  0.5      -59.337963      -32.465396     -45.901679 -43.59815"
      ]
     },
     "execution_count": 21,
     "metadata": {},
     "output_type": "execute_result"
    }
   ],
   "source": [
    "df = pd.DataFrame({\"h\": h, \"Dif Progesivas\": ResDP, \"Dif Regresivas\": ResDR, \"Dif Centradas\": ResDC, \"Derivada\": derivada},index=[0])\n",
    "df.head()"
   ]
  },
  {
   "cell_type": "markdown",
   "metadata": {
    "slideshow": {
     "slide_type": "slide"
    }
   },
   "source": [
    "### Método de los 5 puntos\n",
    "$$ D(x_0)= \\frac{f(x_0-2h)-8f(x_0-h)+8f(x_0+h)+f(x_0+2h)}{12h}$$\n",
    "El error del método es:\n",
    "\n",
    "$$ e= \\frac{f^{v}(\\xi).h^4}{30}$$\n"
   ]
  },
  {
   "cell_type": "code",
   "execution_count": 22,
   "metadata": {
    "slideshow": {
     "slide_type": "slide"
    }
   },
   "outputs": [
    {
     "data": {
      "image/png": "[encoded data removed]",
      "text/plain": [
       "<Figure size 432x288 with 1 Axes>"
      ]
     },
     "metadata": {
      "needs_background": "light"
     },
     "output_type": "display_data"
    }
   ],
   "source": [
    "ejex = np.arange(0, 6, 0.1);\n",
    "y = f(ejex)\n",
    "plt.plot(ejex, y, label = 'f(x)')\n",
    "plt.scatter(x0,f(x0), marker=\"o\", c='blue', s=30, label='X0')\n",
    "plt.scatter(x0-h,f(x0-h),marker=\"o\", c='green', s=30, label='X0-h')\n",
    "plt.scatter(x0+h,f(x0+h),marker=\"o\", c='green', s=30, label='X0+h')\n",
    "plt.scatter(x0+2*h,f(x0+2*h),marker=\"o\", c='green', s=30, label='X0+2h')\n",
    "plt.scatter(x0-2*h,f(x0-2*h),marker=\"o\", c='green', s=30, label='X0-2h')\n",
    "plt.legend();"
   ]
  },
  {
   "cell_type": "code",
   "execution_count": 23,
   "metadata": {
    "slideshow": {
     "slide_type": "slide"
    }
   },
   "outputs": [],
   "source": [
    "#Método de los 5 puntos\n",
    "def Metodo5Puntos(x0,h):\n",
    "    df=(f(x0-2*h)-8*f(x0-h)+8*f(x0+h)-f(x0+2*h))/(12*h) \n",
    "    print('El valor de la derivada es',df)\n",
    "    return df"
   ]
  },
  {
   "cell_type": "code",
   "execution_count": 24,
   "metadata": {},
   "outputs": [
    {
     "name": "stdout",
     "output_type": "stream",
     "text": [
      "El valor de la derivada es -43.48096875920785\n",
      "El resultado por el método de los 5 puntos tomando un paso de  0.5 es:  -43.48096875920785\n",
      "El error relativo porcentual es:  0.26950014519070137\n"
     ]
    }
   ],
   "source": [
    "x0=4 \n",
    "h=0.5\n",
    "Res5P=Metodo5Puntos(x0,h)\n",
    "print('El resultado por el método de los 5 puntos tomando un paso de ',h, 'es: ',Res5P)\n",
    "Error5P=ErrorRel(derivada,Res5P)\n",
    "print('El error relativo porcentual es: ',Error5P)"
   ]
  },
  {
   "cell_type": "code",
   "execution_count": 25,
   "metadata": {
    "slideshow": {
     "slide_type": "slide"
    }
   },
   "outputs": [
    {
     "name": "stdout",
     "output_type": "stream",
     "text": [
      "El valor de la derivada es -43.59098781039037\n",
      "El resultado por el método de los 5 puntos tomando un paso de  0.25 es:  -43.59098781039037\n",
      "El error relativo porcentual es:  0.01643051262114894\n"
     ]
    }
   ],
   "source": [
    "Res5P=Metodo5Puntos(x0,h/2)\n",
    "print('El resultado por el método de los 5 puntos tomando un paso de ',h/2, 'es: ',Res5P)\n",
    "Error5P=ErrorRel(derivada,Res5P)\n",
    "print('El error relativo porcentual es: ',Error5P)"
   ]
  },
  {
   "cell_type": "markdown",
   "metadata": {
    "slideshow": {
     "slide_type": "-"
    }
   },
   "source": [
    "A partir de los resultados obtenidos, podemos ver la fórmula de los 5 puntos tomando un mismo paso en todos los casos, es la que da el mejor resultado. Si además disminuimos el paso a la mitad, obtenemos un resultado prácticamente igual al buscado (con un error del 0.016%).\n",
    "<br>El principal problema suele estar asociado a la disponibilidad de la información. Es problable que no siempre contemos con tantos valores de la función.  "
   ]
  },
  {
   "cell_type": "markdown",
   "metadata": {
    "slideshow": {
     "slide_type": "slide"
    }
   },
   "source": [
    "**Ejemplo adicional:**\n",
    "¿Que sucede si no conocemos la función y solamente tenemos algunos puntos obtenidos a partir de mediciones?\n",
    "<br>Vamos a suponer que solo tenemos como dato los puntos que se muestran en la tabla y que queremos conocer el valor de la derivada en x0=4."
   ]
  },
  {
   "cell_type": "code",
   "execution_count": 26,
   "metadata": {
    "slideshow": {
     "slide_type": "skip"
    }
   },
   "outputs": [],
   "source": [
    "x = np.arange(3.5, 4.5, 0.25)\n",
    "y = f(x)"
   ]
  },
  {
   "cell_type": "code",
   "execution_count": 27,
   "metadata": {
    "slideshow": {
     "slide_type": "-"
    }
   },
   "outputs": [
    {
     "data": {
      "text/html": [
       "<div>\n",
       "<style scoped>\n",
       "    .dataframe tbody tr th:only-of-type {\n",
       "        vertical-align: middle;\n",
       "    }\n",
       "\n",
       "    .dataframe tbody tr th {\n",
       "        vertical-align: top;\n",
       "    }\n",
       "\n",
       "    .dataframe thead th {\n",
       "        text-align: right;\n",
       "    }\n",
       "</style>\n",
       "<table border=\"1\" class=\"dataframe\">\n",
       "  <thead>\n",
       "    <tr style=\"text-align: right;\">\n",
       "      <th></th>\n",
       "      <th>x</th>\n",
       "      <th>y</th>\n",
       "    </tr>\n",
       "  </thead>\n",
       "  <tbody>\n",
       "    <tr>\n",
       "      <th>0</th>\n",
       "      <td>3.50</td>\n",
       "      <td>-10.365452</td>\n",
       "    </tr>\n",
       "    <tr>\n",
       "      <th>1</th>\n",
       "      <td>3.75</td>\n",
       "      <td>-17.208582</td>\n",
       "    </tr>\n",
       "    <tr>\n",
       "      <th>2</th>\n",
       "      <td>4.00</td>\n",
       "      <td>-26.598150</td>\n",
       "    </tr>\n",
       "    <tr>\n",
       "      <th>3</th>\n",
       "      <td>4.25</td>\n",
       "      <td>-39.292912</td>\n",
       "    </tr>\n",
       "  </tbody>\n",
       "</table>\n",
       "</div>"
      ],
      "text/plain": [
       "      x          y\n",
       "0  3.50 -10.365452\n",
       "1  3.75 -17.208582\n",
       "2  4.00 -26.598150\n",
       "3  4.25 -39.292912"
      ]
     },
     "execution_count": 27,
     "metadata": {},
     "output_type": "execute_result"
    }
   ],
   "source": [
    "puntos=pd.DataFrame({\"x\": x, \"y\": y})\n",
    "puntos.head()"
   ]
  },
  {
   "cell_type": "markdown",
   "metadata": {
    "slideshow": {
     "slide_type": "slide"
    }
   },
   "source": [
    "**Diferencias regresivas**<br>\n",
    "Teniendo los valores de la función en 3.5 y 3.75, podemos obtener el resultado para diferencias regresivas tomando un h=0.5 y un h=0.25 "
   ]
  },
  {
   "cell_type": "code",
   "execution_count": 28,
   "metadata": {
    "slideshow": {
     "slide_type": "-"
    }
   },
   "outputs": [],
   "source": [
    "x0=x[2] #Punto en el que queremos evaluar la derivada de la función.\n",
    "h1=x0-x[0]\n",
    "h2=x0-x[1]"
   ]
  },
  {
   "cell_type": "code",
   "execution_count": 29,
   "metadata": {
    "slideshow": {
     "slide_type": "slide"
    }
   },
   "outputs": [
    {
     "data": {
      "text/plain": [
       "<matplotlib.legend.Legend at 0x7f41ecb266e0>"
      ]
     },
     "execution_count": 29,
     "metadata": {},
     "output_type": "execute_result"
    },
    {
     "data": {
      "image/png": "[encoded data removed]",
      "text/plain": [
       "<Figure size 432x288 with 1 Axes>"
      ]
     },
     "metadata": {
      "needs_background": "light"
     },
     "output_type": "display_data"
    }
   ],
   "source": [
    "plt.scatter(x,y, marker=\"o\", c='blue', s=30)\n",
    "plt.scatter(x0,f(x0), marker=\"o\", c='green',s=30, label='x0')\n",
    "plt.scatter(x0-h1,f(x0-h1), marker=\"o\", c='red',s=30, label='x0-h1')\n",
    "plt.scatter(x0-h2,f(x0-h2), marker=\"o\", c='pink',s=30, label='x0-h2')\n",
    "plt.legend()"
   ]
  },
  {
   "cell_type": "code",
   "execution_count": 30,
   "metadata": {
    "slideshow": {
     "slide_type": "slide"
    }
   },
   "outputs": [
    {
     "name": "stdout",
     "output_type": "stream",
     "text": [
      "El resultado por diferencias regresivas con un paso de  0.5 es:  -32.46539614890385\n",
      "El resultado por diferencias regresivas con un paso de  0.25 es:  -37.55827213232581\n"
     ]
    }
   ],
   "source": [
    "DifReg1=DifRegresivas(x0,h1)\n",
    "print('El resultado por diferencias regresivas con un paso de ',h1, 'es: ',DifReg1)\n",
    "DifReg2=DifRegresivas(x0,h2)\n",
    "print('El resultado por diferencias regresivas con un paso de ',h2, 'es: ',DifReg2)"
   ]
  },
  {
   "cell_type": "markdown",
   "metadata": {
    "slideshow": {
     "slide_type": "slide"
    }
   },
   "source": [
    "**Diferencias progresivas**<br>\n",
    "Para calcular la derivada en x0=4 contamos solo con un punto \"siguiente\", por lo que únicamente se podría tomar un paso de 0.25"
   ]
  },
  {
   "cell_type": "code",
   "execution_count": 31,
   "metadata": {},
   "outputs": [
    {
     "name": "stdout",
     "output_type": "stream",
     "text": [
      "El resultado por diferencias progresivas con un paso de  0.25 es:  -50.77904925417448\n"
     ]
    }
   ],
   "source": [
    "h1=x[3]-x0\n",
    "DifProg=DifProgresivas(x0,h1)\n",
    "print('El resultado por diferencias progresivas con un paso de ',h1, 'es: ',DifProg)"
   ]
  },
  {
   "cell_type": "markdown",
   "metadata": {
    "slideshow": {
     "slide_type": "slide"
    }
   },
   "source": [
    "**Diferencias centradas**<br>\n",
    "Al no tener información de la función en x=4.5, no se podría tomar un paso de h=0.5. La única alternativa es utilizar h=0.25"
   ]
  },
  {
   "cell_type": "code",
   "execution_count": 32,
   "metadata": {},
   "outputs": [
    {
     "name": "stdout",
     "output_type": "stream",
     "text": [
      "El resultado por diferencias centradas con un paso de  0.25 es:  -44.168660693250146\n"
     ]
    }
   ],
   "source": [
    "DifCentr=DifCentradas(x0,h1)\n",
    "print('El resultado por diferencias centradas con un paso de ',h1, 'es: ',DifCentr)"
   ]
  },
  {
   "cell_type": "markdown",
   "metadata": {
    "slideshow": {
     "slide_type": "slide"
    }
   },
   "source": [
    "**Conclusiones:**<br>\n",
    "* El máximo orden de convergencia al que se pudo llegar (utilizando los métodos vistos en clase) fue O(h<sup>2</sup>). Para el problema planteado no tenemos valores suficientes de la función para poder aplicar el método de los 5 puntos. \n",
    "* El paso mínimo utilizado en cada método también esta condicionado por los puntos dados como dato. En todos los casos el paso mínimo que se pudo tomar fue de 0.25."
   ]
  },
  {
   "cell_type": "code",
   "execution_count": null,
   "metadata": {},
   "outputs": [],
   "source": []
  }
 ],
 "metadata": {
  "celltoolbar": "Slideshow",
  "interpreter": {
   "hash": "e7370f93d1d0cde622a1f8e1c04877d8463912d04d973331ad4851f04de6915a"
  },
  "kernelspec": {
   "display_name": "Python 3.10.4 64-bit",
   "language": "python",
   "name": "python3"
  },
  "language_info": {
   "codemirror_mode": {
    "name": "ipython",
    "version": 3
   },
   "file_extension": ".py",
   "mimetype": "text/x-python",
   "name": "python",
   "nbconvert_exporter": "python",
   "pygments_lexer": "ipython3",
   "version": "3.10.4"
  }
 },
 "nbformat": 4,
 "nbformat_minor": 4
}
