{
 "cells": [
  {
   "cell_type": "markdown",
   "metadata": {
    "slideshow": {
     "slide_type": "slide"
    }
   },
   "source": [
    "![Curso Schwarz-Sosa-Suriano](https://cms.fi.uba.ar/uploads/logo_FIUBA_color_2_eb5b4d0124.png)\n",
    "# Diferenciación Numérica - Segunda parte\n",
    "**Curso Schwarz - Sosa - Suriano**\n",
    "- Métodos Numéricos. *Curso 2*\n",
    "- Análisis Numérico I. *Curso 4*\n",
    "- Métodos Matemáticos y Numéricos. *Curso 6*"
   ]
  },
  {
   "cell_type": "markdown",
   "metadata": {
    "slideshow": {
     "slide_type": "slide"
    }
   },
   "source": [
    "**Problemas de la diferenciación numérica**\n",
    "* Disminuir el paso puede traer problemas con el error de redondeo.\n",
    "* No siempre es posible utilizar métodos de convergencia superior."
   ]
  },
  {
   "cell_type": "markdown",
   "metadata": {
    "slideshow": {
     "slide_type": "slide"
    }
   },
   "source": [
    "### Extrapolación de Richardson\n",
    "Es un método que a partir de fórmulas de bajo orden, genera resultados de orden superior sin que sea necesario disminuir mucho el paso h. \n",
    "<br>Puede aplicarse cuando el método de aproximación puede expresarse de la forma: \n",
    "\n",
    "$$M = N(h) + E(h)$$\n",
    "\n",
    "Siendo:<br>\n",
    "* **M**: valor exacto\n",
    "* **N(h)**: aproximación \n",
    "* **E(h)**: error \n",
    "\n",
    "Podemos ver que los métodos vistos para aproximar la derivada de una función se pueden expresar de esta manera."
   ]
  },
  {
   "cell_type": "markdown",
   "metadata": {
    "slideshow": {
     "slide_type": "slide"
    }
   },
   "source": [
    "El algoritmo cuando se utiliza la fórmula de diferencias progresivas, cuyo orden es lineal O(h), es el siguiente: \n",
    "$$N_j(h)=N_{j-1}(h/2)+\\frac{N_{j-1}(h/2)-N_{j-1}(h)}{q^{j-1}-1}$$"
   ]
  },
  {
   "cell_type": "markdown",
   "metadata": {
    "slideshow": {
     "slide_type": "slide"
    }
   },
   "source": [
    "**EJEMPLO**<br>\n",
    "Para ver como se aplica este método vamos a continuar con el ejemplo de la primera parte: <br>\n",
    "$$ f(x) = x^2 + 3x - e^x$$\n",
    "$$f'(x_0)$$\n",
    "$$x_0=4$$"
   ]
  },
  {
   "cell_type": "code",
   "execution_count": 1,
   "metadata": {
    "slideshow": {
     "slide_type": "skip"
    }
   },
   "outputs": [],
   "source": [
    "import numpy as np #librería para operaciones algebraicas y numéricas\n",
    "import pandas as pd #librería para manejo de datos\n",
    "import sympy as sp #librería para manejo simbólico de ecuaciones\n",
    "import matplotlib.pyplot as plt\n",
    "from IPython.display import display, Math\n",
    "import sympy.printing as printing"
   ]
  },
  {
   "cell_type": "code",
   "execution_count": 2,
   "metadata": {
    "slideshow": {
     "slide_type": "skip"
    }
   },
   "outputs": [],
   "source": [
    "#Primero trabajamos con la función simbólicamente para que calcule la derivada\n",
    "x = sp.symbols('x')\n",
    "y = x*x+3*x-sp.exp(x) #Acá hay que escribor la función a analizar\n",
    "\n",
    "#Evalúar numéricamente la función\n",
    "f=sp.lambdify(x,y)"
   ]
  },
  {
   "cell_type": "code",
   "execution_count": 3,
   "metadata": {
    "slideshow": {
     "slide_type": "skip"
    }
   },
   "outputs": [],
   "source": [
    "#Derivada analítica\n",
    "x0=4\n",
    "yd = sp.diff(y,x) #Calcula la derivada simbólica\n",
    "fd=sp.lambdify(x,yd)\n",
    "derivada=fd(x0)"
   ]
  },
  {
   "cell_type": "markdown",
   "metadata": {
    "slideshow": {
     "slide_type": "slide"
    }
   },
   "source": [
    "Como el método utiliza la fórmula de las diferencias progresivas, volvemos a definir el método."
   ]
  },
  {
   "cell_type": "code",
   "execution_count": 4,
   "metadata": {},
   "outputs": [],
   "source": [
    "#Método de diferencias progresivas\n",
    "def DifProgresivas(x0,h):\n",
    "    df=(f(x0+h)-f(x0))/h\n",
    "    return df"
   ]
  },
  {
   "cell_type": "code",
   "execution_count": 5,
   "metadata": {},
   "outputs": [],
   "source": [
    "#Definimos el error relativo\n",
    "def ErrorRel(real,aprox):\n",
    "    e=100*abs((aprox-real)/aprox)\n",
    "    return e"
   ]
  },
  {
   "cell_type": "code",
   "execution_count": 6,
   "metadata": {
    "slideshow": {
     "slide_type": "slide"
    }
   },
   "outputs": [],
   "source": [
    "n=4 #Cantidad de intervalos que vamos a utilizar\n",
    "h=np.zeros(n) \n",
    "N=np.zeros((n,n))\n",
    "Error=np.zeros((n,n))"
   ]
  },
  {
   "cell_type": "code",
   "execution_count": 7,
   "metadata": {},
   "outputs": [
    {
     "name": "stdout",
     "output_type": "stream",
     "text": [
      "Definimos el paso inicial h=  0.5\n",
      "Calculamos la primera aproximación con el método de diferencias progresivas en x0 = 4 tomando h = 0.5 La llamamos N0(h)\n",
      "Cuando aplicamos este método obtenemos un resultado con un orden de convergencia lineal O(h)\n"
     ]
    }
   ],
   "source": [
    "x0=4 #Definimos el punto en que el queremos calcular f'(x0)\n",
    "h[0]=0.5 #Definimos el paso inicial h0\n",
    "print(\"Definimos el paso inicial h= \",h[0])\n",
    "N[0][0]=DifProgresivas(x0,h[0]) #Aplicamos la formula de diferencias progresivas para h0 \n",
    "Error[0][0]=ErrorRel(derivada,N[0][0])\n",
    "print(\"Calculamos la primera aproximación con el método de diferencias progresivas en x0 =\" ,x0, \"tomando h =\",h[0], \"La llamamos N0(h)\")\n",
    "print(\"Cuando aplicamos este método obtenemos un resultado con un orden de convergencia lineal O(h)\")"
   ]
  },
  {
   "cell_type": "code",
   "execution_count": 8,
   "metadata": {
    "slideshow": {
     "slide_type": "slide"
    }
   },
   "outputs": [
    {
     "name": "stdout",
     "output_type": "stream",
     "text": [
      "Aplicamos por 2a vez la fórmula de diferencias progresivas con q=3 y un paso h/3:\n",
      "Obtenemos N0(h/3) =  -48.24499152360255 con h/3=  0.16666666666666666 \n",
      "\n",
      "Aplicamos la fórmula de Richardson para j = 1.\n"
     ]
    },
    {
     "data": {
      "text/latex": [
       "$\\displaystyle \\mathtt{\\text{N\\_1(h/1) = N\\_0(h/3)+\\textbackslashfrac\\{N\\_0(h/3) - N\\_0(h/1)\\}\\{3\\textasciicircum1-1\\}}}$"
      ],
      "text/plain": [
       "<IPython.core.display.Math object>"
      ]
     },
     "metadata": {},
     "output_type": "display_data"
    },
    {
     "name": "stdout",
     "output_type": "stream",
     "text": [
      "N1(h/1) =  -42.69850601802625 \n",
      "\n",
      "Obtenemos un resultado con un orden de convergencia O(h^2)\n",
      "\n",
      "Aplicamos por 3a vez la fórmula de diferencias progresivas con q=3 y un paso h/9:\n",
      "Obtenemos N0(h/9) =  -45.08768967498638 con h/9=  0.05555555555555555 \n",
      "\n",
      "Aplicamos la fórmula de Richardson para j = 1.\n"
     ]
    },
    {
     "data": {
      "text/latex": [
       "$\\displaystyle \\mathtt{\\text{N\\_1(h/3) = N\\_0(h/9)+\\textbackslashfrac\\{N\\_0(h/9) - N\\_0(h/3)\\}\\{3\\textasciicircum1-1\\}}}$"
      ],
      "text/plain": [
       "<IPython.core.display.Math object>"
      ]
     },
     "metadata": {},
     "output_type": "display_data"
    },
    {
     "name": "stdout",
     "output_type": "stream",
     "text": [
      "N1(h/3) =  -43.50903875067829 \n",
      "\n",
      "Obtenemos un resultado con un orden de convergencia O(h^2)\n",
      "\n",
      "Aplicamos la fórmula de Richardson para j = 2.\n"
     ]
    },
    {
     "data": {
      "text/latex": [
       "$\\displaystyle \\mathtt{\\text{N\\_2(h/3) = N\\_1(h/9)+\\textbackslashfrac\\{N\\_1(h/9) - N\\_1(h/3)\\}\\{3\\textasciicircum2-1\\}}}$"
      ],
      "text/plain": [
       "<IPython.core.display.Math object>"
      ]
     },
     "metadata": {},
     "output_type": "display_data"
    },
    {
     "name": "stdout",
     "output_type": "stream",
     "text": [
      "N2(h/3) =  -43.6103553422598 \n",
      "\n",
      "Obtenemos un resultado con un orden de convergencia O(h^3)\n",
      "\n",
      "Aplicamos por 4a vez la fórmula de diferencias progresivas con q=3 y un paso h/27:\n",
      "Obtenemos N0(h/27) =  -44.08830504935848 con h/27=  0.018518518518518517 \n",
      "\n",
      "Aplicamos la fórmula de Richardson para j = 1.\n"
     ]
    },
    {
     "data": {
      "text/latex": [
       "$\\displaystyle \\mathtt{\\text{N\\_1(h/9) = N\\_0(h/27)+\\textbackslashfrac\\{N\\_0(h/27) - N\\_0(h/9)\\}\\{3\\textasciicircum1-1\\}}}$"
      ],
      "text/plain": [
       "<IPython.core.display.Math object>"
      ]
     },
     "metadata": {},
     "output_type": "display_data"
    },
    {
     "name": "stdout",
     "output_type": "stream",
     "text": [
      "N1(h/9) =  -43.58861273654453 \n",
      "\n",
      "Obtenemos un resultado con un orden de convergencia O(h^2)\n",
      "\n",
      "Aplicamos la fórmula de Richardson para j = 2.\n"
     ]
    },
    {
     "data": {
      "text/latex": [
       "$\\displaystyle \\mathtt{\\text{N\\_2(h/9) = N\\_1(h/27)+\\textbackslashfrac\\{N\\_1(h/27) - N\\_1(h/9)\\}\\{3\\textasciicircum2-1\\}}}$"
      ],
      "text/plain": [
       "<IPython.core.display.Math object>"
      ]
     },
     "metadata": {},
     "output_type": "display_data"
    },
    {
     "name": "stdout",
     "output_type": "stream",
     "text": [
      "N2(h/9) =  -43.598559484777816 \n",
      "\n",
      "Obtenemos un resultado con un orden de convergencia O(h^3)\n",
      "\n",
      "Aplicamos la fórmula de Richardson para j = 3.\n"
     ]
    },
    {
     "data": {
      "text/latex": [
       "$\\displaystyle \\mathtt{\\text{N\\_3(h/9) = N\\_2(h/27)+\\textbackslashfrac\\{N\\_2(h/27) - N\\_2(h/9)\\}\\{3\\textasciicircum3-1\\}}}$"
      ],
      "text/plain": [
       "<IPython.core.display.Math object>"
      ]
     },
     "metadata": {},
     "output_type": "display_data"
    },
    {
     "name": "stdout",
     "output_type": "stream",
     "text": [
      "N3(h/9) =  -43.59810579795158 \n",
      "\n",
      "Obtenemos un resultado con un orden de convergencia O(h^4)\n",
      "\n"
     ]
    }
   ],
   "source": [
    "for i in range(1,n):\n",
    "    j=0\n",
    "    q=3#Indicamos el coeficiente q\n",
    "    h[i]=(h[i-1])/q\n",
    "    print (\"Aplicamos por \"+str(i+1)+\"a vez la fórmula de diferencias progresivas con q=\"+str(q)+\" y un paso h/\"+str(q**i)+\":\")\n",
    "    N[i][j]=DifProgresivas(x0,h[i])\n",
    "    Error[i][j]=ErrorRel(derivada,N[i][j])\n",
    "    print(\"Obtenemos N\"+str(j)+\"(h/\"+str(q**i)+\") = \",N[i][j],\"con h/\"+str(q**i)+\"= \",h[i],\"\\n\")\n",
    "    for j in range(1,i+1):\n",
    "        print(\"Aplicamos la fórmula de Richardson para j = \"+str(j)+\".\")\n",
    "        N[i][j]=N[i][j-1]+(N[i][j-1]-N[i-1][j-1])/((q**j)-1)\n",
    "        Error[i][j]=ErrorRel(derivada,N[i][j])\n",
    "        ec = \"N_\"+str(j)+\"(h/\"+str(q**(i-1))+\") = N_\"+str(j-1)+\"(h/\"+str(q**i)+\")+\\\\frac{N_\"+str(j-1)+\"(h/\"+str(q**i)+\") - N_\"+str(j-1)+\"(h/\"+str(q**(i-1))+\")}{\"+str(q)+\"^\"+str(j)+\"-1}\"\n",
    "        display(Math(printing.latex(ec,mul_symbol='dot')))\n",
    "        print(\"N\"+str(j)+\"(h/\"+str(q**(i-1))+\") = \",N[i][j],\"\\n\")\n",
    "        print(\"Obtenemos un resultado con un orden de convergencia O(h^\"+str(j+1)+\")\\n\")"
   ]
  },
  {
   "cell_type": "code",
   "execution_count": 9,
   "metadata": {
    "slideshow": {
     "slide_type": "slide"
    }
   },
   "outputs": [
    {
     "data": {
      "text/html": [
       "<div>\n",
       "<style scoped>\n",
       "    .dataframe tbody tr th:only-of-type {\n",
       "        vertical-align: middle;\n",
       "    }\n",
       "\n",
       "    .dataframe tbody tr th {\n",
       "        vertical-align: top;\n",
       "    }\n",
       "\n",
       "    .dataframe thead th {\n",
       "        text-align: right;\n",
       "    }\n",
       "</style>\n",
       "<table border=\"1\" class=\"dataframe\">\n",
       "  <thead>\n",
       "    <tr style=\"text-align: right;\">\n",
       "      <th></th>\n",
       "      <th>(1) h</th>\n",
       "      <th>(2) N0</th>\n",
       "      <th>(3) N1</th>\n",
       "      <th>(4) N2</th>\n",
       "      <th>(5) N3</th>\n",
       "    </tr>\n",
       "  </thead>\n",
       "  <tbody>\n",
       "    <tr>\n",
       "      <th>0</th>\n",
       "      <td>0.500000</td>\n",
       "      <td>-59.337963</td>\n",
       "      <td>-</td>\n",
       "      <td>-</td>\n",
       "      <td>-</td>\n",
       "    </tr>\n",
       "    <tr>\n",
       "      <th>1</th>\n",
       "      <td>0.166667</td>\n",
       "      <td>-48.244992</td>\n",
       "      <td>-42.698506</td>\n",
       "      <td>-</td>\n",
       "      <td>-</td>\n",
       "    </tr>\n",
       "    <tr>\n",
       "      <th>2</th>\n",
       "      <td>0.055556</td>\n",
       "      <td>-45.087690</td>\n",
       "      <td>-43.509039</td>\n",
       "      <td>-43.610355</td>\n",
       "      <td>-</td>\n",
       "    </tr>\n",
       "    <tr>\n",
       "      <th>3</th>\n",
       "      <td>0.018519</td>\n",
       "      <td>-44.088305</td>\n",
       "      <td>-43.588613</td>\n",
       "      <td>-43.598559</td>\n",
       "      <td>-43.598106</td>\n",
       "    </tr>\n",
       "  </tbody>\n",
       "</table>\n",
       "</div>"
      ],
      "text/plain": [
       "      (1) h     (2) N0     (3) N1     (4) N2     (5) N3\n",
       "0  0.500000 -59.337963          -          -          -\n",
       "1  0.166667 -48.244992 -42.698506          -          -\n",
       "2  0.055556 -45.087690 -43.509039 -43.610355          -\n",
       "3  0.018519 -44.088305 -43.588613 -43.598559 -43.598106"
      ]
     },
     "execution_count": 9,
     "metadata": {},
     "output_type": "execute_result"
    }
   ],
   "source": [
    "NT=np.transpose(N)\n",
    "Resultados=pd.DataFrame({\"(1) h\": h, \"(2) N0\": NT[0],\"(3) N1\":NT[1],\"(4) N2\":NT[2],\"(5) N3\":NT[3]})\n",
    "Resultados['(3) N1'] = Resultados['(3) N1'].replace(0, \"-\")\n",
    "Resultados['(4) N2'] = Resultados['(4) N2'].replace(0, \"-\")\n",
    "Resultados['(5) N3'] = Resultados['(5) N3'].replace(0, \"-\")\n",
    "Resultados.head()"
   ]
  },
  {
   "cell_type": "code",
   "execution_count": 10,
   "metadata": {
    "slideshow": {
     "slide_type": "-"
    }
   },
   "outputs": [
    {
     "name": "stdout",
     "output_type": "stream",
     "text": [
      "Derivada analítica en x = 4 es -43.598150033144236\n"
     ]
    }
   ],
   "source": [
    "print('Derivada analítica en x =',x0, 'es',derivada)"
   ]
  },
  {
   "cell_type": "code",
   "execution_count": 11,
   "metadata": {
    "slideshow": {
     "slide_type": "slide"
    }
   },
   "outputs": [
    {
     "data": {
      "text/html": [
       "<div>\n",
       "<style scoped>\n",
       "    .dataframe tbody tr th:only-of-type {\n",
       "        vertical-align: middle;\n",
       "    }\n",
       "\n",
       "    .dataframe tbody tr th {\n",
       "        vertical-align: top;\n",
       "    }\n",
       "\n",
       "    .dataframe thead th {\n",
       "        text-align: right;\n",
       "    }\n",
       "</style>\n",
       "<table border=\"1\" class=\"dataframe\">\n",
       "  <thead>\n",
       "    <tr style=\"text-align: right;\">\n",
       "      <th></th>\n",
       "      <th>(a) h</th>\n",
       "      <th>O(h)</th>\n",
       "      <th>O(h^2)</th>\n",
       "      <th>O(h^3)</th>\n",
       "      <th>O(h^4)</th>\n",
       "    </tr>\n",
       "  </thead>\n",
       "  <tbody>\n",
       "    <tr>\n",
       "      <th>0</th>\n",
       "      <td>0.500000</td>\n",
       "      <td>26.525704</td>\n",
       "      <td>-</td>\n",
       "      <td>-</td>\n",
       "      <td>-</td>\n",
       "    </tr>\n",
       "    <tr>\n",
       "      <th>1</th>\n",
       "      <td>0.166667</td>\n",
       "      <td>9.631759</td>\n",
       "      <td>2.106968</td>\n",
       "      <td>-</td>\n",
       "      <td>-</td>\n",
       "    </tr>\n",
       "    <tr>\n",
       "      <th>2</th>\n",
       "      <td>0.055556</td>\n",
       "      <td>3.303650</td>\n",
       "      <td>0.204811</td>\n",
       "      <td>0.027987</td>\n",
       "      <td>-</td>\n",
       "    </tr>\n",
       "    <tr>\n",
       "      <th>3</th>\n",
       "      <td>0.018519</td>\n",
       "      <td>1.111757</td>\n",
       "      <td>0.02188</td>\n",
       "      <td>0.000939</td>\n",
       "      <td>0.000101</td>\n",
       "    </tr>\n",
       "  </tbody>\n",
       "</table>\n",
       "</div>"
      ],
      "text/plain": [
       "      (a) h       O(h)    O(h^2)    O(h^3)    O(h^4)\n",
       "0  0.500000  26.525704         -         -         -\n",
       "1  0.166667   9.631759  2.106968         -         -\n",
       "2  0.055556   3.303650  0.204811  0.027987         -\n",
       "3  0.018519   1.111757   0.02188  0.000939  0.000101"
      ]
     },
     "execution_count": 11,
     "metadata": {},
     "output_type": "execute_result"
    }
   ],
   "source": [
    "ErrorT=np.transpose(Error)\n",
    "Error=pd.DataFrame({\"(a) h\": h, \"O(h)\": ErrorT[0],\"O(h^2)\":ErrorT[1],\"O(h^3)\":ErrorT[2],\"O(h^4)\":ErrorT[3]})\n",
    "Error['O(h^2)'] = Error['O(h^2)'].replace(0, \"-\")\n",
    "Error['O(h^3)'] = Error['O(h^3)'].replace(0, \"-\")\n",
    "Error['O(h^4)'] = Error['O(h^4)'].replace(0, \"-\")\n",
    "Error.head()"
   ]
  },
  {
   "cell_type": "markdown",
   "metadata": {
    "slideshow": {
     "slide_type": "slide"
    }
   },
   "source": [
    "![Curso Schwarz-Sosa-Suriano](https://cms.fi.uba.ar/uploads/logo_FIUBA_color_2_eb5b4d0124.png)\n",
    "\n",
    "\n",
    "# Diferenciación Numérica\n",
    "\n",
    "\n",
    "\n",
    "\n",
    "***\n",
    "\n",
    "**Curso Schwarz - Sosa - Suriano**\n",
    "- Métodos Numéricos. *Curso 2*\n",
    "- Análisis Numérico I. *Curso 4*\n",
    "- Métodos Matemáticos y Numéricos. *Curso 6*"
   ]
  },
  {
   "cell_type": "code",
   "execution_count": null,
   "metadata": {},
   "outputs": [],
   "source": []
  }
 ],
 "metadata": {
  "celltoolbar": "Slideshow",
  "interpreter": {
   "hash": "e7370f93d1d0cde622a1f8e1c04877d8463912d04d973331ad4851f04de6915a"
  },
  "kernelspec": {
   "display_name": "Python 3.10.4 64-bit",
   "language": "python",
   "name": "python3"
  },
  "language_info": {
   "codemirror_mode": {
    "name": "ipython",
    "version": 3
   },
   "file_extension": ".py",
   "mimetype": "text/x-python",
   "name": "python",
   "nbconvert_exporter": "python",
   "pygments_lexer": "ipython3",
   "version": "3.10.4"
  }
 },
 "nbformat": 4,
 "nbformat_minor": 4
}
